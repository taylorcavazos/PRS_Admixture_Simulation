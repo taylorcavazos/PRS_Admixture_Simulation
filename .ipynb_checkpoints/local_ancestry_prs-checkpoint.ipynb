{
 "cells": [
  {
   "cell_type": "markdown",
   "metadata": {},
   "source": [
    "___\n",
    "# Simulations for local ancestry PRS\n",
    "___"
   ]
  },
  {
   "cell_type": "code",
   "execution_count": 1,
   "metadata": {},
   "outputs": [],
   "source": [
    "import pandas as pd\n",
    "import numpy as np\n",
    "import msprime\n",
    "import matplotlib.pyplot as plt\n",
    "import seaborn as sns\n",
    "import math"
   ]
  },
  {
   "cell_type": "markdown",
   "metadata": {},
   "source": [
    "## Simulated admixed individuals"
   ]
  },
  {
   "cell_type": "markdown",
   "metadata": {},
   "source": [
    "Possible tools for admixture simulations\n",
    "* [admix-simu (C++ and python)](https://github.com/williamslab/admix-simu)\n",
    "    - 4 years old\n",
    "* [bnpsd (R package)](https://cran.r-project.org/web/packages/bnpsd/vignettes/bnpsd.pdf)\n",
    "    - Came out this year\n",
    "* [admixture-simulation](https://github.com/slowkoni/admixture-simulation)\n",
    "    - 2 years old"
   ]
  },
  {
   "cell_type": "code",
   "execution_count": 89,
   "metadata": {},
   "outputs": [],
   "source": [
    "def out_of_africa(N_CEU, N_YRI, rmap, N_CHB=0):\n",
    "    # First we set out the maximum likelihood values of the various parameters\n",
    "    # given in Table 1.\n",
    "    N_A = 7300\n",
    "    N_B = 2100\n",
    "    N_AF = 12300\n",
    "    N_EU0 = 1000\n",
    "    N_AS0 = 510\n",
    "    # Times are provided in years, so we convert into generations.\n",
    "    generation_time = 25\n",
    "    T_AF = 220e3 / generation_time\n",
    "    T_B = 140e3 / generation_time\n",
    "    T_EU_AS = 21.2e3 / generation_time\n",
    "    # We need to work out the starting (diploid) population sizes based on\n",
    "    # the growth rates provided for these two populations\n",
    "    r_EU = 0.004\n",
    "    r_AS = 0.0055\n",
    "    N_EU = N_EU0 / math.exp(-r_EU * T_EU_AS)\n",
    "    N_AS = N_AS0 / math.exp(-r_AS * T_EU_AS)\n",
    "    # Migration rates during the various epochs.\n",
    "    m_AF_B = 25e-5\n",
    "    m_AF_EU = 3e-5\n",
    "    m_AF_AS = 1.9e-5\n",
    "    m_EU_AS = 9.6e-5\n",
    "    # Population IDs correspond to their indexes in the population\n",
    "    # configuration array. Therefore, we have 0=YRI, 1=CEU and 2=CHB\n",
    "    # initially.\n",
    "    population_configurations = [\n",
    "        msprime.PopulationConfiguration(\n",
    "            sample_size=(2*N_YRI), initial_size=N_AF),\n",
    "        msprime.PopulationConfiguration(\n",
    "            sample_size=(2*N_CEU), initial_size=N_EU, growth_rate=r_EU),\n",
    "        msprime.PopulationConfiguration(\n",
    "            sample_size=N_CHB, initial_size=N_AS, growth_rate=r_AS)\n",
    "    ]\n",
    "    migration_matrix = [\n",
    "        [      0, m_AF_EU, m_AF_AS],\n",
    "        [m_AF_EU,       0, m_EU_AS],\n",
    "        [m_AF_AS, m_EU_AS,       0],\n",
    "    ]\n",
    "    demographic_events = [\n",
    "        # CEU and CHB merge into B with rate changes at T_EU_AS\n",
    "        msprime.MassMigration(\n",
    "            time=T_EU_AS, source=2, destination=1, proportion=1.0),\n",
    "        msprime.MigrationRateChange(time=T_EU_AS, rate=0),\n",
    "        msprime.MigrationRateChange(\n",
    "            time=T_EU_AS, rate=m_AF_B, matrix_index=(0, 1)),\n",
    "        msprime.MigrationRateChange(\n",
    "            time=T_EU_AS, rate=m_AF_B, matrix_index=(1, 0)),\n",
    "        msprime.PopulationParametersChange(\n",
    "            time=T_EU_AS, initial_size=N_B, growth_rate=0, population_id=1),\n",
    "        # Population B merges into YRI at T_B\n",
    "        msprime.MassMigration(\n",
    "            time=T_B, source=1, destination=0, proportion=1.0),\n",
    "        # Size changes to N_A at T_AF\n",
    "        msprime.PopulationParametersChange(\n",
    "            time=T_AF, initial_size=N_A, population_id=0)\n",
    "    ]\n",
    "    # Use the demography debugger to print out the demographic history\n",
    "    # that we have just described.\n",
    "#     dd = msprime.DemographyDebugger(\n",
    "#         population_configurations=population_configurations,\n",
    "#         migration_matrix=migration_matrix,\n",
    "#         demographic_events=demographic_events)\n",
    "#     dd.print_history()\n",
    "\n",
    "    tree = msprime.simulate(mutation_rate=2e-8,\n",
    "                            recombination_map=rmap,\n",
    "                            population_configurations=population_configurations,\n",
    "                            migration_matrix=migration_matrix,\n",
    "                            demographic_events=demographic_events)\n",
    "    return tree"
   ]
  },
  {
   "cell_type": "code",
   "execution_count": 124,
   "metadata": {},
   "outputs": [],
   "source": [
    "N_CEU = 100\n",
    "N_YRI = 10\n",
    "rmap = msprime.RecombinationMap.read_hapmap(\"/Users/taylorcavazos/Documents/hapmap/genetic_map_GRCh37_chr22.txt\")\n",
    "tree = out_of_africa(N_CEU=N_CEU,N_YRI=N_YRI,rmap=rmap)"
   ]
  },
  {
   "cell_type": "code",
   "execution_count": 115,
   "metadata": {},
   "outputs": [],
   "source": [
    "tree.write_vcf(output=open(\"test.vcf\",\"w\"), ploidy=2, contig_id=\"22\")"
   ]
  },
  {
   "cell_type": "code",
   "execution_count": 131,
   "metadata": {},
   "outputs": [],
   "source": [
    "pop_dict = {0:\"YRI\",1:\"CEU\"}\n",
    "pops = []\n",
    "inds = []\n",
    "count=0\n",
    "for i in range(0,2*(N_CEU+N_YRI),2):\n",
    "    pops.append(pop_dict.get(tree.get_population(i)))\n",
    "    inds.append(\"msp_\"+str(count))\n",
    "    count+=1\n",
    "pd.DataFrame(pops, index=inds).to_csv(\"test.sample.map\",header=False,sep=\"\\t\")"
   ]
  },
  {
   "cell_type": "code",
   "execution_count": 91,
   "metadata": {},
   "outputs": [
    {
     "data": {
      "text/plain": [
       "220"
      ]
     },
     "execution_count": 91,
     "metadata": {},
     "output_type": "execute_result"
    }
   ],
   "source": [
    "tree.num_samples"
   ]
  },
  {
   "cell_type": "code",
   "execution_count": 99,
   "metadata": {},
   "outputs": [
    {
     "data": {
      "text/plain": [
       "0"
      ]
     },
     "execution_count": 99,
     "metadata": {},
     "output_type": "execute_result"
    }
   ],
   "source": [
    "tree.get_population(18) # with sample number this tells us the population"
   ]
  },
  {
   "cell_type": "code",
   "execution_count": 101,
   "metadata": {},
   "outputs": [],
   "source": [
    "pops = []\n",
    "for i in range(0,220,2):\n",
    "    pops.append(tree.get_population(i)+tree.get_population(i+1))"
   ]
  },
  {
   "cell_type": "code",
   "execution_count": 109,
   "metadata": {},
   "outputs": [
    {
     "data": {
      "text/html": [
       "<div>\n",
       "<style scoped>\n",
       "    .dataframe tbody tr th:only-of-type {\n",
       "        vertical-align: middle;\n",
       "    }\n",
       "\n",
       "    .dataframe tbody tr th {\n",
       "        vertical-align: top;\n",
       "    }\n",
       "\n",
       "    .dataframe thead th {\n",
       "        text-align: right;\n",
       "    }\n",
       "</style>\n",
       "<table border=\"1\" class=\"dataframe\">\n",
       "  <thead>\n",
       "    <tr style=\"text-align: right;\">\n",
       "      <th></th>\n",
       "      <th>index</th>\n",
       "    </tr>\n",
       "    <tr>\n",
       "      <th>0</th>\n",
       "      <th></th>\n",
       "    </tr>\n",
       "  </thead>\n",
       "  <tbody>\n",
       "    <tr>\n",
       "      <th>0</th>\n",
       "      <td>10</td>\n",
       "    </tr>\n",
       "    <tr>\n",
       "      <th>2</th>\n",
       "      <td>100</td>\n",
       "    </tr>\n",
       "  </tbody>\n",
       "</table>\n",
       "</div>"
      ],
      "text/plain": [
       "   index\n",
       "0       \n",
       "0     10\n",
       "2    100"
      ]
     },
     "execution_count": 109,
     "metadata": {},
     "output_type": "execute_result"
    }
   ],
   "source": [
    "pd.DataFrame(pops,index=np.arange(1,111)).reset_index().groupby(0).count()"
   ]
  },
  {
   "cell_type": "code",
   "execution_count": 112,
   "metadata": {},
   "outputs": [
    {
     "data": {
      "text/plain": [
       "<tskit.trees.TreeSequence at 0x1229dc668>"
      ]
     },
     "execution_count": 112,
     "metadata": {},
     "output_type": "execute_result"
    }
   ],
   "source": [
    "tree"
   ]
  },
  {
   "cell_type": "markdown",
   "metadata": {},
   "source": [
    "### a: European and African populations for mating"
   ]
  },
  {
   "cell_type": "code",
   "execution_count": null,
   "metadata": {},
   "outputs": [],
   "source": []
  },
  {
   "cell_type": "markdown",
   "metadata": {},
   "source": [
    "### b: Europeans for training"
   ]
  },
  {
   "cell_type": "code",
   "execution_count": null,
   "metadata": {},
   "outputs": [],
   "source": []
  },
  {
   "cell_type": "markdown",
   "metadata": {},
   "source": [
    "### c: African Americans"
   ]
  },
  {
   "cell_type": "code",
   "execution_count": null,
   "metadata": {},
   "outputs": [],
   "source": []
  },
  {
   "cell_type": "markdown",
   "metadata": {},
   "source": [
    "## Simulate European-only population"
   ]
  },
  {
   "cell_type": "code",
   "execution_count": null,
   "metadata": {},
   "outputs": [],
   "source": []
  },
  {
   "cell_type": "markdown",
   "metadata": {},
   "source": [
    "## Calculate True PRSs for all individuals"
   ]
  },
  {
   "cell_type": "code",
   "execution_count": null,
   "metadata": {},
   "outputs": [],
   "source": []
  },
  {
   "cell_type": "markdown",
   "metadata": {},
   "source": [
    "## Calculate Expected PRS for everyone"
   ]
  },
  {
   "cell_type": "markdown",
   "metadata": {},
   "source": [
    "### a: Using European GWAS"
   ]
  },
  {
   "cell_type": "code",
   "execution_count": null,
   "metadata": {},
   "outputs": [],
   "source": []
  },
  {
   "cell_type": "markdown",
   "metadata": {},
   "source": [
    "### b: Using Local-Ancestry Specific Approach (relies on significant SNPs from European GWAS)"
   ]
  },
  {
   "cell_type": "code",
   "execution_count": null,
   "metadata": {},
   "outputs": [],
   "source": []
  },
  {
   "cell_type": "markdown",
   "metadata": {},
   "source": [
    "## Calculate AUCs and compare between approaches"
   ]
  },
  {
   "cell_type": "code",
   "execution_count": null,
   "metadata": {},
   "outputs": [],
   "source": []
  }
 ],
 "metadata": {
  "kernelspec": {
   "display_name": "Python 3",
   "language": "python",
   "name": "python3"
  },
  "language_info": {
   "codemirror_mode": {
    "name": "ipython",
    "version": 3
   },
   "file_extension": ".py",
   "mimetype": "text/x-python",
   "name": "python",
   "nbconvert_exporter": "python",
   "pygments_lexer": "ipython3",
   "version": "3.7.3"
  }
 },
 "nbformat": 4,
 "nbformat_minor": 2
}
