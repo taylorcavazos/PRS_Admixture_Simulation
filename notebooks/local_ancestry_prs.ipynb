{
 "cells": [
  {
   "cell_type": "markdown",
   "metadata": {},
   "source": [
    "___\n",
    "# Simulations for local ancestry PRS\n",
    "___"
   ]
  },
  {
   "cell_type": "code",
   "execution_count": 1,
   "metadata": {},
   "outputs": [],
   "source": [
    "import matplotlib.pyplot as plt\n",
    "import seaborn as sns\n",
    "import sys\n",
    "import gzip\n",
    "import multiprocessing as mp"
   ]
  },
  {
   "cell_type": "code",
   "execution_count": 2,
   "metadata": {},
   "outputs": [],
   "source": [
    "sys.path.insert(0,\"/Users/taylorcavazos/repos/Local_Ancestry_PRS/code/\")\n",
    "sys.path.insert(0,\"/Users/taylorcavazos/Documents/Prelim_Quals/Aim1\")"
   ]
  },
  {
   "cell_type": "code",
   "execution_count": 3,
   "metadata": {},
   "outputs": [],
   "source": [
    "from sim_out_of_africa import *\n",
    "from output_true_prs import *\n",
    "from compute_sum_stats import *\n",
    "#from output_emp_prs import *"
   ]
  },
  {
   "cell_type": "code",
   "execution_count": 4,
   "metadata": {},
   "outputs": [],
   "source": [
    "m = 1000\n",
    "h2 = 0.67\n",
    "path_tree = \"/Users/taylorcavazos/repos/Local_Ancestry_PRS/data/trees/tree_sub_CEU_1.95e5.hdf\"\n",
    "path_tree = \"/Users/taylorcavazos/repos/Local_Ancestry_PRS/data/trees/tree_YRI_5e4_CEU_2e5_chr22.hdf5\""
   ]
  },
  {
   "cell_type": "markdown",
   "metadata": {},
   "source": [
    "## Simulated admixed individuals"
   ]
  },
  {
   "cell_type": "markdown",
   "metadata": {},
   "source": [
    "Possible tools for admixture simulations\n",
    "* [admix-simu (C++ and python)](https://github.com/williamslab/admix-simu)\n",
    "    - 4 years old\n",
    "* [bnpsd (R package)](https://cran.r-project.org/web/packages/bnpsd/vignettes/bnpsd.pdf)\n",
    "    - Came out this year\n",
    "* [admixture-simulation](https://github.com/slowkoni/admixture-simulation)\n",
    "    - 2 years old"
   ]
  },
  {
   "cell_type": "markdown",
   "metadata": {},
   "source": [
    "### a: European and African populations for mating"
   ]
  },
  {
   "cell_type": "markdown",
   "metadata": {},
   "source": [
    "- 5000 Africans and 5000 Europeans\n",
    "- Will have difficulty with files much larger because have to write data to vcf and takes up lots of storage"
   ]
  },
  {
   "cell_type": "markdown",
   "metadata": {},
   "source": [
    "### b: Europeans for training"
   ]
  },
  {
   "cell_type": "markdown",
   "metadata": {},
   "source": [
    "- 100000 Europeans simulated with out-of-africa model\n",
    "- In tree structure"
   ]
  },
  {
   "cell_type": "markdown",
   "metadata": {},
   "source": [
    "### c: African Americans"
   ]
  },
  {
   "cell_type": "markdown",
   "metadata": {},
   "source": [
    "- Have 4000 admixed individuals\n",
    "- In future may need larger ~10,000 for doing training\n",
    "- If I don't use large enough base population these people may be too related"
   ]
  },
  {
   "cell_type": "raw",
   "metadata": {},
   "source": [
    "N_CEU = 200000\n",
    "N_YRI = 5000\n",
    "rmap = msprime.RecombinationMap.read_hapmap(\"/Users/taylorcavazos/repos/other_tools/admixture-data/input/genetic_map_GRCh37_chr22.txt\")"
   ]
  },
  {
   "cell_type": "raw",
   "metadata": {},
   "source": [
    "simulate_out_of_afr(N_CEU, N_YRI, rmap, \"../data/trees/\")"
   ]
  },
  {
   "cell_type": "code",
   "execution_count": null,
   "metadata": {},
   "outputs": [],
   "source": [
    "#tree_all = msprime.load(\"../data/trees/tree_YRI_5e4_CEU_2e6_chr22.hdf5\")\n",
    "sample_map_all = pd.read_csv(\"../data/trees/CEU_YRI_sample_map.txt\",sep=\"\\t\",header=None)"
   ]
  },
  {
   "cell_type": "raw",
   "metadata": {},
   "source": [
    "EUR_all = sample_map_all[sample_map_all.iloc[:,1]==\"CEU\"]\n",
    "YRI_all = sample_map_all[sample_map_all.iloc[:,1]==\"YRI\"]"
   ]
  },
  {
   "cell_type": "raw",
   "metadata": {},
   "source": [
    "EUR_mate = EUR_all.loc[np.random.choice(EUR_all.index,size=5000,replace=False)]"
   ]
  },
  {
   "cell_type": "raw",
   "metadata": {},
   "source": [
    "ALL_mate = pd.concat([EUR_mate,YRI_all]).sort_values(by=2)"
   ]
  },
  {
   "cell_type": "raw",
   "metadata": {},
   "source": [
    "ALL_mate.to_csv(\"../data/trees/mate_subset_sample_map.txt\",sep=\"\\t\",header=False,index=False)"
   ]
  },
  {
   "cell_type": "raw",
   "metadata": {},
   "source": [
    "mate_samples = []\n",
    "for ind in ALL_mate.index:\n",
    "    mate_samples.append(ALL_mate.loc[ind,2])\n",
    "    mate_samples.append(ALL_mate.loc[ind,3])"
   ]
  },
  {
   "cell_type": "raw",
   "metadata": {},
   "source": [
    "tree_mate,map_ids = tree_all.simplify(samples=mate_samples,filter_sites=False,map_nodes=True)"
   ]
  },
  {
   "cell_type": "raw",
   "metadata": {},
   "source": [
    "tree_mate.dump(\"../data/trees/tree_mate_YRI_5e4_CEU_5e4.hdf\")"
   ]
  },
  {
   "cell_type": "raw",
   "metadata": {},
   "source": [
    "open(\"../data/trees/mate_sample_ids.txt\",\"w\").write(\"\\n\".join(np.array(mate_samples).astype(str)))"
   ]
  },
  {
   "cell_type": "raw",
   "metadata": {},
   "source": [
    "mate_samples = open(\"/Users/taylorcavazos/repos/Local_Ancestry_PRS/data/trees/mate_sample_ids.txt\").read().splitlines()"
   ]
  },
  {
   "cell_type": "raw",
   "metadata": {},
   "source": [
    "mate_samples"
   ]
  },
  {
   "cell_type": "code",
   "execution_count": null,
   "metadata": {},
   "outputs": [],
   "source": [
    "all_data = np.array(tree_all.samples())"
   ]
  },
  {
   "cell_type": "code",
   "execution_count": null,
   "metadata": {},
   "outputs": [],
   "source": [
    "other_samps = np.delete(all_data,mate_samples)"
   ]
  },
  {
   "cell_type": "code",
   "execution_count": null,
   "metadata": {},
   "outputs": [],
   "source": [
    "tree_other = tree_all.simplify(samples = other_samps, filter_sites=False)"
   ]
  },
  {
   "cell_type": "raw",
   "metadata": {},
   "source": [
    "tree_other.dump(\"../data/trees/tree_sub_CEU_1.95e5\")"
   ]
  },
  {
   "cell_type": "raw",
   "metadata": {},
   "source": [
    "with gzip.open(\"/Users/taylorcavazos/repos/other_tools/admixture-data/input/CEU_YRI_chr22_1e4.vcf.gz\", \"wt\") as f:\n",
    "    tree_mate.write_vcf(f,ploidy=2,contig_id=\"22\") "
   ]
  },
  {
   "cell_type": "raw",
   "metadata": {},
   "source": [
    "tree_mate = msprime.load(\"../data/trees/tree_mate_YRI_5e4_CEU_5e4.hdf\")"
   ]
  },
  {
   "cell_type": "raw",
   "metadata": {},
   "source": [
    "write_sample_map(tree_mate,\"/Users/taylorcavazos/repos/other_tools/admixture-data/input/\",\n",
    "                5000,5000)"
   ]
  },
  {
   "cell_type": "code",
   "execution_count": null,
   "metadata": {},
   "outputs": [],
   "source": [
    "tree = msprime.load(path_tree)"
   ]
  },
  {
   "cell_type": "code",
   "execution_count": null,
   "metadata": {},
   "outputs": [],
   "source": [
    "sample_map_all = pd.read_csv(\"/Users/taylorcavazos/repos/Local_Ancestry_PRS/data/trees/CEU_YRI_sample_map.txt\",sep=\"\\t\",header=None)"
   ]
  },
  {
   "cell_type": "code",
   "execution_count": null,
   "metadata": {},
   "outputs": [],
   "source": [
    "eur_only = sample_map_all[sample_map_all.iloc[:,1]==\"CEU\"].index"
   ]
  },
  {
   "cell_type": "code",
   "execution_count": null,
   "metadata": {},
   "outputs": [],
   "source": [
    "new_tree = tree.simplify(samples=eur_only,filter_sites=False)"
   ]
  },
  {
   "cell_type": "code",
   "execution_count": null,
   "metadata": {},
   "outputs": [],
   "source": [
    "import itertools"
   ]
  },
  {
   "cell_type": "code",
   "execution_count": null,
   "metadata": {},
   "outputs": [],
   "source": [
    "list(itertools.islice(new_tree.mutations(),10))"
   ]
  },
  {
   "cell_type": "code",
   "execution_count": null,
   "metadata": {},
   "outputs": [],
   "source": [
    "new_tree.mutations()"
   ]
  },
  {
   "cell_type": "code",
   "execution_count": null,
   "metadata": {},
   "outputs": [],
   "source": [
    "new_tree.num_sites"
   ]
  },
  {
   "cell_type": "code",
   "execution_count": null,
   "metadata": {},
   "outputs": [],
   "source": [
    "list(itertools.islice(new_tree.variants(),10))[0]"
   ]
  },
  {
   "cell_type": "code",
   "execution_count": null,
   "metadata": {},
   "outputs": [],
   "source": [
    "list(itertools.islice(new_tree.mutations(),10))"
   ]
  },
  {
   "cell_type": "code",
   "execution_count": 51,
   "metadata": {},
   "outputs": [],
   "source": [
    "sum_stats = pd.read_csv(\"/Users/taylorcavazos/repos/Local_Ancestry_PRS/data/comm_maf_0.01_sum_stats_m_{}_h2_{}.txt\".format(m,h2),sep=\"\\t\",index_col=0)"
   ]
  },
  {
   "cell_type": "code",
   "execution_count": null,
   "metadata": {
    "scrolled": true
   },
   "outputs": [],
   "source": [
    "prs = sum_stats[sum_stats[\"p-value\"]<5e-8]"
   ]
  },
  {
   "cell_type": "code",
   "execution_count": null,
   "metadata": {},
   "outputs": [],
   "source": [
    "len(prs)"
   ]
  },
  {
   "cell_type": "code",
   "execution_count": null,
   "metadata": {},
   "outputs": [],
   "source": [
    "mut_sites = []\n",
    "for mut in new_tree.mutations():\n",
    "    mut_sites.append(mut.site)"
   ]
  },
  {
   "cell_type": "code",
   "execution_count": null,
   "metadata": {},
   "outputs": [],
   "source": [
    "new_prs = prs.loc[np.intersect1d(mut_sites,prs.index)].reset_index()"
   ]
  },
  {
   "cell_type": "code",
   "execution_count": null,
   "metadata": {
    "scrolled": true
   },
   "outputs": [],
   "source": [
    "new_prs.shape"
   ]
  },
  {
   "cell_type": "code",
   "execution_count": null,
   "metadata": {},
   "outputs": [],
   "source": [
    "sum_stats.loc[62,\"OR\"]"
   ]
  },
  {
   "cell_type": "code",
   "execution_count": null,
   "metadata": {},
   "outputs": [],
   "source": [
    "float(new_prs.loc[new_prs[\"var_id\"]==62,\"OR\"])"
   ]
  },
  {
   "cell_type": "code",
   "execution_count": null,
   "metadata": {},
   "outputs": [],
   "source": [
    "len(mut_sites)"
   ]
  },
  {
   "cell_type": "code",
   "execution_count": null,
   "metadata": {},
   "outputs": [],
   "source": [
    "tree.num_sites"
   ]
  },
  {
   "cell_type": "code",
   "execution_count": null,
   "metadata": {},
   "outputs": [],
   "source": [
    "tree.num_mutations"
   ]
  },
  {
   "cell_type": "markdown",
   "metadata": {},
   "source": [
    "## Get proportion of local ancestry"
   ]
  },
  {
   "cell_type": "code",
   "execution_count": 75,
   "metadata": {},
   "outputs": [],
   "source": [
    "path_tree = \"/Users/taylorcavazos/repos/Local_Ancestry_PRS/data/trees/tree_sub_CEU_1.95e5.hdf\""
   ]
  },
  {
   "cell_type": "code",
   "execution_count": 76,
   "metadata": {},
   "outputs": [],
   "source": [
    "n_sites = msprime.load(path_tree).num_sites"
   ]
  },
  {
   "cell_type": "code",
   "execution_count": null,
   "metadata": {
    "scrolled": true
   },
   "outputs": [],
   "source": [
    "with open(\"/Users/taylorcavazos/repos/other_tools/admixture-data/output/admix_afr_amer.result\") as f:\n",
    "    pbar = tqdm.tqdm(total=n_sites+1)\n",
    "    ind = 0\n",
    "    clumped_prs_vars = np.array(open(\"/Users/taylorcavazos/repos/Local_Ancestry_PRS/data/prs_vars_p_5e-8_r2_0.2.txt\").read().splitlines()).astype(int)\n",
    "    for line in f:\n",
    "        line_spl = line.split(\"\\t\")\n",
    "        if ind == 0:\n",
    "            sample_haps = line_spl[2:]\n",
    "            samples = [sample_haps[i].split(\".\")[0] for i in range(0,len(sample_haps),2)]\n",
    "            anc_df = pd.DataFrame(columns=samples)\n",
    "            counts_CEU = np.zeros(len(samples))\n",
    "            counts_YRI = np.zeros(len(samples))\n",
    "        elif ind-1 in clumped_prs_vars:\n",
    "            haplo_anc = np.array(line_spl[2:]).astype(int)\n",
    "            YRI_arr = haplo_anc-1\n",
    "            CEU_arr = np.absolute(1-YRI_arr)\n",
    "            line_counts_CEU = np.add.reduceat(CEU_arr, np.arange(0, len(CEU_arr), 2))\n",
    "            #SNP=line_spl[0]+\"_\"+line_spl[1]            \n",
    "            anc_df.loc[ind-1,:] = line_counts_CEU\n",
    "            \n",
    "        ind+=1\n",
    "        pbar.update(1)\n",
    "    anc_df.to_csv(\"/Users/taylorcavazos/repos/Local_Ancestry_PRS/data/CEU_counts_prs_vars.txt\",sep=\"\\t\")"
   ]
  },
  {
   "cell_type": "code",
   "execution_count": null,
   "metadata": {},
   "outputs": [],
   "source": [
    "anc_df"
   ]
  },
  {
   "cell_type": "code",
   "execution_count": 92,
   "metadata": {
    "scrolled": true
   },
   "outputs": [
    {
     "name": "stderr",
     "output_type": "stream",
     "text": [
      "\n",
      "  0%|          | 0/1313100 [00:00<?, ?it/s]\u001b[A\n",
      "  0%|          | 4183/1313100 [00:00<00:31, 41829.24it/s]\u001b[A\n",
      "  1%|          | 11796/1313100 [00:00<00:26, 48366.43it/s]\u001b[A\n",
      "  2%|▏         | 19881/1313100 [00:00<00:23, 54994.49it/s]\u001b[A\n",
      "  2%|▏         | 26414/1313100 [00:00<00:22, 57733.25it/s]\u001b[A\n",
      "  2%|▏         | 32268/1313100 [00:00<00:22, 57972.20it/s]\u001b[A\n",
      "  3%|▎         | 39952/1313100 [00:00<00:20, 62581.47it/s]\u001b[A\n",
      "  4%|▎         | 48139/1313100 [00:00<00:18, 67340.83it/s]\u001b[A\n",
      "  4%|▍         | 54982/1313100 [00:00<00:18, 67663.51it/s]\u001b[A\n",
      "  5%|▍         | 61737/1313100 [00:00<00:18, 67597.93it/s]\u001b[A\n",
      "  5%|▌         | 69033/1313100 [00:01<00:17, 69119.98it/s]\u001b[A\n",
      "  6%|▌         | 76316/1313100 [00:01<00:17, 70192.31it/s]\u001b[A\n",
      "  6%|▋         | 83341/1313100 [00:01<00:17, 69043.90it/s]\u001b[A\n",
      "  7%|▋         | 90881/1313100 [00:01<00:17, 70834.07it/s]\u001b[A\n",
      "  7%|▋         | 98167/1313100 [00:01<00:17, 71428.89it/s]\u001b[A\n",
      "  8%|▊         | 105324/1313100 [00:01<00:16, 71129.11it/s]\u001b[A\n",
      "  9%|▊         | 112447/1313100 [00:01<00:17, 69726.66it/s]\u001b[A\n",
      "  9%|▉         | 119725/1313100 [00:01<00:16, 70613.14it/s]\u001b[A\n",
      " 10%|▉         | 127282/1313100 [00:01<00:16, 72030.17it/s]\u001b[A\n",
      " 10%|█         | 134501/1313100 [00:01<00:16, 70614.32it/s]\u001b[A\n",
      " 11%|█         | 141580/1313100 [00:02<00:16, 70504.00it/s]\u001b[A\n",
      " 11%|█▏        | 148872/1313100 [00:02<00:16, 71211.19it/s]\u001b[A\n",
      " 12%|█▏        | 156156/1313100 [00:02<00:16, 71690.64it/s]\u001b[A\n",
      " 12%|█▏        | 163333/1313100 [00:02<00:16, 69723.87it/s]\u001b[A\n",
      " 13%|█▎        | 170542/1313100 [00:02<00:16, 70414.75it/s]\u001b[A\n",
      " 14%|█▎        | 177856/1313100 [00:02<00:15, 71210.53it/s]\u001b[A\n",
      " 14%|█▍        | 185171/1313100 [00:02<00:15, 71780.25it/s]\u001b[A\n",
      " 15%|█▍        | 192359/1313100 [00:02<00:15, 70422.16it/s]\u001b[A\n",
      " 15%|█▌        | 199713/1313100 [00:02<00:15, 71327.09it/s]\u001b[A\n",
      " 16%|█▌        | 206858/1313100 [00:02<00:15, 71203.10it/s]\u001b[A\n",
      " 16%|█▋        | 214094/1313100 [00:03<00:15, 71544.36it/s]\u001b[A\n",
      " 17%|█▋        | 221255/1313100 [00:03<00:15, 71162.52it/s]\u001b[A\n",
      " 17%|█▋        | 228376/1313100 [00:03<00:15, 69046.24it/s]\u001b[A\n",
      " 18%|█▊        | 235610/1313100 [00:03<00:15, 70002.31it/s]\u001b[A\n",
      " 19%|█▊        | 243121/1313100 [00:03<00:14, 71457.89it/s]\u001b[A\n",
      " 19%|█▉        | 250285/1313100 [00:03<00:15, 70806.75it/s]\u001b[A\n",
      " 20%|█▉        | 257574/1313100 [00:03<00:14, 71417.03it/s]\u001b[A\n",
      " 20%|██        | 264727/1313100 [00:03<00:14, 71144.70it/s]\u001b[A\n",
      " 21%|██        | 271850/1313100 [00:03<00:14, 71112.56it/s]\u001b[A\n",
      " 21%|██        | 278967/1313100 [00:03<00:14, 70857.19it/s]\u001b[A\n",
      " 22%|██▏       | 286233/1313100 [00:04<00:14, 71387.54it/s]\u001b[A\n",
      " 22%|██▏       | 293551/1313100 [00:04<00:14, 71914.49it/s]\u001b[A\n",
      " 23%|██▎       | 300747/1313100 [00:04<00:14, 70372.26it/s]\u001b[A\n",
      " 23%|██▎       | 308454/1313100 [00:04<00:13, 72253.43it/s]\u001b[A\n",
      " 24%|██▍       | 315999/1313100 [00:04<00:13, 73182.70it/s]\u001b[A\n",
      " 25%|██▍       | 323334/1313100 [00:04<00:13, 71679.75it/s]\u001b[A\n",
      " 25%|██▌       | 330521/1313100 [00:04<00:14, 69594.98it/s]\u001b[A\n",
      " 26%|██▌       | 337973/1313100 [00:04<00:13, 71002.14it/s]\u001b[A\n",
      " 26%|██▋       | 345190/1313100 [00:04<00:13, 71086.24it/s]\u001b[A\n",
      " 27%|██▋       | 352317/1313100 [00:04<00:13, 70297.55it/s]\u001b[A\n",
      " 27%|██▋       | 359654/1313100 [00:05<00:13, 71190.11it/s]\u001b[A\n",
      " 28%|██▊       | 367169/1313100 [00:05<00:13, 72332.13it/s]\u001b[A\n",
      " 29%|██▊       | 374416/1313100 [00:05<00:13, 70716.18it/s]\u001b[A\n",
      " 29%|██▉       | 381506/1313100 [00:05<00:13, 69951.35it/s]\u001b[A\n",
      " 30%|██▉       | 388790/1313100 [00:05<00:13, 70792.19it/s]\u001b[A\n",
      " 30%|███       | 396617/1313100 [00:05<00:12, 72880.22it/s]\u001b[A\n",
      " 31%|███       | 403930/1313100 [00:05<00:13, 68304.76it/s]\u001b[A\n",
      " 31%|███▏      | 412200/1313100 [00:05<00:12, 72065.87it/s]\u001b[A\n",
      " 32%|███▏      | 420177/1313100 [00:05<00:12, 74214.34it/s]\u001b[A\n",
      " 33%|███▎      | 428455/1313100 [00:06<00:11, 76589.78it/s]\u001b[A\n",
      " 33%|███▎      | 436703/1313100 [00:06<00:11, 78265.22it/s]\u001b[A\n",
      " 34%|███▍      | 444597/1313100 [00:06<00:11, 78028.10it/s]\u001b[A\n",
      " 34%|███▍      | 452595/1313100 [00:06<00:10, 78602.84it/s]\u001b[A\n",
      " 35%|███▌      | 460798/1313100 [00:06<00:10, 79598.68it/s]\u001b[A\n",
      " 36%|███▌      | 469033/1313100 [00:06<00:10, 79767.93it/s]\u001b[A\n",
      " 36%|███▋      | 477029/1313100 [00:06<00:12, 67436.44it/s]\u001b[A\n",
      " 37%|███▋      | 484292/1313100 [00:06<00:12, 68913.66it/s]\u001b[A\n",
      " 37%|███▋      | 491887/1313100 [00:06<00:11, 70882.92it/s]\u001b[A\n",
      " 38%|███▊      | 499162/1313100 [00:07<00:12, 66366.85it/s]\u001b[A\n",
      " 39%|███▊      | 506771/1313100 [00:07<00:11, 69011.87it/s]\u001b[A\n",
      " 39%|███▉      | 514734/1313100 [00:07<00:11, 71886.26it/s]\u001b[A\n",
      " 40%|███▉      | 522739/1313100 [00:07<00:10, 74154.21it/s]\u001b[A\n",
      " 40%|████      | 530273/1313100 [00:07<00:11, 66695.99it/s]\u001b[A\n",
      " 41%|████      | 537167/1313100 [00:07<00:12, 63431.96it/s]\u001b[A\n",
      " 42%|████▏     | 545388/1313100 [00:07<00:11, 68097.75it/s]\u001b[A\n",
      " 42%|████▏     | 553331/1313100 [00:07<00:10, 71140.42it/s]\u001b[A\n",
      " 43%|████▎     | 561419/1313100 [00:07<00:10, 73806.35it/s]\u001b[A\n",
      " 43%|████▎     | 568963/1313100 [00:07<00:10, 73789.53it/s]\u001b[A\n",
      " 44%|████▍     | 576978/1313100 [00:08<00:09, 75588.24it/s]\u001b[A\n",
      " 45%|████▍     | 585244/1313100 [00:08<00:09, 77578.04it/s]\u001b[A\n",
      " 45%|████▌     | 593121/1313100 [00:08<00:09, 77930.02it/s]\u001b[A\n",
      " 46%|████▌     | 600968/1313100 [00:08<00:09, 77832.59it/s]\u001b[A\n",
      " 46%|████▋     | 608790/1313100 [00:08<00:09, 76537.56it/s]\u001b[A\n",
      " 47%|████▋     | 616476/1313100 [00:08<00:10, 68096.77it/s]\u001b[A\n",
      " 47%|████▋     | 623481/1313100 [00:08<00:11, 60177.11it/s]\u001b[A\n",
      " 48%|████▊     | 630308/1313100 [00:08<00:10, 62394.92it/s]\u001b[A\n",
      " 48%|████▊     | 636783/1313100 [00:09<00:11, 57174.04it/s]\u001b[A\n",
      " 49%|████▉     | 643983/1313100 [00:09<00:10, 60937.45it/s]\u001b[A\n",
      " 50%|████▉     | 652162/1313100 [00:09<00:10, 65982.87it/s]\u001b[A\n",
      " 50%|█████     | 659950/1313100 [00:09<00:09, 69150.37it/s]\u001b[A\n",
      " 51%|█████     | 667109/1313100 [00:09<00:09, 69230.38it/s]\u001b[A\n",
      " 51%|█████▏    | 675055/1313100 [00:09<00:08, 72011.01it/s]\u001b[A\n",
      " 52%|█████▏    | 682770/1313100 [00:09<00:08, 73479.13it/s]\u001b[A\n",
      " 53%|█████▎    | 691029/1313100 [00:09<00:08, 75993.52it/s]\u001b[A\n",
      " 53%|█████▎    | 698773/1313100 [00:09<00:08, 76421.30it/s]\u001b[A\n",
      " 54%|█████▍    | 707011/1313100 [00:09<00:07, 78116.14it/s]\u001b[A\n",
      " 54%|█████▍    | 714882/1313100 [00:10<00:08, 74315.77it/s]\u001b[A\n",
      " 55%|█████▌    | 722394/1313100 [00:10<00:08, 72740.01it/s]\u001b[A\n",
      " 56%|█████▌    | 729869/1313100 [00:10<00:07, 73329.84it/s]\u001b[A\n",
      " 56%|█████▌    | 737609/1313100 [00:10<00:07, 74504.16it/s]\u001b[A\n",
      " 57%|█████▋    | 745400/1313100 [00:10<00:07, 75492.26it/s]\u001b[A\n",
      " 57%|█████▋    | 752978/1313100 [00:10<00:07, 75458.66it/s]\u001b[A\n",
      " 58%|█████▊    | 760544/1313100 [00:10<00:07, 73028.25it/s]\u001b[A\n",
      " 58%|█████▊    | 767878/1313100 [00:10<00:07, 70047.53it/s]\u001b[A\n",
      " 59%|█████▉    | 774931/1313100 [00:10<00:07, 70012.64it/s]\u001b[A\n",
      " 60%|█████▉    | 781966/1313100 [00:10<00:07, 67923.47it/s]\u001b[A\n",
      " 60%|██████    | 788796/1313100 [00:11<00:08, 63153.09it/s]\u001b[A\n",
      " 61%|██████    | 795205/1313100 [00:11<00:08, 58964.05it/s]\u001b[A\n",
      " 61%|██████    | 801223/1313100 [00:11<00:08, 57196.09it/s]\u001b[A\n",
      " 61%|██████▏   | 807040/1313100 [00:11<00:09, 54869.89it/s]\u001b[A\n",
      " 62%|██████▏   | 813872/1313100 [00:11<00:08, 58313.68it/s]\u001b[A\n",
      " 63%|██████▎   | 821196/1313100 [00:11<00:07, 62109.44it/s]\u001b[A\n",
      " 63%|██████▎   | 827560/1313100 [00:11<00:08, 54067.17it/s]\u001b[A\n",
      " 63%|██████▎   | 833260/1313100 [00:11<00:09, 50011.81it/s]\u001b[A\n",
      " 64%|██████▍   | 838527/1313100 [00:12<00:09, 47535.97it/s]\u001b[A\n",
      " 64%|██████▍   | 845383/1313100 [00:12<00:08, 52351.54it/s]\u001b[A\n",
      " 65%|██████▍   | 852866/1313100 [00:12<00:07, 57535.98it/s]\u001b[A\n",
      " 66%|██████▌   | 860387/1313100 [00:12<00:07, 61898.61it/s]\u001b[A\n",
      " 66%|██████▌   | 867482/1313100 [00:12<00:06, 64096.74it/s]\u001b[A\n",
      " 67%|██████▋   | 874811/1313100 [00:12<00:06, 66602.75it/s]\u001b[A\n",
      " 67%|██████▋   | 882802/1313100 [00:12<00:06, 70104.31it/s]\u001b[A\n",
      " 68%|██████▊   | 890106/1313100 [00:12<00:05, 70959.12it/s]\u001b[A\n",
      " 68%|██████▊   | 897342/1313100 [00:12<00:05, 70341.69it/s]\u001b[A\n",
      " 69%|██████▉   | 905102/1313100 [00:12<00:05, 72371.31it/s]\u001b[A\n",
      " 69%|██████▉   | 912424/1313100 [00:13<00:05, 71359.16it/s]\u001b[A\n",
      " 70%|███████   | 919968/1313100 [00:13<00:05, 72534.82it/s]\u001b[A\n",
      " 71%|███████   | 927270/1313100 [00:13<00:05, 71637.32it/s]\u001b[A\n",
      " 71%|███████   | 935298/1313100 [00:13<00:05, 74026.13it/s]\u001b[A\n",
      " 72%|███████▏  | 943606/1313100 [00:13<00:04, 76526.85it/s]\u001b[A\n",
      " 72%|███████▏  | 951635/1313100 [00:13<00:04, 77617.98it/s]\u001b[A\n"
     ]
    },
    {
     "name": "stderr",
     "output_type": "stream",
     "text": [
      " 73%|███████▎  | 959907/1313100 [00:13<00:04, 79078.52it/s]\u001b[A\n",
      " 74%|███████▎  | 967942/1313100 [00:13<00:04, 79454.95it/s]\u001b[A\n",
      " 74%|███████▍  | 975913/1313100 [00:13<00:04, 76468.58it/s]\u001b[A\n",
      " 75%|███████▍  | 983602/1313100 [00:14<00:04, 71382.55it/s]\u001b[A\n",
      " 75%|███████▌  | 991140/1313100 [00:14<00:04, 72535.27it/s]\u001b[A\n",
      " 76%|███████▌  | 998910/1313100 [00:14<00:04, 74009.84it/s]\u001b[A\n",
      " 77%|███████▋  | 1006883/1313100 [00:14<00:04, 75637.16it/s]\u001b[A\n",
      " 77%|███████▋  | 1014905/1313100 [00:14<00:03, 76956.04it/s]\u001b[A\n",
      " 78%|███████▊  | 1022641/1313100 [00:14<00:03, 76616.53it/s]\u001b[A\n",
      " 78%|███████▊  | 1030332/1313100 [00:14<00:03, 76295.52it/s]\u001b[A\n",
      " 79%|███████▉  | 1037982/1313100 [00:14<00:03, 70566.41it/s]\u001b[A\n",
      " 80%|███████▉  | 1045229/1313100 [00:14<00:03, 71126.48it/s]\u001b[A\n",
      " 80%|████████  | 1052413/1313100 [00:14<00:03, 70328.78it/s]\u001b[A\n",
      " 81%|████████  | 1059498/1313100 [00:15<00:03, 69403.32it/s]\u001b[A\n",
      " 81%|████████  | 1066478/1313100 [00:15<00:03, 68934.23it/s]\u001b[A\n",
      " 82%|████████▏ | 1073400/1313100 [00:15<00:03, 68110.59it/s]\u001b[A\n",
      " 82%|████████▏ | 1080240/1313100 [00:15<00:03, 68197.13it/s]\u001b[A\n",
      " 83%|████████▎ | 1087075/1313100 [00:15<00:03, 64832.54it/s]\u001b[A\n",
      " 83%|████████▎ | 1093604/1313100 [00:15<00:03, 59709.17it/s]\u001b[A\n",
      " 84%|████████▎ | 1099687/1313100 [00:15<00:03, 54646.56it/s]\u001b[A\n",
      " 84%|████████▍ | 1105314/1313100 [00:15<00:03, 52582.71it/s]\u001b[A\n",
      " 85%|████████▍ | 1112285/1313100 [00:15<00:03, 56766.34it/s]\u001b[A\n",
      " 85%|████████▌ | 1118181/1313100 [00:16<00:03, 57406.40it/s]\u001b[A\n",
      " 86%|████████▌ | 1126433/1313100 [00:16<00:02, 63173.05it/s]\u001b[A\n",
      " 86%|████████▋ | 1134440/1313100 [00:16<00:02, 67442.54it/s]\u001b[A\n",
      " 87%|████████▋ | 1141453/1313100 [00:16<00:02, 65254.39it/s]\u001b[A\n",
      " 87%|████████▋ | 1148182/1313100 [00:16<00:02, 65018.01it/s]\u001b[A\n",
      " 88%|████████▊ | 1154827/1313100 [00:16<00:02, 65128.96it/s]\u001b[A\n",
      " 89%|████████▊ | 1163050/1313100 [00:16<00:02, 69462.20it/s]\u001b[A\n",
      " 89%|████████▉ | 1171253/1313100 [00:16<00:01, 72808.30it/s]\u001b[A\n",
      " 90%|████████▉ | 1179345/1313100 [00:16<00:01, 75064.28it/s]\u001b[A\n",
      " 90%|█████████ | 1187661/1313100 [00:16<00:01, 77321.86it/s]\u001b[A\n",
      " 91%|█████████ | 1195818/1313100 [00:17<00:01, 78548.64it/s]\u001b[A\n",
      " 92%|█████████▏| 1203749/1313100 [00:17<00:01, 75645.48it/s]\u001b[A\n",
      " 92%|█████████▏| 1211828/1313100 [00:17<00:01, 77116.93it/s]\u001b[A\n",
      " 93%|█████████▎| 1219849/1313100 [00:17<00:01, 78017.69it/s]\u001b[A\n",
      " 94%|█████████▎| 1227899/1313100 [00:17<00:01, 78744.75it/s]\u001b[A\n",
      " 94%|█████████▍| 1236235/1313100 [00:17<00:00, 80073.90it/s]\u001b[A\n",
      " 95%|█████████▍| 1244477/1313100 [00:17<00:00, 80761.63it/s]\u001b[A\n",
      " 95%|█████████▌| 1252575/1313100 [00:17<00:00, 79919.58it/s]\u001b[A\n",
      " 96%|█████████▌| 1260584/1313100 [00:17<00:00, 70590.44it/s]\u001b[A\n",
      " 97%|█████████▋| 1268586/1313100 [00:18<00:00, 73177.00it/s]\u001b[A\n",
      " 97%|█████████▋| 1276395/1313100 [00:18<00:00, 74584.71it/s]\u001b[A\n",
      " 98%|█████████▊| 1283981/1313100 [00:18<00:00, 74437.83it/s]\u001b[A\n",
      " 98%|█████████▊| 1291668/1313100 [00:18<00:00, 74907.77it/s]\u001b[A\n",
      " 99%|█████████▉| 1299222/1313100 [00:18<00:00, 72109.79it/s]\u001b[A\n",
      " 99%|█████████▉| 1306500/1313100 [00:18<00:00, 68287.99it/s]\u001b[A"
     ]
    }
   ],
   "source": [
    "with open(\"/Users/taylorcavazos/repos/other_tools/admixture-data/output/admix_afr_amer.result\") as f:\n",
    "    pbar = tqdm.tqdm(total=n_sites+1)\n",
    "    ind = 0\n",
    "    for line in f:\n",
    "        if ind == 0:\n",
    "            sample_haps = line.split(\"\\t\")[2:]\n",
    "            samples = [sample_haps[i].split(\".\")[0] for i in range(0,len(sample_haps),2)]\n",
    "            anc_df = pd.DataFrame(index=samples,columns=[\"Prop_CEU\",\"Prop_YRI\"])\n",
    "            counts_CEU = np.zeros(len(samples))\n",
    "            counts_YRI = np.zeros(len(samples))\n",
    "        elif ind-1 in clumped_prs_vars:\n",
    "            haplo_anc = np.array(line.split(\"\\t\")[2:]).astype(int)\n",
    "            YRI_arr = haplo_anc-1\n",
    "            line_counts_YRI = np.add.reduceat(YRI_arr, np.arange(0, len(YRI_arr), 2))\n",
    "            \n",
    "            CEU_arr = np.absolute(1-YRI_arr)\n",
    "            line_counts_CEU = np.add.reduceat(CEU_arr, np.arange(0, len(CEU_arr), 2))\n",
    "            \n",
    "            counts_CEU = counts_CEU+line_counts_CEU\n",
    "            counts_YRI = counts_YRI+line_counts_YRI\n",
    "        ind+=1\n",
    "        pbar.update(1)\n",
    "    #anc_df[\"Prop_CEU\"] = counts_CEU/(2*(ind-1))\n",
    "    #anc_df[\"Prop_YRI\"] = counts_YRI/(2*(ind-1))\n",
    "    anc_df[\"Prop_CEU\"] = counts_CEU/(2*len(clumped_prs_vars))\n",
    "    anc_df[\"Prop_YRI\"] = counts_YRI/(2*len(clumped_prs_vars))\n",
    "    anc_df.to_csv(\"/Users/taylorcavazos/repos/other_tools/admixture-data/output/admix_afr_amer_PRS.prop.anc\",sep=\"\\t\")"
   ]
  },
  {
   "cell_type": "code",
   "execution_count": 93,
   "metadata": {},
   "outputs": [],
   "source": [
    "prop_anc = pd.read_csv(\"/Users/taylorcavazos/repos/other_tools/admixture-data/output/admix_afr_amer_PRS.prop.anc\",\n",
    "           sep=\"\\t\",index_col=0)"
   ]
  },
  {
   "cell_type": "code",
   "execution_count": 94,
   "metadata": {},
   "outputs": [
    {
     "data": {
      "image/png": "[encoded data removed]",
      "text/plain": [
       "<Figure size 432x288 with 1 Axes>"
      ]
     },
     "metadata": {
      "needs_background": "light"
     },
     "output_type": "display_data"
    }
   ],
   "source": [
    "plt.hist(prop_anc[\"Prop_CEU\"])\n",
    "plt.show()"
   ]
  },
  {
   "cell_type": "code",
   "execution_count": 95,
   "metadata": {},
   "outputs": [
    {
     "data": {
      "text/plain": [
       "(407, 2)"
      ]
     },
     "execution_count": 95,
     "metadata": {},
     "output_type": "execute_result"
    }
   ],
   "source": [
    "prop_anc[prop_anc[\"Prop_CEU\"]<=0.2].shape"
   ]
  },
  {
   "cell_type": "code",
   "execution_count": 96,
   "metadata": {},
   "outputs": [
    {
     "data": {
      "text/plain": [
       "(330, 2)"
      ]
     },
     "execution_count": 96,
     "metadata": {},
     "output_type": "execute_result"
    }
   ],
   "source": [
    "prop_anc[prop_anc[\"Prop_CEU\"]>=0.8].shape"
   ]
  },
  {
   "cell_type": "code",
   "execution_count": 97,
   "metadata": {},
   "outputs": [
    {
     "data": {
      "text/plain": [
       "(3263, 2)"
      ]
     },
     "execution_count": 97,
     "metadata": {},
     "output_type": "execute_result"
    },
    {
     "name": "stderr",
     "output_type": "stream",
     "text": [
      "\n",
      "100%|██████████| 1313100/1313100 [00:35<00:00, 68287.99it/s]\u001b[A"
     ]
    }
   ],
   "source": [
    "prop_anc[(prop_anc[\"Prop_CEU\"]<0.8)&(prop_anc[\"Prop_CEU\"]>0.2)].shape"
   ]
  },
  {
   "cell_type": "markdown",
   "metadata": {},
   "source": [
    "## Calculate True PRSs for all individuals"
   ]
  },
  {
   "cell_type": "code",
   "execution_count": null,
   "metadata": {},
   "outputs": [],
   "source": [
    "import output_true_prs"
   ]
  },
  {
   "cell_type": "markdown",
   "metadata": {},
   "source": [
    "Assume same causal variants and effect sizes"
   ]
  },
  {
   "cell_type": "markdown",
   "metadata": {},
   "source": [
    "Average true PRS over a 100 iterations"
   ]
  },
  {
   "cell_type": "raw",
   "metadata": {},
   "source": [
    "output_true_prs.main(path_tree,m,h2,\"/Users/taylorcavazos/repos/Local_Ancestry_PRS/data/true_prs/prs_m_{}_h2_{}\".format(m,h2),iters=100,\n",
    "                     admix_vcf = \"/Users/taylorcavazos/repos/other_tools/admixture-data/output/admix_afr_amer.query.vcf\")"
   ]
  },
  {
   "cell_type": "code",
   "execution_count": null,
   "metadata": {},
   "outputs": [],
   "source": [
    "f = h5py.File('/Users/taylorcavazos/repos/Local_Ancestry_PRS/data/true_prs/prs_m_1000_h2_0.67.hdf5', 'r')"
   ]
  },
  {
   "cell_type": "code",
   "execution_count": null,
   "metadata": {},
   "outputs": [],
   "source": [
    "f.keys()"
   ]
  },
  {
   "cell_type": "code",
   "execution_count": null,
   "metadata": {},
   "outputs": [],
   "source": [
    "f['labels'][()]"
   ]
  },
  {
   "cell_type": "code",
   "execution_count": null,
   "metadata": {},
   "outputs": [],
   "source": [
    "ceu_anc_prop = [1]*(f['G'].shape[0]-prop_anc.shape[0])+list(prop_anc[\"Prop_CEU\"])"
   ]
  },
  {
   "cell_type": "code",
   "execution_count": null,
   "metadata": {},
   "outputs": [],
   "source": [
    "len(ceu_anc_prop)"
   ]
  },
  {
   "cell_type": "code",
   "execution_count": null,
   "metadata": {},
   "outputs": [],
   "source": [
    "plt.scatter(x=f['G'][()],y=ceu_anc_prop)\n",
    "plt.xlabel(\"True Polygenic Risk Score\",fontsize=14)\n",
    "plt.ylabel(\"Proportion European Ancestry\",fontsize=14)\n",
    "plt.show()"
   ]
  },
  {
   "cell_type": "markdown",
   "metadata": {},
   "source": [
    "## Select Cases and Controls"
   ]
  },
  {
   "cell_type": "code",
   "execution_count": null,
   "metadata": {},
   "outputs": [],
   "source": [
    "sns.distplot(f['G'][()])\n",
    "plt.vlines(x=np.percentile(f['G'][()],95),ymin=0,ymax=0.5)\n",
    "plt.show()"
   ]
  },
  {
   "cell_type": "raw",
   "metadata": {},
   "source": [
    "G = f['G'][()]"
   ]
  },
  {
   "cell_type": "raw",
   "metadata": {},
   "source": [
    "np.random.seed(seed=42)\n",
    "e = np.random.normal(loc=0, scale=(1-h2), size=int(G.shape[0]))\n",
    "Ze = (e - np.mean(e))/np.std(e)\n",
    "E = np.sqrt(1-h2)*Ze"
   ]
  },
  {
   "cell_type": "code",
   "execution_count": null,
   "metadata": {},
   "outputs": [],
   "source": [
    "sns.distplot(G+E)\n",
    "plt.vlines(x=np.percentile(G+E,95),ymin=0,ymax=0.4)\n",
    "plt.show()"
   ]
  },
  {
   "cell_type": "raw",
   "metadata": {},
   "source": [
    "labels = f['labels'][()].astype(str)"
   ]
  },
  {
   "cell_type": "raw",
   "metadata": {},
   "source": [
    "labels_case = labels[np.where(G+E>np.percentile(G+E,95))[0]]\n",
    "labels_control = labels[np.where(G+E<=np.percentile(G+E,95))[0]]"
   ]
  },
  {
   "cell_type": "raw",
   "metadata": {},
   "source": []
  },
  {
   "cell_type": "raw",
   "metadata": {},
   "source": [
    "meta_data = prop_anc.reindex(labels)\n",
    "meta_data[\"Prop_CEU\"] = meta_data[\"Prop_CEU\"].fillna(value=1)\n",
    "meta_data[\"Prop_YRI\"] = meta_data[\"Prop_YRI\"].fillna(value=0)"
   ]
  },
  {
   "cell_type": "raw",
   "metadata": {},
   "source": [
    "meta_data.loc[labels_case,\"Disease\"]=1\n",
    "meta_data.loc[labels_control,\"Disease\"]=0"
   ]
  },
  {
   "cell_type": "raw",
   "metadata": {},
   "source": [
    "sns.boxplot(x=\"Disease\",y=\"Prop_CEU\",data=meta_data)\n",
    "plt.show()"
   ]
  },
  {
   "cell_type": "raw",
   "metadata": {},
   "source": [
    "meta_data[\"Disease\"] = meta_data.Disease.astype(int)\n",
    "meta_data[\"truePRS\"] = G\n",
    "meta_data[\"envNoise\"] = E"
   ]
  },
  {
   "cell_type": "raw",
   "metadata": {},
   "source": [
    "msp_inds = [ind for ind in meta_data.index if \"msp\" in ind]\n",
    "eur_only = meta_data.loc[msp_inds,:]"
   ]
  },
  {
   "cell_type": "raw",
   "metadata": {},
   "source": [
    "admix_only = meta_data.loc[prop_anc.index]"
   ]
  },
  {
   "cell_type": "raw",
   "metadata": {},
   "source": [
    "eur_test_case = np.random.choice(eur_only[eur_only[\"Disease\"]==1].index,size=300,replace=False)\n",
    "eur_test_control = np.random.choice(eur_only[eur_only[\"Disease\"]==0].index,size=3700,replace=False)"
   ]
  },
  {
   "cell_type": "raw",
   "metadata": {},
   "source": [
    "eur_train_case = np.random.choice(eur_only[eur_only[\"Disease\"]==1].drop(eur_test_case).index,size=9000,replace=False)\n",
    "eur_train_control = np.random.choice(eur_only[eur_only[\"Disease\"]==0].drop(eur_test_control).index,size=90000,replace=False)"
   ]
  },
  {
   "cell_type": "code",
   "execution_count": null,
   "metadata": {},
   "outputs": [],
   "source": [
    "sns.distplot(meta_data.loc[eur_train_case,\"truePRS\"],color=\"red\")\n",
    "sns.distplot(meta_data.loc[eur_train_control,\"truePRS\"],color=\"blue\")\n",
    "plt.show()"
   ]
  },
  {
   "cell_type": "code",
   "execution_count": null,
   "metadata": {},
   "outputs": [],
   "source": [
    "sns.distplot(meta_data.loc[eur_test_case,\"truePRS\"],color=\"red\")\n",
    "sns.distplot(meta_data.loc[eur_test_control,\"truePRS\"],color=\"blue\")\n",
    "plt.show()"
   ]
  },
  {
   "cell_type": "code",
   "execution_count": null,
   "metadata": {},
   "outputs": [],
   "source": [
    "sns.distplot(meta_data.loc[meta_data.Disease==1,\"truePRS\"],color=\"red\")\n",
    "sns.distplot(meta_data.loc[meta_data.Disease==0,\"truePRS\"],color=\"blue\")\n",
    "plt.show()"
   ]
  },
  {
   "cell_type": "raw",
   "metadata": {},
   "source": [
    "meta_data.to_csv(\"/Users/taylorcavazos/repos/Local_Ancestry_PRS/data/sim_data_meta_m_{}_h2_{}.txt\".format(m,h2),sep=\"\\t\")"
   ]
  },
  {
   "cell_type": "raw",
   "metadata": {},
   "source": [
    "train_cases = np.array([item.split(\"_\")[1] for item in eur_train_case]).astype(int)\n",
    "train_controls = np.array([item.split(\"_\")[1] for item in eur_train_control]).astype(int)\n",
    "test_cases = np.array([item.split(\"_\")[1] for item in eur_test_case]).astype(int)\n",
    "test_controls = np.array([item.split(\"_\")[1] for item in eur_test_control]).astype(int)"
   ]
  },
  {
   "cell_type": "raw",
   "metadata": {},
   "source": [
    "with h5py.File('/Users/taylorcavazos/repos/Local_Ancestry_PRS/data/train_test_CEU_m_{}_h2_{}.hdf5'.format(m,h2), 'w') as f:\n",
    "    f.create_dataset(\"train_cases\",train_cases.shape,dtype=int,data=train_cases)\n",
    "    f.create_dataset(\"train_controls\",train_controls.shape,dtype=int,data=train_controls)\n",
    "    f.create_dataset(\"test_cases\",test_cases.shape,dtype=int,data=test_cases)\n",
    "    f.create_dataset(\"test_controls\",test_controls.shape,dtype=int,data=test_controls)"
   ]
  },
  {
   "cell_type": "markdown",
   "metadata": {},
   "source": [
    "## Perform GWAS with training European samples"
   ]
  },
  {
   "cell_type": "markdown",
   "metadata": {},
   "source": [
    "#### Calculate MAF EUR"
   ]
  },
  {
   "cell_type": "code",
   "execution_count": null,
   "metadata": {},
   "outputs": [],
   "source": [
    "tree = msprime.load(path_tree)\n",
    "n_sites = tree.num_sites"
   ]
  },
  {
   "cell_type": "raw",
   "metadata": {},
   "source": [
    "maf = []\n",
    "pbar = tqdm.tqdm(total=tree.num_sites)\n",
    "for variant in tree.variants():\n",
    "    genos_diploid = return_diploid_genos(variant.genotypes,tree)\n",
    "    freq = np.sum(genos_diploid,axis=1)/(2*genos_diploid.shape[1])\n",
    "    if freq < 0.5: maf.append(freq)\n",
    "    else: maf.append(1-freq)\n",
    "    pbar.update(1)"
   ]
  },
  {
   "cell_type": "raw",
   "metadata": {},
   "source": [
    "np.savetxt(\"/Users/taylorcavazos/repos/Local_Ancestry_PRS/data/maf.txt\",maf)"
   ]
  },
  {
   "cell_type": "markdown",
   "metadata": {},
   "source": [
    "#### Perform GWAS"
   ]
  },
  {
   "cell_type": "raw",
   "metadata": {},
   "source": [
    "python run_compute_sum_stats.py > sum.stats.log.txt"
   ]
  },
  {
   "cell_type": "code",
   "execution_count": null,
   "metadata": {},
   "outputs": [],
   "source": [
    "from statsmodels.stats import multitest"
   ]
  },
  {
   "cell_type": "code",
   "execution_count": null,
   "metadata": {},
   "outputs": [],
   "source": [
    "sum_stats = pd.read_csv(\"/Users/taylorcavazos/repos/Local_Ancestry_PRS/data/comm_maf_0.01_sum_stats_m_{}_h2_{}.txt\".format(m,h2),sep=\"\\t\",index_col=0)\n",
    "_,cor_p,_,_ = multitest.multipletests(sum_stats.loc[:,\"p-value\"], method=\"fdr_bh\")\n",
    "sum_stats[\"fdr\"]=cor_p\n",
    "sum_stats.to_csv(\"/Users/taylorcavazos/repos/Local_Ancestry_PRS/data/comm_maf_0.01_sum_stats_m_{}_h2_{}_fdr.txt\".format(m,h2),sep=\"\\t\")"
   ]
  },
  {
   "cell_type": "markdown",
   "metadata": {},
   "source": [
    "## Calculate Expected PRS for everyone"
   ]
  },
  {
   "cell_type": "code",
   "execution_count": null,
   "metadata": {},
   "outputs": [],
   "source": [
    "from output_emp_prs import *"
   ]
  },
  {
   "cell_type": "code",
   "execution_count": null,
   "metadata": {},
   "outputs": [],
   "source": [
    "tree = msprime.load(path_tree)\n",
    "n_sites = tree.num_sites"
   ]
  },
  {
   "cell_type": "code",
   "execution_count": null,
   "metadata": {},
   "outputs": [],
   "source": [
    "bonf_p = 0.05/n_sites"
   ]
  },
  {
   "cell_type": "code",
   "execution_count": null,
   "metadata": {},
   "outputs": [],
   "source": [
    "bonf_p"
   ]
  },
  {
   "cell_type": "code",
   "execution_count": null,
   "metadata": {},
   "outputs": [],
   "source": [
    "sum_stats = pd.read_csv(\"/Users/taylorcavazos/repos/Local_Ancestry_PRS/data/comm_maf_0.01_sum_stats_m_{}_h2_{}_fdr.txt\".format(m,h2),sep=\"\\t\",index_col=0)"
   ]
  },
  {
   "cell_type": "code",
   "execution_count": null,
   "metadata": {},
   "outputs": [],
   "source": [
    "prs_vars = sum_stats[sum_stats[\"p-value\"] < bonf_p].sort_values(by=[\"p-value\"])"
   ]
  },
  {
   "cell_type": "code",
   "execution_count": null,
   "metadata": {},
   "outputs": [],
   "source": [
    "prs_vars.shape"
   ]
  },
  {
   "cell_type": "markdown",
   "metadata": {},
   "source": [
    "prs_vars.head(1000).tail(1)"
   ]
  },
  {
   "cell_type": "markdown",
   "metadata": {},
   "source": [
    "ld_struct = find_ld_sites(tree, [229402],r2_threshold=0.2,num_threads=1)"
   ]
  },
  {
   "cell_type": "code",
   "execution_count": 98,
   "metadata": {},
   "outputs": [],
   "source": [
    "f = h5py.File('/Users/taylorcavazos/repos/Local_Ancestry_PRS/data/emp_prs/emp_prs_m_1000_h2_0.67_LD_ALL.hdf5', 'r')"
   ]
  },
  {
   "cell_type": "code",
   "execution_count": 99,
   "metadata": {},
   "outputs": [
    {
     "data": {
      "text/plain": [
       "<KeysViewHDF5 ['X', 'labels']>"
      ]
     },
     "execution_count": 99,
     "metadata": {},
     "output_type": "execute_result"
    }
   ],
   "source": [
    "f.keys()"
   ]
  },
  {
   "cell_type": "code",
   "execution_count": 100,
   "metadata": {},
   "outputs": [
    {
     "data": {
      "text/plain": [
       "array([b'msp_0', b'msp_1', b'msp_2', ..., b'50c36e0f', b'35048bc5',\n",
       "       b'1cb4b81d'], dtype='|S10')"
      ]
     },
     "execution_count": 100,
     "metadata": {},
     "output_type": "execute_result"
    }
   ],
   "source": [
    "f['labels'][()]"
   ]
  },
  {
   "cell_type": "code",
   "execution_count": 101,
   "metadata": {},
   "outputs": [],
   "source": [
    "emp = f['X'][()]\n",
    "emp_Z = (emp - np.mean(emp))/np.std(emp)"
   ]
  },
  {
   "cell_type": "code",
   "execution_count": 102,
   "metadata": {},
   "outputs": [],
   "source": [
    "f_LA = h5py.File('/Users/taylorcavazos/repos/Local_Ancestry_PRS/data/emp_prs/emp_prs_m_1000_h2_0.67_LD_ALL_ADMIX_unweight_noneur.hdf5', 'r')\n",
    "emp_LA = f_LA['X'][()]\n",
    "emp_Z_LA = (emp_LA - np.mean(emp_LA))/np.std(emp_LA)\n",
    "LA_only_labels = f_LA['labels'][()].astype(str)"
   ]
  },
  {
   "cell_type": "code",
   "execution_count": 103,
   "metadata": {},
   "outputs": [],
   "source": [
    "t = h5py.File('/Users/taylorcavazos/repos/Local_Ancestry_PRS/data/true_prs/prs_m_1000_h2_0.67.hdf5', 'r')"
   ]
  },
  {
   "cell_type": "code",
   "execution_count": 104,
   "metadata": {},
   "outputs": [],
   "source": [
    "true = t['Zx'][()]"
   ]
  },
  {
   "cell_type": "code",
   "execution_count": 105,
   "metadata": {},
   "outputs": [
    {
     "data": {
      "text/plain": [
       "array([b'msp_0', b'msp_1', b'msp_2', ..., b'50c36e0f', b'35048bc5',\n",
       "       b'1cb4b81d'], dtype='|S10')"
      ]
     },
     "execution_count": 105,
     "metadata": {},
     "output_type": "execute_result"
    }
   ],
   "source": [
    "t['labels'][()]"
   ]
  },
  {
   "cell_type": "code",
   "execution_count": 106,
   "metadata": {},
   "outputs": [
    {
     "data": {
      "text/plain": [
       "(199000,)"
      ]
     },
     "execution_count": 106,
     "metadata": {},
     "output_type": "execute_result"
    }
   ],
   "source": [
    "emp.shape"
   ]
  },
  {
   "cell_type": "code",
   "execution_count": 107,
   "metadata": {},
   "outputs": [
    {
     "data": {
      "text/plain": [
       "(199000,)"
      ]
     },
     "execution_count": 107,
     "metadata": {},
     "output_type": "execute_result"
    }
   ],
   "source": [
    "true.shape"
   ]
  },
  {
   "cell_type": "code",
   "execution_count": 108,
   "metadata": {},
   "outputs": [
    {
     "data": {
      "image/png": "[encoded data removed]",
      "text/plain": [
       "<Figure size 432x288 with 1 Axes>"
      ]
     },
     "metadata": {
      "needs_background": "light"
     },
     "output_type": "display_data"
    }
   ],
   "source": [
    "plt.scatter(true,emp_Z)\n",
    "plt.show()"
   ]
  },
  {
   "cell_type": "code",
   "execution_count": 109,
   "metadata": {},
   "outputs": [],
   "source": [
    "train_test = h5py.File(\"/Users/taylorcavazos/repos/Local_Ancestry_PRS/data/train_test_CEU_m_1000_h2_0.67.hdf5\")"
   ]
  },
  {
   "cell_type": "code",
   "execution_count": 110,
   "metadata": {},
   "outputs": [
    {
     "data": {
      "text/plain": [
       "<KeysViewHDF5 ['test_cases', 'test_controls', 'train_cases', 'train_controls']>"
      ]
     },
     "execution_count": 110,
     "metadata": {},
     "output_type": "execute_result"
    }
   ],
   "source": [
    "train_test.keys()"
   ]
  },
  {
   "cell_type": "code",
   "execution_count": 111,
   "metadata": {},
   "outputs": [],
   "source": [
    "training = np.append(train_test[\"train_controls\"][()],train_test[\"train_cases\"][()])\n",
    "testing = np.append(train_test[\"test_controls\"][()],train_test[\"test_cases\"][()])"
   ]
  },
  {
   "cell_type": "code",
   "execution_count": 112,
   "metadata": {},
   "outputs": [
    {
     "data": {
      "text/plain": [
       "90000"
      ]
     },
     "execution_count": 112,
     "metadata": {},
     "output_type": "execute_result"
    }
   ],
   "source": [
    "len(train_test[\"train_controls\"][()])"
   ]
  },
  {
   "cell_type": "code",
   "execution_count": 113,
   "metadata": {},
   "outputs": [
    {
     "data": {
      "text/plain": [
       "9000"
      ]
     },
     "execution_count": 113,
     "metadata": {},
     "output_type": "execute_result"
    }
   ],
   "source": [
    "len(train_test[\"train_cases\"][()])"
   ]
  },
  {
   "cell_type": "code",
   "execution_count": 114,
   "metadata": {},
   "outputs": [],
   "source": [
    "training_msp = [\"msp_\"+str(train) for train in training]\n",
    "testing_msp = [\"msp_\"+str(test) for test in testing]"
   ]
  },
  {
   "cell_type": "code",
   "execution_count": 115,
   "metadata": {},
   "outputs": [],
   "source": [
    "labels = t['labels'][()].astype(str)"
   ]
  },
  {
   "cell_type": "code",
   "execution_count": 116,
   "metadata": {},
   "outputs": [],
   "source": [
    "label_inds = pd.DataFrame(np.arange(0,len(labels)),index = labels)\n",
    "LA_label_inds = pd.DataFrame(np.arange(0,len(LA_only_labels)),index = LA_only_labels)"
   ]
  },
  {
   "cell_type": "code",
   "execution_count": 117,
   "metadata": {},
   "outputs": [],
   "source": [
    "train_inds = label_inds.loc[training_msp,0].values\n",
    "test_inds = label_inds.loc[testing_msp,0].values"
   ]
  },
  {
   "cell_type": "code",
   "execution_count": 118,
   "metadata": {},
   "outputs": [],
   "source": [
    "admix = label_inds.loc[prop_anc.index,0].values\n",
    "LA_admix = LA_label_inds.loc[prop_anc.index,0].values"
   ]
  },
  {
   "cell_type": "code",
   "execution_count": 119,
   "metadata": {},
   "outputs": [],
   "source": [
    "low_admix = label_inds.loc[prop_anc[prop_anc[\"Prop_CEU\"]>0.8].index,0].values\n",
    "mid1 = label_inds.loc[prop_anc[(prop_anc[\"Prop_CEU\"]>0.2)&(prop_anc[\"Prop_CEU\"]<=0.4)].index,0].values\n",
    "mid2 = label_inds.loc[prop_anc[(prop_anc[\"Prop_CEU\"]>0.4)&(prop_anc[\"Prop_CEU\"]<=0.6)].index,0].values\n",
    "mid3 = label_inds.loc[prop_anc[(prop_anc[\"Prop_CEU\"]>0.6)&(prop_anc[\"Prop_CEU\"]<=0.8)].index,0].values\n",
    "high_admix = label_inds.loc[prop_anc[prop_anc[\"Prop_CEU\"]<=0.2].index,0].values"
   ]
  },
  {
   "cell_type": "code",
   "execution_count": 120,
   "metadata": {},
   "outputs": [],
   "source": [
    "LA_low_admix = LA_label_inds.loc[prop_anc[prop_anc[\"Prop_CEU\"]>0.8].index,0].values\n",
    "LA_mid1 = LA_label_inds.loc[prop_anc[(prop_anc[\"Prop_CEU\"]>0.2)&(prop_anc[\"Prop_CEU\"]<=0.4)].index,0].values\n",
    "LA_mid2 = LA_label_inds.loc[prop_anc[(prop_anc[\"Prop_CEU\"]>0.4)&(prop_anc[\"Prop_CEU\"]<=0.6)].index,0].values\n",
    "LA_mid3 = LA_label_inds.loc[prop_anc[(prop_anc[\"Prop_CEU\"]>0.6)&(prop_anc[\"Prop_CEU\"]<=0.8)].index,0].values\n",
    "LA_high_admix = LA_label_inds.loc[prop_anc[prop_anc[\"Prop_CEU\"]<=0.2].index,0].values"
   ]
  },
  {
   "cell_type": "code",
   "execution_count": 121,
   "metadata": {},
   "outputs": [
    {
     "data": {
      "image/png": "[encoded data removed]",
      "text/plain": [
       "<Figure size 432x288 with 1 Axes>"
      ]
     },
     "metadata": {
      "needs_background": "light"
     },
     "output_type": "display_data"
    }
   ],
   "source": [
    "#plt.scatter(true[test_inds],emp_Z[test_inds],s=10,color=\"gray\")\n",
    "plt.scatter(true[low_admix],emp_Z[low_admix],color=\"red\",s=10)\n",
    "plt.scatter(true[low_admix],emp_Z_LA[LA_low_admix],color=\"blue\",s=10)\n",
    "#plt.scatter(true[high_admix],emp_Z[high_admix],color=\"red\",s=10)\n",
    "#plt.scatter(true[high_admix],emp_Z_LA[LA_high_admix],color=\"blue\",s=10)\n",
    "#plt.scatter(true[mid_admix],emp_Z[mid_admix],color=\"orange\",s=10)\n",
    "\n",
    "plt.show()"
   ]
  },
  {
   "cell_type": "code",
   "execution_count": 122,
   "metadata": {},
   "outputs": [
    {
     "data": {
      "text/plain": [
       "0.0"
      ]
     },
     "execution_count": 122,
     "metadata": {},
     "output_type": "execute_result"
    }
   ],
   "source": [
    "np.log(1)"
   ]
  },
  {
   "cell_type": "code",
   "execution_count": 123,
   "metadata": {},
   "outputs": [
    {
     "data": {
      "text/plain": [
       "4000"
      ]
     },
     "execution_count": 123,
     "metadata": {},
     "output_type": "execute_result"
    }
   ],
   "source": [
    "len(test_inds)"
   ]
  },
  {
   "cell_type": "code",
   "execution_count": 124,
   "metadata": {
    "scrolled": false
   },
   "outputs": [
    {
     "data": {
      "text/plain": [
       "(0.6024851402914584, 0.0)"
      ]
     },
     "execution_count": 124,
     "metadata": {},
     "output_type": "execute_result"
    }
   ],
   "source": [
    "stats.pearsonr(true[test_inds],emp_Z[test_inds])"
   ]
  },
  {
   "cell_type": "markdown",
   "metadata": {},
   "source": [
    "CEU > 0.8"
   ]
  },
  {
   "cell_type": "code",
   "execution_count": 125,
   "metadata": {},
   "outputs": [
    {
     "data": {
      "text/plain": [
       "330"
      ]
     },
     "execution_count": 125,
     "metadata": {},
     "output_type": "execute_result"
    }
   ],
   "source": [
    "len(low_admix)"
   ]
  },
  {
   "cell_type": "code",
   "execution_count": 126,
   "metadata": {},
   "outputs": [
    {
     "data": {
      "text/plain": [
       "(0.5475394232373694, 3.3015638101941344e-27)"
      ]
     },
     "execution_count": 126,
     "metadata": {},
     "output_type": "execute_result"
    }
   ],
   "source": [
    "stats.pearsonr(true[low_admix],emp_Z_LA[LA_low_admix])"
   ]
  },
  {
   "cell_type": "code",
   "execution_count": 127,
   "metadata": {
    "scrolled": true
   },
   "outputs": [
    {
     "data": {
      "text/plain": [
       "(0.5485415286816869, 2.547565826699356e-27)"
      ]
     },
     "execution_count": 127,
     "metadata": {},
     "output_type": "execute_result"
    }
   ],
   "source": [
    "stats.pearsonr(true[low_admix],emp_Z[low_admix])"
   ]
  },
  {
   "cell_type": "markdown",
   "metadata": {},
   "source": [
    "CEU <= 0.2"
   ]
  },
  {
   "cell_type": "code",
   "execution_count": 128,
   "metadata": {},
   "outputs": [
    {
     "data": {
      "text/plain": [
       "407"
      ]
     },
     "execution_count": 128,
     "metadata": {},
     "output_type": "execute_result"
    }
   ],
   "source": [
    "len(high_admix)"
   ]
  },
  {
   "cell_type": "code",
   "execution_count": 129,
   "metadata": {},
   "outputs": [
    {
     "data": {
      "text/plain": [
       "(0.2023236447313707, 3.926315849103007e-05)"
      ]
     },
     "execution_count": 129,
     "metadata": {},
     "output_type": "execute_result"
    }
   ],
   "source": [
    "stats.pearsonr(true[high_admix],emp_Z_LA[LA_high_admix])"
   ]
  },
  {
   "cell_type": "code",
   "execution_count": 130,
   "metadata": {},
   "outputs": [
    {
     "data": {
      "text/plain": [
       "(0.28164155338083435, 7.3869259609590965e-09)"
      ]
     },
     "execution_count": 130,
     "metadata": {},
     "output_type": "execute_result"
    }
   ],
   "source": [
    "stats.pearsonr(true[high_admix],emp_Z[high_admix])"
   ]
  },
  {
   "cell_type": "code",
   "execution_count": 131,
   "metadata": {},
   "outputs": [
    {
     "data": {
      "text/html": [
       "<div>\n",
       "<style scoped>\n",
       "    .dataframe tbody tr th:only-of-type {\n",
       "        vertical-align: middle;\n",
       "    }\n",
       "\n",
       "    .dataframe tbody tr th {\n",
       "        vertical-align: top;\n",
       "    }\n",
       "\n",
       "    .dataframe thead th {\n",
       "        text-align: right;\n",
       "    }\n",
       "</style>\n",
       "<table border=\"1\" class=\"dataframe\">\n",
       "  <thead>\n",
       "    <tr style=\"text-align: right;\">\n",
       "      <th></th>\n",
       "      <th>Prop_CEU</th>\n",
       "      <th>Prop_YRI</th>\n",
       "    </tr>\n",
       "  </thead>\n",
       "  <tbody>\n",
       "    <tr>\n",
       "      <th>45649d28</th>\n",
       "      <td>0.260373</td>\n",
       "      <td>0.739627</td>\n",
       "    </tr>\n",
       "    <tr>\n",
       "      <th>029090f4</th>\n",
       "      <td>0.286307</td>\n",
       "      <td>0.713693</td>\n",
       "    </tr>\n",
       "    <tr>\n",
       "      <th>32a8c97e</th>\n",
       "      <td>0.198133</td>\n",
       "      <td>0.801867</td>\n",
       "    </tr>\n",
       "    <tr>\n",
       "      <th>5b7e5903</th>\n",
       "      <td>0.199170</td>\n",
       "      <td>0.800830</td>\n",
       "    </tr>\n",
       "    <tr>\n",
       "      <th>1b57a9be</th>\n",
       "      <td>0.411307</td>\n",
       "      <td>0.588693</td>\n",
       "    </tr>\n",
       "    <tr>\n",
       "      <th>4b790c69</th>\n",
       "      <td>0.494295</td>\n",
       "      <td>0.505705</td>\n",
       "    </tr>\n",
       "    <tr>\n",
       "      <th>36b361f9</th>\n",
       "      <td>0.864627</td>\n",
       "      <td>0.135373</td>\n",
       "    </tr>\n",
       "    <tr>\n",
       "      <th>03ee4a96</th>\n",
       "      <td>0.690353</td>\n",
       "      <td>0.309647</td>\n",
       "    </tr>\n",
       "    <tr>\n",
       "      <th>778b79c0</th>\n",
       "      <td>0.519710</td>\n",
       "      <td>0.480290</td>\n",
       "    </tr>\n",
       "    <tr>\n",
       "      <th>519778a9</th>\n",
       "      <td>0.350104</td>\n",
       "      <td>0.649896</td>\n",
       "    </tr>\n",
       "    <tr>\n",
       "      <th>5dfd3de1</th>\n",
       "      <td>0.621888</td>\n",
       "      <td>0.378112</td>\n",
       "    </tr>\n",
       "    <tr>\n",
       "      <th>0ff94dd3</th>\n",
       "      <td>0.589730</td>\n",
       "      <td>0.410270</td>\n",
       "    </tr>\n",
       "    <tr>\n",
       "      <th>3b64153e</th>\n",
       "      <td>0.394191</td>\n",
       "      <td>0.605809</td>\n",
       "    </tr>\n",
       "    <tr>\n",
       "      <th>6ed3c57a</th>\n",
       "      <td>0.311203</td>\n",
       "      <td>0.688797</td>\n",
       "    </tr>\n",
       "    <tr>\n",
       "      <th>191a0ad2</th>\n",
       "      <td>0.481328</td>\n",
       "      <td>0.518672</td>\n",
       "    </tr>\n",
       "    <tr>\n",
       "      <th>44873258</th>\n",
       "      <td>0.885373</td>\n",
       "      <td>0.114627</td>\n",
       "    </tr>\n",
       "    <tr>\n",
       "      <th>078f833b</th>\n",
       "      <td>0.832988</td>\n",
       "      <td>0.167012</td>\n",
       "    </tr>\n",
       "    <tr>\n",
       "      <th>3c01fe74</th>\n",
       "      <td>0.137448</td>\n",
       "      <td>0.862552</td>\n",
       "    </tr>\n",
       "    <tr>\n",
       "      <th>3b1c3d43</th>\n",
       "      <td>0.266598</td>\n",
       "      <td>0.733402</td>\n",
       "    </tr>\n",
       "    <tr>\n",
       "      <th>50e5be78</th>\n",
       "      <td>0.315871</td>\n",
       "      <td>0.684129</td>\n",
       "    </tr>\n",
       "    <tr>\n",
       "      <th>3da58d6e</th>\n",
       "      <td>0.237552</td>\n",
       "      <td>0.762448</td>\n",
       "    </tr>\n",
       "    <tr>\n",
       "      <th>09d9ae01</th>\n",
       "      <td>0.259336</td>\n",
       "      <td>0.740664</td>\n",
       "    </tr>\n",
       "    <tr>\n",
       "      <th>335d8b66</th>\n",
       "      <td>0.360996</td>\n",
       "      <td>0.639004</td>\n",
       "    </tr>\n",
       "    <tr>\n",
       "      <th>59d3a83a</th>\n",
       "      <td>0.917531</td>\n",
       "      <td>0.082469</td>\n",
       "    </tr>\n",
       "    <tr>\n",
       "      <th>47a3ed91</th>\n",
       "      <td>0.655602</td>\n",
       "      <td>0.344398</td>\n",
       "    </tr>\n",
       "    <tr>\n",
       "      <th>0d74c562</th>\n",
       "      <td>0.613589</td>\n",
       "      <td>0.386411</td>\n",
       "    </tr>\n",
       "    <tr>\n",
       "      <th>4e8dec36</th>\n",
       "      <td>0.962137</td>\n",
       "      <td>0.037863</td>\n",
       "    </tr>\n",
       "    <tr>\n",
       "      <th>658551d7</th>\n",
       "      <td>0.966805</td>\n",
       "      <td>0.033195</td>\n",
       "    </tr>\n",
       "    <tr>\n",
       "      <th>5771823d</th>\n",
       "      <td>0.182054</td>\n",
       "      <td>0.817946</td>\n",
       "    </tr>\n",
       "    <tr>\n",
       "      <th>3b51d797</th>\n",
       "      <td>0.692427</td>\n",
       "      <td>0.307573</td>\n",
       "    </tr>\n",
       "    <tr>\n",
       "      <th>...</th>\n",
       "      <td>...</td>\n",
       "      <td>...</td>\n",
       "    </tr>\n",
       "    <tr>\n",
       "      <th>6ec51846</th>\n",
       "      <td>0.410788</td>\n",
       "      <td>0.589212</td>\n",
       "    </tr>\n",
       "    <tr>\n",
       "      <th>1cda18b3</th>\n",
       "      <td>0.572095</td>\n",
       "      <td>0.427905</td>\n",
       "    </tr>\n",
       "    <tr>\n",
       "      <th>18f7f5a3</th>\n",
       "      <td>0.575726</td>\n",
       "      <td>0.424274</td>\n",
       "    </tr>\n",
       "    <tr>\n",
       "      <th>442e4960</th>\n",
       "      <td>0.311722</td>\n",
       "      <td>0.688278</td>\n",
       "    </tr>\n",
       "    <tr>\n",
       "      <th>65a7f532</th>\n",
       "      <td>0.399896</td>\n",
       "      <td>0.600104</td>\n",
       "    </tr>\n",
       "    <tr>\n",
       "      <th>2b00c8c6</th>\n",
       "      <td>0.536826</td>\n",
       "      <td>0.463174</td>\n",
       "    </tr>\n",
       "    <tr>\n",
       "      <th>436950a9</th>\n",
       "      <td>0.251037</td>\n",
       "      <td>0.748963</td>\n",
       "    </tr>\n",
       "    <tr>\n",
       "      <th>31445a8d</th>\n",
       "      <td>0.444502</td>\n",
       "      <td>0.555498</td>\n",
       "    </tr>\n",
       "    <tr>\n",
       "      <th>4893e1df</th>\n",
       "      <td>0.567946</td>\n",
       "      <td>0.432054</td>\n",
       "    </tr>\n",
       "    <tr>\n",
       "      <th>2fe8dce6</th>\n",
       "      <td>0.448133</td>\n",
       "      <td>0.551867</td>\n",
       "    </tr>\n",
       "    <tr>\n",
       "      <th>4dc0f4fa</th>\n",
       "      <td>0.602178</td>\n",
       "      <td>0.397822</td>\n",
       "    </tr>\n",
       "    <tr>\n",
       "      <th>4b3bcaba</th>\n",
       "      <td>0.262967</td>\n",
       "      <td>0.737033</td>\n",
       "    </tr>\n",
       "    <tr>\n",
       "      <th>5a2de10d</th>\n",
       "      <td>0.284751</td>\n",
       "      <td>0.715249</td>\n",
       "    </tr>\n",
       "    <tr>\n",
       "      <th>410a29f2</th>\n",
       "      <td>0.673755</td>\n",
       "      <td>0.326245</td>\n",
       "    </tr>\n",
       "    <tr>\n",
       "      <th>04a0ed22</th>\n",
       "      <td>0.844398</td>\n",
       "      <td>0.155602</td>\n",
       "    </tr>\n",
       "    <tr>\n",
       "      <th>5135037b</th>\n",
       "      <td>0.582988</td>\n",
       "      <td>0.417012</td>\n",
       "    </tr>\n",
       "    <tr>\n",
       "      <th>310b6824</th>\n",
       "      <td>0.712137</td>\n",
       "      <td>0.287863</td>\n",
       "    </tr>\n",
       "    <tr>\n",
       "      <th>732d2344</th>\n",
       "      <td>0.549274</td>\n",
       "      <td>0.450726</td>\n",
       "    </tr>\n",
       "    <tr>\n",
       "      <th>05649753</th>\n",
       "      <td>0.641079</td>\n",
       "      <td>0.358921</td>\n",
       "    </tr>\n",
       "    <tr>\n",
       "      <th>009331e1</th>\n",
       "      <td>0.612552</td>\n",
       "      <td>0.387448</td>\n",
       "    </tr>\n",
       "    <tr>\n",
       "      <th>53c696ed</th>\n",
       "      <td>0.373444</td>\n",
       "      <td>0.626556</td>\n",
       "    </tr>\n",
       "    <tr>\n",
       "      <th>5bd8c04a</th>\n",
       "      <td>0.622925</td>\n",
       "      <td>0.377075</td>\n",
       "    </tr>\n",
       "    <tr>\n",
       "      <th>3b4f706a</th>\n",
       "      <td>0.646784</td>\n",
       "      <td>0.353216</td>\n",
       "    </tr>\n",
       "    <tr>\n",
       "      <th>76dac373</th>\n",
       "      <td>0.646784</td>\n",
       "      <td>0.353216</td>\n",
       "    </tr>\n",
       "    <tr>\n",
       "      <th>7123d75f</th>\n",
       "      <td>0.580913</td>\n",
       "      <td>0.419087</td>\n",
       "    </tr>\n",
       "    <tr>\n",
       "      <th>72670e64</th>\n",
       "      <td>0.658714</td>\n",
       "      <td>0.341286</td>\n",
       "    </tr>\n",
       "    <tr>\n",
       "      <th>564568be</th>\n",
       "      <td>0.892116</td>\n",
       "      <td>0.107884</td>\n",
       "    </tr>\n",
       "    <tr>\n",
       "      <th>50c36e0f</th>\n",
       "      <td>0.519710</td>\n",
       "      <td>0.480290</td>\n",
       "    </tr>\n",
       "    <tr>\n",
       "      <th>35048bc5</th>\n",
       "      <td>0.452801</td>\n",
       "      <td>0.547199</td>\n",
       "    </tr>\n",
       "    <tr>\n",
       "      <th>1cb4b81d</th>\n",
       "      <td>0.333506</td>\n",
       "      <td>0.666494</td>\n",
       "    </tr>\n",
       "  </tbody>\n",
       "</table>\n",
       "<p>4000 rows × 2 columns</p>\n",
       "</div>"
      ],
      "text/plain": [
       "          Prop_CEU  Prop_YRI\n",
       "45649d28  0.260373  0.739627\n",
       "029090f4  0.286307  0.713693\n",
       "32a8c97e  0.198133  0.801867\n",
       "5b7e5903  0.199170  0.800830\n",
       "1b57a9be  0.411307  0.588693\n",
       "4b790c69  0.494295  0.505705\n",
       "36b361f9  0.864627  0.135373\n",
       "03ee4a96  0.690353  0.309647\n",
       "778b79c0  0.519710  0.480290\n",
       "519778a9  0.350104  0.649896\n",
       "5dfd3de1  0.621888  0.378112\n",
       "0ff94dd3  0.589730  0.410270\n",
       "3b64153e  0.394191  0.605809\n",
       "6ed3c57a  0.311203  0.688797\n",
       "191a0ad2  0.481328  0.518672\n",
       "44873258  0.885373  0.114627\n",
       "078f833b  0.832988  0.167012\n",
       "3c01fe74  0.137448  0.862552\n",
       "3b1c3d43  0.266598  0.733402\n",
       "50e5be78  0.315871  0.684129\n",
       "3da58d6e  0.237552  0.762448\n",
       "09d9ae01  0.259336  0.740664\n",
       "335d8b66  0.360996  0.639004\n",
       "59d3a83a  0.917531  0.082469\n",
       "47a3ed91  0.655602  0.344398\n",
       "0d74c562  0.613589  0.386411\n",
       "4e8dec36  0.962137  0.037863\n",
       "658551d7  0.966805  0.033195\n",
       "5771823d  0.182054  0.817946\n",
       "3b51d797  0.692427  0.307573\n",
       "...            ...       ...\n",
       "6ec51846  0.410788  0.589212\n",
       "1cda18b3  0.572095  0.427905\n",
       "18f7f5a3  0.575726  0.424274\n",
       "442e4960  0.311722  0.688278\n",
       "65a7f532  0.399896  0.600104\n",
       "2b00c8c6  0.536826  0.463174\n",
       "436950a9  0.251037  0.748963\n",
       "31445a8d  0.444502  0.555498\n",
       "4893e1df  0.567946  0.432054\n",
       "2fe8dce6  0.448133  0.551867\n",
       "4dc0f4fa  0.602178  0.397822\n",
       "4b3bcaba  0.262967  0.737033\n",
       "5a2de10d  0.284751  0.715249\n",
       "410a29f2  0.673755  0.326245\n",
       "04a0ed22  0.844398  0.155602\n",
       "5135037b  0.582988  0.417012\n",
       "310b6824  0.712137  0.287863\n",
       "732d2344  0.549274  0.450726\n",
       "05649753  0.641079  0.358921\n",
       "009331e1  0.612552  0.387448\n",
       "53c696ed  0.373444  0.626556\n",
       "5bd8c04a  0.622925  0.377075\n",
       "3b4f706a  0.646784  0.353216\n",
       "76dac373  0.646784  0.353216\n",
       "7123d75f  0.580913  0.419087\n",
       "72670e64  0.658714  0.341286\n",
       "564568be  0.892116  0.107884\n",
       "50c36e0f  0.519710  0.480290\n",
       "35048bc5  0.452801  0.547199\n",
       "1cb4b81d  0.333506  0.666494\n",
       "\n",
       "[4000 rows x 2 columns]"
      ]
     },
     "execution_count": 131,
     "metadata": {},
     "output_type": "execute_result"
    }
   ],
   "source": [
    "prop_anc"
   ]
  },
  {
   "cell_type": "markdown",
   "metadata": {},
   "source": [
    "0.2 < CEU <= 0.4"
   ]
  },
  {
   "cell_type": "code",
   "execution_count": null,
   "metadata": {
    "scrolled": true
   },
   "outputs": [],
   "source": [
    "stats.pearsonr(true[mid1],emp_Z[mid1])"
   ]
  },
  {
   "cell_type": "markdown",
   "metadata": {},
   "source": [
    "0.4 < CEU <= 0.6"
   ]
  },
  {
   "cell_type": "code",
   "execution_count": null,
   "metadata": {},
   "outputs": [],
   "source": [
    "stats.pearsonr(true[mid2],emp_Z[mid2])"
   ]
  },
  {
   "cell_type": "markdown",
   "metadata": {},
   "source": [
    "0.6 < CEU <= 0.8"
   ]
  },
  {
   "cell_type": "code",
   "execution_count": null,
   "metadata": {},
   "outputs": [],
   "source": [
    "stats.pearsonr(true[mid3],emp_Z[mid3])"
   ]
  },
  {
   "cell_type": "code",
   "execution_count": null,
   "metadata": {},
   "outputs": [],
   "source": [
    "plt.scatter(true)"
   ]
  },
  {
   "cell_type": "code",
   "execution_count": null,
   "metadata": {},
   "outputs": [],
   "source": [
    "true[test_inds]"
   ]
  },
  {
   "cell_type": "code",
   "execution_count": null,
   "metadata": {},
   "outputs": [],
   "source": [
    "low_admix = label_inds.loc[prop_anc[prop_anc[\"Prop_CEU\"]<0.2].index,0].values"
   ]
  },
  {
   "cell_type": "code",
   "execution_count": null,
   "metadata": {},
   "outputs": [],
   "source": [
    "admix = label_inds.loc[prop_anc.index,0].values"
   ]
  },
  {
   "cell_type": "markdown",
   "metadata": {},
   "source": [
    "### a: Using European GWAS"
   ]
  },
  {
   "cell_type": "code",
   "execution_count": null,
   "metadata": {},
   "outputs": [],
   "source": []
  },
  {
   "cell_type": "markdown",
   "metadata": {},
   "source": [
    "### b: Using Local-Ancestry Specific Approach (relies on significant SNPs from European GWAS)"
   ]
  },
  {
   "cell_type": "code",
   "execution_count": null,
   "metadata": {},
   "outputs": [],
   "source": []
  },
  {
   "cell_type": "markdown",
   "metadata": {},
   "source": [
    "## Calculate AUCs and compare between approaches"
   ]
  },
  {
   "cell_type": "code",
   "execution_count": 52,
   "metadata": {},
   "outputs": [],
   "source": [
    "clumped_prs_vars = np.array(open(\"/Users/taylorcavazos/repos/Local_Ancestry_PRS/data/prs_vars_p_5e-8_r2_0.2.txt\").read().splitlines()).astype(int)"
   ]
  },
  {
   "cell_type": "code",
   "execution_count": 87,
   "metadata": {
    "scrolled": true
   },
   "outputs": [
    {
     "data": {
      "text/html": [
       "<div>\n",
       "<style scoped>\n",
       "    .dataframe tbody tr th:only-of-type {\n",
       "        vertical-align: middle;\n",
       "    }\n",
       "\n",
       "    .dataframe tbody tr th {\n",
       "        vertical-align: top;\n",
       "    }\n",
       "\n",
       "    .dataframe thead th {\n",
       "        text-align: right;\n",
       "    }\n",
       "</style>\n",
       "<table border=\"1\" class=\"dataframe\">\n",
       "  <thead>\n",
       "    <tr style=\"text-align: right;\">\n",
       "      <th></th>\n",
       "      <th>OR</th>\n",
       "      <th>p-value</th>\n",
       "    </tr>\n",
       "    <tr>\n",
       "      <th>var_id</th>\n",
       "      <th></th>\n",
       "      <th></th>\n",
       "    </tr>\n",
       "  </thead>\n",
       "  <tbody>\n",
       "    <tr>\n",
       "      <th>2</th>\n",
       "      <td>0.615194</td>\n",
       "      <td>1.915182e-106</td>\n",
       "    </tr>\n",
       "    <tr>\n",
       "      <th>62</th>\n",
       "      <td>0.567920</td>\n",
       "      <td>4.435143e-11</td>\n",
       "    </tr>\n",
       "    <tr>\n",
       "      <th>65</th>\n",
       "      <td>0.606124</td>\n",
       "      <td>1.541818e-08</td>\n",
       "    </tr>\n",
       "    <tr>\n",
       "      <th>91</th>\n",
       "      <td>0.528590</td>\n",
       "      <td>1.392931e-58</td>\n",
       "    </tr>\n",
       "    <tr>\n",
       "      <th>176</th>\n",
       "      <td>1.389485</td>\n",
       "      <td>2.044740e-08</td>\n",
       "    </tr>\n",
       "    <tr>\n",
       "      <th>257</th>\n",
       "      <td>1.361532</td>\n",
       "      <td>7.746888e-24</td>\n",
       "    </tr>\n",
       "    <tr>\n",
       "      <th>295</th>\n",
       "      <td>0.575947</td>\n",
       "      <td>1.146586e-17</td>\n",
       "    </tr>\n",
       "    <tr>\n",
       "      <th>542</th>\n",
       "      <td>0.402226</td>\n",
       "      <td>9.177612e-20</td>\n",
       "    </tr>\n",
       "    <tr>\n",
       "      <th>745</th>\n",
       "      <td>1.831424</td>\n",
       "      <td>1.625924e-35</td>\n",
       "    </tr>\n",
       "    <tr>\n",
       "      <th>953</th>\n",
       "      <td>0.730885</td>\n",
       "      <td>8.463063e-11</td>\n",
       "    </tr>\n",
       "    <tr>\n",
       "      <th>1137</th>\n",
       "      <td>0.629757</td>\n",
       "      <td>3.619063e-10</td>\n",
       "    </tr>\n",
       "    <tr>\n",
       "      <th>2011</th>\n",
       "      <td>0.597823</td>\n",
       "      <td>1.256347e-21</td>\n",
       "    </tr>\n",
       "    <tr>\n",
       "      <th>2228</th>\n",
       "      <td>0.564450</td>\n",
       "      <td>5.904062e-63</td>\n",
       "    </tr>\n",
       "    <tr>\n",
       "      <th>2379</th>\n",
       "      <td>1.389588</td>\n",
       "      <td>3.757341e-08</td>\n",
       "    </tr>\n",
       "    <tr>\n",
       "      <th>3032</th>\n",
       "      <td>0.527571</td>\n",
       "      <td>9.919147e-13</td>\n",
       "    </tr>\n",
       "    <tr>\n",
       "      <th>3569</th>\n",
       "      <td>1.149806</td>\n",
       "      <td>2.810854e-10</td>\n",
       "    </tr>\n",
       "    <tr>\n",
       "      <th>5979</th>\n",
       "      <td>1.443842</td>\n",
       "      <td>1.439094e-12</td>\n",
       "    </tr>\n",
       "    <tr>\n",
       "      <th>10250</th>\n",
       "      <td>0.511872</td>\n",
       "      <td>1.379880e-12</td>\n",
       "    </tr>\n",
       "    <tr>\n",
       "      <th>24922</th>\n",
       "      <td>0.615189</td>\n",
       "      <td>1.888005e-106</td>\n",
       "    </tr>\n",
       "    <tr>\n",
       "      <th>25073</th>\n",
       "      <td>1.361532</td>\n",
       "      <td>7.746888e-24</td>\n",
       "    </tr>\n",
       "  </tbody>\n",
       "</table>\n",
       "</div>"
      ],
      "text/plain": [
       "              OR        p-value\n",
       "var_id                         \n",
       "2       0.615194  1.915182e-106\n",
       "62      0.567920   4.435143e-11\n",
       "65      0.606124   1.541818e-08\n",
       "91      0.528590   1.392931e-58\n",
       "176     1.389485   2.044740e-08\n",
       "257     1.361532   7.746888e-24\n",
       "295     0.575947   1.146586e-17\n",
       "542     0.402226   9.177612e-20\n",
       "745     1.831424   1.625924e-35\n",
       "953     0.730885   8.463063e-11\n",
       "1137    0.629757   3.619063e-10\n",
       "2011    0.597823   1.256347e-21\n",
       "2228    0.564450   5.904062e-63\n",
       "2379    1.389588   3.757341e-08\n",
       "3032    0.527571   9.919147e-13\n",
       "3569    1.149806   2.810854e-10\n",
       "5979    1.443842   1.439094e-12\n",
       "10250   0.511872   1.379880e-12\n",
       "24922   0.615189  1.888005e-106\n",
       "25073   1.361532   7.746888e-24"
      ]
     },
     "execution_count": 87,
     "metadata": {},
     "output_type": "execute_result"
    }
   ],
   "source": [
    "sum_stats.loc[clumped_prs_vars,:].head(20)"
   ]
  },
  {
   "cell_type": "code",
   "execution_count": 86,
   "metadata": {},
   "outputs": [
    {
     "data": {
      "text/html": [
       "<div>\n",
       "<style scoped>\n",
       "    .dataframe tbody tr th:only-of-type {\n",
       "        vertical-align: middle;\n",
       "    }\n",
       "\n",
       "    .dataframe tbody tr th {\n",
       "        vertical-align: top;\n",
       "    }\n",
       "\n",
       "    .dataframe thead th {\n",
       "        text-align: right;\n",
       "    }\n",
       "</style>\n",
       "<table border=\"1\" class=\"dataframe\">\n",
       "  <thead>\n",
       "    <tr style=\"text-align: right;\">\n",
       "      <th></th>\n",
       "      <th>OR</th>\n",
       "      <th>p-value</th>\n",
       "    </tr>\n",
       "    <tr>\n",
       "      <th>var_id</th>\n",
       "      <th></th>\n",
       "      <th></th>\n",
       "    </tr>\n",
       "  </thead>\n",
       "  <tbody>\n",
       "    <tr>\n",
       "      <th>2</th>\n",
       "      <td>0.615194</td>\n",
       "      <td>1.915182e-106</td>\n",
       "    </tr>\n",
       "    <tr>\n",
       "      <th>62</th>\n",
       "      <td>0.567920</td>\n",
       "      <td>4.435143e-11</td>\n",
       "    </tr>\n",
       "    <tr>\n",
       "      <th>63</th>\n",
       "      <td>0.615194</td>\n",
       "      <td>1.915182e-106</td>\n",
       "    </tr>\n",
       "    <tr>\n",
       "      <th>65</th>\n",
       "      <td>0.606124</td>\n",
       "      <td>1.541818e-08</td>\n",
       "    </tr>\n",
       "    <tr>\n",
       "      <th>91</th>\n",
       "      <td>0.528590</td>\n",
       "      <td>1.392931e-58</td>\n",
       "    </tr>\n",
       "    <tr>\n",
       "      <th>112</th>\n",
       "      <td>1.219332</td>\n",
       "      <td>7.424664e-13</td>\n",
       "    </tr>\n",
       "    <tr>\n",
       "      <th>128</th>\n",
       "      <td>0.495890</td>\n",
       "      <td>1.558270e-205</td>\n",
       "    </tr>\n",
       "    <tr>\n",
       "      <th>131</th>\n",
       "      <td>0.637340</td>\n",
       "      <td>8.151022e-91</td>\n",
       "    </tr>\n",
       "    <tr>\n",
       "      <th>148</th>\n",
       "      <td>1.363868</td>\n",
       "      <td>1.993075e-05</td>\n",
       "    </tr>\n",
       "    <tr>\n",
       "      <th>173</th>\n",
       "      <td>0.615194</td>\n",
       "      <td>1.915182e-106</td>\n",
       "    </tr>\n",
       "    <tr>\n",
       "      <th>175</th>\n",
       "      <td>1.869466</td>\n",
       "      <td>5.181865e-67</td>\n",
       "    </tr>\n",
       "    <tr>\n",
       "      <th>176</th>\n",
       "      <td>1.389485</td>\n",
       "      <td>2.044740e-08</td>\n",
       "    </tr>\n",
       "    <tr>\n",
       "      <th>188</th>\n",
       "      <td>1.010825</td>\n",
       "      <td>7.902577e-01</td>\n",
       "    </tr>\n",
       "    <tr>\n",
       "      <th>191</th>\n",
       "      <td>1.580547</td>\n",
       "      <td>2.570926e-44</td>\n",
       "    </tr>\n",
       "    <tr>\n",
       "      <th>219</th>\n",
       "      <td>1.074450</td>\n",
       "      <td>8.787313e-02</td>\n",
       "    </tr>\n",
       "    <tr>\n",
       "      <th>247</th>\n",
       "      <td>1.869466</td>\n",
       "      <td>5.181865e-67</td>\n",
       "    </tr>\n",
       "    <tr>\n",
       "      <th>257</th>\n",
       "      <td>1.361532</td>\n",
       "      <td>7.746888e-24</td>\n",
       "    </tr>\n",
       "    <tr>\n",
       "      <th>274</th>\n",
       "      <td>1.869466</td>\n",
       "      <td>5.181865e-67</td>\n",
       "    </tr>\n",
       "    <tr>\n",
       "      <th>285</th>\n",
       "      <td>1.869466</td>\n",
       "      <td>5.181865e-67</td>\n",
       "    </tr>\n",
       "    <tr>\n",
       "      <th>295</th>\n",
       "      <td>0.575947</td>\n",
       "      <td>1.146586e-17</td>\n",
       "    </tr>\n",
       "  </tbody>\n",
       "</table>\n",
       "</div>"
      ],
      "text/plain": [
       "              OR        p-value\n",
       "var_id                         \n",
       "2       0.615194  1.915182e-106\n",
       "62      0.567920   4.435143e-11\n",
       "63      0.615194  1.915182e-106\n",
       "65      0.606124   1.541818e-08\n",
       "91      0.528590   1.392931e-58\n",
       "112     1.219332   7.424664e-13\n",
       "128     0.495890  1.558270e-205\n",
       "131     0.637340   8.151022e-91\n",
       "148     1.363868   1.993075e-05\n",
       "173     0.615194  1.915182e-106\n",
       "175     1.869466   5.181865e-67\n",
       "176     1.389485   2.044740e-08\n",
       "188     1.010825   7.902577e-01\n",
       "191     1.580547   2.570926e-44\n",
       "219     1.074450   8.787313e-02\n",
       "247     1.869466   5.181865e-67\n",
       "257     1.361532   7.746888e-24\n",
       "274     1.869466   5.181865e-67\n",
       "285     1.869466   5.181865e-67\n",
       "295     0.575947   1.146586e-17"
      ]
     },
     "execution_count": 86,
     "metadata": {},
     "output_type": "execute_result"
    }
   ],
   "source": [
    "sum_stats.head(20)"
   ]
  },
  {
   "cell_type": "code",
   "execution_count": 55,
   "metadata": {},
   "outputs": [],
   "source": [
    "vcf_file = \"/Users/taylorcavazos/repos/other_tools/admixture-data/output/admix_afr_amer.query.vcf\""
   ]
  },
  {
   "cell_type": "code",
   "execution_count": 63,
   "metadata": {},
   "outputs": [],
   "source": [
    "afs = []\n",
    "with open(vcf_file) as f:\n",
    "    ind=0\n",
    "    for line in f:\n",
    "        if line[0] != \"#\":\n",
    "            if ind in clumped_prs_vars:\n",
    "                data = line.split(\"\\t\")[9:]\n",
    "                genotype = np.array([np.array(hap.split(\"|\")).astype(int).sum() for hap in data])\n",
    "                af = genotype.sum()/(2*4000)\n",
    "                afs.append(af)\n",
    "            ind+=1"
   ]
  },
  {
   "cell_type": "code",
   "execution_count": 64,
   "metadata": {},
   "outputs": [
    {
     "data": {
      "text/plain": [
       "[0.244875,\n",
       " 0.000625,\n",
       " 0.00675,\n",
       " 0.01925,\n",
       " 0.007375,\n",
       " 0.100625,\n",
       " 0.01375,\n",
       " 0.003375,\n",
       " 0.02,\n",
       " 0.01875,\n",
       " 0.009625,\n",
       " 0.015125,\n",
       " 0.038625,\n",
       " 0.0085,\n",
       " 0.004,\n",
       " 0.146,\n",
       " 0.016125,\n",
       " 0.0035,\n",
       " 0.269625,\n",
       " 0.100625,\n",
       " 0.015,\n",
       " 0.006625,\n",
       " 0.0345,\n",
       " 0.008625,\n",
       " 0.01875,\n",
       " 0.020375,\n",
       " 0.01375,\n",
       " 0.00675,\n",
       " 0.146,\n",
       " 0.007875,\n",
       " 0.000625,\n",
       " 0.009625,\n",
       " 0.018375,\n",
       " 0.0085,\n",
       " 0.02275,\n",
       " 0.00475,\n",
       " 0.006,\n",
       " 0.244875,\n",
       " 0.018625,\n",
       " 0.0345,\n",
       " 0.007,\n",
       " 0.00675,\n",
       " 0.100625,\n",
       " 0.01375,\n",
       " 0.01875,\n",
       " 0.009625,\n",
       " 0.007125,\n",
       " 0.016125,\n",
       " 0.0085,\n",
       " 0.006,\n",
       " 0.146,\n",
       " 0.02275,\n",
       " 0.003375,\n",
       " 0.000625,\n",
       " 0.00475,\n",
       " 0.244875,\n",
       " 0.0475,\n",
       " 0.003875,\n",
       " 0.015,\n",
       " 0.004,\n",
       " 0.0075,\n",
       " 0.01375,\n",
       " 0.100625,\n",
       " 0.009625,\n",
       " 0.016125,\n",
       " 0.0085,\n",
       " 0.015125,\n",
       " 0.146,\n",
       " 0.006,\n",
       " 0.0035,\n",
       " 0.038625,\n",
       " 0.244875,\n",
       " 0.0475,\n",
       " 0.003375,\n",
       " 0.007375,\n",
       " 0.01875,\n",
       " 0.00475,\n",
       " 0.01375,\n",
       " 0.0075,\n",
       " 0.100625,\n",
       " 0.000625,\n",
       " 0.0085,\n",
       " 0.016125,\n",
       " 0.01225,\n",
       " 0.009625,\n",
       " 0.006625,\n",
       " 0.006,\n",
       " 0.02275,\n",
       " 0.119875,\n",
       " 0.0475,\n",
       " 0.17225,\n",
       " 0.007875,\n",
       " 0.0035,\n",
       " 0.01375,\n",
       " 0.00475,\n",
       " 0.007375,\n",
       " 0.100625,\n",
       " 0.0075,\n",
       " 0.008625,\n",
       " 0.0085,\n",
       " 0.01225,\n",
       " 0.016125,\n",
       " 0.006625,\n",
       " 0.004,\n",
       " 0.01875,\n",
       " 0.009625,\n",
       " 0.006,\n",
       " 0.02275,\n",
       " 0.1295,\n",
       " 0.0475,\n",
       " 0.01475,\n",
       " 0.146,\n",
       " 0.00475,\n",
       " 0.01375,\n",
       " 0.015,\n",
       " 0.009125,\n",
       " 0.0165,\n",
       " 0.0085,\n",
       " 0.016125,\n",
       " 0.020375,\n",
       " 0.003375,\n",
       " 0.009625,\n",
       " 0.269625,\n",
       " 0.011125,\n",
       " 0.003875,\n",
       " 0.006,\n",
       " 0.004,\n",
       " 0.01875,\n",
       " 0.01375,\n",
       " 0.0045,\n",
       " 0.0035,\n",
       " 0.015,\n",
       " 0.0085,\n",
       " 0.000625,\n",
       " 0.146,\n",
       " 0.0075,\n",
       " 0.016125,\n",
       " 0.01225,\n",
       " 0.100625,\n",
       " 0.009625,\n",
       " 0.244875,\n",
       " 0.0345,\n",
       " 0.038625,\n",
       " 0.007875,\n",
       " 0.006625,\n",
       " 0.01375,\n",
       " 0.00475,\n",
       " 0.01875,\n",
       " 0.0065,\n",
       " 0.015,\n",
       " 0.0085,\n",
       " 0.0075,\n",
       " 0.000625,\n",
       " 0.0165,\n",
       " 0.020375,\n",
       " 0.003375,\n",
       " 0.244875,\n",
       " 0.009625,\n",
       " 0.0475,\n",
       " 0.016125,\n",
       " 0.006,\n",
       " 0.038625,\n",
       " 0.004,\n",
       " 0.146,\n",
       " 0.006625,\n",
       " 0.007875,\n",
       " 0.01375,\n",
       " 0.00475,\n",
       " 0.0085,\n",
       " 0.015,\n",
       " 0.0075,\n",
       " 0.000625,\n",
       " 0.020375,\n",
       " 0.100625,\n",
       " 0.269625,\n",
       " 0.02,\n",
       " 0.016125,\n",
       " 0.006,\n",
       " 0.004,\n",
       " 0.006625,\n",
       " 0.023875,\n",
       " 0.008625,\n",
       " 0.146,\n",
       " 0.009625,\n",
       " 0.01375,\n",
       " 0.00475,\n",
       " 0.01875,\n",
       " 0.0085,\n",
       " 0.015,\n",
       " 0.0075,\n",
       " 0.020375,\n",
       " 0.100625,\n",
       " 0.230125,\n",
       " 0.0475,\n",
       " 0.016125,\n",
       " 0.000625,\n",
       " 0.006625,\n",
       " 0.0035,\n",
       " 0.01375,\n",
       " 0.146,\n",
       " 0.02275,\n",
       " 0.009625,\n",
       " 0.003375,\n",
       " 0.0085,\n",
       " 0.018625,\n",
       " 0.00675,\n",
       " 0.0045,\n",
       " 0.269625,\n",
       " 0.015125,\n",
       " 0.100625,\n",
       " 0.0475,\n",
       " 0.016125,\n",
       " 0.006625,\n",
       " 0.000625,\n",
       " 0.01375,\n",
       " 0.04775,\n",
       " 0.009625,\n",
       " 0.147625,\n",
       " 0.008625,\n",
       " 0.007375,\n",
       " 0.006625,\n",
       " 0.01875,\n",
       " 0.0085,\n",
       " 0.020375,\n",
       " 0.269625,\n",
       " 0.0075,\n",
       " 0.100625,\n",
       " 0.0475,\n",
       " 0.007875,\n",
       " 0.00475,\n",
       " 0.006625,\n",
       " 0.016125,\n",
       " 0.01375,\n",
       " 0.006,\n",
       " 0.009625,\n",
       " 0.01475,\n",
       " 0.146,\n",
       " 0.004,\n",
       " 0.007375,\n",
       " 0.230125,\n",
       " 0.0085,\n",
       " 0.020375,\n",
       " 0.006625,\n",
       " 0.0095,\n",
       " 0.100625,\n",
       " 0.0075,\n",
       " 0.01875,\n",
       " 0.007,\n",
       " 0.00475,\n",
       " 0.01375,\n",
       " 0.016125,\n",
       " 0.007875,\n",
       " 0.008625,\n",
       " 0.009625,\n",
       " 0.146,\n",
       " 0.004,\n",
       " 0.1295,\n",
       " 0.015,\n",
       " 0.020375,\n",
       " 0.0085,\n",
       " 0.0475,\n",
       " 0.000625,\n",
       " 0.100625,\n",
       " 0.006,\n",
       " 0.0075,\n",
       " 0.02275,\n",
       " 0.003875,\n",
       " 0.01375,\n",
       " 0.092875,\n",
       " 0.05775,\n",
       " 0.248125,\n",
       " 0.15125,\n",
       " 0.272125,\n",
       " 0.17125,\n",
       " 0.17825,\n",
       " 0.014125,\n",
       " 0.013,\n",
       " 0.12275,\n",
       " 0.01275,\n",
       " 0.0325,\n",
       " 0.110625,\n",
       " 0.007625,\n",
       " 0.067125,\n",
       " 0.11725,\n",
       " 0.067,\n",
       " 0.05175,\n",
       " 0.636375,\n",
       " 0.148875,\n",
       " 0.180375,\n",
       " 0.168625,\n",
       " 0.06,\n",
       " 0.050875,\n",
       " 0.04275,\n",
       " 0.03375,\n",
       " 0.147875,\n",
       " 0.014875,\n",
       " 0.014,\n",
       " 0.25125,\n",
       " 0.07725,\n",
       " 0.0935,\n",
       " 0.572125,\n",
       " 0.032375,\n",
       " 0.093375,\n",
       " 0.014375,\n",
       " 0.051,\n",
       " 0.01625,\n",
       " 0.35825,\n",
       " 0.48375,\n",
       " 0.235125,\n",
       " 0.06325,\n",
       " 0.120125,\n",
       " 0.003625,\n",
       " 0.00325,\n",
       " 0.11475,\n",
       " 0.172,\n",
       " 0.13875,\n",
       " 0.0455,\n",
       " 0.39875,\n",
       " 0.5295,\n",
       " 0.043875,\n",
       " 0.3405,\n",
       " 0.111375,\n",
       " 0.04775,\n",
       " 0.1275,\n",
       " 0.028,\n",
       " 0.2695,\n",
       " 0.241375,\n",
       " 0.179125,\n",
       " 0.065125,\n",
       " 0.096375,\n",
       " 0.493375,\n",
       " 0.012625,\n",
       " 0.00675,\n",
       " 0.781,\n",
       " 0.058625,\n",
       " 0.636875,\n",
       " 0.284125,\n",
       " 0.067,\n",
       " 0.145375,\n",
       " 0.158,\n",
       " 0.388875,\n",
       " 0.09875,\n",
       " 0.027,\n",
       " 0.166625,\n",
       " 0.011625,\n",
       " 0.24425,\n",
       " 0.0825,\n",
       " 0.005375,\n",
       " 0.0055,\n",
       " 0.038625,\n",
       " 0.323625,\n",
       " 0.02775,\n",
       " 0.006125,\n",
       " 0.0045,\n",
       " 0.1575,\n",
       " 0.008875,\n",
       " 0.006125,\n",
       " 0.291375,\n",
       " 0.008375,\n",
       " 0.009625,\n",
       " 0.50775,\n",
       " 0.53975,\n",
       " 0.1455,\n",
       " 0.015875,\n",
       " 0.011,\n",
       " 0.01175,\n",
       " 0.103,\n",
       " 0.04075,\n",
       " 0.06925,\n",
       " 0.007375,\n",
       " 0.0045,\n",
       " 0.281625,\n",
       " 0.01325,\n",
       " 0.00025,\n",
       " 0.825375,\n",
       " 0.232125,\n",
       " 0.026375,\n",
       " 0.00425,\n",
       " 0.001375,\n",
       " 0.013875,\n",
       " 0.016875,\n",
       " 0.031625,\n",
       " 0.069625,\n",
       " 0.011375,\n",
       " 0.267625,\n",
       " 0.01925,\n",
       " 0.0115,\n",
       " 0.067875,\n",
       " 0.150125,\n",
       " 0.009625,\n",
       " 0.2875,\n",
       " 0.00325,\n",
       " 0.083875,\n",
       " 0.066125,\n",
       " 0.00825,\n",
       " 0.0175,\n",
       " 0.032,\n",
       " 0.003375,\n",
       " 0.014375,\n",
       " 0.01925,\n",
       " 0.006875,\n",
       " 0.00675,\n",
       " 0.19725,\n",
       " 0.006,\n",
       " 0.02275,\n",
       " 0.00625,\n",
       " 0.004,\n",
       " 0.58525,\n",
       " 0.009625,\n",
       " 0.007875,\n",
       " 0.068875,\n",
       " 0.011,\n",
       " 0.0165,\n",
       " 0.0085,\n",
       " 0.02575,\n",
       " 0.137875,\n",
       " 0.010875,\n",
       " 0.010375,\n",
       " 0.244375,\n",
       " 0.44925,\n",
       " 0.100375,\n",
       " 0.054375,\n",
       " 0.29025,\n",
       " 0.573875,\n",
       " 0.495375,\n",
       " 0.09,\n",
       " 0.0295,\n",
       " 0.001125,\n",
       " 0.00575,\n",
       " 0.532125,\n",
       " 0.01025,\n",
       " 0.26775,\n",
       " 0.23825,\n",
       " 0.259875,\n",
       " 0.613375,\n",
       " 0.184375,\n",
       " 0.014125,\n",
       " 0.003,\n",
       " 0.002,\n",
       " 0.1835,\n",
       " 0.09775,\n",
       " 0.002625,\n",
       " 0.088125,\n",
       " 0.05875,\n",
       " 0.024875,\n",
       " 0.01625,\n",
       " 0.3455,\n",
       " 0.178125,\n",
       " 0.28675,\n",
       " 0.258375,\n",
       " 0.3495,\n",
       " 0.002375,\n",
       " 0.006125,\n",
       " 0.08975,\n",
       " 0.013375,\n",
       " 0.070375,\n",
       " 0.136125,\n",
       " 0.588375,\n",
       " 0.0375,\n",
       " 0.162375,\n",
       " 0.01175,\n",
       " 0.6855,\n",
       " 0.0635,\n",
       " 0.058,\n",
       " 0.010625,\n",
       " 0.107625,\n",
       " 0.08325,\n",
       " 0.001625,\n",
       " 0.177125,\n",
       " 0.005125,\n",
       " 0.394625,\n",
       " 0.003375,\n",
       " 0.29775,\n",
       " 0.086875,\n",
       " 0.006,\n",
       " 0.042625,\n",
       " 0.019875,\n",
       " 0.478,\n",
       " 0.027875,\n",
       " 0.017875,\n",
       " 0.018875,\n",
       " 0.018125,\n",
       " 0.290625,\n",
       " 0.00075,\n",
       " 0.00475,\n",
       " 0.034125,\n",
       " 0.130625,\n",
       " 0.004875,\n",
       " 0.027125,\n",
       " 0.0075,\n",
       " 0.3605,\n",
       " 0.366875,\n",
       " 0.012125,\n",
       " 0.09275,\n",
       " 0.01175,\n",
       " 0.008875,\n",
       " 0.089625,\n",
       " 0.207125,\n",
       " 0.036125,\n",
       " 0.066375,\n",
       " 0.0315,\n",
       " 0.017625,\n",
       " 0.6245,\n",
       " 0.322875,\n",
       " 0.0135,\n",
       " 0.111625,\n",
       " 0.020625,\n",
       " 0.46425,\n",
       " 0.011875,\n",
       " 0.154625,\n",
       " 0.0535,\n",
       " 0.005875,\n",
       " 0.066625,\n",
       " 0.0035,\n",
       " 0.007375,\n",
       " 0.008125,\n",
       " 0.21675,\n",
       " 0.229875,\n",
       " 0.07725,\n",
       " 0.159,\n",
       " 0.14025,\n",
       " 0.005375,\n",
       " 0.018875,\n",
       " 0.028,\n",
       " 0.01975,\n",
       " 0.062125,\n",
       " 0.007875,\n",
       " 0.00225,\n",
       " 0.1985,\n",
       " 0.003125,\n",
       " 0.192875,\n",
       " 0.017125,\n",
       " 0.01575,\n",
       " 0.013125,\n",
       " 0.0035,\n",
       " 0.5375,\n",
       " 0.009375,\n",
       " 0.006875,\n",
       " 0.05,\n",
       " 0.257875,\n",
       " 0.0585,\n",
       " 0.005375,\n",
       " 0.0415,\n",
       " 0.0155,\n",
       " 0.061875,\n",
       " 0.028,\n",
       " 0.01825,\n",
       " 0.02325,\n",
       " 0.009875,\n",
       " 0.384,\n",
       " 0.01375,\n",
       " 0.021625,\n",
       " 0.006875,\n",
       " 0.017625,\n",
       " 0.44125,\n",
       " 0.146875,\n",
       " 0.03,\n",
       " 0.071625,\n",
       " 0.0015,\n",
       " 0.009,\n",
       " 0.030375,\n",
       " 0.005375,\n",
       " 0.00425,\n",
       " 0.067125,\n",
       " 0.009625,\n",
       " 0.007875,\n",
       " 0.013,\n",
       " 0.00325,\n",
       " 0.004375,\n",
       " 0.00825,\n",
       " 0.004625,\n",
       " 0.014125,\n",
       " 0.007375,\n",
       " 0.411375,\n",
       " 0.007,\n",
       " 0.078875,\n",
       " 0.004375,\n",
       " 0.024375,\n",
       " 0.334625,\n",
       " 0.002875,\n",
       " 0.224125,\n",
       " 0.11325,\n",
       " 0.013125,\n",
       " 0.55225,\n",
       " 0.003375,\n",
       " 0.04325,\n",
       " 0.0125,\n",
       " 0.089625,\n",
       " 0.008375,\n",
       " 0.014375,\n",
       " 0.071625,\n",
       " 0.00925,\n",
       " 0.017125,\n",
       " 0.0065,\n",
       " 0.01425,\n",
       " 0.009875,\n",
       " 0.00625,\n",
       " 0.0025,\n",
       " 0.085,\n",
       " 0.012625,\n",
       " 0.041125,\n",
       " 0.09725,\n",
       " 0.00325,\n",
       " 0.006375,\n",
       " 0.017875,\n",
       " 0.00325,\n",
       " 0.012,\n",
       " 0.00325,\n",
       " 0.020875,\n",
       " 0.004875,\n",
       " 0.006875,\n",
       " 0.413875,\n",
       " 0.00675,\n",
       " 0.013875,\n",
       " 0.286375,\n",
       " 0.018,\n",
       " 0.07725,\n",
       " 0.01425,\n",
       " 0.00575,\n",
       " 0.02575,\n",
       " 0.00475,\n",
       " 0.030375,\n",
       " 0.23,\n",
       " 0.013125,\n",
       " 0.046875,\n",
       " 0.152,\n",
       " 0.008,\n",
       " 0.00475,\n",
       " 0.58425,\n",
       " 0.2135,\n",
       " 0.03025,\n",
       " 0.012875,\n",
       " 0.13275,\n",
       " 0.419,\n",
       " 0.006125,\n",
       " 0.2435,\n",
       " 0.2735,\n",
       " 0.0615,\n",
       " 0.149375,\n",
       " 0.218375,\n",
       " 0.229875,\n",
       " 0.03725,\n",
       " 0.01525,\n",
       " 0.436625,\n",
       " 0.249875,\n",
       " 0.093625,\n",
       " 0.029625,\n",
       " 0.440375,\n",
       " 0.029625,\n",
       " 0.05775,\n",
       " 0.03075,\n",
       " 0.009125,\n",
       " 0.1925,\n",
       " 0.089375,\n",
       " 0.02175,\n",
       " 0.21425,\n",
       " 0.083875,\n",
       " 0.007625,\n",
       " 0.015625,\n",
       " 0.170625,\n",
       " 0.01225,\n",
       " 0.007125,\n",
       " 0.046375,\n",
       " 0.00575,\n",
       " 0.39075,\n",
       " 0.0665,\n",
       " 0.047375,\n",
       " 0.00675,\n",
       " 0.498625,\n",
       " 0.008875,\n",
       " 0.135125,\n",
       " 0.00975,\n",
       " 0.0105,\n",
       " 0.004875,\n",
       " 0.006375,\n",
       " 0.0185,\n",
       " 0.43175,\n",
       " 0.105125,\n",
       " 0.03175,\n",
       " 0.032125,\n",
       " 0.0235,\n",
       " 0.007,\n",
       " 0.29475,\n",
       " 0.01525,\n",
       " 0.280625,\n",
       " 0.01575,\n",
       " 0.00625,\n",
       " 0.204875,\n",
       " 0.1095,\n",
       " 0.0075,\n",
       " 0.26425,\n",
       " 0.02175,\n",
       " 0.155,\n",
       " 0.04675,\n",
       " 0.47375,\n",
       " 0.006375,\n",
       " 0.101375,\n",
       " 0.021875,\n",
       " 0.093375,\n",
       " 0.065,\n",
       " 0.14425,\n",
       " 0.01625,\n",
       " 0.465375,\n",
       " 0.10725,\n",
       " 0.33325,\n",
       " 0.087125,\n",
       " 0.0535,\n",
       " 0.028375,\n",
       " 0.294375,\n",
       " 0.04775,\n",
       " 0.006625,\n",
       " 0.0285,\n",
       " 0.02425,\n",
       " 0.16425,\n",
       " 0.033,\n",
       " 0.0985,\n",
       " 0.071,\n",
       " 0.33575,\n",
       " 0.004375,\n",
       " 0.091875,\n",
       " 0.01325,\n",
       " 0.10075,\n",
       " 0.472,\n",
       " 0.319875,\n",
       " 0.237375,\n",
       " 0.006125,\n",
       " 0.040375,\n",
       " 0.01325,\n",
       " 0.39025,\n",
       " 0.070875,\n",
       " 0.004125,\n",
       " 0.15825,\n",
       " 0.380625,\n",
       " 0.064875,\n",
       " 0.00175,\n",
       " 0.007375,\n",
       " 0.006875,\n",
       " 0.007375,\n",
       " 0.002625,\n",
       " 0.040625,\n",
       " 0.00675,\n",
       " 0.015375,\n",
       " 0.25175,\n",
       " 0.21075,\n",
       " 0.03025,\n",
       " 0.013875,\n",
       " 0.0045,\n",
       " 0.238125,\n",
       " 0.028,\n",
       " 0.520875,\n",
       " 0.011875,\n",
       " 0.00575,\n",
       " 0.0605,\n",
       " 0.004125,\n",
       " 0.022625,\n",
       " 0.003125,\n",
       " 0.033375,\n",
       " 0.010125,\n",
       " 0.044875,\n",
       " 0.25825,\n",
       " 0.002625,\n",
       " 0.616,\n",
       " 0.00675,\n",
       " 0.011875,\n",
       " 0.05975,\n",
       " 0.005375,\n",
       " 0.002625,\n",
       " 0.158,\n",
       " 0.52825,\n",
       " 0.04075,\n",
       " 0.015,\n",
       " 0.058875,\n",
       " 0.0025,\n",
       " 0.01725,\n",
       " 0.008875,\n",
       " 0.009,\n",
       " 0.007375,\n",
       " 0.001125,\n",
       " 0.007375,\n",
       " 0.28075,\n",
       " 0.213875,\n",
       " 0.056125,\n",
       " 0.007,\n",
       " 0.09825,\n",
       " 0.167625,\n",
       " 0.48525,\n",
       " 0.283625,\n",
       " 0.038,\n",
       " 0.0045,\n",
       " 0.02075,\n",
       " 0.00725,\n",
       " 0.022625,\n",
       " 0.015875,\n",
       " 0.004375,\n",
       " 0.562125,\n",
       " 0.115875,\n",
       " 0.01975,\n",
       " 0.006375,\n",
       " 0.0025,\n",
       " 0.00975,\n",
       " 0.08825,\n",
       " 0.530625,\n",
       " 0.334625,\n",
       " 0.004125,\n",
       " 0.083375,\n",
       " 0.04175,\n",
       " 0.6275,\n",
       " 0.04275,\n",
       " 0.009125,\n",
       " 0.059625,\n",
       " 0.0175,\n",
       " 0.06925,\n",
       " 0.500625,\n",
       " 0.05075,\n",
       " 0.01075,\n",
       " 0.029375,\n",
       " 0.287125,\n",
       " 0.671,\n",
       " 0.43875,\n",
       " 0.01275,\n",
       " 0.137375,\n",
       " 0.117375,\n",
       " 0.045,\n",
       " 0.0075,\n",
       " 0.01,\n",
       " 0.2285,\n",
       " 0.107125,\n",
       " 0.157625,\n",
       " 0.45625,\n",
       " 0.026875,\n",
       " 0.006625,\n",
       " 0.107,\n",
       " 0.11625,\n",
       " 0.138625,\n",
       " 0.46375,\n",
       " 0.0015,\n",
       " 0.006375,\n",
       " 0.389875,\n",
       " 0.217625,\n",
       " 0.01375,\n",
       " 0.06325,\n",
       " 0.0145,\n",
       " 0.237875,\n",
       " 0.6635,\n",
       " 0.5895,\n",
       " 0.279875,\n",
       " 0.035375,\n",
       " 0.163125,\n",
       " 0.296375,\n",
       " 0.068375,\n",
       " 0.00275,\n",
       " 0.001875,\n",
       " 0.329375,\n",
       " 0.008625,\n",
       " 0.03525,\n",
       " 0.126875,\n",
       " 0.01625,\n",
       " 0.18575,\n",
       " 0.101875,\n",
       " 0.010375,\n",
       " 0.00625,\n",
       " 0.142125,\n",
       " 0.068625,\n",
       " 0.112625,\n",
       " 0.00575,\n",
       " 0.05175,\n",
       " 0.045,\n",
       " 0.00625,\n",
       " 0.4745,\n",
       " 0.566375,\n",
       " 0.085375,\n",
       " 0.21175,\n",
       " 0.03475,\n",
       " 0.0305,\n",
       " 0.22275,\n",
       " 0.023,\n",
       " 0.219875,\n",
       " 0.27775,\n",
       " 0.637875,\n",
       " 0.386875,\n",
       " 0.281625,\n",
       " 0.15975,\n",
       " 0.0375,\n",
       " 0.1985,\n",
       " 0.034625,\n",
       " 0.468875,\n",
       " 0.166,\n",
       " 0.046625,\n",
       " 0.100125,\n",
       " 0.007625,\n",
       " 0.074,\n",
       " 0.064875,\n",
       " 0.009125,\n",
       " 0.2885,\n",
       " 0.01125,\n",
       " 0.209125,\n",
       " 0.797875,\n",
       " 0.006125,\n",
       " 0.1315,\n",
       " 0.026625,\n",
       " 0.105125,\n",
       " 0.027375,\n",
       " 0.01175,\n",
       " 0.011875,\n",
       " 0.09375,\n",
       " 0.017375,\n",
       " 0.219625,\n",
       " 0.215125,\n",
       " 0.008375,\n",
       " 0.154625,\n",
       " 0.54675,\n",
       " 0.070875,\n",
       " 0.376625,\n",
       " 0.51425,\n",
       " 0.068875,\n",
       " 0.49375,\n",
       " 0.0865,\n",
       " 0.204,\n",
       " 0.132625,\n",
       " 0.027,\n",
       " 0.014125,\n",
       " 0.179375,\n",
       " 0.34325,\n",
       " 0.084875,\n",
       " 0.0155,\n",
       " 0.060375,\n",
       " 0.326,\n",
       " 0.023125,\n",
       " 0.034125,\n",
       " 0.018,\n",
       " 0.12575,\n",
       " 0.01675,\n",
       " 0.005125,\n",
       " 0.0185,\n",
       " 0.060875,\n",
       " 0.2615,\n",
       " 0.480625,\n",
       " 0.006375,\n",
       " 0.113,\n",
       " 0.5695,\n",
       " 0.03175,\n",
       " 0.003125,\n",
       " 0.189875,\n",
       " 0.00825,\n",
       " 0.007125,\n",
       " 0.04025,\n",
       " 0.140875,\n",
       " 0.00975,\n",
       " 0.078625,\n",
       " 0.19575,\n",
       " 0.0775,\n",
       " 0.04875,\n",
       " 0.074375,\n",
       " 0.23175,\n",
       " 0.208875,\n",
       " 0.158875,\n",
       " 0.06875,\n",
       " 0.004875,\n",
       " 0.04925,\n",
       " 0.1445,\n",
       " 0.019,\n",
       " 0.0355,\n",
       " 0.118375,\n",
       " 0.00575]"
      ]
     },
     "execution_count": 64,
     "metadata": {},
     "output_type": "execute_result"
    }
   ],
   "source": [
    "afs"
   ]
  },
  {
   "cell_type": "code",
   "execution_count": 67,
   "metadata": {},
   "outputs": [
    {
     "data": {
      "text/plain": [
       "2.512277692700357"
      ]
     },
     "execution_count": 67,
     "metadata": {},
     "output_type": "execute_result"
    }
   ],
   "source": [
    "0.615194/0.244875"
   ]
  },
  {
   "cell_type": "code",
   "execution_count": 73,
   "metadata": {},
   "outputs": [
    {
     "data": {
      "text/plain": [
       "-905.2395444016106"
      ]
     },
     "execution_count": 73,
     "metadata": {},
     "output_type": "execute_result"
    }
   ],
   "source": [
    "np.log(0.567920)/0.000625"
   ]
  },
  {
   "cell_type": "code",
   "execution_count": 72,
   "metadata": {},
   "outputs": [
    {
     "data": {
      "text/plain": [
       "-0.5657747152510066"
      ]
     },
     "execution_count": 72,
     "metadata": {},
     "output_type": "execute_result"
    }
   ],
   "source": [
    "np.log(0.567920)"
   ]
  },
  {
   "cell_type": "code",
   "execution_count": 79,
   "metadata": {},
   "outputs": [],
   "source": [
    "causal_inds = np.linspace(0, n_sites, m, dtype=int,endpoint=False)"
   ]
  },
  {
   "cell_type": "code",
   "execution_count": 78,
   "metadata": {},
   "outputs": [
    {
     "data": {
      "text/plain": [
       "array([      0,    1313,    2626,    3939,    5252,    6565,    7878,\n",
       "          9191,   10504,   11817,   13130,   14444,   15757,   17070,\n",
       "         18383,   19696,   21009,   22322,   23635,   24948,   26261,\n",
       "         27575,   28888,   30201,   31514,   32827,   34140,   35453,\n",
       "         36766,   38079,   39392,   40706,   42019,   43332,   44645,\n",
       "         45958,   47271,   48584,   49897,   51210,   52523,   53837,\n",
       "         55150,   56463,   57776,   59089,   60402,   61715,   63028,\n",
       "         64341,   65654,   66968,   68281,   69594,   70907,   72220,\n",
       "         73533,   74846,   76159,   77472,   78785,   80099,   81412,\n",
       "         82725,   84038,   85351,   86664,   87977,   89290,   90603,\n",
       "         91916,   93230,   94543,   95856,   97169,   98482,   99795,\n",
       "        101108,  102421,  103734,  105047,  106361,  107674,  108987,\n",
       "        110300,  111613,  112926,  114239,  115552,  116865,  118178,\n",
       "        119492,  120805,  122118,  123431,  124744,  126057,  127370,\n",
       "        128683,  129996,  131309,  132622,  133936,  135249,  136562,\n",
       "        137875,  139188,  140501,  141814,  143127,  144440,  145753,\n",
       "        147067,  148380,  149693,  151006,  152319,  153632,  154945,\n",
       "        156258,  157571,  158884,  160198,  161511,  162824,  164137,\n",
       "        165450,  166763,  168076,  169389,  170702,  172015,  173329,\n",
       "        174642,  175955,  177268,  178581,  179894,  181207,  182520,\n",
       "        183833,  185146,  186460,  187773,  189086,  190399,  191712,\n",
       "        193025,  194338,  195651,  196964,  198277,  199591,  200904,\n",
       "        202217,  203530,  204843,  206156,  207469,  208782,  210095,\n",
       "        211408,  212722,  214035,  215348,  216661,  217974,  219287,\n",
       "        220600,  221913,  223226,  224539,  225853,  227166,  228479,\n",
       "        229792,  231105,  232418,  233731,  235044,  236357,  237670,\n",
       "        238984,  240297,  241610,  242923,  244236,  245549,  246862,\n",
       "        248175,  249488,  250801,  252115,  253428,  254741,  256054,\n",
       "        257367,  258680,  259993,  261306,  262619,  263932,  265245,\n",
       "        266559,  267872,  269185,  270498,  271811,  273124,  274437,\n",
       "        275750,  277063,  278376,  279690,  281003,  282316,  283629,\n",
       "        284942,  286255,  287568,  288881,  290194,  291507,  292821,\n",
       "        294134,  295447,  296760,  298073,  299386,  300699,  302012,\n",
       "        303325,  304638,  305952,  307265,  308578,  309891,  311204,\n",
       "        312517,  313830,  315143,  316456,  317769,  319083,  320396,\n",
       "        321709,  323022,  324335,  325648,  326961,  328274,  329587,\n",
       "        330900,  332214,  333527,  334840,  336153,  337466,  338779,\n",
       "        340092,  341405,  342718,  344031,  345345,  346658,  347971,\n",
       "        349284,  350597,  351910,  353223,  354536,  355849,  357162,\n",
       "        358476,  359789,  361102,  362415,  363728,  365041,  366354,\n",
       "        367667,  368980,  370293,  371607,  372920,  374233,  375546,\n",
       "        376859,  378172,  379485,  380798,  382111,  383424,  384738,\n",
       "        386051,  387364,  388677,  389990,  391303,  392616,  393929,\n",
       "        395242,  396555,  397868,  399182,  400495,  401808,  403121,\n",
       "        404434,  405747,  407060,  408373,  409686,  410999,  412313,\n",
       "        413626,  414939,  416252,  417565,  418878,  420191,  421504,\n",
       "        422817,  424130,  425444,  426757,  428070,  429383,  430696,\n",
       "        432009,  433322,  434635,  435948,  437261,  438575,  439888,\n",
       "        441201,  442514,  443827,  445140,  446453,  447766,  449079,\n",
       "        450392,  451706,  453019,  454332,  455645,  456958,  458271,\n",
       "        459584,  460897,  462210,  463523,  464837,  466150,  467463,\n",
       "        468776,  470089,  471402,  472715,  474028,  475341,  476654,\n",
       "        477968,  479281,  480594,  481907,  483220,  484533,  485846,\n",
       "        487159,  488472,  489785,  491099,  492412,  493725,  495038,\n",
       "        496351,  497664,  498977,  500290,  501603,  502916,  504230,\n",
       "        505543,  506856,  508169,  509482,  510795,  512108,  513421,\n",
       "        514734,  516047,  517361,  518674,  519987,  521300,  522613,\n",
       "        523926,  525239,  526552,  527865,  529178,  530491,  531805,\n",
       "        533118,  534431,  535744,  537057,  538370,  539683,  540996,\n",
       "        542309,  543622,  544936,  546249,  547562,  548875,  550188,\n",
       "        551501,  552814,  554127,  555440,  556753,  558067,  559380,\n",
       "        560693,  562006,  563319,  564632,  565945,  567258,  568571,\n",
       "        569884,  571198,  572511,  573824,  575137,  576450,  577763,\n",
       "        579076,  580389,  581702,  583015,  584329,  585642,  586955,\n",
       "        588268,  589581,  590894,  592207,  593520,  594833,  596146,\n",
       "        597460,  598773,  600086,  601399,  602712,  604025,  605338,\n",
       "        606651,  607964,  609277,  610591,  611904,  613217,  614530,\n",
       "        615843,  617156,  618469,  619782,  621095,  622408,  623722,\n",
       "        625035,  626348,  627661,  628974,  630287,  631600,  632913,\n",
       "        634226,  635539,  636853,  638166,  639479,  640792,  642105,\n",
       "        643418,  644731,  646044,  647357,  648670,  649984,  651297,\n",
       "        652610,  653923,  655236,  656549,  657862,  659175,  660488,\n",
       "        661801,  663114,  664428,  665741,  667054,  668367,  669680,\n",
       "        670993,  672306,  673619,  674932,  676245,  677559,  678872,\n",
       "        680185,  681498,  682811,  684124,  685437,  686750,  688063,\n",
       "        689376,  690690,  692003,  693316,  694629,  695942,  697255,\n",
       "        698568,  699881,  701194,  702507,  703821,  705134,  706447,\n",
       "        707760,  709073,  710386,  711699,  713012,  714325,  715638,\n",
       "        716952,  718265,  719578,  720891,  722204,  723517,  724830,\n",
       "        726143,  727456,  728769,  730083,  731396,  732709,  734022,\n",
       "        735335,  736648,  737961,  739274,  740587,  741900,  743214,\n",
       "        744527,  745840,  747153,  748466,  749779,  751092,  752405,\n",
       "        753718,  755031,  756345,  757658,  758971,  760284,  761597,\n",
       "        762910,  764223,  765536,  766849,  768162,  769476,  770789,\n",
       "        772102,  773415,  774728,  776041,  777354,  778667,  779980,\n",
       "        781293,  782607,  783920,  785233,  786546,  787859,  789172,\n",
       "        790485,  791798,  793111,  794424,  795737,  797051,  798364,\n",
       "        799677,  800990,  802303,  803616,  804929,  806242,  807555,\n",
       "        808868,  810182,  811495,  812808,  814121,  815434,  816747,\n",
       "        818060,  819373,  820686,  821999,  823313,  824626,  825939,\n",
       "        827252,  828565,  829878,  831191,  832504,  833817,  835130,\n",
       "        836444,  837757,  839070,  840383,  841696,  843009,  844322,\n",
       "        845635,  846948,  848261,  849575,  850888,  852201,  853514,\n",
       "        854827,  856140,  857453,  858766,  860079,  861392,  862706,\n",
       "        864019,  865332,  866645,  867958,  869271,  870584,  871897,\n",
       "        873210,  874523,  875837,  877150,  878463,  879776,  881089,\n",
       "        882402,  883715,  885028,  886341,  887654,  888968,  890281,\n",
       "        891594,  892907,  894220,  895533,  896846,  898159,  899472,\n",
       "        900785,  902099,  903412,  904725,  906038,  907351,  908664,\n",
       "        909977,  911290,  912603,  913916,  915230,  916543,  917856,\n",
       "        919169,  920482,  921795,  923108,  924421,  925734,  927047,\n",
       "        928360,  929674,  930987,  932300,  933613,  934926,  936239,\n",
       "        937552,  938865,  940178,  941491,  942805,  944118,  945431,\n",
       "        946744,  948057,  949370,  950683,  951996,  953309,  954622,\n",
       "        955936,  957249,  958562,  959875,  961188,  962501,  963814,\n",
       "        965127,  966440,  967753,  969067,  970380,  971693,  973006,\n",
       "        974319,  975632,  976945,  978258,  979571,  980884,  982198,\n",
       "        983511,  984824,  986137,  987450,  988763,  990076,  991389,\n",
       "        992702,  994015,  995329,  996642,  997955,  999268, 1000581,\n",
       "       1001894, 1003207, 1004520, 1005833, 1007146, 1008460, 1009773,\n",
       "       1011086, 1012399, 1013712, 1015025, 1016338, 1017651, 1018964,\n",
       "       1020277, 1021591, 1022904, 1024217, 1025530, 1026843, 1028156,\n",
       "       1029469, 1030782, 1032095, 1033408, 1034722, 1036035, 1037348,\n",
       "       1038661, 1039974, 1041287, 1042600, 1043913, 1045226, 1046539,\n",
       "       1047853, 1049166, 1050479, 1051792, 1053105, 1054418, 1055731,\n",
       "       1057044, 1058357, 1059670, 1060983, 1062297, 1063610, 1064923,\n",
       "       1066236, 1067549, 1068862, 1070175, 1071488, 1072801, 1074114,\n",
       "       1075428, 1076741, 1078054, 1079367, 1080680, 1081993, 1083306,\n",
       "       1084619, 1085932, 1087245, 1088559, 1089872, 1091185, 1092498,\n",
       "       1093811, 1095124, 1096437, 1097750, 1099063, 1100376, 1101690,\n",
       "       1103003, 1104316, 1105629, 1106942, 1108255, 1109568, 1110881,\n",
       "       1112194, 1113507, 1114821, 1116134, 1117447, 1118760, 1120073,\n",
       "       1121386, 1122699, 1124012, 1125325, 1126638, 1127952, 1129265,\n",
       "       1130578, 1131891, 1133204, 1134517, 1135830, 1137143, 1138456,\n",
       "       1139769, 1141083, 1142396, 1143709, 1145022, 1146335, 1147648,\n",
       "       1148961, 1150274, 1151587, 1152900, 1154214, 1155527, 1156840,\n",
       "       1158153, 1159466, 1160779, 1162092, 1163405, 1164718, 1166031,\n",
       "       1167345, 1168658, 1169971, 1171284, 1172597, 1173910, 1175223,\n",
       "       1176536, 1177849, 1179162, 1180476, 1181789, 1183102, 1184415,\n",
       "       1185728, 1187041, 1188354, 1189667, 1190980, 1192293, 1193606,\n",
       "       1194920, 1196233, 1197546, 1198859, 1200172, 1201485, 1202798,\n",
       "       1204111, 1205424, 1206737, 1208051, 1209364, 1210677, 1211990,\n",
       "       1213303, 1214616, 1215929, 1217242, 1218555, 1219868, 1221182,\n",
       "       1222495, 1223808, 1225121, 1226434, 1227747, 1229060, 1230373,\n",
       "       1231686, 1232999, 1234313, 1235626, 1236939, 1238252, 1239565,\n",
       "       1240878, 1242191, 1243504, 1244817, 1246130, 1247444, 1248757,\n",
       "       1250070, 1251383, 1252696, 1254009, 1255322, 1256635, 1257948,\n",
       "       1259261, 1260575, 1261888, 1263201, 1264514, 1265827, 1267140,\n",
       "       1268453, 1269766, 1271079, 1272392, 1273706, 1275019, 1276332,\n",
       "       1277645, 1278958, 1280271, 1281584, 1282897, 1284210, 1285523,\n",
       "       1286837, 1288150, 1289463, 1290776, 1292089, 1293402, 1294715,\n",
       "       1296028, 1297341, 1298654, 1299968, 1301281, 1302594, 1303907,\n",
       "       1305220, 1306533, 1307846, 1309159, 1310472, 1311785])"
      ]
     },
     "execution_count": 78,
     "metadata": {},
     "output_type": "execute_result"
    }
   ],
   "source": [
    "causal_inds"
   ]
  },
  {
   "cell_type": "code",
   "execution_count": null,
   "metadata": {},
   "outputs": [],
   "source": []
  }
 ],
 "metadata": {
  "kernelspec": {
   "display_name": "Python 3",
   "language": "python",
   "name": "python3"
  },
  "language_info": {
   "codemirror_mode": {
    "name": "ipython",
    "version": 3
   },
   "file_extension": ".py",
   "mimetype": "text/x-python",
   "name": "python",
   "nbconvert_exporter": "python",
   "pygments_lexer": "ipython3",
   "version": "3.7.3"
  }
 },
 "nbformat": 4,
 "nbformat_minor": 2
}
