{
 "cells": [
  {
   "cell_type": "code",
   "execution_count": 4,
   "metadata": {},
   "outputs": [],
   "source": [
    "import matplotlib.pyplot as plt\n",
    "import matplotlib\n",
    "import seaborn as sns\n",
    "import sys\n",
    "import gzip\n",
    "import multiprocessing as mp\n",
    "import glob\n",
    "import numpy as np\n",
    "import h5py\n",
    "from scipy import stats\n",
    "import msprime\n",
    "import pandas as pd"
   ]
  },
  {
   "cell_type": "code",
   "execution_count": 25,
   "metadata": {},
   "outputs": [],
   "source": [
    "sns.set_context(\"notebook\")\n",
    "sns.set_style(\"ticks\")"
   ]
  },
  {
   "cell_type": "code",
   "execution_count": 6,
   "metadata": {},
   "outputs": [],
   "source": [
    "sys.path.insert(0,\"/Users/taylorcavazos/repos/Local_Ancestry_PRS/code/\")"
   ]
  },
  {
   "cell_type": "code",
   "execution_count": 7,
   "metadata": {},
   "outputs": [],
   "source": [
    "def load_data(sim):\n",
    "    sim_dict = {}\n",
    "    \n",
    "    prs_anc = pd.read_csv(\"../results/sim{}/admix_afr_amer_m_1000_h2_0.67_r2_0.2_p_0.01.prop.anc.PRS\".format(sim),sep=\"\\t\",index_col=0)\n",
    "    total_anc = pd.read_csv(\"../results/sim{}/admix_afr_amer.prop.anc\".format(sim),sep=\"\\t\",index_col=0)\n",
    "    sim_dict[\"PRS_ANC\"] = prs_anc\n",
    "    sim_dict[\"TOTAL_ANC\"] = total_anc\n",
    "    \n",
    "    sum_stats = pd.read_csv(\"../results/sim{}/emp_prs/comm_maf_0.01_sum_stats_m_1000_h2_0.67.txt\".format(sim),index_col=0,sep=\"\\t\")\n",
    "    emp_prs = h5py.File(\"../results/sim{}/emp_prs/emp_prs_m_1000_h2_0.67_ld_CEU_GWAS_r2_0.2_p0.01.hdf5\".format(sim),\"r\")\n",
    "    prs_vars = np.loadtxt(\"../results/sim{}/emp_prs/clumped_prs_vars_m_1000_h2_0.67_ld_CEU_GWAS_r2_0.2_p0.01.txt\".format(sim))\n",
    "    sim_dict[\"SS\"] = sum_stats\n",
    "    sim_dict[\"EMP_PRS\"] = emp_prs\n",
    "    sim_dict[\"PRS_VARS\"] = prs_vars\n",
    "    \n",
    "    true_prs = h5py.File(\"../results/sim{}/true_prs/prs_m_1000_h2_0.67.hdf5\".format(sim),\"r\")\n",
    "    labels = h5py.File(\"../results/sim{}/true_prs/train_test_m_1000_h2_0.67.hdf5\".format(sim),\"r\")\n",
    "    sim_dict[\"TRUE_PRS\"] = true_prs\n",
    "    sim_dict[\"LABELS\"] = labels\n",
    "    \n",
    "    return sim_dict"
   ]
  },
  {
   "cell_type": "code",
   "execution_count": 8,
   "metadata": {},
   "outputs": [],
   "source": [
    "sim = load_data(2)"
   ]
  },
  {
   "cell_type": "code",
   "execution_count": 9,
   "metadata": {},
   "outputs": [
    {
     "data": {
      "text/plain": [
       "dict_keys(['PRS_ANC', 'TOTAL_ANC', 'SS', 'EMP_PRS', 'PRS_VARS', 'TRUE_PRS', 'LABELS'])"
      ]
     },
     "execution_count": 9,
     "metadata": {},
     "output_type": "execute_result"
    }
   ],
   "source": [
    "sim.keys()"
   ]
  },
  {
   "cell_type": "markdown",
   "metadata": {},
   "source": [
    "# Check LD between causal inds"
   ]
  },
  {
   "cell_type": "code",
   "execution_count": null,
   "metadata": {},
   "outputs": [],
   "source": [
    "from output_emp_prs import *"
   ]
  },
  {
   "cell_type": "code",
   "execution_count": null,
   "metadata": {},
   "outputs": [],
   "source": [
    "tree_LD = msprime.load(\"../results/sim2/trees/tree_CEU_GWAS_nofilt.hdf\")\n",
    "var2mut, mut2var = {}, {}\n",
    "for mut in tree_LD.mutations():\n",
    "    mut2var[mut.id]=mut.site\n",
    "    var2mut[mut.site]=mut.id"
   ]
  },
  {
   "cell_type": "code",
   "execution_count": null,
   "metadata": {},
   "outputs": [],
   "source": [
    "causal_inds = np.linspace(0, tree_LD.num_sites, 1000, dtype=int,endpoint=False)"
   ]
  },
  {
   "cell_type": "code",
   "execution_count": null,
   "metadata": {},
   "outputs": [],
   "source": [
    "tree_LD_filt = tree_LD.simplify(filter_sites=True)\n",
    "causal_inds_ld_pres = [var for var in causal_inds if var in var2mut.keys()]\n",
    "ld_struct = find_ld_sites(tree_LD_filt,causal_inds_ld_pres,var2mut,mut2var)"
   ]
  },
  {
   "cell_type": "code",
   "execution_count": null,
   "metadata": {},
   "outputs": [],
   "source": [
    "high_LD = {}\n",
    "for key,val in ld_struct.items():\n",
    "    for elem in val:\n",
    "        if elem in causal_inds:\n",
    "            if high_LD.get(key) == None:\n",
    "                high_LD[key] = [elem]\n",
    "            else: high_LD.get(key).append(elem)"
   ]
  },
  {
   "cell_type": "code",
   "execution_count": null,
   "metadata": {},
   "outputs": [],
   "source": [
    "high_LD"
   ]
  },
  {
   "cell_type": "markdown",
   "metadata": {},
   "source": [
    "A couple variants may be in LD with each other, but this is very few. Could probably prevent by switching to chromosome 20"
   ]
  },
  {
   "cell_type": "markdown",
   "metadata": {},
   "source": [
    "# Calculate inflation factor"
   ]
  },
  {
   "cell_type": "code",
   "execution_count": 10,
   "metadata": {},
   "outputs": [],
   "source": [
    "from scipy.stats import chi2\n",
    "from scipy import stats"
   ]
  },
  {
   "cell_type": "code",
   "execution_count": 11,
   "metadata": {},
   "outputs": [],
   "source": [
    "chisq = chi2.ppf(1-sim[\"SS\"][\"p-value\"],1)"
   ]
  },
  {
   "cell_type": "code",
   "execution_count": 12,
   "metadata": {},
   "outputs": [],
   "source": [
    "lam_gc = np.median(chisq)/chi2.ppf(0.5,1)"
   ]
  },
  {
   "cell_type": "code",
   "execution_count": 21,
   "metadata": {},
   "outputs": [],
   "source": [
    "pvals = sim[\"SS\"][\"p-value\"].values"
   ]
  },
  {
   "cell_type": "code",
   "execution_count": 22,
   "metadata": {},
   "outputs": [],
   "source": [
    "expected_p = (stats.rankdata(pvals,method=\"ordinal\")+0.5)/(len(pvals)+1)"
   ]
  },
  {
   "cell_type": "code",
   "execution_count": 31,
   "metadata": {},
   "outputs": [
    {
     "name": "stderr",
     "output_type": "stream",
     "text": [
      "/Users/taylorcavazos/anaconda3/envs/localAnc/lib/python3.7/site-packages/ipykernel_launcher.py:2: RuntimeWarning: divide by zero encountered in log10\n",
      "  \n"
     ]
    },
    {
     "data": {
      "image/png": "[encoded data removed]",
      "text/plain": [
       "<Figure size 360x360 with 1 Axes>"
      ]
     },
     "metadata": {},
     "output_type": "display_data"
    }
   ],
   "source": [
    "plt.figure(figsize=(5,5))\n",
    "plt.scatter(-1*np.log10(expected_p), -1*np.log10(pvals),s=20)\n",
    "plt.plot(sorted(-1*np.log10(expected_p)),sorted(-1*np.log10(expected_p)),c=\"black\",linestyle=\"--\")\n",
    "plt.text(2.5,200,\"$\\lambda$ = {}\".format(np.round(lam_gc,2)),fontsize=20)\n",
    "plt.xlabel(\"Expected -log10 P-value\",fontsize=16)\n",
    "plt.ylabel(\"Observed -log10 P-Value\",fontsize=16)\n",
    "sns.despine()\n",
    "plt.savefig(\"/Users/taylorcavazos/Desktop/sim2_qq_plot.png\",type=\"png\",bbox_inches=\"tight\",dpi=400)\n",
    "plt.show()"
   ]
  },
  {
   "cell_type": "code",
   "execution_count": null,
   "metadata": {},
   "outputs": [],
   "source": []
  }
 ],
 "metadata": {
  "kernelspec": {
   "display_name": "Python 3",
   "language": "python",
   "name": "python3"
  },
  "language_info": {
   "codemirror_mode": {
    "name": "ipython",
    "version": 3
   },
   "file_extension": ".py",
   "mimetype": "text/x-python",
   "name": "python",
   "nbconvert_exporter": "python",
   "pygments_lexer": "ipython3",
   "version": "3.7.3"
  }
 },
 "nbformat": 4,
 "nbformat_minor": 2
}
