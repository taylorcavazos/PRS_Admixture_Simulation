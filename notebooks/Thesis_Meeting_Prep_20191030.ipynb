{
 "cells": [
  {
   "cell_type": "markdown",
   "metadata": {},
   "source": [
    "# Working Ideas for Thesis Presentation"
   ]
  },
  {
   "cell_type": "code",
   "execution_count": 1,
   "metadata": {},
   "outputs": [],
   "source": [
    "import numpy as np\n",
    "import seaborn as sns\n",
    "import matplotlib.pyplot as plt\n",
    "import pandas as pd\n",
    "import msprime\n",
    "import tqdm"
   ]
  },
  {
   "cell_type": "code",
   "execution_count": 2,
   "metadata": {},
   "outputs": [],
   "source": [
    "sns.set_context(\"talk\")\n",
    "sns.set_style(\"whitegrid\")"
   ]
  },
  {
   "cell_type": "code",
   "execution_count": 3,
   "metadata": {},
   "outputs": [],
   "source": [
    "tree = msprime.load(\"../results/sim51/tree_all.hdf\")"
   ]
  },
  {
   "cell_type": "code",
   "execution_count": 4,
   "metadata": {},
   "outputs": [],
   "source": [
    "tree_yri = msprime.load(\"../results/sim51/tree_YRI_GWAS_nofilt.hdf\")"
   ]
  },
  {
   "cell_type": "code",
   "execution_count": 5,
   "metadata": {},
   "outputs": [],
   "source": [
    "def compute_maf(path_tree):\n",
    "    tree = msprime.load(path_tree)\n",
    "    n_sites = tree.num_sites\n",
    "    maf = []\n",
    "    pbar = tqdm.tqdm(total=tree.num_sites)\n",
    "    for variant in tree.variants():\n",
    "        genos_diploid = return_diploid_genos(variant.genotypes,tree)\n",
    "        freq = np.sum(genos_diploid,axis=1)/(2*genos_diploid.shape[1])\n",
    "        if freq < 0.5: maf.append(freq)\n",
    "        else: maf.append(1-freq)\n",
    "        pbar.update(1)\n",
    "    return maf"
   ]
  },
  {
   "cell_type": "code",
   "execution_count": 6,
   "metadata": {},
   "outputs": [],
   "source": [
    "def return_diploid_genos(variant,tree):\n",
    "    genos_diploid = np.sum(variant.reshape([1,int(tree.num_samples/2),2]),axis=-1)\n",
    "    return genos_diploid"
   ]
  },
  {
   "cell_type": "raw",
   "metadata": {},
   "source": [
    "mafs_yri = compute_maf(\"../results/sim51/tree_YRI_GWAS_nofilt.hdf\")"
   ]
  },
  {
   "cell_type": "raw",
   "metadata": {},
   "source": [
    "np.savetxt(\"../results/sim51/emp_prs/maf_yri.txt\",mafs_yri)"
   ]
  },
  {
   "cell_type": "raw",
   "metadata": {},
   "source": [
    "mafs = np.loadtxt(\"../results/sim51/emp_prs/maf.txt\")\n",
    "mafs_yri = np.loadtxt(\"../results/sim51/emp_prs/maf_yri.txt\")"
   ]
  },
  {
   "cell_type": "raw",
   "metadata": {},
   "source": [
    "mafs_yri = [elem[0] for elem in mafs_yri]\n"
   ]
  },
  {
   "cell_type": "raw",
   "metadata": {},
   "source": [
    "mafs_yri = np.array(mafs_yri)"
   ]
  },
  {
   "cell_type": "code",
   "execution_count": 7,
   "metadata": {},
   "outputs": [],
   "source": [
    "num_variants = len(np.loadtxt(\"../results/sim51/emp_prs/maf.txt\"))\n",
    "causal_inds = np.linspace(0, num_variants, 500, dtype=int,endpoint=False)\n",
    "sum_stats_ceu = pd.read_csv(\"../results/sim51/emp_prs/comm_maf_0.01_sum_stats_m_500_h2_0.67.txt\",sep=\"\\t\",index_col=0)\n",
    "sum_stats_yri = pd.read_csv(\"../results/sim51/emp_prs/yri_comm_maf_0.01_sum_stats_m_500_h2_0.67.txt\",sep=\"\\t\",index_col=0)"
   ]
  },
  {
   "cell_type": "code",
   "execution_count": 8,
   "metadata": {},
   "outputs": [],
   "source": [
    "clumped_prs = np.loadtxt(\"../results/sim51/emp_prs/clumped_prs_vars_m_500_h2_0.67_ld_CEU_GWAS_r2_0.2_p0.01.txt\")"
   ]
  },
  {
   "cell_type": "code",
   "execution_count": 9,
   "metadata": {},
   "outputs": [],
   "source": [
    "# np.random.seed(53195)\n",
    "# rand_choice = np.random.choice(causal_inds)\n",
    "rand_choice = 224089"
   ]
  },
  {
   "cell_type": "raw",
   "metadata": {},
   "source": [
    "temp = get_LD(tree, rand_choice, r2_threshold=0.7)"
   ]
  },
  {
   "cell_type": "raw",
   "metadata": {
    "scrolled": true
   },
   "source": [
    "var_c = []\n",
    "for v in list(temp.values())[0]:\n",
    "    if v in clumped_prs:\n",
    "        var_c.append(v)\n",
    "print(var_c)"
   ]
  },
  {
   "cell_type": "code",
   "execution_count": null,
   "metadata": {},
   "outputs": [],
   "source": []
  },
  {
   "cell_type": "raw",
   "metadata": {},
   "source": [
    "clumped_prs"
   ]
  },
  {
   "cell_type": "code",
   "execution_count": null,
   "metadata": {},
   "outputs": [],
   "source": []
  },
  {
   "cell_type": "raw",
   "metadata": {},
   "source": [
    "sum_stats_ceu.loc[223709,:]"
   ]
  },
  {
   "cell_type": "raw",
   "metadata": {
    "scrolled": true
   },
   "source": [
    "sum_stats_ceu.loc[var_c,:].sort_values(by=\"p-value\")"
   ]
  },
  {
   "cell_type": "raw",
   "metadata": {},
   "source": [
    "eur_selected = sum_stats_ceu.loc[var_c,:].sort_values(by=\"p-value\").index"
   ]
  },
  {
   "cell_type": "raw",
   "metadata": {},
   "source": [
    "def get_LD(tree,focal_mutation,r2_threshold=0, max_distance=1e6):\n",
    "    results = {}\n",
    "    ld_calc = msprime.LdCalculator(tree)\n",
    "    a = ld_calc.get_r2_array(\n",
    "        focal_mutation, max_distance=max_distance,\n",
    "        direction=msprime.REVERSE)\n",
    "    a[np.isnan(a)] = 0\n",
    "    rev_indexes = focal_mutation - np.nonzero(a >= r2_threshold)[0] - 1\n",
    "    a = ld_calc.get_r2_array(\n",
    "        focal_mutation, max_distance=max_distance,\n",
    "        direction=msprime.FORWARD)\n",
    "    a[np.isnan(a)] = 0\n",
    "    fwd_indexes = focal_mutation + np.nonzero(a >= r2_threshold)[0] + 1\n",
    "    indexes = np.concatenate((rev_indexes[::-1], fwd_indexes))\n",
    "    results[focal_mutation] = indexes\n",
    "    return results"
   ]
  },
  {
   "cell_type": "code",
   "execution_count": 10,
   "metadata": {},
   "outputs": [],
   "source": [
    "import threading,math"
   ]
  },
  {
   "cell_type": "raw",
   "metadata": {},
   "source": [
    "def find_ld_sites(tree_sequence,\n",
    "                  focal_vars,\n",
    "                  var2mut_dict,mut2var_dict,\n",
    "                  max_distance=1e6,\n",
    "                  r2_threshold=0,\n",
    "                  num_threads=8):\n",
    "    results = {}\n",
    "    num_threads = min(num_threads, len(focal_vars))\n",
    "\n",
    "    def thread_worker(thread_index):\n",
    "        ld_calc = msprime.LdCalculator(tree_sequence)\n",
    "        chunk_size = int(math.ceil(len(focal_vars) / num_threads))\n",
    "        start = thread_index * chunk_size\n",
    "        for focal_var in focal_vars[start: start + chunk_size]:\n",
    "            focal_mutation = var2mut_dict.get(focal_var)\n",
    "            if focal_mutation != focal_var: print(\"SHIT\")\n",
    "            np.seterr(under='ignore')\n",
    "            a = ld_calc.get_r2_array(\n",
    "                focal_mutation, max_distance=max_distance,\n",
    "                direction=msprime.REVERSE)\n",
    "            a[np.isnan(a)] = 0\n",
    "            rev_indexes = focal_mutation - np.nonzero(a >= r2_threshold)[0] - 1\n",
    "            b = ld_calc.get_r2_array(\n",
    "                focal_mutation, max_distance=max_distance,\n",
    "                direction=msprime.FORWARD)\n",
    "            b[np.isnan(b)] = 0\n",
    "            fwd_indexes = focal_mutation + np.nonzero(b >= r2_threshold)[0] + 1\n",
    "            \n",
    "            indexes = np.concatenate((rev_indexes[::-1], fwd_indexes))\n",
    "            r2_vals = list(b[::-1])+list(a)\n",
    "            \n",
    "            indexes_new = []\n",
    "            r2_vals_new = []\n",
    "            for ind in range(len(indexes)):\n",
    "                if mut2var_dict.get(ind)!= None:\n",
    "                    indexes_new.append(mut2var_dict.get(indexes[ind]))\n",
    "                    r2_vals_new.append(r2_vals[ind])\n",
    "                    \n",
    "\n",
    "\n",
    "            results[mut2var_dict.get(focal_mutation)] = dict(zip(indexes_new,r2_vals_new))\n",
    "    threads = [\n",
    "    threading.Thread(target=thread_worker, args=(j,)) for j in range(num_threads)]\n",
    "    for t in threads:\n",
    "        t.start()\n",
    "    for t in threads:\n",
    "        t.join()\n",
    "    return results"
   ]
  },
  {
   "cell_type": "code",
   "execution_count": 11,
   "metadata": {},
   "outputs": [],
   "source": [
    "def find_ld_sites(tree_sequence,\n",
    "                  focal_vars,\n",
    "                  var2mut_dict,mut2var_dict,\n",
    "                  max_distance=1e6,\n",
    "                  r2_threshold=0,\n",
    "                  num_threads=8):\n",
    "    results = {}\n",
    "    num_threads = min(num_threads, len(focal_vars))\n",
    "\n",
    "    def thread_worker(thread_index):\n",
    "        ld_calc = msprime.LdCalculator(tree_sequence)\n",
    "        chunk_size = int(math.ceil(len(focal_vars) / num_threads))\n",
    "        start = thread_index * chunk_size\n",
    "        for focal_var in focal_vars[start: start + chunk_size]:\n",
    "            focal_mutation = focal_var\n",
    "            np.seterr(under='ignore')\n",
    "            a = ld_calc.get_r2_array(\n",
    "                focal_mutation, max_distance=max_distance,\n",
    "                direction=msprime.REVERSE)\n",
    "            a[np.isnan(a)] = 0\n",
    "            rev_indexes = focal_mutation - np.nonzero(a >= r2_threshold)[0] - 1\n",
    "            b = ld_calc.get_r2_array(\n",
    "                focal_mutation, max_distance=max_distance,\n",
    "                direction=msprime.FORWARD)\n",
    "            b[np.isnan(b)] = 0\n",
    "            print(b)\n",
    "            print(focal_mutation)\n",
    "            fwd_indexes = focal_mutation + np.nonzero(b >= r2_threshold)[0] + 1\n",
    "            print(fwd_indexes)\n",
    "            indexes = np.concatenate((rev_indexes[::-1], fwd_indexes))\n",
    "#             indexes = [mut2var_dict.get(ind) for ind in indexes if mut2var_dict.get(ind)!=None]\n",
    "            print(np.nonzero(a>=r2_threshold))\n",
    "            r2_vals = list(b[::-1])+list(a)\n",
    "\n",
    "            results[focal_mutation] = dict(zip(indexes,r2_vals))\n",
    "    threads = [\n",
    "    threading.Thread(target=thread_worker, args=(j,)) for j in range(num_threads)]\n",
    "    for t in threads:\n",
    "        t.start()\n",
    "    for t in threads:\n",
    "        t.join()\n",
    "    return results"
   ]
  },
  {
   "cell_type": "code",
   "execution_count": 4,
   "metadata": {},
   "outputs": [],
   "source": [
    "s = msprime.simulate(100, recombination_rate=10, mutation_rate=20,\n",
    "            random_seed=1)"
   ]
  },
  {
   "cell_type": "code",
   "execution_count": 5,
   "metadata": {},
   "outputs": [],
   "source": [
    "ld_calc = msprime.LdCalculator(s)"
   ]
  },
  {
   "cell_type": "code",
   "execution_count": 6,
   "metadata": {},
   "outputs": [
    {
     "data": {
      "text/plain": [
       "0.6767676767676769"
      ]
     },
     "execution_count": 6,
     "metadata": {},
     "output_type": "execute_result"
    }
   ],
   "source": [
    "ld_calc.get_r2_matrix()[1,2]"
   ]
  },
  {
   "cell_type": "code",
   "execution_count": 7,
   "metadata": {},
   "outputs": [
    {
     "data": {
      "text/plain": [
       "0.6767676767676769"
      ]
     },
     "execution_count": 7,
     "metadata": {},
     "output_type": "execute_result"
    }
   ],
   "source": [
    "ld_calc.get_r2_matrix()[2,1]"
   ]
  },
  {
   "cell_type": "code",
   "execution_count": 8,
   "metadata": {},
   "outputs": [],
   "source": [
    "focal_mutation = 0\n",
    "max_distance=10\n",
    "r2_threshold=0\n",
    "np.seterr(under='ignore')\n",
    "a = ld_calc.get_r2_array(\n",
    "    focal_mutation, max_distance=max_distance,\n",
    "    direction=msprime.REVERSE)\n",
    "a[np.isnan(a)] = 0\n",
    "a = a.copy()\n",
    "rev_indexes = focal_mutation - np.nonzero(a >= r2_threshold)[0] - 1\n",
    "b = ld_calc.get_r2_array(\n",
    "    focal_mutation, max_distance=max_distance,\n",
    "    direction=msprime.FORWARD)\n",
    "b[np.isnan(b)] = 0\n",
    "fwd_indexes = focal_mutation + np.nonzero(b >= r2_threshold)[0] + 1\n",
    "indexes = np.concatenate((rev_indexes[::-1], fwd_indexes))\n"
   ]
  },
  {
   "cell_type": "code",
   "execution_count": 9,
   "metadata": {},
   "outputs": [
    {
     "data": {
      "text/plain": [
       "array([], dtype=float64)"
      ]
     },
     "execution_count": 9,
     "metadata": {},
     "output_type": "execute_result"
    }
   ],
   "source": [
    "a"
   ]
  },
  {
   "cell_type": "code",
   "execution_count": 10,
   "metadata": {
    "scrolled": true
   },
   "outputs": [
    {
     "data": {
      "text/plain": [
       "0.6144578313253012"
      ]
     },
     "execution_count": 10,
     "metadata": {},
     "output_type": "execute_result"
    }
   ],
   "source": [
    "b[0]"
   ]
  },
  {
   "cell_type": "code",
   "execution_count": 11,
   "metadata": {},
   "outputs": [
    {
     "data": {
      "text/plain": [
       "array([0.61445783, 0.4158452 , 0.0493167 , 0.61445783, 0.61445783])"
      ]
     },
     "execution_count": 11,
     "metadata": {},
     "output_type": "execute_result"
    }
   ],
   "source": [
    "b[0:5]"
   ]
  },
  {
   "cell_type": "code",
   "execution_count": 12,
   "metadata": {},
   "outputs": [
    {
     "data": {
      "text/plain": [
       "array([], dtype=float64)"
      ]
     },
     "execution_count": 12,
     "metadata": {},
     "output_type": "execute_result"
    }
   ],
   "source": [
    "a[::-1]"
   ]
  },
  {
   "cell_type": "code",
   "execution_count": 13,
   "metadata": {},
   "outputs": [
    {
     "data": {
      "text/plain": [
       "array([0.61445783, 0.4158452 , 0.0493167 , 0.61445783, 0.61445783])"
      ]
     },
     "execution_count": 13,
     "metadata": {},
     "output_type": "execute_result"
    }
   ],
   "source": [
    "b[0:5]"
   ]
  },
  {
   "cell_type": "code",
   "execution_count": 15,
   "metadata": {},
   "outputs": [],
   "source": [
    "focal_mutation = 1\n",
    "max_distance=10\n",
    "r2_threshold=0\n",
    "np.seterr(under='ignore')\n",
    "a = ld_calc.get_r2_array(\n",
    "    focal_mutation, max_distance=max_distance,\n",
    "    direction=msprime.REVERSE)\n",
    "a[np.isnan(a)] = 0\n",
    "rev_indexes = focal_mutation - np.nonzero(a >= r2_threshold)[0] - 1\n",
    "b = ld_calc.get_r2_array(\n",
    "    focal_mutation, max_distance=max_distance,\n",
    "    direction=msprime.FORWARD)\n",
    "b[np.isnan(b)] = 0\n",
    "fwd_indexes = focal_mutation + np.nonzero(b >= r2_threshold)[0] + 1\n",
    "indexes = np.concatenate((rev_indexes[::-1], fwd_indexes))"
   ]
  },
  {
   "cell_type": "code",
   "execution_count": 16,
   "metadata": {},
   "outputs": [],
   "source": [
    "def get_dicts(tree_LD):\n",
    "    var2mut, mut2var = {}, {}\n",
    "    for mut in tree_LD.mutations():\n",
    "        mut2var[mut.id]=mut.site\n",
    "        var2mut[mut.site]=mut.id\n",
    "    tree_LD_filt = tree_LD.simplify(filter_sites=True)\n",
    "    return tree_LD_filt, var2mut, mut2var"
   ]
  },
  {
   "cell_type": "code",
   "execution_count": null,
   "metadata": {},
   "outputs": [],
   "source": [
    "tree_ceu_ld, var2mut, mut2var = get_dicts(tree)\n",
    "ld_struct = find_ld_sites(tree,[rand_choice],var2mut, mut2var,max_distance=1e3)"
   ]
  },
  {
   "cell_type": "raw",
   "metadata": {},
   "source": [
    "tree_yri_ld, var2mut_yri, mut2var_yri = get_dicts(tree_yri)\n",
    "ld_struct_yri = find_ld_sites(tree_yri_ld,[rand_choice],var2mut_yri, mut2var_yri,max_distance=1e3)"
   ]
  },
  {
   "cell_type": "code",
   "execution_count": null,
   "metadata": {},
   "outputs": [],
   "source": [
    "ld_struct2_vars = list(ld_struct[rand_choice].keys())+[rand_choice]"
   ]
  },
  {
   "cell_type": "code",
   "execution_count": null,
   "metadata": {},
   "outputs": [],
   "source": [
    "ld_struct2 = find_ld_sites(tree_ceu_ld, ld_struct2_vars, var2mut,mut2var,num_threads=16,max_distance=1e3)"
   ]
  },
  {
   "cell_type": "raw",
   "metadata": {},
   "source": [
    "next(tree.variants())"
   ]
  },
  {
   "cell_type": "raw",
   "metadata": {},
   "source": [
    "import itertools"
   ]
  },
  {
   "cell_type": "raw",
   "metadata": {},
   "source": [
    "list(itertools.islice(tree.mutations(),5))"
   ]
  },
  {
   "cell_type": "raw",
   "metadata": {},
   "source": [
    "list(itertools.islice(tree_yri.mutations(),5))"
   ]
  },
  {
   "cell_type": "raw",
   "metadata": {},
   "source": [
    "ld_struct2_yri_vars = list(ld_struct_yri[rand_choice].keys())+[rand_choice]\n",
    "ld_struct2_yri = find_ld_sites(tree_yri_ld, ld_struct2_yri_vars, var2mut_yri,mut2var_yri,num_threads=16,max_distance=1e3)"
   ]
  },
  {
   "cell_type": "code",
   "execution_count": null,
   "metadata": {},
   "outputs": [],
   "source": [
    "ceu_snps = []\n",
    "ceu_r2 = []\n",
    "for key,val in ld_struct.get(rand_choice).items():\n",
    "    ceu_snps.append(key)\n",
    "    ceu_r2.append(val)"
   ]
  },
  {
   "cell_type": "raw",
   "metadata": {},
   "source": [
    "yri_snps = []\n",
    "yri_r2 = []\n",
    "for key,val in ld_struct_yri.get(rand_choice).items():\n",
    "    yri_snps.append(key)\n",
    "    yri_r2.append(val)"
   ]
  },
  {
   "cell_type": "code",
   "execution_count": null,
   "metadata": {},
   "outputs": [],
   "source": [
    "ld_mat = pd.DataFrame(index=ceu_snps,columns=ceu_snps)"
   ]
  },
  {
   "cell_type": "raw",
   "metadata": {},
   "source": [
    "ld_mat_yri = pd.DataFrame(index=yri_snps,columns=yri_snps)"
   ]
  },
  {
   "cell_type": "code",
   "execution_count": null,
   "metadata": {},
   "outputs": [],
   "source": [
    "for ind in ld_mat.index:\n",
    "    for col in ld_mat.columns: \n",
    "        if ind == col:\n",
    "            ld_mat.loc[ind,col] = 1\n",
    "        else:\n",
    "            if ld_struct2[ind].get(col) != None:\n",
    "                ld_mat.loc[ind,col] = ld_struct2[ind].get(col)\n",
    "#                 ld_mat.loc[col,ind] = ld_struct2[ind].get(col)\n",
    "ld_mat = ld_mat.fillna(0)"
   ]
  },
  {
   "cell_type": "raw",
   "metadata": {},
   "source": [
    "for ind in ld_mat_yri.index:\n",
    "    for col in ld_mat_yri.columns: \n",
    "        if ind == col:\n",
    "            ld_mat_yri.loc[ind,col] = 1\n",
    "        else:\n",
    "            if ld_struct2_yri[ind].get(col) != None:\n",
    "                ld_mat_yri.loc[ind,col] = ld_struct2_yri[ind].get(col)\n",
    "                ld_mat.loc[col,ind] = ld_struct2[ind].get(col)\n",
    "ld_mat_yri = ld_mat_yri.fillna(0)"
   ]
  },
  {
   "cell_type": "raw",
   "metadata": {},
   "source": [
    "all_vars = set(list(ld_mat.index)+list(ld_mat_yri.index))"
   ]
  },
  {
   "cell_type": "raw",
   "metadata": {},
   "source": [
    "ld_mat_all = ld_mat.loc[all_vars,all_vars].fillna(0)"
   ]
  },
  {
   "cell_type": "raw",
   "metadata": {},
   "source": [
    "ld_mat_yri_all = ld_mat_yri.loc[all_vars,all_vars].fillna(0)"
   ]
  },
  {
   "cell_type": "code",
   "execution_count": null,
   "metadata": {},
   "outputs": [],
   "source": [
    "sns.heatmap(ld_mat)"
   ]
  },
  {
   "cell_type": "code",
   "execution_count": null,
   "metadata": {},
   "outputs": [],
   "source": [
    "ld_mat.loc[224053,224055]"
   ]
  },
  {
   "cell_type": "code",
   "execution_count": null,
   "metadata": {},
   "outputs": [],
   "source": [
    "ld_mat.loc[224055,224053]"
   ]
  },
  {
   "cell_type": "code",
   "execution_count": null,
   "metadata": {},
   "outputs": [],
   "source": [
    "ld_struct2.get(224053).get(224055)"
   ]
  },
  {
   "cell_type": "code",
   "execution_count": null,
   "metadata": {},
   "outputs": [],
   "source": [
    "ld_struct2.get(224055).get(224053)"
   ]
  },
  {
   "cell_type": "code",
   "execution_count": null,
   "metadata": {},
   "outputs": [],
   "source": []
  },
  {
   "cell_type": "code",
   "execution_count": null,
   "metadata": {},
   "outputs": [],
   "source": [
    "ld_mat_all"
   ]
  },
  {
   "cell_type": "code",
   "execution_count": null,
   "metadata": {},
   "outputs": [],
   "source": [
    "sns.heatmap(ld_mat_yri_all)"
   ]
  },
  {
   "cell_type": "code",
   "execution_count": null,
   "metadata": {},
   "outputs": [],
   "source": [
    "inter = set(ld_mat.index).intersection(ld_mat_yri.index)"
   ]
  },
  {
   "cell_type": "code",
   "execution_count": null,
   "metadata": {},
   "outputs": [],
   "source": [
    "sns.heatmap(ld_mat_yri.loc[inter,inter])"
   ]
  },
  {
   "cell_type": "code",
   "execution_count": null,
   "metadata": {},
   "outputs": [],
   "source": [
    "sns.heatmap(ld_mat.loc[inter,inter])"
   ]
  },
  {
   "cell_type": "raw",
   "metadata": {},
   "source": [
    "nearby_snps = get_LD(tree,rand_choice)"
   ]
  },
  {
   "cell_type": "raw",
   "metadata": {},
   "source": [
    "nearby_snps"
   ]
  },
  {
   "cell_type": "code",
   "execution_count": null,
   "metadata": {
    "scrolled": true
   },
   "outputs": [],
   "source": [
    "sub_ceu = sum_stats_ceu.reindex(ceu_snps+[rand_choice]).dropna()"
   ]
  },
  {
   "cell_type": "code",
   "execution_count": null,
   "metadata": {},
   "outputs": [],
   "source": [
    "sub_yri = sum_stats_yri.reindex(yri_snps+[rand_choice]).dropna()"
   ]
  },
  {
   "cell_type": "code",
   "execution_count": null,
   "metadata": {},
   "outputs": [],
   "source": [
    "af = pd.DataFrame(ceu_r2,index = ceu_snps)"
   ]
  },
  {
   "cell_type": "code",
   "execution_count": null,
   "metadata": {},
   "outputs": [],
   "source": [
    "af_yri = pd.DataFrame(yri_r2,index= yri_snps)"
   ]
  },
  {
   "cell_type": "code",
   "execution_count": null,
   "metadata": {},
   "outputs": [],
   "source": [
    "sub_ceu[\"LD\"] = af.iloc[:,0]"
   ]
  },
  {
   "cell_type": "code",
   "execution_count": null,
   "metadata": {},
   "outputs": [],
   "source": [
    "sub_yri[\"LD\"] = af_yri.iloc[:,0]"
   ]
  },
  {
   "cell_type": "code",
   "execution_count": null,
   "metadata": {},
   "outputs": [],
   "source": [
    "sub_ceu.loc[rand_choice,\"LD\"] =1\n",
    "sub_yri.loc[rand_choice,\"LD\"] =1"
   ]
  },
  {
   "cell_type": "code",
   "execution_count": null,
   "metadata": {},
   "outputs": [],
   "source": [
    "sub_ceu = sub_ceu.sort_index()\n",
    "sub_yri = sub_yri.sort_index()"
   ]
  },
  {
   "cell_type": "code",
   "execution_count": null,
   "metadata": {},
   "outputs": [],
   "source": [
    "sub_ceu.loc[rand_choice]"
   ]
  },
  {
   "cell_type": "code",
   "execution_count": null,
   "metadata": {
    "scrolled": true
   },
   "outputs": [],
   "source": [
    "sub_yri.loc[rand_choice]"
   ]
  },
  {
   "cell_type": "code",
   "execution_count": null,
   "metadata": {},
   "outputs": [],
   "source": [
    "ceu_afs = mafs[sub_ceu.index]"
   ]
  },
  {
   "cell_type": "code",
   "execution_count": null,
   "metadata": {},
   "outputs": [],
   "source": [
    "yri_afs = mafs_yri[sub_yri.index]"
   ]
  },
  {
   "cell_type": "code",
   "execution_count": null,
   "metadata": {
    "scrolled": true
   },
   "outputs": [],
   "source": [
    "fig,ax = plt.subplots(ncols=2,nrows=1,sharey=True,figsize=(20,5))\n",
    "s = [10*100*n for n in ceu_afs]\n",
    "ax[0].plot(sub_ceu.index,sub_ceu.OR,color=\"#178CCB\",zorder=1,alpha=0.8)\n",
    "\n",
    "\n",
    "ax[0].set_xticklabels(\"\")\n",
    "ax[0].set_title(\"European (CEU)\",fontsize=28)\n",
    "ax[0].vlines(rand_choice,sub_yri.OR.min(),sub_yri.OR.max(),linestyle=\"--\",zorder=3)\n",
    "# fig.colorbar(scat)\n",
    "# ax[0].vlines(eur_selected,sub_yri.OR.min(),sub_yri.OR.max(),linestyle=\"-\",zorder=2)\n",
    "# s = [10*3**n for n in sub_yri.OR]\n",
    "ax[1].plot(sub_yri.index,sub_yri.OR,color=\"#178CCB\",zorder=1,alpha=0.8)\n",
    "\n",
    "ax[1].set_xticklabels(\"\")\n",
    "ax[1].set_title(\"African (YRI)\",fontsize=28)\n",
    "ax[1].vlines(rand_choice,sub_yri.OR.min(),sub_yri.OR.max(),linestyle=\"--\",zorder=2)\n",
    "# ax[1].vlines(eur_selected,sub_yri.OR.min(),sub_yri.OR.max(),linestyle=\"-\",zorder=2)\n",
    "\n",
    "# fig.colorbar(scat)\n",
    "fig.text(0.5, 0, 'Genetic Position', ha='center', va='center',fontsize=28)\n",
    "fig.text(0, 0.5, 'Estimated Effect Size', ha='center', va='center',fontsize=28,rotation=90)\n",
    "fig.text(0.5, 1, 'GWAS Estimates for SNPs within 1Mb of Causal Variant', ha='center', va='center',fontsize=28)\n",
    "plt.tight_layout()\n",
    "# plt.savefig(\"/Users/taylorcavazos/Desktop/genetic_position_es.png\",dpi=800,bbox_inches=\"tight\")\n",
    "plt.show()"
   ]
  },
  {
   "cell_type": "code",
   "execution_count": null,
   "metadata": {},
   "outputs": [],
   "source": [
    "sub_ceu[\"COLOR\"]"
   ]
  },
  {
   "cell_type": "code",
   "execution_count": null,
   "metadata": {},
   "outputs": [],
   "source": [
    "import seaborn as sns"
   ]
  },
  {
   "cell_type": "code",
   "execution_count": null,
   "metadata": {},
   "outputs": [],
   "source": [
    "fig, ax = plt.subplots(figsize=(20,4))\n",
    "sns.heatmap(sub_yri[[\"LD\"]].T,vmax=0.4)\n",
    "fig.tight_layout()\n",
    "plt.show()"
   ]
  },
  {
   "cell_type": "code",
   "execution_count": null,
   "metadata": {},
   "outputs": [],
   "source": [
    "sub_ceu.loc[sub_ceu[\"LD\"]>=0.8,\"COLOR\"] = \"#e31a1c\"\n",
    "sub_ceu.loc[(sub_ceu[\"LD\"]<0.8)&(sub_ceu[\"LD\"]>=0.6),\"COLOR\"] = \"#ff7f00\"\n",
    "sub_ceu.loc[(sub_ceu[\"LD\"]<0.6)&(sub_ceu[\"LD\"]>=0.4),\"COLOR\"] = \"#b2df8a\"\n",
    "sub_ceu.loc[(sub_ceu[\"LD\"]<0.4)&(sub_ceu[\"LD\"]>=0.2),\"COLOR\"] = \"#a6cee3\"\n",
    "sub_ceu.loc[sub_ceu[\"LD\"]<0.2,\"COLOR\"] = \"#1f78b4\""
   ]
  },
  {
   "cell_type": "code",
   "execution_count": null,
   "metadata": {},
   "outputs": [],
   "source": [
    "sub1 = sub_ceu[sub_ceu[\"LD\"]>=0.8]\n",
    "sub2 =sub_ceu[(sub_ceu[\"LD\"]<0.8)&(sub_ceu[\"LD\"]>=0.6)]\n",
    "sub3 =sub_ceu[(sub_ceu[\"LD\"]<0.6)&(sub_ceu[\"LD\"]>=0.4)]\n",
    "sub4 =sub_ceu[(sub_ceu[\"LD\"]<0.4)&(sub_ceu[\"LD\"]>=0.2)]\n",
    "sub5 =sub_ceu[sub_ceu[\"LD\"]<0.2]"
   ]
  },
  {
   "cell_type": "code",
   "execution_count": null,
   "metadata": {},
   "outputs": [],
   "source": [
    "sub1"
   ]
  },
  {
   "cell_type": "code",
   "execution_count": null,
   "metadata": {},
   "outputs": [],
   "source": [
    "from pylab import *\n",
    "\n",
    "cmap = cm.get_cmap('Paired')    # PiYG\n",
    "\n",
    "for i in range(cmap.N):\n",
    "    rgb = cmap(i)[:3] # will return rgba, we take only first 3 so we get rgb\n",
    "    print(matplotlib.colors.rgb2hex(rgb))"
   ]
  },
  {
   "cell_type": "code",
   "execution_count": null,
   "metadata": {},
   "outputs": [],
   "source": []
  },
  {
   "cell_type": "code",
   "execution_count": null,
   "metadata": {},
   "outputs": [],
   "source": []
  },
  {
   "cell_type": "code",
   "execution_count": null,
   "metadata": {},
   "outputs": [],
   "source": []
  },
  {
   "cell_type": "code",
   "execution_count": null,
   "metadata": {},
   "outputs": [],
   "source": []
  },
  {
   "cell_type": "code",
   "execution_count": null,
   "metadata": {},
   "outputs": [],
   "source": []
  },
  {
   "cell_type": "code",
   "execution_count": 19,
   "metadata": {},
   "outputs": [
    {
     "name": "stdout",
     "output_type": "stream",
     "text": [
      "LD between variant 1 and variant 2 = 0.6767676767676769\n",
      "LD between variant 2 and variant 1 = 0.6767676767676769\n",
      "Absolute difference = 0.0\n"
     ]
    }
   ],
   "source": [
    "import msprime\n",
    "\n",
    "def get_ld(mutations):\n",
    "    results = {}\n",
    "    for focal_mutation in mutations:\n",
    "        a = ld_calc.r2_array(\n",
    "        focal_mutation, max_distance=10,\n",
    "        direction=msprime.REVERSE)\n",
    "        rev_indexes = focal_mutation - np.nonzero(a >= 0)[0] - 1\n",
    "        a = a.copy()\n",
    "        b = ld_calc.r2_array(\n",
    "            focal_mutation, max_distance=10,\n",
    "            direction=msprime.FORWARD)\n",
    "        fwd_indexes = focal_mutation + np.nonzero(b >= 0)[0] + 1\n",
    "        indexes = np.concatenate((rev_indexes[::-1], fwd_indexes))\n",
    "        r2_vals = list(a[::-1])+list(b)\n",
    "        results[focal_mutation] = dict(zip(indexes,r2_vals))\n",
    "    return results\n",
    "\n",
    "ts = msprime.simulate(100, recombination_rate=10, mutation_rate=20, random_seed=1)\n",
    "ld_calc = msprime.LdCalculator(ts)\n",
    "results = get_ld([1,2])\n",
    "\n",
    "ld_1_2, ld_2_1 = results.get(1).get(2), results.get(2).get(1) \n",
    "\n",
    "print(\"LD between variant 1 and variant 2 = {}\".format(ld_1_2))\n",
    "print(\"LD between variant 2 and variant 1 = {}\".format(ld_2_1))\n",
    "print(\"Absolute difference = {}\".format(abs(ld_1_2-ld_2_1)))"
   ]
  },
  {
   "cell_type": "code",
   "execution_count": 8,
   "metadata": {},
   "outputs": [
    {
     "data": {
      "text/plain": [
       "True"
      ]
     },
     "execution_count": 8,
     "metadata": {},
     "output_type": "execute_result"
    }
   ],
   "source": [
    "ld_mat = ld_calc.get_r2_matrix()\n",
    "ld_mat[1,2] == ld_mat[2,1]"
   ]
  },
  {
   "cell_type": "code",
   "execution_count": 9,
   "metadata": {},
   "outputs": [
    {
     "data": {
      "text/plain": [
       "0.6767676767676769"
      ]
     },
     "execution_count": 9,
     "metadata": {},
     "output_type": "execute_result"
    }
   ],
   "source": [
    "ld_mat[1,2]"
   ]
  },
  {
   "cell_type": "code",
   "execution_count": 10,
   "metadata": {},
   "outputs": [
    {
     "data": {
      "text/plain": [
       "0.6767676767676769"
      ]
     },
     "execution_count": 10,
     "metadata": {},
     "output_type": "execute_result"
    }
   ],
   "source": [
    "ld_mat[2,1]"
   ]
  },
  {
   "cell_type": "code",
   "execution_count": 11,
   "metadata": {},
   "outputs": [
    {
     "data": {
      "text/plain": [
       "False"
      ]
     },
     "execution_count": 11,
     "metadata": {},
     "output_type": "execute_result"
    }
   ],
   "source": [
    "focal_mutation0 = 1\n",
    "focal_mutation1 = 2\n",
    "\n",
    "a0 = ld_calc.get_r2_array(\n",
    "    focal_mutation0, max_distance=10,\n",
    "    direction=msprime.REVERSE)\n",
    "rev_indexes0 = focal_mutation0 - np.nonzero(a0 >= 0)[0] - 1\n",
    "b0 = ld_calc.get_r2_array(\n",
    "    focal_mutation0, max_distance=10,\n",
    "    direction=msprime.FORWARD)\n",
    "fwd_indexes0 = focal_mutation0 + np.nonzero(b0 >= 0)[0] + 1\n",
    "indexes0 = np.concatenate((rev_indexes0[::-1], fwd_indexes0))\n",
    "r2_vals0 = list(a0[::-1])+list(b0)\n",
    "\n",
    "dict0 = dict(zip(indexes0, r2_vals0))\n",
    "\n",
    "a1 = ld_calc.get_r2_array(\n",
    "    focal_mutation1, max_distance=10,\n",
    "    direction=msprime.REVERSE)\n",
    "rev_indexes1 = focal_mutation1 - np.nonzero(a1 >= 0)[0] - 1\n",
    "b1 = ld_calc.get_r2_array(\n",
    "    focal_mutation1, max_distance=10,\n",
    "    direction=msprime.FORWARD)\n",
    "fwd_indexes1 = focal_mutation1 + np.nonzero(b1 >= 0)[0] + 1\n",
    "indexes1= np.concatenate((rev_indexes1[::-1], fwd_indexes1))\n",
    "r2_vals1 = list(a1[::-1])+list(b1)\n",
    "\n",
    "dict1 = dict(zip(indexes1, r2_vals1))\n",
    "\n",
    "dict0.get(1) == dict1.get(0)"
   ]
  },
  {
   "cell_type": "code",
   "execution_count": 17,
   "metadata": {},
   "outputs": [],
   "source": [
    "def get_ld(focal_mutation):\n",
    "    a = ld_calc.get_r2_array(\n",
    "    focal_mutation, max_distance=1e6,\n",
    "    direction=msprime.REVERSE)\n",
    "    rev_indexes = focal_mutation - np.nonzero(a >= 0)[0] - 1\n",
    "    a = a.copy()\n",
    "    b = ld_calc.get_r2_array(\n",
    "        focal_mutation, max_distance=1e6,\n",
    "        direction=msprime.FORWARD)\n",
    "    fwd_indexes = focal_mutation + np.nonzero(b >= 0)[0] + 1\n",
    "    indexes = np.concatenate((rev_indexes[::-1], fwd_indexes))\n",
    "    r2_vals = list(a[::-1])+list(b)\n",
    "    return dict(zip(indexes,r2_vals))"
   ]
  },
  {
   "cell_type": "code",
   "execution_count": 18,
   "metadata": {},
   "outputs": [
    {
     "ename": "NameError",
     "evalue": "name 'ts' is not defined",
     "output_type": "error",
     "traceback": [
      "\u001b[0;31m---------------------------------------------------------------------------\u001b[0m",
      "\u001b[0;31mNameError\u001b[0m                                 Traceback (most recent call last)",
      "\u001b[0;32m<ipython-input-18-8cc1f5771d2f>\u001b[0m in \u001b[0;36m<module>\u001b[0;34m\u001b[0m\n\u001b[0;32m----> 1\u001b[0;31m \u001b[0mts\u001b[0m\u001b[0;34m.\u001b[0m\u001b[0mnum_sites\u001b[0m\u001b[0;34m\u001b[0m\u001b[0;34m\u001b[0m\u001b[0m\n\u001b[0m",
      "\u001b[0;31mNameError\u001b[0m: name 'ts' is not defined"
     ]
    }
   ],
   "source": [
    "ts.num_sites"
   ]
  },
  {
   "cell_type": "code",
   "execution_count": 8,
   "metadata": {},
   "outputs": [],
   "source": [
    "dict_overall = {}\n",
    "for var in ts.variants():\n",
    "    dict_overall[var.site.id] = get_ld(var.site.id)"
   ]
  },
  {
   "cell_type": "code",
   "execution_count": 9,
   "metadata": {},
   "outputs": [],
   "source": [
    "for key in dict_overall.keys():\n",
    "    if len(dict_overall.get(key)) != 406:\n",
    "        print(key)"
   ]
  },
  {
   "cell_type": "code",
   "execution_count": 10,
   "metadata": {},
   "outputs": [
    {
     "name": "stderr",
     "output_type": "stream",
     "text": [
      "100%|██████████| 407/407 [00:00<00:00, 1003.58it/s]\n"
     ]
    }
   ],
   "source": [
    "diffs = {}\n",
    "for var1 in tqdm.tqdm(range(ts.num_sites)):\n",
    "    for var2 in range(ts.num_sites):\n",
    "        if var1 != var2:\n",
    "            ld1 = dict_overall.get(var1).get(var2)\n",
    "            ld2 = dict_overall.get(var2).get(var1)\n",
    "            diff = np.absolute(ld1 - ld2)\n",
    "            vars_sort = sorted([var1,var2])\n",
    "            if (vars_sort[0],vars_sort[1]) not in diffs.keys():                \n",
    "                diffs[(vars_sort[0],vars_sort[1])] = diff"
   ]
  },
  {
   "cell_type": "code",
   "execution_count": 11,
   "metadata": {},
   "outputs": [
    {
     "data": {
      "text/plain": [
       "82621"
      ]
     },
     "execution_count": 11,
     "metadata": {},
     "output_type": "execute_result"
    }
   ],
   "source": [
    "len(diffs)"
   ]
  },
  {
   "cell_type": "code",
   "execution_count": 49,
   "metadata": {},
   "outputs": [
    {
     "data": {
      "text/plain": [
       "82824.5"
      ]
     },
     "execution_count": 49,
     "metadata": {},
     "output_type": "execute_result"
    }
   ],
   "source": [
    "(407*407)/2"
   ]
  },
  {
   "cell_type": "code",
   "execution_count": 77,
   "metadata": {},
   "outputs": [
    {
     "data": {
      "image/png": "[encoded data removed]",
      "text/plain": [
       "<Figure size 432x288 with 1 Axes>"
      ]
     },
     "metadata": {
      "needs_background": "light"
     },
     "output_type": "display_data"
    }
   ],
   "source": [
    "plt.boxplot(list(diffs.values()))\n",
    "plt.show()"
   ]
  },
  {
   "cell_type": "code",
   "execution_count": 79,
   "metadata": {},
   "outputs": [
    {
     "data": {
      "text/plain": [
       "<matplotlib.axes._subplots.AxesSubplot at 0x7f8741a000b8>"
      ]
     },
     "execution_count": 79,
     "metadata": {},
     "output_type": "execute_result"
    },
    {
     "data": {
      "image/png": "[encoded data removed]",
      "text/plain": [
       "<Figure size 432x288 with 1 Axes>"
      ]
     },
     "metadata": {
      "needs_background": "light"
     },
     "output_type": "display_data"
    }
   ],
   "source": [
    "sns.distplot(list(diffs.values()))"
   ]
  },
  {
   "cell_type": "code",
   "execution_count": 12,
   "metadata": {},
   "outputs": [],
   "source": [
    "pos = {}\n",
    "for var in ts.variants():\n",
    "    pos[var.site.id] = var.site.position"
   ]
  },
  {
   "cell_type": "code",
   "execution_count": 23,
   "metadata": {},
   "outputs": [
    {
     "data": {
      "text/plain": [
       "{0: 0.002672946369321955,\n",
       " 1: 0.0039364623415239245,\n",
       " 2: 0.006702985403230572,\n",
       " 3: 0.008293546463786917,\n",
       " 4: 0.011258158537187297,\n",
       " 5: 0.011901766152571222,\n",
       " 6: 0.012944254682954306,\n",
       " 7: 0.013289122156479377,\n",
       " 8: 0.0194264688836185,\n",
       " 9: 0.01970296219150547,\n",
       " 10: 0.02096817317638017,\n",
       " 11: 0.021103099230185683,\n",
       " 12: 0.02337006409652531,\n",
       " 13: 0.025480305036262554,\n",
       " 14: 0.026299754812831224,\n",
       " 15: 0.028760486836320015,\n",
       " 16: 0.02928403317554266,\n",
       " 17: 0.03215281253151962,\n",
       " 18: 0.03351230726554964,\n",
       " 19: 0.035660018966218274,\n",
       " 20: 0.03841658214129394,\n",
       " 21: 0.03926060065904584,\n",
       " 22: 0.040454492299915074,\n",
       " 23: 0.04180406654946376,\n",
       " 24: 0.05095349599810321,\n",
       " 25: 0.05119927417713746,\n",
       " 26: 0.05295730452053249,\n",
       " 27: 0.05360292403876699,\n",
       " 28: 0.06789033318243737,\n",
       " 29: 0.07698983000904573,\n",
       " 30: 0.08039328813614445,\n",
       " 31: 0.09247168445906456,\n",
       " 32: 0.09309508411266179,\n",
       " 33: 0.09929297855172059,\n",
       " 34: 0.09932060624467182,\n",
       " 35: 0.10922949924656083,\n",
       " 36: 0.1130971231483172,\n",
       " 37: 0.11471929420345192,\n",
       " 38: 0.12092190908260472,\n",
       " 39: 0.12504853438455735,\n",
       " 40: 0.12559588939930652,\n",
       " 41: 0.1300464961964002,\n",
       " 42: 0.13062219677358744,\n",
       " 43: 0.1309283131235982,\n",
       " 44: 0.13221227240675137,\n",
       " 45: 0.1330794585166507,\n",
       " 46: 0.13713792801673336,\n",
       " 47: 0.1393862989112274,\n",
       " 48: 0.13942767273839435,\n",
       " 49: 0.13988196668525255,\n",
       " 50: 0.14489528065386573,\n",
       " 51: 0.14546803638322342,\n",
       " 52: 0.14990861435169317,\n",
       " 53: 0.15189193017012018,\n",
       " 54: 0.1580993424862296,\n",
       " 55: 0.15855894182171798,\n",
       " 56: 0.15992144540341827,\n",
       " 57: 0.1608156063407068,\n",
       " 58: 0.16108247636766132,\n",
       " 59: 0.16211139736179342,\n",
       " 60: 0.16371045085507635,\n",
       " 61: 0.16384223582791124,\n",
       " 62: 0.16691614443513447,\n",
       " 63: 0.16703117065955733,\n",
       " 64: 0.16776514022930383,\n",
       " 65: 0.16866819168310082,\n",
       " 66: 0.1696311636786507,\n",
       " 67: 0.17000029674411427,\n",
       " 68: 0.17943448085496708,\n",
       " 69: 0.17966683636202263,\n",
       " 70: 0.18230515780109618,\n",
       " 71: 0.18836561296808682,\n",
       " 72: 0.19367830595347868,\n",
       " 73: 0.1951342180308386,\n",
       " 74: 0.19813172531661966,\n",
       " 75: 0.20181183902394834,\n",
       " 76: 0.20218091679820926,\n",
       " 77: 0.20403002107260568,\n",
       " 78: 0.21229378165448604,\n",
       " 79: 0.21742669711357593,\n",
       " 80: 0.21771056603740263,\n",
       " 81: 0.21771795828281704,\n",
       " 82: 0.21910251867919572,\n",
       " 83: 0.22312889173607336,\n",
       " 84: 0.2298656423387209,\n",
       " 85: 0.23039001784987787,\n",
       " 86: 0.23237328458304773,\n",
       " 87: 0.23376869386993349,\n",
       " 88: 0.2350730285708899,\n",
       " 89: 0.23718436186387407,\n",
       " 90: 0.2396858548323429,\n",
       " 91: 0.23988671132040618,\n",
       " 92: 0.24719949651919906,\n",
       " 93: 0.24963489968090663,\n",
       " 94: 0.25106610519372985,\n",
       " 95: 0.25805389181069105,\n",
       " 96: 0.2607798524529039,\n",
       " 97: 0.26222300053561853,\n",
       " 98: 0.273540136239555,\n",
       " 99: 0.2827981754865579,\n",
       " 100: 0.2869008738478813,\n",
       " 101: 0.2881481627889348,\n",
       " 102: 0.29214168426743264,\n",
       " 103: 0.2969251345999101,\n",
       " 104: 0.29811101682265073,\n",
       " 105: 0.2992767688524627,\n",
       " 106: 0.29981282199154424,\n",
       " 107: 0.30246763611739014,\n",
       " 108: 0.3050267044953363,\n",
       " 109: 0.30782120995978646,\n",
       " 110: 0.31117197692579296,\n",
       " 111: 0.3172830248279428,\n",
       " 112: 0.31777857557125755,\n",
       " 113: 0.3178458464008428,\n",
       " 114: 0.32112441967676303,\n",
       " 115: 0.32336721779033145,\n",
       " 116: 0.3239927804057837,\n",
       " 117: 0.326778978746156,\n",
       " 118: 0.3307289293107182,\n",
       " 119: 0.3321292935870588,\n",
       " 120: 0.33252129112514417,\n",
       " 121: 0.3336381278000581,\n",
       " 122: 0.33716011392472245,\n",
       " 123: 0.3374117434369117,\n",
       " 124: 0.33830604280355353,\n",
       " 125: 0.3443391928449273,\n",
       " 126: 0.3455619953205451,\n",
       " 127: 0.35309497440127174,\n",
       " 128: 0.3602036283554757,\n",
       " 129: 0.36120248935652677,\n",
       " 130: 0.3689878979438818,\n",
       " 131: 0.370195024536644,\n",
       " 132: 0.37460111642420985,\n",
       " 133: 0.3750257523116973,\n",
       " 134: 0.3752537241147823,\n",
       " 135: 0.38221511313659284,\n",
       " 136: 0.3829521181155421,\n",
       " 137: 0.38531082070451855,\n",
       " 138: 0.3887408258573837,\n",
       " 139: 0.3910720028470684,\n",
       " 140: 0.3953510102102374,\n",
       " 141: 0.39783173706382513,\n",
       " 142: 0.39786133685441594,\n",
       " 143: 0.40023816078363383,\n",
       " 144: 0.40079303573842606,\n",
       " 145: 0.40402228433215437,\n",
       " 146: 0.404063382710214,\n",
       " 147: 0.4045995520387644,\n",
       " 148: 0.40573980694514233,\n",
       " 149: 0.40580634272273197,\n",
       " 150: 0.40808212906308095,\n",
       " 151: 0.40886597143957126,\n",
       " 152: 0.41042426947172783,\n",
       " 153: 0.4136306467710502,\n",
       " 154: 0.41465314984656565,\n",
       " 155: 0.4157456850151475,\n",
       " 156: 0.41597195911710494,\n",
       " 157: 0.4168235211077865,\n",
       " 158: 0.4171190382900854,\n",
       " 159: 0.41778349727413844,\n",
       " 160: 0.4179117104687413,\n",
       " 161: 0.4211467167503696,\n",
       " 162: 0.4261722968971817,\n",
       " 163: 0.4284424767829478,\n",
       " 164: 0.42972543515125633,\n",
       " 165: 0.43065278507924065,\n",
       " 166: 0.4319047752996733,\n",
       " 167: 0.4363103586893977,\n",
       " 168: 0.4402394932694733,\n",
       " 169: 0.44374514389997743,\n",
       " 170: 0.444170046585615,\n",
       " 171: 0.4455437395976822,\n",
       " 172: 0.45262904388259895,\n",
       " 173: 0.4547857855945282,\n",
       " 174: 0.45486092775993164,\n",
       " 175: 0.4554241145629743,\n",
       " 176: 0.4639343070025612,\n",
       " 177: 0.46420827570259526,\n",
       " 178: 0.46550019556574374,\n",
       " 179: 0.4681748701618372,\n",
       " 180: 0.46851175799804845,\n",
       " 181: 0.47440931522114493,\n",
       " 182: 0.4761794119444746,\n",
       " 183: 0.47799604751651326,\n",
       " 184: 0.47903021273022184,\n",
       " 185: 0.48135003241234037,\n",
       " 186: 0.4820307391201486,\n",
       " 187: 0.4820455961418456,\n",
       " 188: 0.4862841258291155,\n",
       " 189: 0.48926889773114185,\n",
       " 190: 0.48993302953007223,\n",
       " 191: 0.49531054356352733,\n",
       " 192: 0.49738883490068964,\n",
       " 193: 0.4978794148994184,\n",
       " 194: 0.49995013878318845,\n",
       " 195: 0.501919234314188,\n",
       " 196: 0.502073622131179,\n",
       " 197: 0.5047333270777017,\n",
       " 198: 0.5092327402177266,\n",
       " 199: 0.5105296083778003,\n",
       " 200: 0.5108795785657799,\n",
       " 201: 0.5134261592185342,\n",
       " 202: 0.5153289573183318,\n",
       " 203: 0.519232000689405,\n",
       " 204: 0.5210939463999308,\n",
       " 205: 0.5221212464522023,\n",
       " 206: 0.5289198122173371,\n",
       " 207: 0.5318698760926437,\n",
       " 208: 0.5372433239814884,\n",
       " 209: 0.5414709675366214,\n",
       " 210: 0.5437073426360999,\n",
       " 211: 0.5463164409247833,\n",
       " 212: 0.5552938602578342,\n",
       " 213: 0.5558573121306313,\n",
       " 214: 0.5600109698680447,\n",
       " 215: 0.5612660282697105,\n",
       " 216: 0.5617513255531654,\n",
       " 217: 0.5668767889474503,\n",
       " 218: 0.5820299787446856,\n",
       " 219: 0.5836229448969658,\n",
       " 220: 0.5877080899992452,\n",
       " 221: 0.5877619329670025,\n",
       " 222: 0.5882399226397248,\n",
       " 223: 0.5883308064644213,\n",
       " 224: 0.589419862081209,\n",
       " 225: 0.5933072732463754,\n",
       " 226: 0.6058857899929933,\n",
       " 227: 0.609056732384488,\n",
       " 228: 0.6098891657540275,\n",
       " 229: 0.614502255038647,\n",
       " 230: 0.6150214254791766,\n",
       " 231: 0.6191890748137753,\n",
       " 232: 0.6192080546827503,\n",
       " 233: 0.6201813729111818,\n",
       " 234: 0.6205809118007475,\n",
       " 235: 0.6236244734382596,\n",
       " 236: 0.6251033695221432,\n",
       " 237: 0.6284690439367044,\n",
       " 238: 0.6297988098450555,\n",
       " 239: 0.6314678034462307,\n",
       " 240: 0.6320515226097405,\n",
       " 241: 0.6338652728721265,\n",
       " 242: 0.6367525463692907,\n",
       " 243: 0.6381264356648099,\n",
       " 244: 0.6429589336486348,\n",
       " 245: 0.644762436903643,\n",
       " 246: 0.6477813828782261,\n",
       " 247: 0.6570737519959374,\n",
       " 248: 0.6581722250233415,\n",
       " 249: 0.661007248657004,\n",
       " 250: 0.6636232076240725,\n",
       " 251: 0.6636462496202991,\n",
       " 252: 0.6710485696511472,\n",
       " 253: 0.6736138613345496,\n",
       " 254: 0.6767781886593315,\n",
       " 255: 0.6791102543273374,\n",
       " 256: 0.6796923311431597,\n",
       " 257: 0.6803616252943968,\n",
       " 258: 0.6822744493333376,\n",
       " 259: 0.6833955888710802,\n",
       " 260: 0.6862173187947905,\n",
       " 261: 0.6880030362577351,\n",
       " 262: 0.6897810460568885,\n",
       " 263: 0.6901117275880883,\n",
       " 264: 0.6910085806420825,\n",
       " 265: 0.6916476279601036,\n",
       " 266: 0.6927722280484399,\n",
       " 267: 0.6928371839647779,\n",
       " 268: 0.6958136275414919,\n",
       " 269: 0.6958151881247343,\n",
       " 270: 0.6962811046698377,\n",
       " 271: 0.6966056835501947,\n",
       " 272: 0.6977276770101157,\n",
       " 273: 0.6991330755884817,\n",
       " 274: 0.7039119261893396,\n",
       " 275: 0.7043788073685344,\n",
       " 276: 0.7079826516855919,\n",
       " 277: 0.7112552579704994,\n",
       " 278: 0.7113914330451029,\n",
       " 279: 0.713089899173948,\n",
       " 280: 0.7136417112733505,\n",
       " 281: 0.7271677394779869,\n",
       " 282: 0.7280322497187446,\n",
       " 283: 0.7335410866904672,\n",
       " 284: 0.7341850647555013,\n",
       " 285: 0.7350454874765409,\n",
       " 286: 0.7374037896383043,\n",
       " 287: 0.738058279053541,\n",
       " 288: 0.741209939583311,\n",
       " 289: 0.7417048017960042,\n",
       " 290: 0.7438585578154321,\n",
       " 291: 0.7480575156543467,\n",
       " 292: 0.7546734590855654,\n",
       " 293: 0.7573280544445171,\n",
       " 294: 0.760538664962923,\n",
       " 295: 0.761632062412087,\n",
       " 296: 0.7631752166079943,\n",
       " 297: 0.7652976514806815,\n",
       " 298: 0.7660977894758739,\n",
       " 299: 0.7689913835989223,\n",
       " 300: 0.769743470573969,\n",
       " 301: 0.775681810921604,\n",
       " 302: 0.784099018370577,\n",
       " 303: 0.7860422517116241,\n",
       " 304: 0.7867928022383197,\n",
       " 305: 0.7873267975589424,\n",
       " 306: 0.7893077547729355,\n",
       " 307: 0.7906166563040945,\n",
       " 308: 0.7918678172099148,\n",
       " 309: 0.7925440741047753,\n",
       " 310: 0.7941582751949663,\n",
       " 311: 0.7950040701177068,\n",
       " 312: 0.796315839048475,\n",
       " 313: 0.8023085590265906,\n",
       " 314: 0.8029201529430551,\n",
       " 315: 0.8041015605149697,\n",
       " 316: 0.8097962287046133,\n",
       " 317: 0.8146251333461061,\n",
       " 318: 0.8146764249458134,\n",
       " 319: 0.8156660883682965,\n",
       " 320: 0.8164731522426932,\n",
       " 321: 0.8207469172775745,\n",
       " 322: 0.8211430616680688,\n",
       " 323: 0.8255852446306282,\n",
       " 324: 0.8256424081046134,\n",
       " 325: 0.8303705439388986,\n",
       " 326: 0.8350033289537088,\n",
       " 327: 0.8363842536667533,\n",
       " 328: 0.8390460442751646,\n",
       " 329: 0.842531368674825,\n",
       " 330: 0.8458211279531801,\n",
       " 331: 0.8536793497970544,\n",
       " 332: 0.854961890813024,\n",
       " 333: 0.8555449232073977,\n",
       " 334: 0.85573718202219,\n",
       " 335: 0.8564731819770048,\n",
       " 336: 0.8586680834400633,\n",
       " 337: 0.8595944498756486,\n",
       " 338: 0.8619161816334299,\n",
       " 339: 0.8632248189198066,\n",
       " 340: 0.8647610451245349,\n",
       " 341: 0.8681438240962411,\n",
       " 342: 0.869998031003045,\n",
       " 343: 0.870730577232389,\n",
       " 344: 0.8711138231016861,\n",
       " 345: 0.8810859275660391,\n",
       " 346: 0.8831427880377598,\n",
       " 347: 0.8841731066846737,\n",
       " 348: 0.8844253467758822,\n",
       " 349: 0.8845610694327348,\n",
       " 350: 0.8860437942919188,\n",
       " 351: 0.8881885424004072,\n",
       " 352: 0.8889556832334,\n",
       " 353: 0.8900334156212615,\n",
       " 354: 0.8905587971737754,\n",
       " 355: 0.8908061618665327,\n",
       " 356: 0.8913612765496798,\n",
       " 357: 0.8923323337133647,\n",
       " 358: 0.8959461576987294,\n",
       " 359: 0.8987560192480794,\n",
       " 360: 0.9012033989991343,\n",
       " 361: 0.9019773912175589,\n",
       " 362: 0.9024104701602084,\n",
       " 363: 0.9024587737512031,\n",
       " 364: 0.903656174187714,\n",
       " 365: 0.9045951806830055,\n",
       " 366: 0.9050713344585171,\n",
       " 367: 0.9058268476053148,\n",
       " 368: 0.9058973237307604,\n",
       " 369: 0.9067631611369523,\n",
       " 370: 0.9068304265520323,\n",
       " 371: 0.9101265624950647,\n",
       " 372: 0.91154331882543,\n",
       " 373: 0.9133207274861299,\n",
       " 374: 0.9157387956642133,\n",
       " 375: 0.9177859568303058,\n",
       " 376: 0.921297483982642,\n",
       " 377: 0.922553845340923,\n",
       " 378: 0.9231425221515913,\n",
       " 379: 0.9260839351984365,\n",
       " 380: 0.9263927217259386,\n",
       " 381: 0.9306089407718348,\n",
       " 382: 0.9343213857923083,\n",
       " 383: 0.9354343007492623,\n",
       " 384: 0.9393691336509385,\n",
       " 385: 0.9407239617693712,\n",
       " 386: 0.9458208168286735,\n",
       " 387: 0.9485295904651097,\n",
       " 388: 0.9523648913684312,\n",
       " 389: 0.9530503238688197,\n",
       " 390: 0.9556066391723959,\n",
       " 391: 0.9565356908692484,\n",
       " 392: 0.9566835525911301,\n",
       " 393: 0.9591595659533387,\n",
       " 394: 0.9620496814328905,\n",
       " 395: 0.9654491394555687,\n",
       " 396: 0.9728487490795111,\n",
       " 397: 0.9729700111977005,\n",
       " 398: 0.9750750311187353,\n",
       " 399: 0.9775765945158215,\n",
       " 400: 0.977919307796882,\n",
       " 401: 0.9802109003612506,\n",
       " 402: 0.9823063954699045,\n",
       " 403: 0.9848344000852386,\n",
       " 404: 0.98719892244958,\n",
       " 405: 0.9940548079363355,\n",
       " 406: 0.9970627873117555}"
      ]
     },
     "execution_count": 23,
     "metadata": {},
     "output_type": "execute_result"
    }
   ],
   "source": [
    "pos"
   ]
  },
  {
   "cell_type": "code",
   "execution_count": 15,
   "metadata": {},
   "outputs": [],
   "source": [
    "pos_diffs = []\n",
    "for key in diffs.keys():\n",
    "    var1,var2 = key\n",
    "    pos1,pos2 = pos.get(var1), pos.get(var2)\n",
    "    pos_diff = np.absolute(pos1-pos2)\n",
    "    pos_diffs.append(pos_diff)"
   ]
  },
  {
   "cell_type": "code",
   "execution_count": 17,
   "metadata": {},
   "outputs": [
    {
     "data": {
      "image/png": "[encoded data removed]",
      "text/plain": [
       "<Figure size 432x288 with 1 Axes>"
      ]
     },
     "metadata": {},
     "output_type": "display_data"
    }
   ],
   "source": [
    "plt.scatter(x=pos_diffs,y=list(diffs.values()))\n",
    "plt.show()"
   ]
  },
  {
   "cell_type": "code",
   "execution_count": 21,
   "metadata": {},
   "outputs": [
    {
     "data": {
      "image/png": "[encoded data removed]",
      "text/plain": [
       "<Figure size 432x288 with 1 Axes>"
      ]
     },
     "metadata": {},
     "output_type": "display_data"
    }
   ],
   "source": [
    "plt.hist(list(diffs.values()))\n",
    "plt.show()"
   ]
  },
  {
   "cell_type": "code",
   "execution_count": 47,
   "metadata": {},
   "outputs": [
    {
     "data": {
      "image/png": "[encoded data removed]",
      "text/plain": [
       "<Figure size 432x288 with 1 Axes>"
      ]
     },
     "metadata": {},
     "output_type": "display_data"
    }
   ],
   "source": [
    "sns.boxplot(list(diffs.values()))\n",
    "plt.xlabel(\"$|r^2(snp1,snp2) - r^2(snp2,snp1)|$\")\n",
    "plt.title(\"LD pairwise differences between 407 mutations\")\n",
    "plt.savefig(\"/Users/taylorcavazos/Box Sync/LD_diffs.png\",bbox_inches=\"tight\")\n",
    "plt.show()"
   ]
  },
  {
   "cell_type": "code",
   "execution_count": 42,
   "metadata": {},
   "outputs": [],
   "source": [
    "vals = np.array(list(diffs.values()))"
   ]
  },
  {
   "cell_type": "code",
   "execution_count": 55,
   "metadata": {},
   "outputs": [
    {
     "data": {
      "text/plain": [
       "60399"
      ]
     },
     "execution_count": 55,
     "metadata": {},
     "output_type": "execute_result"
    }
   ],
   "source": [
    "len(vals[vals<0.01])"
   ]
  },
  {
   "cell_type": "code",
   "execution_count": 74,
   "metadata": {
    "scrolled": false
   },
   "outputs": [
    {
     "ename": "KeyboardInterrupt",
     "evalue": "",
     "output_type": "error",
     "traceback": [
      "\u001b[0;31m---------------------------------------------------------------------------\u001b[0m",
      "\u001b[0;31mKeyboardInterrupt\u001b[0m                         Traceback (most recent call last)",
      "\u001b[0;32m<ipython-input-74-54316dac6cf2>\u001b[0m in \u001b[0;36m<module>\u001b[0;34m\u001b[0m\n\u001b[0;32m----> 1\u001b[0;31m \u001b[0msns\u001b[0m\u001b[0;34m.\u001b[0m\u001b[0mswarmplot\u001b[0m\u001b[0;34m(\u001b[0m\u001b[0my\u001b[0m\u001b[0;34m=\u001b[0m\u001b[0mlist\u001b[0m\u001b[0;34m(\u001b[0m\u001b[0mdiffs\u001b[0m\u001b[0;34m.\u001b[0m\u001b[0mvalues\u001b[0m\u001b[0;34m(\u001b[0m\u001b[0;34m)\u001b[0m\u001b[0;34m)\u001b[0m\u001b[0;34m)\u001b[0m\u001b[0;34m\u001b[0m\u001b[0;34m\u001b[0m\u001b[0m\n\u001b[0m\u001b[1;32m      2\u001b[0m \u001b[0mplt\u001b[0m\u001b[0;34m.\u001b[0m\u001b[0mshow\u001b[0m\u001b[0;34m(\u001b[0m\u001b[0;34m)\u001b[0m\u001b[0;34m\u001b[0m\u001b[0;34m\u001b[0m\u001b[0m\n",
      "\u001b[0;32m~/anaconda3/envs/localAnc/lib/python3.7/site-packages/seaborn/categorical.py\u001b[0m in \u001b[0;36mswarmplot\u001b[0;34m(x, y, hue, data, order, hue_order, dodge, orient, color, palette, size, edgecolor, linewidth, ax, **kwargs)\u001b[0m\n\u001b[1;32m   2989\u001b[0m                        linewidth=linewidth))\n\u001b[1;32m   2990\u001b[0m \u001b[0;34m\u001b[0m\u001b[0m\n\u001b[0;32m-> 2991\u001b[0;31m     \u001b[0mplotter\u001b[0m\u001b[0;34m.\u001b[0m\u001b[0mplot\u001b[0m\u001b[0;34m(\u001b[0m\u001b[0max\u001b[0m\u001b[0;34m,\u001b[0m \u001b[0mkwargs\u001b[0m\u001b[0;34m)\u001b[0m\u001b[0;34m\u001b[0m\u001b[0;34m\u001b[0m\u001b[0m\n\u001b[0m\u001b[1;32m   2992\u001b[0m     \u001b[0;32mreturn\u001b[0m \u001b[0max\u001b[0m\u001b[0;34m\u001b[0m\u001b[0;34m\u001b[0m\u001b[0m\n\u001b[1;32m   2993\u001b[0m \u001b[0;34m\u001b[0m\u001b[0m\n",
      "\u001b[0;32m~/anaconda3/envs/localAnc/lib/python3.7/site-packages/seaborn/categorical.py\u001b[0m in \u001b[0;36mplot\u001b[0;34m(self, ax, kws)\u001b[0m\n\u001b[1;32m   1444\u001b[0m     \u001b[0;32mdef\u001b[0m \u001b[0mplot\u001b[0m\u001b[0;34m(\u001b[0m\u001b[0mself\u001b[0m\u001b[0;34m,\u001b[0m \u001b[0max\u001b[0m\u001b[0;34m,\u001b[0m \u001b[0mkws\u001b[0m\u001b[0;34m)\u001b[0m\u001b[0;34m:\u001b[0m\u001b[0;34m\u001b[0m\u001b[0;34m\u001b[0m\u001b[0m\n\u001b[1;32m   1445\u001b[0m         \u001b[0;34m\"\"\"Make the full plot.\"\"\"\u001b[0m\u001b[0;34m\u001b[0m\u001b[0;34m\u001b[0m\u001b[0m\n\u001b[0;32m-> 1446\u001b[0;31m         \u001b[0mself\u001b[0m\u001b[0;34m.\u001b[0m\u001b[0mdraw_swarmplot\u001b[0m\u001b[0;34m(\u001b[0m\u001b[0max\u001b[0m\u001b[0;34m,\u001b[0m \u001b[0mkws\u001b[0m\u001b[0;34m)\u001b[0m\u001b[0;34m\u001b[0m\u001b[0;34m\u001b[0m\u001b[0m\n\u001b[0m\u001b[1;32m   1447\u001b[0m         \u001b[0mself\u001b[0m\u001b[0;34m.\u001b[0m\u001b[0madd_legend_data\u001b[0m\u001b[0;34m(\u001b[0m\u001b[0max\u001b[0m\u001b[0;34m)\u001b[0m\u001b[0;34m\u001b[0m\u001b[0;34m\u001b[0m\u001b[0m\n\u001b[1;32m   1448\u001b[0m         \u001b[0mself\u001b[0m\u001b[0;34m.\u001b[0m\u001b[0mannotate_axes\u001b[0m\u001b[0;34m(\u001b[0m\u001b[0max\u001b[0m\u001b[0;34m)\u001b[0m\u001b[0;34m\u001b[0m\u001b[0;34m\u001b[0m\u001b[0m\n",
      "\u001b[0;32m~/anaconda3/envs/localAnc/lib/python3.7/site-packages/seaborn/categorical.py\u001b[0m in \u001b[0;36mdraw_swarmplot\u001b[0;34m(self, ax, kws)\u001b[0m\n\u001b[1;32m   1440\u001b[0m         \u001b[0;32mfor\u001b[0m \u001b[0mcenter\u001b[0m\u001b[0;34m,\u001b[0m \u001b[0mswarm\u001b[0m \u001b[0;32min\u001b[0m \u001b[0mzip\u001b[0m\u001b[0;34m(\u001b[0m\u001b[0mcenters\u001b[0m\u001b[0;34m,\u001b[0m \u001b[0mswarms\u001b[0m\u001b[0;34m)\u001b[0m\u001b[0;34m:\u001b[0m\u001b[0;34m\u001b[0m\u001b[0;34m\u001b[0m\u001b[0m\n\u001b[1;32m   1441\u001b[0m             \u001b[0;32mif\u001b[0m \u001b[0mswarm\u001b[0m\u001b[0;34m.\u001b[0m\u001b[0mget_offsets\u001b[0m\u001b[0;34m(\u001b[0m\u001b[0;34m)\u001b[0m\u001b[0;34m.\u001b[0m\u001b[0msize\u001b[0m\u001b[0;34m:\u001b[0m\u001b[0;34m\u001b[0m\u001b[0;34m\u001b[0m\u001b[0m\n\u001b[0;32m-> 1442\u001b[0;31m                 \u001b[0mself\u001b[0m\u001b[0;34m.\u001b[0m\u001b[0mswarm_points\u001b[0m\u001b[0;34m(\u001b[0m\u001b[0max\u001b[0m\u001b[0;34m,\u001b[0m \u001b[0mswarm\u001b[0m\u001b[0;34m,\u001b[0m \u001b[0mcenter\u001b[0m\u001b[0;34m,\u001b[0m \u001b[0mwidth\u001b[0m\u001b[0;34m,\u001b[0m \u001b[0ms\u001b[0m\u001b[0;34m,\u001b[0m \u001b[0;34m**\u001b[0m\u001b[0mkws\u001b[0m\u001b[0;34m)\u001b[0m\u001b[0;34m\u001b[0m\u001b[0;34m\u001b[0m\u001b[0m\n\u001b[0m\u001b[1;32m   1443\u001b[0m \u001b[0;34m\u001b[0m\u001b[0m\n\u001b[1;32m   1444\u001b[0m     \u001b[0;32mdef\u001b[0m \u001b[0mplot\u001b[0m\u001b[0;34m(\u001b[0m\u001b[0mself\u001b[0m\u001b[0;34m,\u001b[0m \u001b[0max\u001b[0m\u001b[0;34m,\u001b[0m \u001b[0mkws\u001b[0m\u001b[0;34m)\u001b[0m\u001b[0;34m:\u001b[0m\u001b[0;34m\u001b[0m\u001b[0;34m\u001b[0m\u001b[0m\n",
      "\u001b[0;32m~/anaconda3/envs/localAnc/lib/python3.7/site-packages/seaborn/categorical.py\u001b[0m in \u001b[0;36mswarm_points\u001b[0;34m(self, ax, points, center, width, s, **kws)\u001b[0m\n\u001b[1;32m   1349\u001b[0m \u001b[0;34m\u001b[0m\u001b[0m\n\u001b[1;32m   1350\u001b[0m         \u001b[0;31m# Do the beeswarm in point coordinates\u001b[0m\u001b[0;34m\u001b[0m\u001b[0;34m\u001b[0m\u001b[0;34m\u001b[0m\u001b[0m\n\u001b[0;32m-> 1351\u001b[0;31m         \u001b[0mnew_xy\u001b[0m \u001b[0;34m=\u001b[0m \u001b[0mself\u001b[0m\u001b[0;34m.\u001b[0m\u001b[0mbeeswarm\u001b[0m\u001b[0;34m(\u001b[0m\u001b[0morig_xy\u001b[0m\u001b[0;34m,\u001b[0m \u001b[0md\u001b[0m\u001b[0;34m)\u001b[0m\u001b[0;34m\u001b[0m\u001b[0;34m\u001b[0m\u001b[0m\n\u001b[0m\u001b[1;32m   1352\u001b[0m \u001b[0;34m\u001b[0m\u001b[0m\n\u001b[1;32m   1353\u001b[0m         \u001b[0;31m# Transform the point coordinates back to data coordinates\u001b[0m\u001b[0;34m\u001b[0m\u001b[0;34m\u001b[0m\u001b[0;34m\u001b[0m\u001b[0m\n",
      "\u001b[0;32m~/anaconda3/envs/localAnc/lib/python3.7/site-packages/seaborn/categorical.py\u001b[0m in \u001b[0;36mbeeswarm\u001b[0;34m(self, orig_xy, d)\u001b[0m\n\u001b[1;32m   1311\u001b[0m             \u001b[0;31m# Find the first candidate that does not overlap any neighbours\u001b[0m\u001b[0;34m\u001b[0m\u001b[0;34m\u001b[0m\u001b[0;34m\u001b[0m\u001b[0m\n\u001b[1;32m   1312\u001b[0m             new_xy_i = self.first_non_overlapping_candidate(candidates,\n\u001b[0;32m-> 1313\u001b[0;31m                                                             neighbors, d)\n\u001b[0m\u001b[1;32m   1314\u001b[0m \u001b[0;34m\u001b[0m\u001b[0m\n\u001b[1;32m   1315\u001b[0m             \u001b[0;31m# Place it into the swarm\u001b[0m\u001b[0;34m\u001b[0m\u001b[0;34m\u001b[0m\u001b[0;34m\u001b[0m\u001b[0m\n",
      "\u001b[0;32m~/anaconda3/envs/localAnc/lib/python3.7/site-packages/seaborn/categorical.py\u001b[0m in \u001b[0;36mfirst_non_overlapping_candidate\u001b[0;34m(self, candidates, neighbors, d)\u001b[0m\n\u001b[1;32m   1269\u001b[0m             \u001b[0mdy\u001b[0m \u001b[0;34m=\u001b[0m \u001b[0mneighbors_y\u001b[0m \u001b[0;34m-\u001b[0m \u001b[0my_i\u001b[0m\u001b[0;34m\u001b[0m\u001b[0;34m\u001b[0m\u001b[0m\n\u001b[1;32m   1270\u001b[0m \u001b[0;34m\u001b[0m\u001b[0m\n\u001b[0;32m-> 1271\u001b[0;31m             \u001b[0msq_distances\u001b[0m \u001b[0;34m=\u001b[0m \u001b[0mnp\u001b[0m\u001b[0;34m.\u001b[0m\u001b[0mpower\u001b[0m\u001b[0;34m(\u001b[0m\u001b[0mdx\u001b[0m\u001b[0;34m,\u001b[0m \u001b[0;36m2.0\u001b[0m\u001b[0;34m)\u001b[0m \u001b[0;34m+\u001b[0m \u001b[0mnp\u001b[0m\u001b[0;34m.\u001b[0m\u001b[0mpower\u001b[0m\u001b[0;34m(\u001b[0m\u001b[0mdy\u001b[0m\u001b[0;34m,\u001b[0m \u001b[0;36m2.0\u001b[0m\u001b[0;34m)\u001b[0m\u001b[0;34m\u001b[0m\u001b[0;34m\u001b[0m\u001b[0m\n\u001b[0m\u001b[1;32m   1272\u001b[0m \u001b[0;34m\u001b[0m\u001b[0m\n\u001b[1;32m   1273\u001b[0m             \u001b[0;31m# good candidate does not overlap any of neighbors\u001b[0m\u001b[0;34m\u001b[0m\u001b[0;34m\u001b[0m\u001b[0;34m\u001b[0m\u001b[0m\n",
      "\u001b[0;31mKeyboardInterrupt\u001b[0m: "
     ]
    },
    {
     "data": {
      "image/png": "[encoded data removed]",
      "text/plain": [
       "<Figure size 432x288 with 1 Axes>"
      ]
     },
     "metadata": {
      "needs_background": "light"
     },
     "output_type": "display_data"
    }
   ],
   "source": [
    "sns.swarmplot(y=list(diffs.values()))\n",
    "plt.show()"
   ]
  },
  {
   "cell_type": "code",
   "execution_count": null,
   "metadata": {},
   "outputs": [],
   "source": []
  },
  {
   "cell_type": "code",
   "execution_count": 100,
   "metadata": {},
   "outputs": [
    {
     "data": {
      "text/plain": [
       "0.02050811141720233"
      ]
     },
     "execution_count": 100,
     "metadata": {},
     "output_type": "execute_result"
    }
   ],
   "source": [
    "dict1.get(1)"
   ]
  },
  {
   "cell_type": "code",
   "execution_count": 104,
   "metadata": {},
   "outputs": [
    {
     "data": {
      "text/plain": [
       "'0.7.0'"
      ]
     },
     "execution_count": 104,
     "metadata": {},
     "output_type": "execute_result"
    }
   ],
   "source": [
    "msprime.__version__"
   ]
  },
  {
   "cell_type": "code",
   "execution_count": 102,
   "metadata": {},
   "outputs": [
    {
     "data": {
      "text/plain": [
       "{0: 0.6767676767676769,\n",
       " 2: 0.6767676767676769,\n",
       " 3: 0.030303030303030304,\n",
       " 4: 1.0,\n",
       " 5: 1.0,\n",
       " 6: 0.061224489795918366,\n",
       " 7: 1.0,\n",
       " 8: 0.028985507246376812,\n",
       " 9: 0.010309278350515465,\n",
       " 10: 1.0,\n",
       " 11: 0.01388888888888889,\n",
       " 12: 0.030303030303030304,\n",
       " 13: 0.02508960573476703,\n",
       " 14: 1.0,\n",
       " 15: 1.0,\n",
       " 16: 0.010309278350515465,\n",
       " 17: 0.028985507246376812,\n",
       " 18: 0.2608695652173913,\n",
       " 19: 1.0,\n",
       " 20: 0.2608695652173913,\n",
       " 21: 0.030303030303030304,\n",
       " 22: 1.0,\n",
       " 23: 0.0033670033670033673,\n",
       " 24: 0.01388888888888889,\n",
       " 25: 0.028985507246376812,\n",
       " 26: 0.006802721088435375,\n",
       " 27: 0.030303030303030304,\n",
       " 28: 0.01388888888888889,\n",
       " 29: 0.6144578313253012,\n",
       " 30: 0.32871111111111107,\n",
       " 31: 0.5294117647058824,\n",
       " 32: 0.037037037037037035,\n",
       " 33: 0.0033670033670033673,\n",
       " 34: 0.3983739837398372,\n",
       " 35: 0.3983739837398372,\n",
       " 36: 0.02508960573476703,\n",
       " 37: 0.3983739837398372,\n",
       " 38: 0.3983739837398373,\n",
       " 39: 0.028985507246376812,\n",
       " 40: 0.3983739837398372,\n",
       " 41: 0.125,\n",
       " 42: 0.061224489795918366,\n",
       " 43: 0.2491694352159467,\n",
       " 44: 0.0033670033670033673,\n",
       " 45: 0.03296703296703296,\n",
       " 46: 0.2491694352159467,\n",
       " 47: 0.2491694352159468,\n",
       " 48: 0.2491694352159468,\n",
       " 49: 0.1792592592592592,\n",
       " 50: 0.2491694352159468,\n",
       " 51: 0.030303030303030304,\n",
       " 52: 0.0033670033670033673,\n",
       " 53: 0.010309278350515465,\n",
       " 54: 0.08300395256916994,\n",
       " 55: 0.2491694352159468,\n",
       " 56: 0.2491694352159468,\n",
       " 57: 0.061224489795918366,\n",
       " 58: 0.2491694352159467,\n",
       " 59: 0.03296703296703296,\n",
       " 60: 0.2491694352159468,\n",
       " 61: 0.03296703296703296,\n",
       " 62: 0.0033670033670033673,\n",
       " 63: 0.08300395256916994,\n",
       " 64: 0.2491694352159468,\n",
       " 65: 0.2491694352159468,\n",
       " 66: 0.09278350515463918,\n",
       " 67: 0.01754385964912281,\n",
       " 68: 0.0033670033670033673,\n",
       " 69: 0.0033670033670033673,\n",
       " 70: 0.2198692810457517,\n",
       " 71: 0.2198692810457515,\n",
       " 72: 0.016274864376130196,\n",
       " 73: 0.00736811081638668,\n",
       " 74: 0.2198692810457515,\n",
       " 75: 0.2198692810457515,\n",
       " 76: 0.2198692810457515,\n",
       " 77: 0.2198692810457517,\n",
       " 78: 0.2198692810457517,\n",
       " 79: 0.03296703296703296,\n",
       " 80: 0.2198692810457515,\n",
       " 81: 0.03296703296703296,\n",
       " 82: 0.07309941520467832,\n",
       " 83: 0.2198692810457515,\n",
       " 84: 0.0033670033670033673,\n",
       " 85: 0.010309278350515465,\n",
       " 86: 0.07309941520467832,\n",
       " 87: 0.0033670033670033673,\n",
       " 88: 0.07309941520467832,\n",
       " 89: 0.07309941520467837,\n",
       " 90: 0.0033670033670033673,\n",
       " 91: 0.02127659574468085,\n",
       " 92: 0.01754385964912281,\n",
       " 93: 0.010309278350515465,\n",
       " 94: 0.125,\n",
       " 95: 0.030303030303030304,\n",
       " 96: 0.19148936170212766,\n",
       " 97: 0.0033670033670033673,\n",
       " 98: 0.02127659574468085,\n",
       " 99: 0.09404444444444443,\n",
       " 100: 0.006802721088435375,\n",
       " 101: 0.061224489795918366,\n",
       " 102: 0.2198692810457517,\n",
       " 103: 0.115839243498818,\n",
       " 104: 0.2198692810457517,\n",
       " 105: 0.006802721088435375,\n",
       " 106: 0.0033670033670033673,\n",
       " 107: 0.006802721088435375,\n",
       " 108: 0.02127659574468085,\n",
       " 109: 0.0023640661938534274,\n",
       " 110: 0.01341921631776705,\n",
       " 111: 0.1722182849043232,\n",
       " 112: 0.006802721088435375,\n",
       " 113: 0.0012870012870012893,\n",
       " 114: 0.01388888888888889,\n",
       " 115: 0.005347593582887701,\n",
       " 116: 0.005347593582887701,\n",
       " 117: 0.03571428571428572,\n",
       " 118: 0.006802721088435375,\n",
       " 119: 0.030303030303030304,\n",
       " 120: 0.013333333333333332,\n",
       " 121: 0.010309278350515465,\n",
       " 122: 0.013333333333333332,\n",
       " 123: 0.1159420289855072,\n",
       " 124: 0.0033670033670033673,\n",
       " 125: 0.0033670033670033673,\n",
       " 126: 0.0033670033670033673,\n",
       " 127: 0.0007770007770007761,\n",
       " 128: 0.037037037037037035,\n",
       " 129: 0.037037037037037035,\n",
       " 130: 0.006802721088435375,\n",
       " 131: 0.03296703296703296,\n",
       " 132: 0.0014025245441795205,\n",
       " 133: 0.09157509157509156,\n",
       " 134: 0.0014025245441795205,\n",
       " 135: 0.09278350515463918,\n",
       " 136: 0.031633986928104575,\n",
       " 137: 0.0144,\n",
       " 138: 0.09157509157509156,\n",
       " 139: 0.0033670033670033673,\n",
       " 140: 0.0014814814814814795,\n",
       " 141: 0.061224489795918366,\n",
       " 142: 0.01439999999999999,\n",
       " 143: 0.0014570179698882872,\n",
       " 144: 0.0033670033670033673,\n",
       " 145: 0.006802721088435375,\n",
       " 146: 0.010309278350515465,\n",
       " 147: 0.0014570179698882872,\n",
       " 148: 0.0014570179698882872,\n",
       " 149: 0.0014570179698882872,\n",
       " 150: 0.0014814814814814795,\n",
       " 151: 0.09157509157509156,\n",
       " 152: 0.006802721088435375,\n",
       " 153: 0.006802721088435375,\n",
       " 154: 0.001457017969888298,\n",
       " 155: 0.00021659085986571404,\n",
       " 156: 0.006802721088435375,\n",
       " 157: 0.0,\n",
       " 158: 0.0014570179698882872,\n",
       " 159: 0.0033670033670033673,\n",
       " 160: 0.0014814814814814795,\n",
       " 161: 0.0026455026455026428,\n",
       " 162: 0.006802721088435375,\n",
       " 163: 0.030303030303030304,\n",
       " 164: 0.006802721088435375,\n",
       " 165: 0.00736811081638668,\n",
       " 166: 0.010309278350515465,\n",
       " 167: 0.0023529411764705885,\n",
       " 168: 0.030303030303030304,\n",
       " 169: 0.0033670033670033673,\n",
       " 170: 0.02757916241062309,\n",
       " 171: 0.006802721088435375,\n",
       " 172: 0.002126151665485471,\n",
       " 173: 0.0,\n",
       " 174: 0.037037037037037035,\n",
       " 175: 0.01754385964912281,\n",
       " 176: 0.006802721088435375,\n",
       " 177: 0.02508960573476703,\n",
       " 178: 0.0072463768115942,\n",
       " 179: 0.0033670033670033673,\n",
       " 180: 0.0033670033670033673,\n",
       " 181: 0.020202020202020197,\n",
       " 182: 0.006802721088435375,\n",
       " 183: 0.002126151665485471,\n",
       " 184: 0.002314814814814819,\n",
       " 185: 0.006802721088435375,\n",
       " 186: 0.002314814814814819,\n",
       " 187: 0.0033670033670033673,\n",
       " 188: 0.0033670033670033673,\n",
       " 189: 0.0023148148148148195,\n",
       " 190: 0.002314814814814819,\n",
       " 191: 0.0033670033670033673,\n",
       " 192: 0.09157509157509156,\n",
       " 193: 0.002126151665485471,\n",
       " 194: 0.0023148148148148195,\n",
       " 195: 0.0033670033670033673,\n",
       " 196: 0.07317073170731705,\n",
       " 197: 0.0033670033670033673,\n",
       " 198: 0.00736811081638668,\n",
       " 199: 0.002314814814814819,\n",
       " 200: 0.030303030303030304,\n",
       " 201: 0.030303030303030304,\n",
       " 202: 0.006802721088435375,\n",
       " 203: 0.002126151665485471,\n",
       " 204: 0.09278350515463918,\n",
       " 205: 0.002314814814814819,\n",
       " 206: 0.0033670033670033673,\n",
       " 207: 0.006802721088435375,\n",
       " 208: 0.006802721088435375,\n",
       " 209: 0.00014652014652014682,\n",
       " 210: 0.006802721088435375,\n",
       " 211: 0.00014652014652014682,\n",
       " 212: 0.0033670033670033673,\n",
       " 213: 0.09157509157509156,\n",
       " 214: 0.0033670033670033673,\n",
       " 215: 0.00014652014652014682,\n",
       " 216: 0.01772893772893773,\n",
       " 217: 0.005050505050505049,\n",
       " 218: 0.030303030303030304,\n",
       " 219: 0.0035750035750035736,\n",
       " 220: 0.013113161728994651,\n",
       " 221: 0.00014300014300014328,\n",
       " 222: 0.0,\n",
       " 223: 0.041474654377880185,\n",
       " 224: 0.006802721088435375,\n",
       " 225: 0.005050505050505049,\n",
       " 226: 0.004926108374384236,\n",
       " 227: 0.030303030303030304,\n",
       " 228: 0.002164502164502162,\n",
       " 229: 0.0033670033670033673,\n",
       " 230: 0.0033670033670033673,\n",
       " 231: 0.09278350515463918,\n",
       " 232: 0.061224489795918366,\n",
       " 233: 0.00736811081638668,\n",
       " 234: 0.004926108374384236,\n",
       " 235: 0.0033333333333333344,\n",
       " 236: 0.004926108374384236,\n",
       " 237: 0.004926108374384245,\n",
       " 238: 0.004926108374384245,\n",
       " 239: 0.0033670033670033673,\n",
       " 240: 0.00865800865800865,\n",
       " 241: 0.0033670033670033673,\n",
       " 242: 0.0012610340479192962,\n",
       " 243: 0.001261034047919296,\n",
       " 244: 0.006663946688426493,\n",
       " 245: 0.037037037037037035,\n",
       " 246: 0.061224489795918366,\n",
       " 247: 0.00865800865800865,\n",
       " 248: 0.061224489795918366,\n",
       " 249: 0.02127659574468085,\n",
       " 250: 0.013333333333333329,\n",
       " 251: 0.010309278350515465,\n",
       " 252: 0.00865800865800865,\n",
       " 253: 0.006802721088435375,\n",
       " 254: 0.0072463768115942,\n",
       " 255: 0.005050505050505049,\n",
       " 256: 0.01388888888888889,\n",
       " 257: 0.037037037037037035,\n",
       " 258: 0.01754385964912281,\n",
       " 259: 0.041474654377880185,\n",
       " 260: 0.006663946688426493,\n",
       " 261: 0.0,\n",
       " 262: 0.010309278350515465,\n",
       " 263: 0.006663946688426504,\n",
       " 264: 0.0033670033670033673,\n",
       " 265: 0.005050505050505049,\n",
       " 266: 0.022542350273442712,\n",
       " 267: 0.004608294930875578,\n",
       " 268: 0.022542350273442712,\n",
       " 269: 0.02127659574468085,\n",
       " 270: 0.006802721088435375,\n",
       " 271: 0.0033670033670033673,\n",
       " 272: 0.022542350273442712,\n",
       " 273: 0.022542350273442712,\n",
       " 274: 0.030303030303030304,\n",
       " 275: 0.01388888888888889,\n",
       " 276: 0.022542350273442712,\n",
       " 277: 0.022542350273442712,\n",
       " 278: 0.022542350273442712,\n",
       " 279: 0.022542350273442712,\n",
       " 280: 0.009803921568627456,\n",
       " 281: 0.005050505050505049,\n",
       " 282: 0.022542350273442712,\n",
       " 283: 0.01388888888888889,\n",
       " 284: 0.022542350273442712,\n",
       " 285: 0.010309278350515465,\n",
       " 286: 0.0033333333333333344,\n",
       " 287: 0.013333333333333329,\n",
       " 288: 0.09278350515463918,\n",
       " 289: 0.006802721088435375,\n",
       " 290: 0.01280081925243215,\n",
       " 291: 0.022542350273442712,\n",
       " 292: 0.022542350273442712,\n",
       " 293: 0.022542350273442712,\n",
       " 294: 0.022542350273442712,\n",
       " 295: 0.006802721088435375,\n",
       " 296: 0.08491228070175437,\n",
       " 297: 0.0033670033670033673,\n",
       " 298: 0.006802721088435375,\n",
       " 299: 0.022542350273442712,\n",
       " 300: 0.0033670033670033673,\n",
       " 301: 0.010909090909090903,\n",
       " 302: 0.013333333333333329,\n",
       " 303: 0.010909090909090913,\n",
       " 304: 0.009803921568627456,\n",
       " 305: 0.009966777408637877,\n",
       " 306: 0.010175010175010173,\n",
       " 307: 0.030303030303030304,\n",
       " 308: 0.061224489795918366,\n",
       " 309: 0.006802721088435375,\n",
       " 310: 0.0033670033670033673,\n",
       " 311: 0.01388888888888889,\n",
       " 312: 0.0033670033670033673,\n",
       " 313: 0.0005659309564233173,\n",
       " 314: 0.019943019943019943,\n",
       " 315: 0.009966777408637877,\n",
       " 316: 0.0005659309564233173,\n",
       " 317: 0.019943019943019943,\n",
       " 318: 0.04924704924704926,\n",
       " 319: 0.006802721088435375,\n",
       " 320: 0.019943019943019943,\n",
       " 321: 0.0033670033670033673,\n",
       " 322: 0.05555555555555554,\n",
       " 323: 0.010175010175010173,\n",
       " 324: 0.030303030303030304,\n",
       " 325: 0.01388888888888889,\n",
       " 326: 0.028985507246376812,\n",
       " 327: 0.04545454545454545,\n",
       " 328: 0.006802721088435375,\n",
       " 329: 0.02127659574468085,\n",
       " 330: 0.028985507246376812,\n",
       " 331: 0.0033670033670033673,\n",
       " 332: 0.037037037037037035,\n",
       " 333: 0.02127659574468085,\n",
       " 334: 0.006802721088435375,\n",
       " 335: 0.02127659574468085,\n",
       " 336: 0.013333333333333329,\n",
       " 337: 0.006802721088435375,\n",
       " 338: 0.01754385964912281,\n",
       " 339: 0.006802721088435375,\n",
       " 340: 0.0033670033670033673,\n",
       " 341: 0.006802721088435375,\n",
       " 342: 0.006802721088435375,\n",
       " 343: 0.030303030303030304,\n",
       " 344: 0.00680272108843538,\n",
       " 345: 0.022583559168925016,\n",
       " 346: 0.006802721088435375,\n",
       " 347: 0.008658008658008661,\n",
       " 348: 0.0011454753722794967,\n",
       " 349: 0.006802721088435375,\n",
       " 350: 0.00680272108843538,\n",
       " 351: 0.006802721088435375,\n",
       " 352: 0.006802721088435375,\n",
       " 353: 0.006802721088435375,\n",
       " 354: 0.0033670033670033673,\n",
       " 355: 0.0011454753722794967,\n",
       " 356: 0.0011454753722794967,\n",
       " 357: 0.0033670033670033673,\n",
       " 358: 0.0033670033670033673,\n",
       " 359: 0.0033670033670033673,\n",
       " 360: 0.01341921631776705,\n",
       " 361: 0.0033670033670033673,\n",
       " 362: 0.041474654377880185,\n",
       " 363: 0.0023640661938534274,\n",
       " 364: 0.041474654377880185,\n",
       " 365: 0.04147465437788029,\n",
       " 366: 0.041474654377880185,\n",
       " 367: 0.030303030303030304,\n",
       " 368: 0.028985507246376812,\n",
       " 369: 0.0011454753722794967,\n",
       " 370: 0.037037037037037035,\n",
       " 371: 0.04924704924704926,\n",
       " 372: 0.01754385964912281,\n",
       " 373: 0.041474654377880185,\n",
       " 374: 0.041474654377880185,\n",
       " 375: 0.041474654377880185,\n",
       " 376: 0.037037037037037035,\n",
       " 377: 0.0033670033670033673,\n",
       " 378: 0.01061295213341997,\n",
       " 379: 0.04147465437788029,\n",
       " 380: 0.011161637040099206,\n",
       " 381: 0.0033670033670033673,\n",
       " 382: 0.04924704924704926,\n",
       " 383: 0.013333333333333329,\n",
       " 384: 0.04147465437788029,\n",
       " 385: 0.013333333333333329,\n",
       " 386: 0.041474654377880185,\n",
       " 387: 0.041474654377880185,\n",
       " 388: 0.030303030303030304,\n",
       " 389: 0.04147465437788029,\n",
       " 390: 0.013333333333333329,\n",
       " 391: 0.010309278350515465,\n",
       " 392: 0.030303030303030304,\n",
       " 393: 0.0033670033670033673,\n",
       " 394: 0.0023640661938534274,\n",
       " 395: 0.01388888888888889,\n",
       " 396: 0.022583559168925016,\n",
       " 397: 0.0033670033670033673,\n",
       " 398: 0.09920634920634915,\n",
       " 399: 0.0011454753722794967,\n",
       " 400: 0.01754385964912281,\n",
       " 401: 0.03438596491228069,\n",
       " 402: 0.02620749404375135,\n",
       " 403: 0.0033670033670033673,\n",
       " 404: 0.0033670033670033673,\n",
       " 405: 0.04924704924704926,\n",
       " 406: 0.0011454753722794967}"
      ]
     },
     "execution_count": 102,
     "metadata": {},
     "output_type": "execute_result"
    }
   ],
   "source": [
    "dict0"
   ]
  },
  {
   "cell_type": "code",
   "execution_count": 101,
   "metadata": {},
   "outputs": [
    {
     "data": {
      "text/plain": [
       "{0: 0.6767676767676769,\n",
       " 1: 0.02050811141720233,\n",
       " 3: 0.02050811141720233,\n",
       " 4: 0.6767676767676769,\n",
       " 5: 0.6767676767676769,\n",
       " 6: 0.04143475572047002,\n",
       " 7: 0.6767676767676769,\n",
       " 8: 0.17654808959156787,\n",
       " 9: 0.015233112786582551,\n",
       " 10: 0.6767676767676769,\n",
       " 11: 0.020522388059701493,\n",
       " 12: 0.02050811141720233,\n",
       " 13: 0.037072701011073676,\n",
       " 14: 0.6767676767676769,\n",
       " 15: 0.6767676767676767,\n",
       " 16: 0.015233112786582551,\n",
       " 17: 0.17654808959156787,\n",
       " 18: 0.17654808959156787,\n",
       " 19: 0.6767676767676769,\n",
       " 20: 0.17654808959156787,\n",
       " 21: 0.02050811141720233,\n",
       " 22: 0.6767676767676769,\n",
       " 23: 0.004975124378109453,\n",
       " 24: 0.020522388059701493,\n",
       " 25: 0.17654808959156787,\n",
       " 26: 0.010051781906792569,\n",
       " 27: 0.02050811141720233,\n",
       " 28: 0.020522388059701493,\n",
       " 29: 0.41584519897772926,\n",
       " 30: 0.6767676767676767,\n",
       " 31: 0.358288770053476,\n",
       " 32: 0.05472636815920399,\n",
       " 33: 0.004975124378109453,\n",
       " 34: 0.25152507970127197,\n",
       " 35: 0.25152507970127197,\n",
       " 36: 0.037072701011073676,\n",
       " 37: 0.25152507970127197,\n",
       " 38: 0.25152507970127197,\n",
       " 39: 0.042829331602855285,\n",
       " 40: 0.25152507970127197,\n",
       " 41: 0.08459595959595961,\n",
       " 42: 0.04143475572047002,\n",
       " 43: 0.1529065635278754,\n",
       " 44: 0.004975124378109453,\n",
       " 45: 0.1397215277812293,\n",
       " 46: 0.1529065635278754,\n",
       " 47: 0.15290656352787563,\n",
       " 48: 0.15290656352787563,\n",
       " 49: 0.11101060354791698,\n",
       " 50: 0.15290656352787563,\n",
       " 51: 0.02050811141720233,\n",
       " 52: 0.004975124378109453,\n",
       " 53: 0.015233112786582551,\n",
       " 54: 0.33247882041463533,\n",
       " 55: 0.15290656352787563,\n",
       " 56: 0.15290656352787563,\n",
       " 57: 0.04143475572047002,\n",
       " 58: 0.1529065635278754,\n",
       " 59: 0.1397215277812293,\n",
       " 60: 0.15290656352787563,\n",
       " 61: 0.1397215277812293,\n",
       " 62: 0.004975124378109453,\n",
       " 63: 0.33247882041463533,\n",
       " 64: 0.15290656352787563,\n",
       " 65: 0.15290656352787563,\n",
       " 66: 0.06279287722586693,\n",
       " 67: 0.10685805422647532,\n",
       " 68: 0.004975124378109453,\n",
       " 69: 0.004975124378109453,\n",
       " 70: 0.1298409911228173,\n",
       " 71: 0.12984099112281727,\n",
       " 72: 0.04210658036465708,\n",
       " 73: 0.02097102302969517,\n",
       " 74: 0.12984099112281727,\n",
       " 75: 0.12984099112281727,\n",
       " 76: 0.12984099112281727,\n",
       " 77: 0.1298409911228173,\n",
       " 78: 0.1298409911228173,\n",
       " 79: 0.1397215277812293,\n",
       " 80: 0.12984099112281727,\n",
       " 81: 0.1397215277812293,\n",
       " 82: 0.304414926960096,\n",
       " 83: 0.12984099112281727,\n",
       " 84: 0.004975124378109453,\n",
       " 85: 0.015233112786582551,\n",
       " 86: 0.304414926960096,\n",
       " 87: 0.004975124378109453,\n",
       " 88: 0.304414926960096,\n",
       " 89: 0.30441492696009587,\n",
       " 90: 0.004975124378109453,\n",
       " 91: 0.03143855192124484,\n",
       " 92: 0.025923016496465053,\n",
       " 93: 0.015233112786582551,\n",
       " 94: 0.08459595959595961,\n",
       " 95: 0.02050811141720233,\n",
       " 96: 0.1295938104448743,\n",
       " 97: 0.004975124378109453,\n",
       " 98: 0.03143855192124484,\n",
       " 99: 0.3330318106437506,\n",
       " 100: 0.010051781906792569,\n",
       " 101: 0.04143475572047002,\n",
       " 102: 0.1298409911228173,\n",
       " 103: 0.0731384983528521,\n",
       " 104: 0.1298409911228173,\n",
       " 105: 0.010051781906792569,\n",
       " 106: 0.004975124378109453,\n",
       " 107: 0.010051781906792569,\n",
       " 108: 0.03143855192124484,\n",
       " 109: 0.007701659337099165,\n",
       " 110: 0.08468927504186005,\n",
       " 111: 0.0931240325657327,\n",
       " 112: 0.010051781906792569,\n",
       " 113: 0.009476621416919934,\n",
       " 114: 0.020522388059701493,\n",
       " 115: 0.035893293216303815,\n",
       " 116: 0.035893293216303815,\n",
       " 117: 0.06164523701837133,\n",
       " 118: 0.010051781906792569,\n",
       " 119: 0.02050811141720233,\n",
       " 120: 0.16327453640886477,\n",
       " 121: 0.015233112786582551,\n",
       " 122: 0.16327453640886477,\n",
       " 123: 0.06937643796826147,\n",
       " 124: 0.004975124378109453,\n",
       " 125: 0.004975124378109453,\n",
       " 126: 0.004975124378109453,\n",
       " 127: 0.013462039242229213,\n",
       " 128: 0.014523342881551838,\n",
       " 129: 0.014523342881551838,\n",
       " 130: 0.002667552774162583,\n",
       " 131: 0.04871248154830245,\n",
       " 132: 0.022060000477869015,\n",
       " 133: 0.05070054323785668,\n",
       " 134: 0.022060000477869015,\n",
       " 135: 0.06279287722586693,\n",
       " 136: 0.05534715016716775,\n",
       " 137: 0.04357002864465547,\n",
       " 138: 0.05070054323785668,\n",
       " 139: 0.004975124378109453,\n",
       " 140: 0.00045228403437358737,\n",
       " 141: 0.04143475572047002,\n",
       " 142: 0.04357002864465559,\n",
       " 143: 0.005414448355160042,\n",
       " 144: 0.004975124378109453,\n",
       " 145: 0.002667552774162583,\n",
       " 146: 0.015233112786582551,\n",
       " 147: 0.005414448355160042,\n",
       " 148: 0.005414448355160042,\n",
       " 149: 0.005414448355160042,\n",
       " 150: 0.00045228403437358737,\n",
       " 151: 0.05070054323785668,\n",
       " 152: 0.002667552774162583,\n",
       " 153: 0.010051781906792569,\n",
       " 154: 0.0054144483551600425,\n",
       " 155: 0.004740018967129044,\n",
       " 156: 0.010051781906792569,\n",
       " 157: 0.033242876526458624,\n",
       " 158: 0.005414448355160042,\n",
       " 159: 0.004975124378109453,\n",
       " 160: 0.00045228403437358737,\n",
       " 161: 0.0034495631510556854,\n",
       " 162: 0.010051781906792569,\n",
       " 163: 0.02050811141720233,\n",
       " 164: 0.010051781906792569,\n",
       " 165: 0.02097102302969517,\n",
       " 166: 0.015233112786582551,\n",
       " 167: 0.032998997880472856,\n",
       " 168: 0.02050811141720233,\n",
       " 169: 0.004975124378109453,\n",
       " 170: 0.008671010256545304,\n",
       " 171: 0.010051781906792569,\n",
       " 172: 0.0011927348631496138,\n",
       " 173: 0.012374624205177242,\n",
       " 174: 0.014523342881551838,\n",
       " 175: 0.025923016496465053,\n",
       " 176: 0.010051781906792569,\n",
       " 177: 0.037072701011073676,\n",
       " 178: 0.0007964131909621847,\n",
       " 179: 0.004975124378109453,\n",
       " 180: 0.004975124378109453,\n",
       " 181: 6.852788399599715e-06,\n",
       " 182: 0.010051781906792569,\n",
       " 183: 0.0011927348631496138,\n",
       " 184: 0.019109000452284045,\n",
       " 185: 0.010051781906792569,\n",
       " 186: 0.019109000452284045,\n",
       " 187: 0.004975124378109453,\n",
       " 188: 0.004975124378109453,\n",
       " 189: 0.01910900045228404,\n",
       " 190: 0.019109000452284045,\n",
       " 191: 0.02050811141720233,\n",
       " 192: 0.05070054323785668,\n",
       " 193: 0.061775075399370674,\n",
       " 194: 0.01910900045228404,\n",
       " 195: 0.004975124378109453,\n",
       " 196: 0.028692457887943883,\n",
       " 197: 0.004975124378109453,\n",
       " 198: 0.02097102302969517,\n",
       " 199: 0.019109000452284045,\n",
       " 200: 0.02050811141720233,\n",
       " 201: 0.02050811141720233,\n",
       " 202: 0.010051781906792569,\n",
       " 203: 0.061775075399370674,\n",
       " 204: 0.06279287722586693,\n",
       " 205: 0.019109000452284045,\n",
       " 206: 0.004975124378109453,\n",
       " 207: 0.010051781906792569,\n",
       " 208: 0.010051781906792569,\n",
       " 209: 0.011933340291549242,\n",
       " 210: 0.010051781906792569,\n",
       " 211: 0.011933340291549242,\n",
       " 212: 0.004975124378109453,\n",
       " 213: 0.05070054323785668,\n",
       " 214: 0.004975124378109453,\n",
       " 215: 0.011933340291549242,\n",
       " 216: 0.012927371136326386,\n",
       " 217: 0.016453544947439128,\n",
       " 218: 0.02050811141720233,\n",
       " 219: 0.0028407938855700052,\n",
       " 220: 0.014508454680107346,\n",
       " 221: 0.0028407938855700052,\n",
       " 222: 0.0034495631510556854,\n",
       " 223: 0.019842833034937047,\n",
       " 224: 0.010051781906792569,\n",
       " 225: 0.016453544947439128,\n",
       " 226: 0.01518679182086286,\n",
       " 227: 0.02050811141720233,\n",
       " 228: 0.004240897049580898,\n",
       " 229: 0.004975124378109453,\n",
       " 230: 0.004975124378109453,\n",
       " 231: 0.06279287722586693,\n",
       " 232: 0.04143475572047002,\n",
       " 233: 0.006654693736525949,\n",
       " 234: 0.01518679182086286,\n",
       " 235: 0.019109000452284027,\n",
       " 236: 0.01518679182086286,\n",
       " 237: 0.01518679182086286,\n",
       " 238: 0.01518679182086286,\n",
       " 239: 0.004975124378109453,\n",
       " 240: 0.022743425728500372,\n",
       " 241: 0.02050811141720233,\n",
       " 242: 0.006648138040357268,\n",
       " 243: 0.006648138040357268,\n",
       " 244: 0.018777999029739083,\n",
       " 245: 0.014523342881551838,\n",
       " 246: 0.04143475572047002,\n",
       " 247: 0.022743425728500372,\n",
       " 248: 0.04143475572047002,\n",
       " 249: 0.0731384983528521,\n",
       " 250: 0.002462435298256198,\n",
       " 251: 0.015233112786582551,\n",
       " 252: 0.022743425728500372,\n",
       " 253: 0.010051781906792569,\n",
       " 254: 0.0007964131909621847,\n",
       " 255: 0.016453544947439128,\n",
       " 256: 0.005446253580581939,\n",
       " 257: 0.014523342881551838,\n",
       " 258: 0.025923016496465053,\n",
       " 259: 0.019842833034937047,\n",
       " 260: 0.018777999029739083,\n",
       " 261: 0.0025170589739051744,\n",
       " 262: 0.015233112786582551,\n",
       " 263: 0.01877799902973915,\n",
       " 264: 0.004975124378109453,\n",
       " 265: 0.016453544947439128,\n",
       " 266: 0.03147147597166413,\n",
       " 267: 0.0033077177997736535,\n",
       " 268: 0.03147147597166404,\n",
       " 269: 0.03143855192124484,\n",
       " 270: 0.010051781906792569,\n",
       " 271: 0.02050811141720233,\n",
       " 272: 0.03147147597166404,\n",
       " 273: 0.03147147597166413,\n",
       " 274: 0.02050811141720233,\n",
       " 275: 0.020522388059701493,\n",
       " 276: 0.03147147597166404,\n",
       " 277: 0.03147147597166404,\n",
       " 278: 0.03147147597166404,\n",
       " 279: 0.03147147597166404,\n",
       " 280: 0.04097493814350706,\n",
       " 281: 0.016453544947439128,\n",
       " 282: 0.03147147597166413,\n",
       " 283: 0.020522388059701493,\n",
       " 284: 0.03147147597166404,\n",
       " 285: 0.015233112786582551,\n",
       " 286: 0.019109000452284027,\n",
       " 287: 0.002462435298256198,\n",
       " 288: 0.06279287722586693,\n",
       " 289: 0.010051781906792569,\n",
       " 290: 0.0033077177997736535,\n",
       " 291: 0.03147147597166404,\n",
       " 292: 0.03147147597166404,\n",
       " 293: 0.03147147597166413,\n",
       " 294: 0.03147147597166404,\n",
       " 295: 0.04143475572047002,\n",
       " 296: 0.052583970101644895,\n",
       " 297: 0.004975124378109453,\n",
       " 298: 0.010051781906792569,\n",
       " 299: 0.03147147597166404,\n",
       " 300: 0.004975124378109453,\n",
       " 301: 0.027086788280818182,\n",
       " 302: 0.002462435298256198,\n",
       " 303: 0.0270867882808181,\n",
       " 304: 0.04097493814350706,\n",
       " 305: 0.025786200378355856,\n",
       " 306: 0.021431857252752786,\n",
       " 307: 0.02050811141720233,\n",
       " 308: 0.04143475572047002,\n",
       " 309: 0.010051781906792569,\n",
       " 310: 0.004975124378109453,\n",
       " 311: 0.005446253580581939,\n",
       " 312: 0.004975124378109453,\n",
       " 313: 0.004552787843465202,\n",
       " 314: 0.022757231712455594,\n",
       " 315: 0.025786200378355856,\n",
       " 316: 0.004552787843465202,\n",
       " 317: 0.022757231712455594,\n",
       " 318: 0.022757231712455594,\n",
       " 319: 0.010051781906792569,\n",
       " 320: 0.022757231712455594,\n",
       " 321: 0.004975124378109453,\n",
       " 322: 0.033242876526458624,\n",
       " 323: 0.021431857252752786,\n",
       " 324: 0.02050811141720233,\n",
       " 325: 0.005446253580581939,\n",
       " 326: 0.011366094429040569,\n",
       " 327: 0.0671641791044775,\n",
       " 328: 0.010051781906792569,\n",
       " 329: 0.03143855192124484,\n",
       " 330: 0.011366094429040569,\n",
       " 331: 0.004975124378109453,\n",
       " 332: 0.05472636815920399,\n",
       " 333: 0.03143855192124484,\n",
       " 334: 0.010051781906792569,\n",
       " 335: 0.03143855192124484,\n",
       " 336: 0.002462435298256198,\n",
       " 337: 0.010051781906792569,\n",
       " 338: 0.025923016496465053,\n",
       " 339: 0.010051781906792569,\n",
       " 340: 0.004975124378109453,\n",
       " 341: 0.010051781906792569,\n",
       " 342: 0.010051781906792569,\n",
       " 343: 0.02050811141720233,\n",
       " 344: 0.010051781906792711,\n",
       " 345: 0.013003472413738152,\n",
       " 346: 0.010051781906792569,\n",
       " 347: 0.02274342572850037,\n",
       " 348: 1.5542406679504511e-06,\n",
       " 349: 0.010051781906792569,\n",
       " 350: 0.010051781906792711,\n",
       " 351: 0.010051781906792569,\n",
       " 352: 0.010051781906792569,\n",
       " 353: 0.010051781906792569,\n",
       " 354: 0.004975124378109453,\n",
       " 355: 1.5542406679504511e-06,\n",
       " 356: 1.5542406679504511e-06,\n",
       " 357: 0.004975124378109453,\n",
       " 358: 0.004975124378109453,\n",
       " 359: 0.004975124378109453,\n",
       " 360: 0.03181355701364346,\n",
       " 361: 0.004975124378109453,\n",
       " 362: 0.019842833034937047,\n",
       " 363: 0.008343196974508504,\n",
       " 364: 0.019842833034937047,\n",
       " 365: 0.019842833034936846,\n",
       " 366: 0.019842833034937047,\n",
       " 367: 0.02050811141720233,\n",
       " 368: 0.042829331602855285,\n",
       " 369: 1.5542406679504511e-06,\n",
       " 370: 0.05472636815920399,\n",
       " 371: 0.022757231712455594,\n",
       " 372: 0.0040229474636387435,\n",
       " 373: 0.019842833034937047,\n",
       " 374: 0.019842833034937047,\n",
       " 375: 0.019842833034937047,\n",
       " 376: 0.05472636815920399,\n",
       " 377: 0.004975124378109453,\n",
       " 378: 0.03142448311340693,\n",
       " 379: 0.019842833034936846,\n",
       " 380: 0.023298330400685508,\n",
       " 381: 0.004975124378109453,\n",
       " 382: 0.022757231712455594,\n",
       " 383: 0.002462435298256198,\n",
       " 384: 0.019842833034936846,\n",
       " 385: 0.002462435298256198,\n",
       " 386: 0.019842833034937047,\n",
       " 387: 0.019842833034937047,\n",
       " 388: 0.02050811141720233,\n",
       " 389: 0.019842833034936846,\n",
       " 390: 0.002462435298256198,\n",
       " 391: 0.015233112786582551,\n",
       " 392: 0.02050811141720233,\n",
       " 393: 0.004975124378109453,\n",
       " 394: 0.008343196974508504,\n",
       " 395: 0.005446253580581939,\n",
       " 396: 0.013003472413738152,\n",
       " 397: 0.004975124378109453,\n",
       " 398: 0.04656910253925182,\n",
       " 399: 1.5542406679504511e-06,\n",
       " 400: 0.025923016496465053,\n",
       " 401: 0.017353424266228674,\n",
       " 402: 0.008795587306541305,\n",
       " 403: 0.004975124378109453,\n",
       " 404: 0.004975124378109453,\n",
       " 405: 0.022757231712455594,\n",
       " 406: 0.015854809053762742}"
      ]
     },
     "execution_count": 101,
     "metadata": {},
     "output_type": "execute_result"
    }
   ],
   "source": [
    "dict1"
   ]
  },
  {
   "cell_type": "code",
   "execution_count": null,
   "metadata": {},
   "outputs": [],
   "source": []
  }
 ],
 "metadata": {
  "kernelspec": {
   "display_name": "Python 3",
   "language": "python",
   "name": "python3"
  },
  "language_info": {
   "codemirror_mode": {
    "name": "ipython",
    "version": 3
   },
   "file_extension": ".py",
   "mimetype": "text/x-python",
   "name": "python",
   "nbconvert_exporter": "python",
   "pygments_lexer": "ipython3",
   "version": "3.7.3"
  }
 },
 "nbformat": 4,
 "nbformat_minor": 2
}
