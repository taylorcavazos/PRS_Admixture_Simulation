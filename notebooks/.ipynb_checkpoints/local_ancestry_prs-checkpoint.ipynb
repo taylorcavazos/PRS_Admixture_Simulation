{
 "cells": [
  {
   "cell_type": "markdown",
   "metadata": {},
   "source": [
    "___\n",
    "# Simulations for local ancestry PRS\n",
    "___"
   ]
  },
  {
   "cell_type": "code",
   "execution_count": 1,
   "metadata": {},
   "outputs": [],
   "source": [
    "import matplotlib.pyplot as plt\n",
    "import seaborn as sns\n",
    "import sys\n",
    "import gzip\n",
    "import multiprocessing as mp"
   ]
  },
  {
   "cell_type": "code",
   "execution_count": 2,
   "metadata": {},
   "outputs": [],
   "source": [
    "sys.path.insert(0,\"/Users/taylorcavazos/repos/Local_Ancestry_PRS/code/\")\n",
    "sys.path.insert(0,\"/Users/taylorcavazos/Documents/Prelim_Quals/Aim1\")"
   ]
  },
  {
   "cell_type": "code",
   "execution_count": 3,
   "metadata": {},
   "outputs": [],
   "source": [
    "from sim_out_of_africa import *\n",
    "from output_true_prs import *\n",
    "from compute_sum_stats import *\n",
    "#from output_emp_prs import *"
   ]
  },
  {
   "cell_type": "code",
   "execution_count": 4,
   "metadata": {},
   "outputs": [],
   "source": [
    "m = 1000\n",
    "h2 = 0.67\n",
    "path_tree = \"/Users/taylorcavazos/repos/Local_Ancestry_PRS/data/trees/tree_sub_CEU_1.95e5.hdf\"\n",
    "path_tree = \"/Users/taylorcavazos/repos/Local_Ancestry_PRS/data/trees/tree_YRI_5e4_CEU_2e5_chr22.hdf5\""
   ]
  },
  {
   "cell_type": "markdown",
   "metadata": {},
   "source": [
    "## Simulated admixed individuals"
   ]
  },
  {
   "cell_type": "markdown",
   "metadata": {},
   "source": [
    "Possible tools for admixture simulations\n",
    "* [admix-simu (C++ and python)](https://github.com/williamslab/admix-simu)\n",
    "    - 4 years old\n",
    "* [bnpsd (R package)](https://cran.r-project.org/web/packages/bnpsd/vignettes/bnpsd.pdf)\n",
    "    - Came out this year\n",
    "* [admixture-simulation](https://github.com/slowkoni/admixture-simulation)\n",
    "    - 2 years old"
   ]
  },
  {
   "cell_type": "markdown",
   "metadata": {},
   "source": [
    "### a: European and African populations for mating"
   ]
  },
  {
   "cell_type": "markdown",
   "metadata": {},
   "source": [
    "- 5000 Africans and 5000 Europeans\n",
    "- Will have difficulty with files much larger because have to write data to vcf and takes up lots of storage"
   ]
  },
  {
   "cell_type": "markdown",
   "metadata": {},
   "source": [
    "### b: Europeans for training"
   ]
  },
  {
   "cell_type": "markdown",
   "metadata": {},
   "source": [
    "- 100000 Europeans simulated with out-of-africa model\n",
    "- In tree structure"
   ]
  },
  {
   "cell_type": "markdown",
   "metadata": {},
   "source": [
    "### c: African Americans"
   ]
  },
  {
   "cell_type": "markdown",
   "metadata": {},
   "source": [
    "- Have 4000 admixed individuals\n",
    "- In future may need larger ~10,000 for doing training\n",
    "- If I don't use large enough base population these people may be too related"
   ]
  },
  {
   "cell_type": "raw",
   "metadata": {},
   "source": [
    "N_CEU = 200000\n",
    "N_YRI = 5000\n",
    "rmap = msprime.RecombinationMap.read_hapmap(\"/Users/taylorcavazos/repos/other_tools/admixture-data/input/genetic_map_GRCh37_chr22.txt\")"
   ]
  },
  {
   "cell_type": "raw",
   "metadata": {},
   "source": [
    "simulate_out_of_afr(N_CEU, N_YRI, rmap, \"../data/trees/\")"
   ]
  },
  {
   "cell_type": "code",
   "execution_count": null,
   "metadata": {},
   "outputs": [],
   "source": [
    "#tree_all = msprime.load(\"../data/trees/tree_YRI_5e4_CEU_2e6_chr22.hdf5\")\n",
    "sample_map_all = pd.read_csv(\"../data/trees/CEU_YRI_sample_map.txt\",sep=\"\\t\",header=None)"
   ]
  },
  {
   "cell_type": "raw",
   "metadata": {},
   "source": [
    "EUR_all = sample_map_all[sample_map_all.iloc[:,1]==\"CEU\"]\n",
    "YRI_all = sample_map_all[sample_map_all.iloc[:,1]==\"YRI\"]"
   ]
  },
  {
   "cell_type": "raw",
   "metadata": {},
   "source": [
    "EUR_mate = EUR_all.loc[np.random.choice(EUR_all.index,size=5000,replace=False)]"
   ]
  },
  {
   "cell_type": "raw",
   "metadata": {},
   "source": [
    "ALL_mate = pd.concat([EUR_mate,YRI_all]).sort_values(by=2)"
   ]
  },
  {
   "cell_type": "raw",
   "metadata": {},
   "source": [
    "ALL_mate.to_csv(\"../data/trees/mate_subset_sample_map.txt\",sep=\"\\t\",header=False,index=False)"
   ]
  },
  {
   "cell_type": "raw",
   "metadata": {},
   "source": [
    "mate_samples = []\n",
    "for ind in ALL_mate.index:\n",
    "    mate_samples.append(ALL_mate.loc[ind,2])\n",
    "    mate_samples.append(ALL_mate.loc[ind,3])"
   ]
  },
  {
   "cell_type": "raw",
   "metadata": {},
   "source": [
    "tree_mate,map_ids = tree_all.simplify(samples=mate_samples,filter_sites=False,map_nodes=True)"
   ]
  },
  {
   "cell_type": "raw",
   "metadata": {},
   "source": [
    "tree_mate.dump(\"../data/trees/tree_mate_YRI_5e4_CEU_5e4.hdf\")"
   ]
  },
  {
   "cell_type": "raw",
   "metadata": {},
   "source": [
    "open(\"../data/trees/mate_sample_ids.txt\",\"w\").write(\"\\n\".join(np.array(mate_samples).astype(str)))"
   ]
  },
  {
   "cell_type": "raw",
   "metadata": {},
   "source": [
    "mate_samples = open(\"/Users/taylorcavazos/repos/Local_Ancestry_PRS/data/trees/mate_sample_ids.txt\").read().splitlines()"
   ]
  },
  {
   "cell_type": "raw",
   "metadata": {},
   "source": [
    "mate_samples"
   ]
  },
  {
   "cell_type": "code",
   "execution_count": null,
   "metadata": {},
   "outputs": [],
   "source": [
    "all_data = np.array(tree_all.samples())"
   ]
  },
  {
   "cell_type": "code",
   "execution_count": null,
   "metadata": {},
   "outputs": [],
   "source": [
    "other_samps = np.delete(all_data,mate_samples)"
   ]
  },
  {
   "cell_type": "code",
   "execution_count": null,
   "metadata": {},
   "outputs": [],
   "source": [
    "tree_other = tree_all.simplify(samples = other_samps, filter_sites=False)"
   ]
  },
  {
   "cell_type": "raw",
   "metadata": {},
   "source": [
    "tree_other.dump(\"../data/trees/tree_sub_CEU_1.95e5\")"
   ]
  },
  {
   "cell_type": "raw",
   "metadata": {},
   "source": [
    "with gzip.open(\"/Users/taylorcavazos/repos/other_tools/admixture-data/input/CEU_YRI_chr22_1e4.vcf.gz\", \"wt\") as f:\n",
    "    tree_mate.write_vcf(f,ploidy=2,contig_id=\"22\") "
   ]
  },
  {
   "cell_type": "raw",
   "metadata": {},
   "source": [
    "tree_mate = msprime.load(\"../data/trees/tree_mate_YRI_5e4_CEU_5e4.hdf\")"
   ]
  },
  {
   "cell_type": "raw",
   "metadata": {},
   "source": [
    "write_sample_map(tree_mate,\"/Users/taylorcavazos/repos/other_tools/admixture-data/input/\",\n",
    "                5000,5000)"
   ]
  },
  {
   "cell_type": "code",
   "execution_count": null,
   "metadata": {},
   "outputs": [],
   "source": [
    "tree = msprime.load(path_tree)"
   ]
  },
  {
   "cell_type": "code",
   "execution_count": null,
   "metadata": {},
   "outputs": [],
   "source": [
    "sample_map_all = pd.read_csv(\"/Users/taylorcavazos/repos/Local_Ancestry_PRS/data/trees/CEU_YRI_sample_map.txt\",sep=\"\\t\",header=None)"
   ]
  },
  {
   "cell_type": "code",
   "execution_count": null,
   "metadata": {},
   "outputs": [],
   "source": [
    "eur_only = sample_map_all[sample_map_all.iloc[:,1]==\"CEU\"].index"
   ]
  },
  {
   "cell_type": "code",
   "execution_count": null,
   "metadata": {},
   "outputs": [],
   "source": [
    "new_tree = tree.simplify(samples=eur_only,filter_sites=False)"
   ]
  },
  {
   "cell_type": "code",
   "execution_count": null,
   "metadata": {},
   "outputs": [],
   "source": [
    "import itertools"
   ]
  },
  {
   "cell_type": "code",
   "execution_count": null,
   "metadata": {},
   "outputs": [],
   "source": [
    "list(itertools.islice(new_tree.mutations(),10))"
   ]
  },
  {
   "cell_type": "code",
   "execution_count": null,
   "metadata": {},
   "outputs": [],
   "source": [
    "new_tree.mutations()"
   ]
  },
  {
   "cell_type": "code",
   "execution_count": null,
   "metadata": {},
   "outputs": [],
   "source": [
    "new_tree.num_sites"
   ]
  },
  {
   "cell_type": "code",
   "execution_count": null,
   "metadata": {},
   "outputs": [],
   "source": [
    "list(itertools.islice(new_tree.variants(),10))[0]"
   ]
  },
  {
   "cell_type": "code",
   "execution_count": null,
   "metadata": {},
   "outputs": [],
   "source": [
    "list(itertools.islice(new_tree.mutations(),10))"
   ]
  },
  {
   "cell_type": "code",
   "execution_count": null,
   "metadata": {},
   "outputs": [],
   "source": [
    "sum_stats = pd.read_csv(\"/Users/taylorcavazos/repos/Local_Ancestry_PRS/data/comm_maf_0.01_sum_stats_m_{}_h2_{}.txt\".format(m,h2),sep=\"\\t\",index_col=0)"
   ]
  },
  {
   "cell_type": "code",
   "execution_count": null,
   "metadata": {
    "scrolled": true
   },
   "outputs": [],
   "source": [
    "prs = sum_stats[sum_stats[\"p-value\"]<5e-8]"
   ]
  },
  {
   "cell_type": "code",
   "execution_count": null,
   "metadata": {},
   "outputs": [],
   "source": [
    "len(prs)"
   ]
  },
  {
   "cell_type": "code",
   "execution_count": null,
   "metadata": {},
   "outputs": [],
   "source": [
    "mut_sites = []\n",
    "for mut in new_tree.mutations():\n",
    "    mut_sites.append(mut.site)"
   ]
  },
  {
   "cell_type": "code",
   "execution_count": null,
   "metadata": {},
   "outputs": [],
   "source": [
    "new_prs = prs.loc[np.intersect1d(mut_sites,prs.index)].reset_index()"
   ]
  },
  {
   "cell_type": "code",
   "execution_count": null,
   "metadata": {
    "scrolled": true
   },
   "outputs": [],
   "source": [
    "new_prs.shape"
   ]
  },
  {
   "cell_type": "code",
   "execution_count": null,
   "metadata": {},
   "outputs": [],
   "source": [
    "sum_stats.loc[62,\"OR\"]"
   ]
  },
  {
   "cell_type": "code",
   "execution_count": null,
   "metadata": {},
   "outputs": [],
   "source": [
    "float(new_prs.loc[new_prs[\"var_id\"]==62,\"OR\"])"
   ]
  },
  {
   "cell_type": "code",
   "execution_count": null,
   "metadata": {},
   "outputs": [],
   "source": [
    "len(mut_sites)"
   ]
  },
  {
   "cell_type": "code",
   "execution_count": null,
   "metadata": {},
   "outputs": [],
   "source": [
    "tree.num_sites"
   ]
  },
  {
   "cell_type": "code",
   "execution_count": null,
   "metadata": {},
   "outputs": [],
   "source": [
    "tree.num_mutations"
   ]
  },
  {
   "cell_type": "markdown",
   "metadata": {},
   "source": [
    "## Get proportion of local ancestry"
   ]
  },
  {
   "cell_type": "code",
   "execution_count": null,
   "metadata": {},
   "outputs": [],
   "source": [
    "path_tree = \"/Users/taylorcavazos/repos/Local_Ancestry_PRS/data/trees/tree_sub_CEU_1.95e5.hdf\""
   ]
  },
  {
   "cell_type": "code",
   "execution_count": null,
   "metadata": {},
   "outputs": [],
   "source": [
    "n_sites = msprime.load(path_tree).num_sites"
   ]
  },
  {
   "cell_type": "code",
   "execution_count": null,
   "metadata": {},
   "outputs": [],
   "source": [
    "with open(\"/Users/taylorcavazos/repos/other_tools/admixture-data/output/admix_afr_amer.result\") as f:\n",
    "    pbar = tqdm.tqdm(total=n_sites+1)\n",
    "    ind = 0\n",
    "    clumped_prs_vars = np.array(open(\"/Users/taylorcavazos/repos/Local_Ancestry_PRS/data/prs_vars_p_5e-8_r2_0.2.txt\").read().splitlines()).astype(int)\n",
    "    for line in f:\n",
    "        line_spl = line.split(\"\\t\")\n",
    "        if ind == 0:\n",
    "            sample_haps = line_spl[2:]\n",
    "            samples = [sample_haps[i].split(\".\")[0] for i in range(0,len(sample_haps),2)]\n",
    "            anc_df = pd.DataFrame(columns=samples)\n",
    "            counts_CEU = np.zeros(len(samples))\n",
    "            counts_YRI = np.zeros(len(samples))\n",
    "        elif ind-1 in clumped_prs_vars:\n",
    "            haplo_anc = np.array(line_spl[2:]).astype(int)\n",
    "            YRI_arr = haplo_anc-1\n",
    "            CEU_arr = np.absolute(1-YRI_arr)\n",
    "            line_counts_CEU = np.add.reduceat(CEU_arr, np.arange(0, len(CEU_arr), 2))\n",
    "            #SNP=line_spl[0]+\"_\"+line_spl[1]            \n",
    "            anc_df.loc[ind-1,:] = line_counts_CEU\n",
    "            \n",
    "        ind+=1\n",
    "        pbar.update(1)\n",
    "    anc_df.to_csv(\"/Users/taylorcavazos/repos/Local_Ancestry_PRS/data/CEU_counts_prs_vars.txt\",sep=\"\\t\")"
   ]
  },
  {
   "cell_type": "code",
   "execution_count": null,
   "metadata": {},
   "outputs": [],
   "source": [
    "anc_df"
   ]
  },
  {
   "cell_type": "raw",
   "metadata": {
    "scrolled": true
   },
   "source": [
    "with open(\"/Users/taylorcavazos/repos/other_tools/admixture-data/output/admix_afr_amer.result\") as f:\n",
    "    pbar = tqdm.tqdm(total=n_sites+1)\n",
    "    ind = 0\n",
    "    for line in f:\n",
    "        if ind == 0:\n",
    "            sample_haps = line.split(\"\\t\")[2:]\n",
    "            samples = [sample_haps[i].split(\".\")[0] for i in range(0,len(sample_haps),2)]\n",
    "            anc_df = pd.DataFrame(index=samples,columns=[\"Prop_CEU\",\"Prop_YRI\"])\n",
    "            counts_CEU = np.zeros(len(samples))\n",
    "            counts_YRI = np.zeros(len(samples))\n",
    "        elif ind-1 in clumped_prs_vars:\n",
    "            haplo_anc = np.array(line.split(\"\\t\")[2:]).astype(int)\n",
    "            YRI_arr = haplo_anc-1\n",
    "            line_counts_YRI = np.add.reduceat(YRI_arr, np.arange(0, len(YRI_arr), 2))\n",
    "            \n",
    "            CEU_arr = np.absolute(1-YRI_arr)\n",
    "            line_counts_CEU = np.add.reduceat(CEU_arr, np.arange(0, len(CEU_arr), 2))\n",
    "            \n",
    "            counts_CEU = counts_CEU+line_counts_CEU\n",
    "            counts_YRI = counts_YRI+line_counts_YRI\n",
    "        ind+=1\n",
    "        pbar.update(1)\n",
    "    #anc_df[\"Prop_CEU\"] = counts_CEU/(2*(ind-1))\n",
    "    #anc_df[\"Prop_YRI\"] = counts_YRI/(2*(ind-1))\n",
    "    anc_df[\"Prop_CEU\"] = counts_CEU/(2*len(clumped_prs_vars))\n",
    "    anc_df[\"Prop_YRI\"] = counts_YRI/(2*len(clumped_prs_vars))\n",
    "    anc_df.to_csv(\"/Users/taylorcavazos/repos/other_tools/admixture-data/output/admix_afr_amer_PRS.prop.anc\",sep=\"\\t\")"
   ]
  },
  {
   "cell_type": "code",
   "execution_count": 5,
   "metadata": {},
   "outputs": [],
   "source": [
    "prop_anc = pd.read_csv(\"/Users/taylorcavazos/repos/other_tools/admixture-data/output/admix_afr_amer_PRS.prop.anc\",\n",
    "           sep=\"\\t\",index_col=0)"
   ]
  },
  {
   "cell_type": "code",
   "execution_count": null,
   "metadata": {},
   "outputs": [],
   "source": [
    "plt.hist(prop_anc[\"Prop_CEU\"])\n",
    "plt.show()"
   ]
  },
  {
   "cell_type": "code",
   "execution_count": null,
   "metadata": {},
   "outputs": [],
   "source": [
    "prop_anc[prop_anc[\"Prop_CEU\"]<=0.2].shape"
   ]
  },
  {
   "cell_type": "code",
   "execution_count": null,
   "metadata": {},
   "outputs": [],
   "source": [
    "prop_anc[prop_anc[\"Prop_CEU\"]>=0.8].shape"
   ]
  },
  {
   "cell_type": "code",
   "execution_count": null,
   "metadata": {},
   "outputs": [],
   "source": [
    "prop_anc[(prop_anc[\"Prop_CEU\"]<0.8)&(prop_anc[\"Prop_CEU\"]>0.2)].shape"
   ]
  },
  {
   "cell_type": "markdown",
   "metadata": {},
   "source": [
    "## Calculate True PRSs for all individuals"
   ]
  },
  {
   "cell_type": "code",
   "execution_count": null,
   "metadata": {},
   "outputs": [],
   "source": [
    "import output_true_prs"
   ]
  },
  {
   "cell_type": "markdown",
   "metadata": {},
   "source": [
    "Assume same causal variants and effect sizes"
   ]
  },
  {
   "cell_type": "markdown",
   "metadata": {},
   "source": [
    "Average true PRS over a 100 iterations"
   ]
  },
  {
   "cell_type": "raw",
   "metadata": {},
   "source": [
    "output_true_prs.main(path_tree,m,h2,\"/Users/taylorcavazos/repos/Local_Ancestry_PRS/data/true_prs/prs_m_{}_h2_{}\".format(m,h2),iters=100,\n",
    "                     admix_vcf = \"/Users/taylorcavazos/repos/other_tools/admixture-data/output/admix_afr_amer.query.vcf\")"
   ]
  },
  {
   "cell_type": "code",
   "execution_count": null,
   "metadata": {},
   "outputs": [],
   "source": [
    "f = h5py.File('/Users/taylorcavazos/repos/Local_Ancestry_PRS/data/true_prs/prs_m_1000_h2_0.67.hdf5', 'r')"
   ]
  },
  {
   "cell_type": "code",
   "execution_count": null,
   "metadata": {},
   "outputs": [],
   "source": [
    "f.keys()"
   ]
  },
  {
   "cell_type": "code",
   "execution_count": null,
   "metadata": {},
   "outputs": [],
   "source": [
    "f['labels'][()]"
   ]
  },
  {
   "cell_type": "code",
   "execution_count": null,
   "metadata": {
    "scrolled": true
   },
   "outputs": [],
   "source": [
    "ceu_anc_prop = [1]*(f['G'].shape[0]-prop_anc.shape[0])+list(prop_anc[\"Prop_CEU\"])"
   ]
  },
  {
   "cell_type": "code",
   "execution_count": null,
   "metadata": {},
   "outputs": [],
   "source": [
    "len(ceu_anc_prop)"
   ]
  },
  {
   "cell_type": "code",
   "execution_count": null,
   "metadata": {},
   "outputs": [],
   "source": [
    "plt.scatter(x=f['G'][()],y=ceu_anc_prop)\n",
    "plt.xlabel(\"True Polygenic Risk Score\",fontsize=14)\n",
    "plt.ylabel(\"Proportion European Ancestry\",fontsize=14)\n",
    "plt.show()"
   ]
  },
  {
   "cell_type": "markdown",
   "metadata": {},
   "source": [
    "## Select Cases and Controls"
   ]
  },
  {
   "cell_type": "code",
   "execution_count": null,
   "metadata": {},
   "outputs": [],
   "source": [
    "sns.distplot(f['G'][()])\n",
    "plt.vlines(x=np.percentile(f['G'][()],95),ymin=0,ymax=0.5)\n",
    "plt.show()"
   ]
  },
  {
   "cell_type": "raw",
   "metadata": {},
   "source": [
    "G = f['G'][()]"
   ]
  },
  {
   "cell_type": "raw",
   "metadata": {},
   "source": [
    "np.random.seed(seed=42)\n",
    "e = np.random.normal(loc=0, scale=(1-h2), size=int(G.shape[0]))\n",
    "Ze = (e - np.mean(e))/np.std(e)\n",
    "E = np.sqrt(1-h2)*Ze"
   ]
  },
  {
   "cell_type": "code",
   "execution_count": null,
   "metadata": {},
   "outputs": [],
   "source": [
    "sns.distplot(G+E)\n",
    "plt.vlines(x=np.percentile(G+E,95),ymin=0,ymax=0.4)\n",
    "plt.show()"
   ]
  },
  {
   "cell_type": "raw",
   "metadata": {},
   "source": [
    "labels = f['labels'][()].astype(str)"
   ]
  },
  {
   "cell_type": "raw",
   "metadata": {},
   "source": [
    "labels_case = labels[np.where(G+E>np.percentile(G+E,95))[0]]\n",
    "labels_control = labels[np.where(G+E<=np.percentile(G+E,95))[0]]"
   ]
  },
  {
   "cell_type": "raw",
   "metadata": {},
   "source": []
  },
  {
   "cell_type": "raw",
   "metadata": {},
   "source": [
    "meta_data = prop_anc.reindex(labels)\n",
    "meta_data[\"Prop_CEU\"] = meta_data[\"Prop_CEU\"].fillna(value=1)\n",
    "meta_data[\"Prop_YRI\"] = meta_data[\"Prop_YRI\"].fillna(value=0)"
   ]
  },
  {
   "cell_type": "raw",
   "metadata": {},
   "source": [
    "meta_data.loc[labels_case,\"Disease\"]=1\n",
    "meta_data.loc[labels_control,\"Disease\"]=0"
   ]
  },
  {
   "cell_type": "raw",
   "metadata": {},
   "source": [
    "sns.boxplot(x=\"Disease\",y=\"Prop_CEU\",data=meta_data)\n",
    "plt.show()"
   ]
  },
  {
   "cell_type": "raw",
   "metadata": {},
   "source": [
    "meta_data[\"Disease\"] = meta_data.Disease.astype(int)\n",
    "meta_data[\"truePRS\"] = G\n",
    "meta_data[\"envNoise\"] = E"
   ]
  },
  {
   "cell_type": "raw",
   "metadata": {},
   "source": [
    "msp_inds = [ind for ind in meta_data.index if \"msp\" in ind]\n",
    "eur_only = meta_data.loc[msp_inds,:]"
   ]
  },
  {
   "cell_type": "raw",
   "metadata": {},
   "source": [
    "admix_only = meta_data.loc[prop_anc.index]"
   ]
  },
  {
   "cell_type": "raw",
   "metadata": {},
   "source": [
    "eur_test_case = np.random.choice(eur_only[eur_only[\"Disease\"]==1].index,size=300,replace=False)\n",
    "eur_test_control = np.random.choice(eur_only[eur_only[\"Disease\"]==0].index,size=3700,replace=False)"
   ]
  },
  {
   "cell_type": "raw",
   "metadata": {},
   "source": [
    "eur_train_case = np.random.choice(eur_only[eur_only[\"Disease\"]==1].drop(eur_test_case).index,size=9000,replace=False)\n",
    "eur_train_control = np.random.choice(eur_only[eur_only[\"Disease\"]==0].drop(eur_test_control).index,size=90000,replace=False)"
   ]
  },
  {
   "cell_type": "code",
   "execution_count": null,
   "metadata": {},
   "outputs": [],
   "source": [
    "sns.distplot(meta_data.loc[eur_train_case,\"truePRS\"],color=\"red\")\n",
    "sns.distplot(meta_data.loc[eur_train_control,\"truePRS\"],color=\"blue\")\n",
    "plt.show()"
   ]
  },
  {
   "cell_type": "code",
   "execution_count": null,
   "metadata": {},
   "outputs": [],
   "source": [
    "sns.distplot(meta_data.loc[eur_test_case,\"truePRS\"],color=\"red\")\n",
    "sns.distplot(meta_data.loc[eur_test_control,\"truePRS\"],color=\"blue\")\n",
    "plt.show()"
   ]
  },
  {
   "cell_type": "code",
   "execution_count": null,
   "metadata": {},
   "outputs": [],
   "source": [
    "sns.distplot(meta_data.loc[meta_data.Disease==1,\"truePRS\"],color=\"red\")\n",
    "sns.distplot(meta_data.loc[meta_data.Disease==0,\"truePRS\"],color=\"blue\")\n",
    "plt.show()"
   ]
  },
  {
   "cell_type": "raw",
   "metadata": {},
   "source": [
    "meta_data.to_csv(\"/Users/taylorcavazos/repos/Local_Ancestry_PRS/data/sim_data_meta_m_{}_h2_{}.txt\".format(m,h2),sep=\"\\t\")"
   ]
  },
  {
   "cell_type": "raw",
   "metadata": {},
   "source": [
    "train_cases = np.array([item.split(\"_\")[1] for item in eur_train_case]).astype(int)\n",
    "train_controls = np.array([item.split(\"_\")[1] for item in eur_train_control]).astype(int)\n",
    "test_cases = np.array([item.split(\"_\")[1] for item in eur_test_case]).astype(int)\n",
    "test_controls = np.array([item.split(\"_\")[1] for item in eur_test_control]).astype(int)"
   ]
  },
  {
   "cell_type": "raw",
   "metadata": {},
   "source": [
    "with h5py.File('/Users/taylorcavazos/repos/Local_Ancestry_PRS/data/train_test_CEU_m_{}_h2_{}.hdf5'.format(m,h2), 'w') as f:\n",
    "    f.create_dataset(\"train_cases\",train_cases.shape,dtype=int,data=train_cases)\n",
    "    f.create_dataset(\"train_controls\",train_controls.shape,dtype=int,data=train_controls)\n",
    "    f.create_dataset(\"test_cases\",test_cases.shape,dtype=int,data=test_cases)\n",
    "    f.create_dataset(\"test_controls\",test_controls.shape,dtype=int,data=test_controls)"
   ]
  },
  {
   "cell_type": "markdown",
   "metadata": {},
   "source": [
    "## Perform GWAS with training European samples"
   ]
  },
  {
   "cell_type": "markdown",
   "metadata": {},
   "source": [
    "#### Calculate MAF EUR"
   ]
  },
  {
   "cell_type": "code",
   "execution_count": null,
   "metadata": {},
   "outputs": [],
   "source": [
    "tree = msprime.load(path_tree)\n",
    "n_sites = tree.num_sites"
   ]
  },
  {
   "cell_type": "raw",
   "metadata": {},
   "source": [
    "maf = []\n",
    "pbar = tqdm.tqdm(total=tree.num_sites)\n",
    "for variant in tree.variants():\n",
    "    genos_diploid = return_diploid_genos(variant.genotypes,tree)\n",
    "    freq = np.sum(genos_diploid,axis=1)/(2*genos_diploid.shape[1])\n",
    "    if freq < 0.5: maf.append(freq)\n",
    "    else: maf.append(1-freq)\n",
    "    pbar.update(1)"
   ]
  },
  {
   "cell_type": "raw",
   "metadata": {},
   "source": [
    "np.savetxt(\"/Users/taylorcavazos/repos/Local_Ancestry_PRS/data/maf.txt\",maf)"
   ]
  },
  {
   "cell_type": "markdown",
   "metadata": {},
   "source": [
    "#### Perform GWAS"
   ]
  },
  {
   "cell_type": "raw",
   "metadata": {},
   "source": [
    "python run_compute_sum_stats.py > sum.stats.log.txt"
   ]
  },
  {
   "cell_type": "code",
   "execution_count": null,
   "metadata": {},
   "outputs": [],
   "source": [
    "from statsmodels.stats import multitest"
   ]
  },
  {
   "cell_type": "raw",
   "metadata": {},
   "source": [
    "sum_stats = pd.read_csv(\"/Users/taylorcavazos/repos/Local_Ancestry_PRS/data/comm_maf_0.01_sum_stats_m_{}_h2_{}.txt\".format(m,h2),sep=\"\\t\",index_col=0)\n",
    "_,cor_p,_,_ = multitest.multipletests(sum_stats.loc[:,\"p-value\"], method=\"fdr_bh\")\n",
    "sum_stats[\"fdr\"]=cor_p\n",
    "sum_stats.to_csv(\"/Users/taylorcavazos/repos/Local_Ancestry_PRS/data/comm_maf_0.01_sum_stats_m_{}_h2_{}_fdr.txt\".format(m,h2),sep=\"\\t\")"
   ]
  },
  {
   "cell_type": "markdown",
   "metadata": {},
   "source": [
    "## Calculate Expected PRS for everyone"
   ]
  },
  {
   "cell_type": "code",
   "execution_count": null,
   "metadata": {},
   "outputs": [],
   "source": [
    "from output_emp_prs import *"
   ]
  },
  {
   "cell_type": "code",
   "execution_count": 6,
   "metadata": {},
   "outputs": [],
   "source": [
    "tree = msprime.load(path_tree)\n",
    "n_sites = tree.num_sites"
   ]
  },
  {
   "cell_type": "code",
   "execution_count": 7,
   "metadata": {},
   "outputs": [],
   "source": [
    "bonf_p = 0.05/n_sites"
   ]
  },
  {
   "cell_type": "code",
   "execution_count": 8,
   "metadata": {},
   "outputs": [
    {
     "data": {
      "text/plain": [
       "3.807786008518779e-08"
      ]
     },
     "execution_count": 8,
     "metadata": {},
     "output_type": "execute_result"
    }
   ],
   "source": [
    "bonf_p"
   ]
  },
  {
   "cell_type": "code",
   "execution_count": 9,
   "metadata": {},
   "outputs": [],
   "source": [
    "sum_stats = pd.read_csv(\"/Users/taylorcavazos/repos/Local_Ancestry_PRS/data/comm_maf_0.01_sum_stats_m_{}_h2_{}_fdr.txt\".format(m,h2),sep=\"\\t\",index_col=0)"
   ]
  },
  {
   "cell_type": "code",
   "execution_count": 10,
   "metadata": {},
   "outputs": [],
   "source": [
    "prs_vars = sum_stats[sum_stats[\"p-value\"] < bonf_p].sort_values(by=[\"p-value\"])"
   ]
  },
  {
   "cell_type": "code",
   "execution_count": 11,
   "metadata": {},
   "outputs": [
    {
     "data": {
      "text/plain": [
       "(25688, 3)"
      ]
     },
     "execution_count": 11,
     "metadata": {},
     "output_type": "execute_result"
    }
   ],
   "source": [
    "prs_vars.shape"
   ]
  },
  {
   "cell_type": "markdown",
   "metadata": {},
   "source": [
    "prs_vars.head(1000).tail(1)"
   ]
  },
  {
   "cell_type": "markdown",
   "metadata": {},
   "source": [
    "ld_struct = find_ld_sites(tree, [229402],r2_threshold=0.2,num_threads=1)"
   ]
  },
  {
   "cell_type": "code",
   "execution_count": 12,
   "metadata": {},
   "outputs": [],
   "source": [
    "f = h5py.File('/Users/taylorcavazos/repos/Local_Ancestry_PRS/data/emp_prs/emp_prs_m_1000_h2_0.67_LD_ALL.hdf5', 'r')"
   ]
  },
  {
   "cell_type": "code",
   "execution_count": 13,
   "metadata": {},
   "outputs": [
    {
     "data": {
      "text/plain": [
       "<KeysViewHDF5 ['X', 'labels']>"
      ]
     },
     "execution_count": 13,
     "metadata": {},
     "output_type": "execute_result"
    }
   ],
   "source": [
    "f.keys()"
   ]
  },
  {
   "cell_type": "code",
   "execution_count": 14,
   "metadata": {},
   "outputs": [
    {
     "data": {
      "text/plain": [
       "array([b'msp_0', b'msp_1', b'msp_2', ..., b'50c36e0f', b'35048bc5',\n",
       "       b'1cb4b81d'], dtype='|S10')"
      ]
     },
     "execution_count": 14,
     "metadata": {},
     "output_type": "execute_result"
    }
   ],
   "source": [
    "f['labels'][()]"
   ]
  },
  {
   "cell_type": "code",
   "execution_count": 15,
   "metadata": {},
   "outputs": [],
   "source": [
    "emp = f['X'][()]\n",
    "emp_Z = (emp - np.mean(emp))/np.std(emp)"
   ]
  },
  {
   "cell_type": "code",
   "execution_count": 16,
   "metadata": {},
   "outputs": [],
   "source": [
    "f_LA = h5py.File('/Users/taylorcavazos/repos/Local_Ancestry_PRS/data/emp_prs/emp_prs_m_1000_h2_0.67_LD_ADMIX_UNWEIGHT.hdf5', 'r')\n",
    "emp_LA = f_LA['X'][()]\n",
    "emp_Z_LA = (emp_LA - np.mean(emp_LA))/np.std(emp_LA)\n",
    "LA_only_labels = f_LA['labels'][()].astype(str)"
   ]
  },
  {
   "cell_type": "code",
   "execution_count": 17,
   "metadata": {},
   "outputs": [],
   "source": [
    "t = h5py.File('/Users/taylorcavazos/repos/Local_Ancestry_PRS/data/true_prs/prs_m_1000_h2_0.67.hdf5', 'r')"
   ]
  },
  {
   "cell_type": "code",
   "execution_count": 18,
   "metadata": {},
   "outputs": [],
   "source": [
    "true = t['Zx'][()]"
   ]
  },
  {
   "cell_type": "code",
   "execution_count": 19,
   "metadata": {},
   "outputs": [
    {
     "data": {
      "text/plain": [
       "array([b'msp_0', b'msp_1', b'msp_2', ..., b'50c36e0f', b'35048bc5',\n",
       "       b'1cb4b81d'], dtype='|S10')"
      ]
     },
     "execution_count": 19,
     "metadata": {},
     "output_type": "execute_result"
    }
   ],
   "source": [
    "t['labels'][()]"
   ]
  },
  {
   "cell_type": "code",
   "execution_count": 20,
   "metadata": {},
   "outputs": [
    {
     "data": {
      "text/plain": [
       "(199000,)"
      ]
     },
     "execution_count": 20,
     "metadata": {},
     "output_type": "execute_result"
    }
   ],
   "source": [
    "emp.shape"
   ]
  },
  {
   "cell_type": "code",
   "execution_count": 21,
   "metadata": {},
   "outputs": [
    {
     "data": {
      "text/plain": [
       "(199000,)"
      ]
     },
     "execution_count": 21,
     "metadata": {},
     "output_type": "execute_result"
    }
   ],
   "source": [
    "true.shape"
   ]
  },
  {
   "cell_type": "code",
   "execution_count": 22,
   "metadata": {},
   "outputs": [
    {
     "data": {
      "image/png": "[encoded data removed]",
      "text/plain": [
       "<Figure size 432x288 with 1 Axes>"
      ]
     },
     "metadata": {
      "needs_background": "light"
     },
     "output_type": "display_data"
    }
   ],
   "source": [
    "plt.scatter(true,emp_Z)\n",
    "plt.show()"
   ]
  },
  {
   "cell_type": "code",
   "execution_count": 23,
   "metadata": {},
   "outputs": [],
   "source": [
    "train_test = h5py.File(\"/Users/taylorcavazos/repos/Local_Ancestry_PRS/data/train_test_CEU_m_1000_h2_0.67.hdf5\")"
   ]
  },
  {
   "cell_type": "code",
   "execution_count": 24,
   "metadata": {},
   "outputs": [
    {
     "data": {
      "text/plain": [
       "<KeysViewHDF5 ['test_cases', 'test_controls', 'train_cases', 'train_controls']>"
      ]
     },
     "execution_count": 24,
     "metadata": {},
     "output_type": "execute_result"
    }
   ],
   "source": [
    "train_test.keys()"
   ]
  },
  {
   "cell_type": "code",
   "execution_count": 25,
   "metadata": {},
   "outputs": [],
   "source": [
    "training = np.append(train_test[\"train_controls\"][()],train_test[\"train_cases\"][()])\n",
    "testing = np.append(train_test[\"test_controls\"][()],train_test[\"test_cases\"][()])"
   ]
  },
  {
   "cell_type": "code",
   "execution_count": 26,
   "metadata": {},
   "outputs": [
    {
     "data": {
      "text/plain": [
       "90000"
      ]
     },
     "execution_count": 26,
     "metadata": {},
     "output_type": "execute_result"
    }
   ],
   "source": [
    "len(train_test[\"train_controls\"][()])"
   ]
  },
  {
   "cell_type": "code",
   "execution_count": 27,
   "metadata": {},
   "outputs": [
    {
     "data": {
      "text/plain": [
       "9000"
      ]
     },
     "execution_count": 27,
     "metadata": {},
     "output_type": "execute_result"
    }
   ],
   "source": [
    "len(train_test[\"train_cases\"][()])"
   ]
  },
  {
   "cell_type": "code",
   "execution_count": 28,
   "metadata": {},
   "outputs": [],
   "source": [
    "training_msp = [\"msp_\"+str(train) for train in training]\n",
    "testing_msp = [\"msp_\"+str(test) for test in testing]"
   ]
  },
  {
   "cell_type": "code",
   "execution_count": 29,
   "metadata": {},
   "outputs": [],
   "source": [
    "labels = t['labels'][()].astype(str)"
   ]
  },
  {
   "cell_type": "code",
   "execution_count": 30,
   "metadata": {},
   "outputs": [],
   "source": [
    "label_inds = pd.DataFrame(np.arange(0,len(labels)),index = labels)\n",
    "LA_label_inds = pd.DataFrame(np.arange(0,len(LA_only_labels)),index = LA_only_labels)"
   ]
  },
  {
   "cell_type": "code",
   "execution_count": 31,
   "metadata": {},
   "outputs": [],
   "source": [
    "train_inds = label_inds.loc[training_msp,0].values\n",
    "test_inds = label_inds.loc[testing_msp,0].values"
   ]
  },
  {
   "cell_type": "code",
   "execution_count": 32,
   "metadata": {
    "scrolled": true
   },
   "outputs": [],
   "source": [
    "admix = label_inds.loc[prop_anc.index,0].values\n",
    "LA_admix = LA_label_inds.loc[prop_anc.index,0].values"
   ]
  },
  {
   "cell_type": "code",
   "execution_count": 33,
   "metadata": {},
   "outputs": [],
   "source": [
    "low_admix = label_inds.loc[prop_anc[prop_anc[\"Prop_CEU\"]>0.8].index,0].values\n",
    "mid1 = label_inds.loc[prop_anc[(prop_anc[\"Prop_CEU\"]>0.2)&(prop_anc[\"Prop_CEU\"]<=0.4)].index,0].values\n",
    "mid2 = label_inds.loc[prop_anc[(prop_anc[\"Prop_CEU\"]>0.4)&(prop_anc[\"Prop_CEU\"]<=0.6)].index,0].values\n",
    "mid3 = label_inds.loc[prop_anc[(prop_anc[\"Prop_CEU\"]>0.6)&(prop_anc[\"Prop_CEU\"]<=0.8)].index,0].values\n",
    "high_admix = label_inds.loc[prop_anc[prop_anc[\"Prop_CEU\"]<=0.2].index,0].values"
   ]
  },
  {
   "cell_type": "code",
   "execution_count": 34,
   "metadata": {},
   "outputs": [],
   "source": [
    "LA_low_admix = LA_label_inds.loc[prop_anc[prop_anc[\"Prop_CEU\"]>0.8].index,0].values\n",
    "LA_mid1 = LA_label_inds.loc[prop_anc[(prop_anc[\"Prop_CEU\"]>0.2)&(prop_anc[\"Prop_CEU\"]<=0.4)].index,0].values\n",
    "LA_mid2 = LA_label_inds.loc[prop_anc[(prop_anc[\"Prop_CEU\"]>0.4)&(prop_anc[\"Prop_CEU\"]<=0.6)].index,0].values\n",
    "LA_mid3 = LA_label_inds.loc[prop_anc[(prop_anc[\"Prop_CEU\"]>0.6)&(prop_anc[\"Prop_CEU\"]<=0.8)].index,0].values\n",
    "LA_high_admix = LA_label_inds.loc[prop_anc[prop_anc[\"Prop_CEU\"]<=0.2].index,0].values"
   ]
  },
  {
   "cell_type": "code",
   "execution_count": 35,
   "metadata": {},
   "outputs": [
    {
     "data": {
      "image/png": "[encoded data removed]",
      "text/plain": [
       "<Figure size 432x288 with 1 Axes>"
      ]
     },
     "metadata": {
      "needs_background": "light"
     },
     "output_type": "display_data"
    }
   ],
   "source": [
    "plt.scatter(true[test_inds],emp_Z[test_inds],s=10,color=\"gray\")\n",
    "plt.scatter(true[low_admix],emp_Z[low_admix],color=\"red\",s=10)\n",
    "#plt.scatter(true[low_admix],emp_Z_LA[LA_low_admix],color=\"blue\",s=10)\n",
    "plt.scatter(true[high_admix],emp_Z[high_admix],color=\"blue\",s=10)\n",
    "#plt.scatter(true[high_admix],emp_Z_LA[LA_high_admix],color=\"blue\",s=10)\n",
    "#plt.scatter(true[mid_admix],emp_Z[mid_admix],color=\"orange\",s=10)\n",
    "\n",
    "plt.show()"
   ]
  },
  {
   "cell_type": "code",
   "execution_count": 36,
   "metadata": {
    "scrolled": false
   },
   "outputs": [
    {
     "data": {
      "text/plain": [
       "(0.6452842291810224, 0.0)"
      ]
     },
     "execution_count": 36,
     "metadata": {},
     "output_type": "execute_result"
    }
   ],
   "source": [
    "stats.pearsonr(true[test_inds],emp_Z[test_inds])"
   ]
  },
  {
   "cell_type": "markdown",
   "metadata": {},
   "source": [
    "CEU > 0.8"
   ]
  },
  {
   "cell_type": "code",
   "execution_count": 37,
   "metadata": {},
   "outputs": [
    {
     "data": {
      "text/plain": [
       "330"
      ]
     },
     "execution_count": 37,
     "metadata": {},
     "output_type": "execute_result"
    }
   ],
   "source": [
    "len(low_admix)"
   ]
  },
  {
   "cell_type": "code",
   "execution_count": 38,
   "metadata": {
    "scrolled": true
   },
   "outputs": [
    {
     "data": {
      "text/plain": [
       "(0.6063464890183036, 1.6408427561048004e-34)"
      ]
     },
     "execution_count": 38,
     "metadata": {},
     "output_type": "execute_result"
    }
   ],
   "source": [
    "stats.pearsonr(true[low_admix],emp_Z[low_admix])"
   ]
  },
  {
   "cell_type": "code",
   "execution_count": 39,
   "metadata": {},
   "outputs": [
    {
     "data": {
      "text/plain": [
       "(0.603608653479665, 3.882837347694644e-34)"
      ]
     },
     "execution_count": 39,
     "metadata": {},
     "output_type": "execute_result"
    }
   ],
   "source": [
    "stats.pearsonr(true[low_admix],emp_Z_LA[LA_low_admix])"
   ]
  },
  {
   "cell_type": "markdown",
   "metadata": {},
   "source": [
    "CEU <= 0.2"
   ]
  },
  {
   "cell_type": "code",
   "execution_count": 40,
   "metadata": {},
   "outputs": [
    {
     "data": {
      "text/plain": [
       "407"
      ]
     },
     "execution_count": 40,
     "metadata": {},
     "output_type": "execute_result"
    }
   ],
   "source": [
    "len(high_admix)\n"
   ]
  },
  {
   "cell_type": "code",
   "execution_count": 41,
   "metadata": {},
   "outputs": [
    {
     "data": {
      "text/plain": [
       "(0.43211061112848165, 6.046213936725284e-20)"
      ]
     },
     "execution_count": 41,
     "metadata": {},
     "output_type": "execute_result"
    }
   ],
   "source": [
    "stats.pearsonr(true[high_admix],emp_Z[high_admix])"
   ]
  },
  {
   "cell_type": "code",
   "execution_count": 42,
   "metadata": {},
   "outputs": [
    {
     "data": {
      "text/plain": [
       "(0.19180892385354167, 9.864022778799084e-05)"
      ]
     },
     "execution_count": 42,
     "metadata": {},
     "output_type": "execute_result"
    }
   ],
   "source": [
    "stats.pearsonr(true[high_admix],emp_Z_LA[LA_high_admix])"
   ]
  },
  {
   "cell_type": "markdown",
   "metadata": {},
   "source": [
    "0.2 < CEU <= 0.4"
   ]
  },
  {
   "cell_type": "code",
   "execution_count": null,
   "metadata": {
    "scrolled": true
   },
   "outputs": [],
   "source": [
    "stats.pearsonr(true[mid1],emp_Z[mid1])"
   ]
  },
  {
   "cell_type": "markdown",
   "metadata": {},
   "source": [
    "0.4 < CEU <= 0.6"
   ]
  },
  {
   "cell_type": "code",
   "execution_count": null,
   "metadata": {},
   "outputs": [],
   "source": [
    "stats.pearsonr(true[mid2],emp_Z[mid2])"
   ]
  },
  {
   "cell_type": "markdown",
   "metadata": {},
   "source": [
    "0.6 < CEU <= 0.8"
   ]
  },
  {
   "cell_type": "code",
   "execution_count": null,
   "metadata": {},
   "outputs": [],
   "source": [
    "stats.pearsonr(true[mid3],emp_Z[mid3])"
   ]
  },
  {
   "cell_type": "code",
   "execution_count": null,
   "metadata": {},
   "outputs": [],
   "source": [
    "low_admix = label_inds.loc[prop_anc[prop_anc[\"Prop_CEU\"]<0.2].index,0].values"
   ]
  },
  {
   "cell_type": "code",
   "execution_count": null,
   "metadata": {},
   "outputs": [],
   "source": [
    "admix = label_inds.loc[prop_anc.index,0].values"
   ]
  },
  {
   "cell_type": "markdown",
   "metadata": {},
   "source": [
    "### a: Using European GWAS"
   ]
  },
  {
   "cell_type": "code",
   "execution_count": null,
   "metadata": {},
   "outputs": [],
   "source": []
  },
  {
   "cell_type": "markdown",
   "metadata": {},
   "source": [
    "### b: Using Local-Ancestry Specific Approach (relies on significant SNPs from European GWAS)"
   ]
  },
  {
   "cell_type": "code",
   "execution_count": null,
   "metadata": {},
   "outputs": [],
   "source": []
  },
  {
   "cell_type": "markdown",
   "metadata": {},
   "source": [
    "## Calculate AUCs and compare between approaches"
   ]
  },
  {
   "cell_type": "code",
   "execution_count": 43,
   "metadata": {},
   "outputs": [],
   "source": [
    "clumped_prs_vars = np.array(open(\"/Users/taylorcavazos/repos/Local_Ancestry_PRS/data/prs_vars_p_5e-8_r2_0.2.txt\").read().splitlines()).astype(int)"
   ]
  },
  {
   "cell_type": "code",
   "execution_count": 44,
   "metadata": {},
   "outputs": [],
   "source": [
    "sum_stats = pd.read_csv(\"/Users/taylorcavazos/repos/Local_Ancestry_PRS/data/comm_maf_0.01_sum_stats_m_{}_h2_{}.txt\".format(m,h2),sep=\"\\t\",index_col=0)"
   ]
  },
  {
   "cell_type": "code",
   "execution_count": 45,
   "metadata": {
    "scrolled": true
   },
   "outputs": [],
   "source": [
    "prs_vars = sum_stats.loc[clumped_prs_vars,:]"
   ]
  },
  {
   "cell_type": "code",
   "execution_count": 46,
   "metadata": {},
   "outputs": [
    {
     "data": {
      "text/plain": [
       "OR         1.440465e+00\n",
       "p-value    2.104703e-30\n",
       "Name: 1488, dtype: float64"
      ]
     },
     "execution_count": 46,
     "metadata": {},
     "output_type": "execute_result"
    }
   ],
   "source": [
    "sum_stats.loc[1488,:]"
   ]
  },
  {
   "cell_type": "code",
   "execution_count": 56,
   "metadata": {
    "scrolled": true
   },
   "outputs": [
    {
     "data": {
      "text/plain": [
       "{441201,\n",
       " 470089,\n",
       " 516047,\n",
       " 787859,\n",
       " 856140,\n",
       " 866645,\n",
       " 1089872,\n",
       " 1104316,\n",
       " 1116134,\n",
       " 1154214,\n",
       " 1254009,\n",
       " 1271079,\n",
       " 1285523}"
      ]
     },
     "execution_count": 56,
     "metadata": {},
     "output_type": "execute_result"
    }
   ],
   "source": [
    "set(causal_stats.index).intersection(set(prs_vars.index))"
   ]
  },
  {
   "cell_type": "code",
   "execution_count": 51,
   "metadata": {
    "scrolled": true
   },
   "outputs": [
    {
     "data": {
      "text/html": [
       "<div>\n",
       "<style scoped>\n",
       "    .dataframe tbody tr th:only-of-type {\n",
       "        vertical-align: middle;\n",
       "    }\n",
       "\n",
       "    .dataframe tbody tr th {\n",
       "        vertical-align: top;\n",
       "    }\n",
       "\n",
       "    .dataframe thead th {\n",
       "        text-align: right;\n",
       "    }\n",
       "</style>\n",
       "<table border=\"1\" class=\"dataframe\">\n",
       "  <thead>\n",
       "    <tr style=\"text-align: right;\">\n",
       "      <th></th>\n",
       "      <th>OR</th>\n",
       "      <th>p-value</th>\n",
       "    </tr>\n",
       "    <tr>\n",
       "      <th>var_id</th>\n",
       "      <th></th>\n",
       "      <th></th>\n",
       "    </tr>\n",
       "  </thead>\n",
       "  <tbody>\n",
       "    <tr>\n",
       "      <th>56463</th>\n",
       "      <td>1.580547</td>\n",
       "      <td>2.570926e-44</td>\n",
       "    </tr>\n",
       "    <tr>\n",
       "      <th>86664</th>\n",
       "      <td>0.495890</td>\n",
       "      <td>1.558270e-205</td>\n",
       "    </tr>\n",
       "    <tr>\n",
       "      <th>118178</th>\n",
       "      <td>1.224101</td>\n",
       "      <td>3.438086e-13</td>\n",
       "    </tr>\n",
       "    <tr>\n",
       "      <th>123431</th>\n",
       "      <td>1.440465</td>\n",
       "      <td>2.104703e-30</td>\n",
       "    </tr>\n",
       "    <tr>\n",
       "      <th>147067</th>\n",
       "      <td>0.615189</td>\n",
       "      <td>1.888005e-106</td>\n",
       "    </tr>\n",
       "    <tr>\n",
       "      <th>152319</th>\n",
       "      <td>1.470103</td>\n",
       "      <td>1.168410e-36</td>\n",
       "    </tr>\n",
       "    <tr>\n",
       "      <th>174642</th>\n",
       "      <td>1.440465</td>\n",
       "      <td>2.104703e-30</td>\n",
       "    </tr>\n",
       "    <tr>\n",
       "      <th>240297</th>\n",
       "      <td>1.987021</td>\n",
       "      <td>7.618088e-71</td>\n",
       "    </tr>\n",
       "    <tr>\n",
       "      <th>266559</th>\n",
       "      <td>1.470103</td>\n",
       "      <td>1.168410e-36</td>\n",
       "    </tr>\n",
       "    <tr>\n",
       "      <th>354536</th>\n",
       "      <td>1.219332</td>\n",
       "      <td>7.424664e-13</td>\n",
       "    </tr>\n",
       "    <tr>\n",
       "      <th>379485</th>\n",
       "      <td>0.615474</td>\n",
       "      <td>3.178697e-106</td>\n",
       "    </tr>\n",
       "    <tr>\n",
       "      <th>389990</th>\n",
       "      <td>1.869466</td>\n",
       "      <td>5.181865e-67</td>\n",
       "    </tr>\n",
       "    <tr>\n",
       "      <th>441201</th>\n",
       "      <td>0.676484</td>\n",
       "      <td>7.055831e-44</td>\n",
       "    </tr>\n",
       "    <tr>\n",
       "      <th>470089</th>\n",
       "      <td>2.045263</td>\n",
       "      <td>4.957787e-107</td>\n",
       "    </tr>\n",
       "    <tr>\n",
       "      <th>475341</th>\n",
       "      <td>0.849310</td>\n",
       "      <td>1.807056e-13</td>\n",
       "    </tr>\n",
       "    <tr>\n",
       "      <th>480594</th>\n",
       "      <td>1.543277</td>\n",
       "      <td>2.078147e-25</td>\n",
       "    </tr>\n",
       "    <tr>\n",
       "      <th>485846</th>\n",
       "      <td>1.345903</td>\n",
       "      <td>5.467434e-12</td>\n",
       "    </tr>\n",
       "    <tr>\n",
       "      <th>497664</th>\n",
       "      <td>0.629138</td>\n",
       "      <td>1.784066e-66</td>\n",
       "    </tr>\n",
       "    <tr>\n",
       "      <th>516047</th>\n",
       "      <td>0.472189</td>\n",
       "      <td>3.036845e-23</td>\n",
       "    </tr>\n",
       "    <tr>\n",
       "      <th>531805</th>\n",
       "      <td>1.886236</td>\n",
       "      <td>3.121303e-143</td>\n",
       "    </tr>\n",
       "    <tr>\n",
       "      <th>534431</th>\n",
       "      <td>0.581901</td>\n",
       "      <td>2.562117e-126</td>\n",
       "    </tr>\n",
       "    <tr>\n",
       "      <th>594833</th>\n",
       "      <td>1.747833</td>\n",
       "      <td>4.064852e-31</td>\n",
       "    </tr>\n",
       "    <tr>\n",
       "      <th>609277</th>\n",
       "      <td>0.862890</td>\n",
       "      <td>2.136526e-10</td>\n",
       "    </tr>\n",
       "    <tr>\n",
       "      <th>614530</th>\n",
       "      <td>1.206540</td>\n",
       "      <td>2.802103e-11</td>\n",
       "    </tr>\n",
       "    <tr>\n",
       "      <th>626348</th>\n",
       "      <td>27.416506</td>\n",
       "      <td>2.522234e-76</td>\n",
       "    </tr>\n",
       "    <tr>\n",
       "      <th>631600</th>\n",
       "      <td>0.398258</td>\n",
       "      <td>1.189195e-305</td>\n",
       "    </tr>\n",
       "    <tr>\n",
       "      <th>718265</th>\n",
       "      <td>1.238594</td>\n",
       "      <td>4.065557e-22</td>\n",
       "    </tr>\n",
       "    <tr>\n",
       "      <th>745840</th>\n",
       "      <td>0.802179</td>\n",
       "      <td>2.537398e-10</td>\n",
       "    </tr>\n",
       "    <tr>\n",
       "      <th>772102</th>\n",
       "      <td>1.584097</td>\n",
       "      <td>2.293977e-50</td>\n",
       "    </tr>\n",
       "    <tr>\n",
       "      <th>787859</th>\n",
       "      <td>0.681136</td>\n",
       "      <td>1.744668e-17</td>\n",
       "    </tr>\n",
       "    <tr>\n",
       "      <th>824626</th>\n",
       "      <td>0.183249</td>\n",
       "      <td>0.000000e+00</td>\n",
       "    </tr>\n",
       "    <tr>\n",
       "      <th>835130</th>\n",
       "      <td>0.704080</td>\n",
       "      <td>1.593628e-56</td>\n",
       "    </tr>\n",
       "    <tr>\n",
       "      <th>856140</th>\n",
       "      <td>0.537384</td>\n",
       "      <td>7.795363e-41</td>\n",
       "    </tr>\n",
       "    <tr>\n",
       "      <th>866645</th>\n",
       "      <td>0.724812</td>\n",
       "      <td>2.356443e-37</td>\n",
       "    </tr>\n",
       "    <tr>\n",
       "      <th>894220</th>\n",
       "      <td>0.662496</td>\n",
       "      <td>6.766142e-48</td>\n",
       "    </tr>\n",
       "    <tr>\n",
       "      <th>927047</th>\n",
       "      <td>1.326798</td>\n",
       "      <td>4.401131e-37</td>\n",
       "    </tr>\n",
       "    <tr>\n",
       "      <th>980884</th>\n",
       "      <td>0.566558</td>\n",
       "      <td>2.507971e-83</td>\n",
       "    </tr>\n",
       "    <tr>\n",
       "      <th>982198</th>\n",
       "      <td>0.687326</td>\n",
       "      <td>3.987663e-18</td>\n",
       "    </tr>\n",
       "    <tr>\n",
       "      <th>1074114</th>\n",
       "      <td>4.418828</td>\n",
       "      <td>9.188926e-45</td>\n",
       "    </tr>\n",
       "    <tr>\n",
       "      <th>1080680</th>\n",
       "      <td>1.807600</td>\n",
       "      <td>2.021301e-33</td>\n",
       "    </tr>\n",
       "    <tr>\n",
       "      <th>1085932</th>\n",
       "      <td>1.776375</td>\n",
       "      <td>1.792604e-121</td>\n",
       "    </tr>\n",
       "    <tr>\n",
       "      <th>1089872</th>\n",
       "      <td>2.672941</td>\n",
       "      <td>1.690250e-168</td>\n",
       "    </tr>\n",
       "    <tr>\n",
       "      <th>1095124</th>\n",
       "      <td>0.409085</td>\n",
       "      <td>3.214761e-86</td>\n",
       "    </tr>\n",
       "    <tr>\n",
       "      <th>1104316</th>\n",
       "      <td>0.690016</td>\n",
       "      <td>6.561265e-48</td>\n",
       "    </tr>\n",
       "    <tr>\n",
       "      <th>1116134</th>\n",
       "      <td>0.816742</td>\n",
       "      <td>4.629862e-18</td>\n",
       "    </tr>\n",
       "    <tr>\n",
       "      <th>1139769</th>\n",
       "      <td>0.670685</td>\n",
       "      <td>1.542975e-69</td>\n",
       "    </tr>\n",
       "    <tr>\n",
       "      <th>1147648</th>\n",
       "      <td>1.465674</td>\n",
       "      <td>6.751553e-65</td>\n",
       "    </tr>\n",
       "    <tr>\n",
       "      <th>1154214</th>\n",
       "      <td>0.538519</td>\n",
       "      <td>5.951568e-23</td>\n",
       "    </tr>\n",
       "    <tr>\n",
       "      <th>1200172</th>\n",
       "      <td>0.580485</td>\n",
       "      <td>2.394070e-62</td>\n",
       "    </tr>\n",
       "    <tr>\n",
       "      <th>1226434</th>\n",
       "      <td>1.212722</td>\n",
       "      <td>6.326048e-13</td>\n",
       "    </tr>\n",
       "    <tr>\n",
       "      <th>1254009</th>\n",
       "      <td>0.505854</td>\n",
       "      <td>2.844861e-179</td>\n",
       "    </tr>\n",
       "    <tr>\n",
       "      <th>1271079</th>\n",
       "      <td>1.397944</td>\n",
       "      <td>1.140870e-46</td>\n",
       "    </tr>\n",
       "    <tr>\n",
       "      <th>1285523</th>\n",
       "      <td>2.582748</td>\n",
       "      <td>2.560743e-91</td>\n",
       "    </tr>\n",
       "    <tr>\n",
       "      <th>1299968</th>\n",
       "      <td>3.178123</td>\n",
       "      <td>9.638774e-16</td>\n",
       "    </tr>\n",
       "    <tr>\n",
       "      <th>1311785</th>\n",
       "      <td>1.823272</td>\n",
       "      <td>2.838925e-151</td>\n",
       "    </tr>\n",
       "  </tbody>\n",
       "</table>\n",
       "</div>"
      ],
      "text/plain": [
       "                OR        p-value\n",
       "var_id                           \n",
       "56463     1.580547   2.570926e-44\n",
       "86664     0.495890  1.558270e-205\n",
       "118178    1.224101   3.438086e-13\n",
       "123431    1.440465   2.104703e-30\n",
       "147067    0.615189  1.888005e-106\n",
       "152319    1.470103   1.168410e-36\n",
       "174642    1.440465   2.104703e-30\n",
       "240297    1.987021   7.618088e-71\n",
       "266559    1.470103   1.168410e-36\n",
       "354536    1.219332   7.424664e-13\n",
       "379485    0.615474  3.178697e-106\n",
       "389990    1.869466   5.181865e-67\n",
       "441201    0.676484   7.055831e-44\n",
       "470089    2.045263  4.957787e-107\n",
       "475341    0.849310   1.807056e-13\n",
       "480594    1.543277   2.078147e-25\n",
       "485846    1.345903   5.467434e-12\n",
       "497664    0.629138   1.784066e-66\n",
       "516047    0.472189   3.036845e-23\n",
       "531805    1.886236  3.121303e-143\n",
       "534431    0.581901  2.562117e-126\n",
       "594833    1.747833   4.064852e-31\n",
       "609277    0.862890   2.136526e-10\n",
       "614530    1.206540   2.802103e-11\n",
       "626348   27.416506   2.522234e-76\n",
       "631600    0.398258  1.189195e-305\n",
       "718265    1.238594   4.065557e-22\n",
       "745840    0.802179   2.537398e-10\n",
       "772102    1.584097   2.293977e-50\n",
       "787859    0.681136   1.744668e-17\n",
       "824626    0.183249   0.000000e+00\n",
       "835130    0.704080   1.593628e-56\n",
       "856140    0.537384   7.795363e-41\n",
       "866645    0.724812   2.356443e-37\n",
       "894220    0.662496   6.766142e-48\n",
       "927047    1.326798   4.401131e-37\n",
       "980884    0.566558   2.507971e-83\n",
       "982198    0.687326   3.987663e-18\n",
       "1074114   4.418828   9.188926e-45\n",
       "1080680   1.807600   2.021301e-33\n",
       "1085932   1.776375  1.792604e-121\n",
       "1089872   2.672941  1.690250e-168\n",
       "1095124   0.409085   3.214761e-86\n",
       "1104316   0.690016   6.561265e-48\n",
       "1116134   0.816742   4.629862e-18\n",
       "1139769   0.670685   1.542975e-69\n",
       "1147648   1.465674   6.751553e-65\n",
       "1154214   0.538519   5.951568e-23\n",
       "1200172   0.580485   2.394070e-62\n",
       "1226434   1.212722   6.326048e-13\n",
       "1254009   0.505854  2.844861e-179\n",
       "1271079   1.397944   1.140870e-46\n",
       "1285523   2.582748   2.560743e-91\n",
       "1299968   3.178123   9.638774e-16\n",
       "1311785   1.823272  2.838925e-151"
      ]
     },
     "execution_count": 51,
     "metadata": {},
     "output_type": "execute_result"
    }
   ],
   "source": [
    "causal_stats = sum_stats.reindex(causal_inds).dropna(how=\"all\")\n",
    "causal_stats[causal_stats[\"p-value\"]<5e-8]"
   ]
  },
  {
   "cell_type": "code",
   "execution_count": 52,
   "metadata": {
    "scrolled": true
   },
   "outputs": [
    {
     "data": {
      "text/html": [
       "<div>\n",
       "<style scoped>\n",
       "    .dataframe tbody tr th:only-of-type {\n",
       "        vertical-align: middle;\n",
       "    }\n",
       "\n",
       "    .dataframe tbody tr th {\n",
       "        vertical-align: top;\n",
       "    }\n",
       "\n",
       "    .dataframe thead th {\n",
       "        text-align: right;\n",
       "    }\n",
       "</style>\n",
       "<table border=\"1\" class=\"dataframe\">\n",
       "  <thead>\n",
       "    <tr style=\"text-align: right;\">\n",
       "      <th></th>\n",
       "      <th>OR</th>\n",
       "      <th>p-value</th>\n",
       "    </tr>\n",
       "    <tr>\n",
       "      <th>var_id</th>\n",
       "      <th></th>\n",
       "      <th></th>\n",
       "    </tr>\n",
       "  </thead>\n",
       "  <tbody>\n",
       "    <tr>\n",
       "      <th>62</th>\n",
       "      <td>0.567920</td>\n",
       "      <td>4.435143e-11</td>\n",
       "    </tr>\n",
       "    <tr>\n",
       "      <th>91</th>\n",
       "      <td>0.528590</td>\n",
       "      <td>1.392931e-58</td>\n",
       "    </tr>\n",
       "    <tr>\n",
       "      <th>1488</th>\n",
       "      <td>1.440465</td>\n",
       "      <td>2.104703e-30</td>\n",
       "    </tr>\n",
       "    <tr>\n",
       "      <th>1665</th>\n",
       "      <td>0.629757</td>\n",
       "      <td>3.619063e-10</td>\n",
       "    </tr>\n",
       "    <tr>\n",
       "      <th>1677</th>\n",
       "      <td>0.402226</td>\n",
       "      <td>9.177612e-20</td>\n",
       "    </tr>\n",
       "    <tr>\n",
       "      <th>2431</th>\n",
       "      <td>0.495890</td>\n",
       "      <td>1.558270e-205</td>\n",
       "    </tr>\n",
       "    <tr>\n",
       "      <th>3032</th>\n",
       "      <td>0.527571</td>\n",
       "      <td>9.919147e-13</td>\n",
       "    </tr>\n",
       "    <tr>\n",
       "      <th>3367</th>\n",
       "      <td>0.539539</td>\n",
       "      <td>1.032609e-24</td>\n",
       "    </tr>\n",
       "    <tr>\n",
       "      <th>3569</th>\n",
       "      <td>1.149806</td>\n",
       "      <td>2.810854e-10</td>\n",
       "    </tr>\n",
       "    <tr>\n",
       "      <th>4652</th>\n",
       "      <td>1.580547</td>\n",
       "      <td>2.570926e-44</td>\n",
       "    </tr>\n",
       "    <tr>\n",
       "      <th>9242</th>\n",
       "      <td>0.630421</td>\n",
       "      <td>6.542696e-09</td>\n",
       "    </tr>\n",
       "    <tr>\n",
       "      <th>11606</th>\n",
       "      <td>0.600642</td>\n",
       "      <td>1.654565e-31</td>\n",
       "    </tr>\n",
       "    <tr>\n",
       "      <th>11941</th>\n",
       "      <td>0.575947</td>\n",
       "      <td>1.146586e-17</td>\n",
       "    </tr>\n",
       "    <tr>\n",
       "      <th>14319</th>\n",
       "      <td>1.987021</td>\n",
       "      <td>7.618088e-71</td>\n",
       "    </tr>\n",
       "    <tr>\n",
       "      <th>15580</th>\n",
       "      <td>0.730885</td>\n",
       "      <td>8.463063e-11</td>\n",
       "    </tr>\n",
       "    <tr>\n",
       "      <th>26123</th>\n",
       "      <td>0.528590</td>\n",
       "      <td>1.392931e-58</td>\n",
       "    </tr>\n",
       "    <tr>\n",
       "      <th>26512</th>\n",
       "      <td>0.618783</td>\n",
       "      <td>8.061613e-17</td>\n",
       "    </tr>\n",
       "    <tr>\n",
       "      <th>28546</th>\n",
       "      <td>1.149806</td>\n",
       "      <td>2.810854e-10</td>\n",
       "    </tr>\n",
       "    <tr>\n",
       "      <th>28638</th>\n",
       "      <td>0.495890</td>\n",
       "      <td>1.558270e-205</td>\n",
       "    </tr>\n",
       "    <tr>\n",
       "      <th>29661</th>\n",
       "      <td>0.451721</td>\n",
       "      <td>1.817261e-28</td>\n",
       "    </tr>\n",
       "    <tr>\n",
       "      <th>31332</th>\n",
       "      <td>0.511872</td>\n",
       "      <td>1.379880e-12</td>\n",
       "    </tr>\n",
       "    <tr>\n",
       "      <th>32033</th>\n",
       "      <td>0.564005</td>\n",
       "      <td>2.864968e-44</td>\n",
       "    </tr>\n",
       "    <tr>\n",
       "      <th>32416</th>\n",
       "      <td>0.629757</td>\n",
       "      <td>3.619063e-10</td>\n",
       "    </tr>\n",
       "    <tr>\n",
       "      <th>32749</th>\n",
       "      <td>1.580547</td>\n",
       "      <td>2.570926e-44</td>\n",
       "    </tr>\n",
       "    <tr>\n",
       "      <th>34556</th>\n",
       "      <td>0.621179</td>\n",
       "      <td>1.015241e-08</td>\n",
       "    </tr>\n",
       "    <tr>\n",
       "      <th>37579</th>\n",
       "      <td>0.600642</td>\n",
       "      <td>1.654565e-31</td>\n",
       "    </tr>\n",
       "    <tr>\n",
       "      <th>44776</th>\n",
       "      <td>1.440465</td>\n",
       "      <td>2.104703e-30</td>\n",
       "    </tr>\n",
       "    <tr>\n",
       "      <th>49798</th>\n",
       "      <td>0.575947</td>\n",
       "      <td>1.146586e-17</td>\n",
       "    </tr>\n",
       "    <tr>\n",
       "      <th>50856</th>\n",
       "      <td>1.987021</td>\n",
       "      <td>7.618088e-71</td>\n",
       "    </tr>\n",
       "    <tr>\n",
       "      <th>57153</th>\n",
       "      <td>0.606017</td>\n",
       "      <td>4.779318e-09</td>\n",
       "    </tr>\n",
       "    <tr>\n",
       "      <th>...</th>\n",
       "      <td>...</td>\n",
       "      <td>...</td>\n",
       "    </tr>\n",
       "    <tr>\n",
       "      <th>1291809</th>\n",
       "      <td>0.871385</td>\n",
       "      <td>1.942764e-09</td>\n",
       "    </tr>\n",
       "    <tr>\n",
       "      <th>1293235</th>\n",
       "      <td>1.520430</td>\n",
       "      <td>1.834822e-21</td>\n",
       "    </tr>\n",
       "    <tr>\n",
       "      <th>1297476</th>\n",
       "      <td>0.641546</td>\n",
       "      <td>5.202733e-14</td>\n",
       "    </tr>\n",
       "    <tr>\n",
       "      <th>1298623</th>\n",
       "      <td>0.835451</td>\n",
       "      <td>8.988926e-16</td>\n",
       "    </tr>\n",
       "    <tr>\n",
       "      <th>1298718</th>\n",
       "      <td>0.581905</td>\n",
       "      <td>5.035676e-09</td>\n",
       "    </tr>\n",
       "    <tr>\n",
       "      <th>1299067</th>\n",
       "      <td>1.438219</td>\n",
       "      <td>3.952799e-10</td>\n",
       "    </tr>\n",
       "    <tr>\n",
       "      <th>1299955</th>\n",
       "      <td>0.576721</td>\n",
       "      <td>1.071393e-73</td>\n",
       "    </tr>\n",
       "    <tr>\n",
       "      <th>1300208</th>\n",
       "      <td>0.612553</td>\n",
       "      <td>1.101114e-16</td>\n",
       "    </tr>\n",
       "    <tr>\n",
       "      <th>1300405</th>\n",
       "      <td>1.170691</td>\n",
       "      <td>1.021593e-10</td>\n",
       "    </tr>\n",
       "    <tr>\n",
       "      <th>1300414</th>\n",
       "      <td>0.580846</td>\n",
       "      <td>4.682324e-11</td>\n",
       "    </tr>\n",
       "    <tr>\n",
       "      <th>1301178</th>\n",
       "      <td>1.167784</td>\n",
       "      <td>4.303197e-12</td>\n",
       "    </tr>\n",
       "    <tr>\n",
       "      <th>1301322</th>\n",
       "      <td>0.788238</td>\n",
       "      <td>5.644165e-27</td>\n",
       "    </tr>\n",
       "    <tr>\n",
       "      <th>1301421</th>\n",
       "      <td>0.654691</td>\n",
       "      <td>4.309505e-12</td>\n",
       "    </tr>\n",
       "    <tr>\n",
       "      <th>1304140</th>\n",
       "      <td>0.877951</td>\n",
       "      <td>3.475837e-08</td>\n",
       "    </tr>\n",
       "    <tr>\n",
       "      <th>1304272</th>\n",
       "      <td>1.579194</td>\n",
       "      <td>2.447103e-15</td>\n",
       "    </tr>\n",
       "    <tr>\n",
       "      <th>1305993</th>\n",
       "      <td>0.843202</td>\n",
       "      <td>1.645130e-12</td>\n",
       "    </tr>\n",
       "    <tr>\n",
       "      <th>1308664</th>\n",
       "      <td>1.650280</td>\n",
       "      <td>2.280371e-41</td>\n",
       "    </tr>\n",
       "    <tr>\n",
       "      <th>1308824</th>\n",
       "      <td>0.835981</td>\n",
       "      <td>2.140991e-15</td>\n",
       "    </tr>\n",
       "    <tr>\n",
       "      <th>1309114</th>\n",
       "      <td>1.186324</td>\n",
       "      <td>3.032618e-13</td>\n",
       "    </tr>\n",
       "    <tr>\n",
       "      <th>1309194</th>\n",
       "      <td>0.810176</td>\n",
       "      <td>2.036579e-17</td>\n",
       "    </tr>\n",
       "    <tr>\n",
       "      <th>1309658</th>\n",
       "      <td>1.718497</td>\n",
       "      <td>2.592568e-22</td>\n",
       "    </tr>\n",
       "    <tr>\n",
       "      <th>1310311</th>\n",
       "      <td>1.406747</td>\n",
       "      <td>1.373849e-29</td>\n",
       "    </tr>\n",
       "    <tr>\n",
       "      <th>1310955</th>\n",
       "      <td>0.842038</td>\n",
       "      <td>1.241443e-14</td>\n",
       "    </tr>\n",
       "    <tr>\n",
       "      <th>1311205</th>\n",
       "      <td>0.814028</td>\n",
       "      <td>2.993724e-16</td>\n",
       "    </tr>\n",
       "    <tr>\n",
       "      <th>1311226</th>\n",
       "      <td>1.500759</td>\n",
       "      <td>3.923669e-10</td>\n",
       "    </tr>\n",
       "    <tr>\n",
       "      <th>1311484</th>\n",
       "      <td>1.319656</td>\n",
       "      <td>2.736324e-24</td>\n",
       "    </tr>\n",
       "    <tr>\n",
       "      <th>1311680</th>\n",
       "      <td>1.824685</td>\n",
       "      <td>1.176094e-151</td>\n",
       "    </tr>\n",
       "    <tr>\n",
       "      <th>1312046</th>\n",
       "      <td>1.781706</td>\n",
       "      <td>1.429692e-20</td>\n",
       "    </tr>\n",
       "    <tr>\n",
       "      <th>1312061</th>\n",
       "      <td>0.742982</td>\n",
       "      <td>1.007664e-39</td>\n",
       "    </tr>\n",
       "    <tr>\n",
       "      <th>1312619</th>\n",
       "      <td>1.827324</td>\n",
       "      <td>1.142956e-36</td>\n",
       "    </tr>\n",
       "  </tbody>\n",
       "</table>\n",
       "<p>820 rows × 2 columns</p>\n",
       "</div>"
      ],
      "text/plain": [
       "               OR        p-value\n",
       "var_id                          \n",
       "62       0.567920   4.435143e-11\n",
       "91       0.528590   1.392931e-58\n",
       "1488     1.440465   2.104703e-30\n",
       "1665     0.629757   3.619063e-10\n",
       "1677     0.402226   9.177612e-20\n",
       "2431     0.495890  1.558270e-205\n",
       "3032     0.527571   9.919147e-13\n",
       "3367     0.539539   1.032609e-24\n",
       "3569     1.149806   2.810854e-10\n",
       "4652     1.580547   2.570926e-44\n",
       "9242     0.630421   6.542696e-09\n",
       "11606    0.600642   1.654565e-31\n",
       "11941    0.575947   1.146586e-17\n",
       "14319    1.987021   7.618088e-71\n",
       "15580    0.730885   8.463063e-11\n",
       "26123    0.528590   1.392931e-58\n",
       "26512    0.618783   8.061613e-17\n",
       "28546    1.149806   2.810854e-10\n",
       "28638    0.495890  1.558270e-205\n",
       "29661    0.451721   1.817261e-28\n",
       "31332    0.511872   1.379880e-12\n",
       "32033    0.564005   2.864968e-44\n",
       "32416    0.629757   3.619063e-10\n",
       "32749    1.580547   2.570926e-44\n",
       "34556    0.621179   1.015241e-08\n",
       "37579    0.600642   1.654565e-31\n",
       "44776    1.440465   2.104703e-30\n",
       "49798    0.575947   1.146586e-17\n",
       "50856    1.987021   7.618088e-71\n",
       "57153    0.606017   4.779318e-09\n",
       "...           ...            ...\n",
       "1291809  0.871385   1.942764e-09\n",
       "1293235  1.520430   1.834822e-21\n",
       "1297476  0.641546   5.202733e-14\n",
       "1298623  0.835451   8.988926e-16\n",
       "1298718  0.581905   5.035676e-09\n",
       "1299067  1.438219   3.952799e-10\n",
       "1299955  0.576721   1.071393e-73\n",
       "1300208  0.612553   1.101114e-16\n",
       "1300405  1.170691   1.021593e-10\n",
       "1300414  0.580846   4.682324e-11\n",
       "1301178  1.167784   4.303197e-12\n",
       "1301322  0.788238   5.644165e-27\n",
       "1301421  0.654691   4.309505e-12\n",
       "1304140  0.877951   3.475837e-08\n",
       "1304272  1.579194   2.447103e-15\n",
       "1305993  0.843202   1.645130e-12\n",
       "1308664  1.650280   2.280371e-41\n",
       "1308824  0.835981   2.140991e-15\n",
       "1309114  1.186324   3.032618e-13\n",
       "1309194  0.810176   2.036579e-17\n",
       "1309658  1.718497   2.592568e-22\n",
       "1310311  1.406747   1.373849e-29\n",
       "1310955  0.842038   1.241443e-14\n",
       "1311205  0.814028   2.993724e-16\n",
       "1311226  1.500759   3.923669e-10\n",
       "1311484  1.319656   2.736324e-24\n",
       "1311680  1.824685  1.176094e-151\n",
       "1312046  1.781706   1.429692e-20\n",
       "1312061  0.742982   1.007664e-39\n",
       "1312619  1.827324   1.142956e-36\n",
       "\n",
       "[820 rows x 2 columns]"
      ]
     },
     "execution_count": 52,
     "metadata": {},
     "output_type": "execute_result"
    }
   ],
   "source": [
    "prs_vars.sort_index()"
   ]
  },
  {
   "cell_type": "code",
   "execution_count": 53,
   "metadata": {},
   "outputs": [],
   "source": [
    "vcf_file = \"/Users/taylorcavazos/repos/other_tools/admixture-data/output/admix_afr_amer.query.vcf\""
   ]
  },
  {
   "cell_type": "code",
   "execution_count": 54,
   "metadata": {},
   "outputs": [],
   "source": [
    "afs = []\n",
    "with open(vcf_file) as f:\n",
    "    ind=0\n",
    "    for line in f:\n",
    "        if line[0] != \"#\":\n",
    "            if ind in clumped_prs_vars:\n",
    "                data = line.split(\"\\t\")[9:]\n",
    "                genotype = np.array([np.array(hap.split(\"|\")).astype(int).sum() for hap in data])\n",
    "                af = genotype.sum()/(2*4000)\n",
    "                afs.append(af)\n",
    "            ind+=1"
   ]
  },
  {
   "cell_type": "code",
   "execution_count": 61,
   "metadata": {},
   "outputs": [
    {
     "data": {
      "text/plain": [
       "189"
      ]
     },
     "execution_count": 61,
     "metadata": {},
     "output_type": "execute_result"
    }
   ],
   "source": [
    "(np.array(afs)<0.01).sum()"
   ]
  },
  {
   "cell_type": "code",
   "execution_count": null,
   "metadata": {},
   "outputs": [],
   "source": []
  },
  {
   "cell_type": "code",
   "execution_count": null,
   "metadata": {},
   "outputs": [],
   "source": [
    "0.615194/0.244875"
   ]
  },
  {
   "cell_type": "code",
   "execution_count": null,
   "metadata": {},
   "outputs": [],
   "source": [
    "np.log(0.567920)/0.000625"
   ]
  },
  {
   "cell_type": "code",
   "execution_count": null,
   "metadata": {},
   "outputs": [],
   "source": [
    "np.log(0.567920)"
   ]
  },
  {
   "cell_type": "code",
   "execution_count": 50,
   "metadata": {},
   "outputs": [],
   "source": [
    "causal_inds = np.linspace(0, n_sites, m, dtype=int,endpoint=False)"
   ]
  },
  {
   "cell_type": "code",
   "execution_count": null,
   "metadata": {},
   "outputs": [],
   "source": [
    "causal_inds"
   ]
  },
  {
   "cell_type": "code",
   "execution_count": null,
   "metadata": {},
   "outputs": [],
   "source": []
  }
 ],
 "metadata": {
  "kernelspec": {
   "display_name": "Python 3",
   "language": "python",
   "name": "python3"
  },
  "language_info": {
   "codemirror_mode": {
    "name": "ipython",
    "version": 3
   },
   "file_extension": ".py",
   "mimetype": "text/x-python",
   "name": "python",
   "nbconvert_exporter": "python",
   "pygments_lexer": "ipython3",
   "version": "3.7.3"
  }
 },
 "nbformat": 4,
 "nbformat_minor": 2
}
