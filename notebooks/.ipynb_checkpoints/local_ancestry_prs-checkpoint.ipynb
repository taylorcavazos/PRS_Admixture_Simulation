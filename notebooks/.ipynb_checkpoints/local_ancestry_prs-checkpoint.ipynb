{
 "cells": [
  {
   "cell_type": "markdown",
   "metadata": {},
   "source": [
    "___\n",
    "# Simulations for local ancestry PRS\n",
    "___"
   ]
  },
  {
   "cell_type": "raw",
   "metadata": {},
   "source": [
    "sys.path.insert(0,\"/Users/taylorcavazos/repos/Local_Ancestry_PRS/code/\")"
   ]
  },
  {
   "cell_type": "code",
   "execution_count": 1,
   "metadata": {},
   "outputs": [],
   "source": [
    "import pandas as pd\n",
    "import seaborn as sns\n",
    "import glob\n",
    "import numpy as np\n",
    "import matplotlib.pyplot as plt\n",
    "import matplotlib.patches as mpatches\n",
    "import itertools"
   ]
  },
  {
   "cell_type": "raw",
   "metadata": {},
   "source": [
    "from sim_out_of_africa import *\n",
    "from output_true_prs import *\n",
    "from compute_sum_stats import *\n",
    "from output_emp_prs import *"
   ]
  },
  {
   "cell_type": "code",
   "execution_count": 2,
   "metadata": {},
   "outputs": [],
   "source": [
    "m = 1000\n",
    "h2 = 0.67\n",
    "path_tree = \"/Users/taylorcavazos/repos/Local_Ancestry_PRS/data/trees/tree_sub_CEU_1.95e5.hdf\"\n",
    "path_tree = \"/Users/taylorcavazos/repos/Local_Ancestry_PRS/data/trees/tree_YRI_5e4_CEU_2e5_chr22.hdf5\""
   ]
  },
  {
   "cell_type": "code",
   "execution_count": null,
   "metadata": {},
   "outputs": [],
   "source": [
    "def load_data(sim,m,h2):\n",
    "    sim_dict = {}\n",
    "    \n",
    "    prs_anc = pd.read_csv(\"../results/sim{}/admix_afr_amer_m_{}_h2_{}_r2_0.2_p_0.01.prop.anc.PRS\".format(sim,m,h2),sep=\"\\t\",index_col=0)\n",
    "    total_anc = pd.read_csv(\"../results/sim{}/admix_afr_amer.prop.anc\".format(sim),sep=\"\\t\",index_col=0)\n",
    "    sim_dict[\"PRS_ANC\"] = prs_anc\n",
    "    sim_dict[\"TOTAL_ANC\"] = total_anc\n",
    "    \n",
    "    sum_stats = pd.read_csv(\"../results/sim{}/emp_prs/comm_maf_0.01_sum_stats_m_{}_h2_{}.txt\".format(sim,m,h2),index_col=0,sep=\"\\t\")\n",
    "    emp_prs = h5py.File(\"../results/sim{}/emp_prs/emp_prs_m_{}_h2_{}_ld_CEU_GWAS_r2_0.2_p0.01.hdf5\".format(sim,m,h2),\"r\")\n",
    "    prs_vars = np.loadtxt(\"../results/sim{}/emp_prs/clumped_prs_vars_m_{}_h2_{}_ld_CEU_GWAS_r2_0.2_p0.01.txt\".format(sim,m,h2))\n",
    "    sim_dict[\"SS\"] = sum_stats\n",
    "    sim_dict[\"EMP_PRS\"] = emp_prs\n",
    "    sim_dict[\"PRS_VARS\"] = prs_vars\n",
    "    \n",
    "    true_prs = h5py.File(\"../results/sim{}/true_prs/prs_m_{}_h2_{}.hdf5\".format(sim,m,h2),\"r\")\n",
    "    labels = h5py.File(\"../results/sim{}/true_prs/train_test_m_{}_h2_{}.hdf5\".format(sim,m,h2),\"r\")\n",
    "    sim_dict[\"TRUE_PRS\"] = true_prs\n",
    "    sim_dict[\"LABELS\"] = labels\n",
    "    \n",
    "    return sim_dict"
   ]
  },
  {
   "cell_type": "raw",
   "metadata": {},
   "source": [
    "sim = load_data(2,1000,0.67)"
   ]
  },
  {
   "cell_type": "raw",
   "metadata": {},
   "source": [
    "sns.set_context(\"talk\")\n",
    "sns.set_style(\"ticks\")"
   ]
  },
  {
   "cell_type": "raw",
   "metadata": {},
   "source": [
    "sns.distplot(sim[\"TOTAL_ANC\"].loc[:,\"Prop_CEU\"],color=\"#90bd31\")\n",
    "plt.xlabel(\"Proportion European (CEU) Ancestry\",fontsize=20)\n",
    "plt.ylabel(\"Density\",fontsize=20)\n",
    "plt.xticks(fontsize=20)\n",
    "plt.yticks(fontsize=20)\n",
    "sns.despine()\n",
    "plt.savefig(\"/Users/taylorcavazos/Desktop/prop_CEU.pdf\",type=\"pdf\",bbox_inches=\"tight\")\n",
    "plt.show()"
   ]
  },
  {
   "cell_type": "raw",
   "metadata": {},
   "source": [
    "sns.distplot(sim[\"PRS_ANC\"].loc[:,\"Prop_CEU\"],color=\"#90bd31\")\n",
    "plt.xlabel(\"Proportion European (CEU) Ancestry\",fontsize=20)\n",
    "plt.ylabel(\"Density\",fontsize=20)\n",
    "plt.xticks(fontsize=20)\n",
    "plt.yticks(fontsize=20)\n",
    "sns.despine()\n",
    "plt.show()"
   ]
  },
  {
   "cell_type": "raw",
   "metadata": {},
   "source": [
    "sim[\"TRUE_PRS\"].keys()"
   ]
  },
  {
   "cell_type": "raw",
   "metadata": {},
   "source": [
    "test_locs = sim[\"LABELS\"][\"test_data\"][()]"
   ]
  },
  {
   "cell_type": "raw",
   "metadata": {},
   "source": [
    "true_prs_labels = sim[\"TRUE_PRS\"][\"labels\"][()]\n",
    "test_locs_ceu = []\n",
    "test_locs_admix = []\n",
    "for ind in test_locs:\n",
    "    if \"msp\" in true_prs_labels[ind].astype(str):\n",
    "        test_locs_ceu.append(ind)\n",
    "    else:\n",
    "        test_locs_admix.append(ind)\n",
    "test_locs_ceu = np.array(test_locs_ceu)\n",
    "test_locs_admix = np.array(test_locs_admix)"
   ]
  },
  {
   "cell_type": "raw",
   "metadata": {},
   "source": [
    "msp_inds = []\n",
    "other_inds = []\n",
    "count = 0\n",
    "for ind in sim[\"TRUE_PRS\"][\"labels\"][()].astype(str):\n",
    "    if \"msp\" in ind:\n",
    "        msp_inds.append(count)\n",
    "    else: other_inds.append(count)\n",
    "    count+=1"
   ]
  },
  {
   "cell_type": "raw",
   "metadata": {},
   "source": [
    "\n",
    "sns.distplot(true_prs_std[msp_inds],color=\"black\",label=\"European\")\n",
    "sns.distplot(true_prs_std[other_inds],color=\"gray\",label=\"Admixed\")\n",
    "plt.show()"
   ]
  },
  {
   "cell_type": "raw",
   "metadata": {},
   "source": [
    "true_prs = sim[\"TRUE_PRS\"][\"X\"][()]\n",
    "true_prs_std = stats.zscore(true_prs)\n",
    "#true_prs_std = (true_prs - true_prs.min())/(true_prs.max()-true_prs.min())\n",
    "case_prs = true_prs_std[sim[\"LABELS\"][\"train_cases\"][()]]\n",
    "control_prs = true_prs_std[sim[\"LABELS\"][\"train_controls\"][()]]\n",
    "test_prs_ceu = true_prs_std[test_locs_ceu]\n",
    "test_prs_admix = true_prs_std[test_locs_admix]\n",
    "\n",
    "fig,axes = plt.subplots(ncols=1,nrows=2,figsize=(10,10),sharex=True)\n",
    "\n",
    "sns.distplot(case_prs,color=\"red\",label=\"Cases\",ax=axes[0])\n",
    "sns.distplot(control_prs,color=\"blue\",label=\"Controls\",ax=axes[0])\n",
    "\n",
    "axes[0].set_title(\"Training\",fontsize=26,fontweight=\"bold\")\n",
    "#axes[0].set_xlabel(\"True PRS\",fontsize=20)\n",
    "axes[0].set_ylabel(\"Density\",fontsize=20)\n",
    "axes[0].set_xticklabels(axes[0].get_xticks(),fontsize=20)\n",
    "axes[0].set_yticklabels(np.round(axes[0].get_yticks(),2),fontsize=20)\n",
    "axes[0].legend(frameon=False,fontsize=18,loc=2)\n",
    "\n",
    "sns.distplot(test_prs_ceu,color=\"black\",label=\"European\",ax=axes[1])\n",
    "sns.distplot(test_prs_admix,color=\"gray\",label=\"Admixed\",ax=axes[1])\n",
    "\n",
    "axes[1].set_title(\"Testing\",fontsize=26,fontweight=\"bold\")\n",
    "axes[1].set_xlabel(\"True PRS\",fontsize=20)\n",
    "axes[1].set_ylabel(\"Density\",fontsize=20)\n",
    "axes[1].set_xticklabels(axes[0].get_xticks().astype(int),fontsize=20)\n",
    "axes[1].set_yticklabels(np.round(axes[0].get_yticks(),2),fontsize=20)\n",
    "axes[1].legend(frameon=False,fontsize=18,loc=2)\n",
    "\n",
    "\n",
    "sns.despine()\n",
    "plt.tight_layout(pad=1)\n",
    "plt.savefig(\"/Users/taylorcavazos/Desktop/true_prs.pdf\",type=\"pdf\")\n",
    "plt.show()"
   ]
  },
  {
   "cell_type": "raw",
   "metadata": {},
   "source": [
    "sig_sum_stats = sim[\"SS\"].loc[sim[\"PRS_VARS\"].astype(int)]"
   ]
  },
  {
   "cell_type": "raw",
   "metadata": {},
   "source": [
    "sig_sum_stats[sig_sum_stats[\"OR\"] == 0] = 1"
   ]
  },
  {
   "cell_type": "raw",
   "metadata": {},
   "source": [
    "sig_sum_stats[\"logOR\"] = np.log(sig_sum_stats[\"OR\"])"
   ]
  },
  {
   "cell_type": "raw",
   "metadata": {},
   "source": [
    "sns.distplot(sig_sum_stats[\"logOR\"])\n",
    "plt.show()"
   ]
  },
  {
   "cell_type": "raw",
   "metadata": {},
   "source": [
    "case_prs = sim[\"EMP_PRS\"][\"X\"][()][sim[\"LABELS\"][\"train_cases\"][()]]"
   ]
  },
  {
   "cell_type": "raw",
   "metadata": {},
   "source": [
    "control_prs = sim[\"EMP_PRS\"][\"X\"][()][sim[\"LABELS\"][\"train_controls\"][()]]"
   ]
  },
  {
   "cell_type": "raw",
   "metadata": {},
   "source": [
    "sim2_tree_gwas = msprime.load(\"../results/sim2/trees/tree_CEU_GWAS_nofilt.hdf\")"
   ]
  },
  {
   "cell_type": "raw",
   "metadata": {},
   "source": [
    "sim2_tree_gwas.sites()"
   ]
  },
  {
   "cell_type": "raw",
   "metadata": {},
   "source": [
    "import itertools\n",
    "top5 = itertools.islice(sim2_tree_gwas.variants(), 5)"
   ]
  },
  {
   "cell_type": "raw",
   "metadata": {},
   "source": [
    "elem = list(top5)"
   ]
  },
  {
   "cell_type": "raw",
   "metadata": {},
   "source": [
    "elem[0].site.id"
   ]
  },
  {
   "cell_type": "raw",
   "metadata": {},
   "source": [
    "num_sites = sim2_tree_gwas.num_sites"
   ]
  },
  {
   "cell_type": "raw",
   "metadata": {},
   "source": [
    "causal_inds = np.linspace(0, num_sites, m, dtype=int,endpoint=False)"
   ]
  },
  {
   "cell_type": "raw",
   "metadata": {},
   "source": [
    "set(causal_inds).intersection(sig_sum_stats.index)"
   ]
  },
  {
   "cell_type": "raw",
   "metadata": {},
   "source": [
    "sig_sum_stats.index"
   ]
  },
  {
   "cell_type": "code",
   "execution_count": null,
   "metadata": {},
   "outputs": [],
   "source": []
  },
  {
   "cell_type": "raw",
   "metadata": {},
   "source": [
    "sns.distplot(case_prs,color=\"red\")\n",
    "sns.distplot(control_prs,color=\"blue\")\n",
    "plt.show()"
   ]
  },
  {
   "cell_type": "raw",
   "metadata": {},
   "source": [
    "emp_prs = sim[\"EMP_PRS\"][\"X\"][()]\n",
    "emp_prs_std = stats.zscore(emp_prs)\n",
    "#emp_prs_std = (emp_prs - emp_prs.min())/(emp_prs.max()-emp_prs.min())\n",
    "case_prs = emp_prs_std[sim[\"LABELS\"][\"train_cases\"][()]]\n",
    "control_prs = emp_prs_std[sim[\"LABELS\"][\"train_controls\"][()]]\n",
    "test_prs_ceu = emp_prs_std[test_locs_ceu]\n",
    "test_prs_admix = emp_prs_std[test_locs_admix]\n",
    "\n",
    "fig,axes = plt.subplots(ncols=1,nrows=2,figsize=(10,10),sharex=True)\n",
    "\n",
    "sns.distplot(case_prs,color=\"red\",label=\"Cases\",ax=axes[0])\n",
    "sns.distplot(control_prs,color=\"blue\",label=\"Controls\",ax=axes[0])\n",
    "\n",
    "axes[0].set_title(\"Training\",fontsize=26,fontweight=\"bold\")\n",
    "#axes[0].set_xlabel(\"True PRS\",fontsize=20)\n",
    "axes[0].set_ylabel(\"Density\",fontsize=20)\n",
    "axes[0].set_xticklabels(np.round(axes[0].get_xticks(),2),fontsize=20)\n",
    "axes[0].set_yticklabels(np.round(axes[0].get_yticks(),2),fontsize=20)\n",
    "axes[0].legend(frameon=False,fontsize=18,loc=2)\n",
    "\n",
    "sns.distplot(test_prs_ceu,color=\"black\",label=\"European\",ax=axes[1])\n",
    "sns.distplot(test_prs_admix,color=\"gray\",label=\"Admixed\",ax=axes[1])\n",
    "\n",
    "axes[1].set_title(\"Testing\",fontsize=26,fontweight=\"bold\")\n",
    "axes[1].set_xlabel(\"Empirical PRS\",fontsize=20)\n",
    "axes[1].set_ylabel(\"Density\",fontsize=20)\n",
    "axes[1].set_xticklabels(np.round(axes[0].get_xticks(),2),fontsize=20)\n",
    "axes[1].set_yticklabels(np.round(axes[0].get_yticks(),2),fontsize=20)\n",
    "axes[1].legend(frameon=False,fontsize=18,loc=2)\n",
    "\n",
    "\n",
    "sns.despine()\n",
    "plt.tight_layout(pad=1)\n",
    "plt.show()"
   ]
  },
  {
   "cell_type": "raw",
   "metadata": {},
   "source": [
    "len(sim[\"PRS_VARS\"])"
   ]
  },
  {
   "cell_type": "raw",
   "metadata": {},
   "source": [
    "def output_corr(inds):\n",
    "    corr,pval = stats.spearmanr(emp_prs_std[test_locs_admix[inds]], true_prs_std[test_locs_admix[inds]])\n",
    "    return corr"
   ]
  },
  {
   "cell_type": "raw",
   "metadata": {},
   "source": [
    "def anc_stuff(low, high):\n",
    "    anc_w_ind = sim[\"PRS_ANC\"].reset_index()\n",
    "    low_eur = np.array(anc_w_ind[anc_w_ind[\"Prop_CEU\"]<=low].index)\n",
    "    mid_eur = np.array(anc_w_ind[(anc_w_ind[\"Prop_CEU\"]>low)&(anc_w_ind[\"Prop_CEU\"]<high)].index)\n",
    "    high_eur = np.array(anc_w_ind[anc_w_ind[\"Prop_CEU\"]>=high].index)\n",
    "    \n",
    "    print(\"Low = {}, High = {}\".format(low,high))\n",
    "    print(\"-------------------\")\n",
    "    print(\"Number in group: low CEU = {}, mid CEU = {}, high CEU = {}\".format(len(low_eur),len(mid_eur),len(high_eur)))\n",
    "    low_corr = output_corr(low_eur)\n",
    "    mid_corr = output_corr(mid_eur)\n",
    "    high_corr = output_corr(high_eur)\n",
    "    print(\"Correlation per group: low CEU = {}, mid CEU = {}, hgih CEU = {}\".format(low_corr,mid_corr,high_corr))"
   ]
  },
  {
   "cell_type": "raw",
   "metadata": {},
   "source": [
    "anc_stuff(0.2,0.8)"
   ]
  },
  {
   "cell_type": "raw",
   "metadata": {},
   "source": [
    "anc_stuff(0.2,0.8)"
   ]
  },
  {
   "cell_type": "raw",
   "metadata": {},
   "source": [
    "anc_w_ind = sim[\"PRS_ANC\"].reset_index()\n",
    "low_eur = np.array(anc_w_ind[anc_w_ind[\"Prop_CEU\"]<=0.2].index)\n",
    "mid_eur = np.array(anc_w_ind[(anc_w_ind[\"Prop_CEU\"]>0.2)&(anc_w_ind[\"Prop_CEU\"]<=0.8)].index)\n",
    "high_eur = np.array(anc_w_ind[anc_w_ind[\"Prop_CEU\"]>0.8].index)"
   ]
  },
  {
   "cell_type": "raw",
   "metadata": {},
   "source": [
    "emp_prs_std = stats.zscore(emp_prs)"
   ]
  },
  {
   "cell_type": "raw",
   "metadata": {},
   "source": [
    "len(low_eur)"
   ]
  },
  {
   "cell_type": "raw",
   "metadata": {},
   "source": [
    "len(mid_eur)"
   ]
  },
  {
   "cell_type": "raw",
   "metadata": {},
   "source": [
    "len(high_eur)"
   ]
  },
  {
   "cell_type": "raw",
   "metadata": {},
   "source": [
    "plt.scatter(emp_prs_std[test_locs_admix], true_prs_std[test_locs_admix],edgecolor=\"gray\",facecolor=\"none\",label=\"Admixed\",marker=\"v\")\n",
    "plt.scatter(emp_prs_std[test_locs_ceu], true_prs_std[test_locs_ceu],edgecolor=\"black\",facecolor=\"none\",label=\"European\")\n",
    "plt.legend(frameon=False,loc=1,bbox_to_anchor=(1.5,1),fontsize=18,markerscale=1.5)\n",
    "plt.xlabel(\"Empirical PRS\",fontsize=20)\n",
    "plt.ylabel(\"True PRS\",fontsize=20)\n",
    "plt.xticks(fontsize=20)\n",
    "plt.yticks(fontsize=20)\n",
    "sns.despine()\n",
    "plt.savefig(\"/Users/taylorcavazos/Desktop/corr_emp_true.pdf\",type=\"pdf\",bbox_inches=\"tight\")\n",
    "plt.show()"
   ]
  },
  {
   "cell_type": "raw",
   "metadata": {},
   "source": [
    "plt.scatter(emp_prs_std[test_locs_ceu], true_prs_std[test_locs_ceu],edgecolor=\"gray\",facecolor=\"none\",label=\"European\")\n",
    "plt.scatter(emp_prs_std[test_locs_admix[high_eur]], true_prs_std[test_locs_admix[high_eur]],edgecolor=\"green\",facecolor=\"none\",label=\"European > 80%\",marker=\"v\")\n",
    "plt.scatter(emp_prs_std[test_locs_admix[low_eur]], true_prs_std[test_locs_admix[low_eur]],edgecolor=\"red\",facecolor=\"none\",label=\"European <= 20%\",marker=\"v\")\n",
    "plt.legend(frameon=False,loc=1,bbox_to_anchor=(1.7,1),fontsize=18,markerscale=1.5)\n",
    "plt.xlabel(\"Empirical PRS\",fontsize=20)\n",
    "plt.ylabel(\"True PRS\",fontsize=20)\n",
    "plt.xticks(fontsize=20)\n",
    "plt.yticks(fontsize=20)\n",
    "sns.despine()\n",
    "plt.show()"
   ]
  },
  {
   "cell_type": "raw",
   "metadata": {},
   "source": [
    "Make these plots for all sims"
   ]
  },
  {
   "cell_type": "raw",
   "metadata": {},
   "source": [
    "plt.figure(figsize=(10,5))\n",
    "sns.distplot(emp_prs_std[test_locs_ceu],color=\"#103c42\",label=\"European-only\",\n",
    "            hist=False,kde=True,kde_kws = {'shade': True, 'linewidth': 3})\n",
    "\n",
    "sns.distplot(emp_prs_std[test_locs_admix[high_eur]],color=\"#02576c\",label=\"CEU > 80%\",\n",
    "             hist=False,kde=True,kde_kws = {'shade': True, 'linewidth': 3})\n",
    "\n",
    "sns.distplot(emp_prs_std[test_locs_admix[mid_eur]],color=\"#05a19c\",label=\"80% >= CEU > 20%\",\n",
    "            hist=False,kde=True,kde_kws = {'shade': True, 'linewidth': 3})\n",
    "\n",
    "sns.distplot(emp_prs_std[test_locs_admix[low_eur]],color=\"#ffe837\",label=\"CEU <= 20%\",\n",
    "            hist=False,kde=True,kde_kws = {'shade': True, 'linewidth': 3})\n",
    "\n",
    "plt.xlabel(\"Empirical PRS\",fontsize=20)\n",
    "plt.ylabel(\"Density\",fontsize=20)\n",
    "plt.xticks(fontsize=20)\n",
    "plt.yticks(fontsize=20)\n",
    "sns.despine()\n",
    "leg = plt.legend(frameon=False,loc=1,bbox_to_anchor=(1.3,1),fontsize=18)\n",
    "leg.set_title(title=\"Ancestry at PRS Variants\",prop={\"weight\":\"bold\",\"size\":18})\n",
    "plt.tight_layout()\n",
    "plt.savefig(\"/Users/taylorcavazos/Desktop/emp_p0.01_anc_prs.pdf\",type=\"pdf\")\n",
    "plt.show()"
   ]
  },
  {
   "cell_type": "raw",
   "metadata": {},
   "source": [
    "plt.figure(figsize=(5,5))\n",
    "sns.distplot(true_prs_std[test_locs_ceu],color=\"#103c42\",label=\"European-only\",\n",
    "            hist=False,kde=True,kde_kws = {'shade': True, 'linewidth': 3})\n",
    "\n",
    "sns.distplot(true_prs_std[test_locs_admix[high_eur]],color=\"#02576c\",label=\"CEU >= 80%\",\n",
    "             hist=False,kde=True,kde_kws = {'shade': True, 'linewidth': 3})\n",
    "\n",
    "sns.distplot(true_prs_std[test_locs_admix[mid_eur]],color=\"#05a19c\",label=\"80% > CEU > 20%\",\n",
    "            hist=False,kde=True,kde_kws = {'shade': True, 'linewidth': 3})\n",
    "\n",
    "sns.distplot(true_prs_std[test_locs_admix[low_eur]],color=\"#ffe837\",label=\"CEU <= 20%\",\n",
    "            hist=False,kde=True,kde_kws = {'shade': True, 'linewidth': 3})\n",
    "\n",
    "plt.xlabel(\"True PRS\",fontsize=20)\n",
    "plt.ylabel(\"Density\",fontsize=20)\n",
    "plt.xticks(fontsize=20)\n",
    "plt.yticks(fontsize=20)\n",
    "sns.despine()\n",
    "#plt.legend(frameon=False,loc=1,bbox_to_anchor=(1.3,1),fontsize=18)\n",
    "plt.legend().remove()\n",
    "plt.tight_layout()\n",
    "plt.savefig(\"/Users/taylorcavazos/Desktop/true_prs_prs_anc.pdf\",type=\"pdf\")\n",
    "plt.show()"
   ]
  },
  {
   "cell_type": "raw",
   "metadata": {},
   "source": [
    "fig,axes = plt.subplots(ncols=2,nrows=1,figsize=(20,10))\n",
    "\n",
    "sns.distplot(emp_prs_std[test_locs_ceu],color=\"#103c42\",label=\"European-only\",\n",
    "            hist=False,kde=True,kde_kws = {'shade': True, 'linewidth': 3},ax=axes[0])\n",
    "\n",
    "sns.distplot(emp_prs_std[test_locs_admix[high_eur]],color=\"#02576c\",label=\"CEU >= 80%\",\n",
    "             hist=False,kde=True,kde_kws = {'shade': True, 'linewidth': 3},ax=axes[0])\n",
    "\n",
    "sns.distplot(emp_prs_std[test_locs_admix[mid_eur]],color=\"#05a19c\",label=\"80% > CEU > 20%\",\n",
    "            hist=False,kde=True,kde_kws = {'shade': True, 'linewidth': 3},ax=axes[0])\n",
    "\n",
    "sns.distplot(emp_prs_std[test_locs_admix[low_eur]],color=\"#ffe837\",label=\"CEU <= 20%\",\n",
    "            hist=False,kde=True,kde_kws = {'shade': True, 'linewidth': 3},ax=axes[0])\n",
    "\n",
    "axes[0].set_xlabel(\"Empirical PRS\",fontsize=20)\n",
    "axes[0].set_ylabel(\"Density\",fontsize=20)\n",
    "axes[0].set_xticklabels(axes[0].get_xticks(),fontsize=20)\n",
    "axes[0].set_yticklabels(np.round(axes[0].get_yticks(),2),fontsize=20)\n",
    "\n",
    "axes[0].legend(frameon=False,loc=1,bbox_to_anchor=(1.2,1),fontsize=18)\n",
    "\n",
    "\n",
    "\n",
    "sns.distplot(true_prs_std[test_locs_ceu],color=\"#103c42\",label=\"European-only\",\n",
    "            hist=False,kde=True,kde_kws = {'shade': True, 'linewidth': 3},ax=axes[1])\n",
    "\n",
    "sns.distplot(true_prs_std[test_locs_admix[high_eur]],color=\"#02576c\",label=\"CEU >= 80%\",\n",
    "             hist=False,kde=True,kde_kws = {'shade': True, 'linewidth': 3},ax=axes[1])\n",
    "\n",
    "sns.distplot(true_prs_std[test_locs_admix[mid_eur]],color=\"#05a19c\",label=\"80% > CEU > 20%\",\n",
    "            hist=False,kde=True,kde_kws = {'shade': True, 'linewidth': 3},ax=axes[1])\n",
    "\n",
    "sns.distplot(true_prs_std[test_locs_admix[low_eur]],color=\"#ffe837\",label=\"CEU <= 20%\",\n",
    "            hist=False,kde=True,kde_kws = {'shade': True, 'linewidth': 3},ax=axes[1])\n",
    "\n",
    "axes[1].set_xlabel(\"True PRS\",fontsize=20)\n",
    "axes[1].set_ylabel(\"Density\",fontsize=20)\n",
    "axes[1].set_xticklabels(axes[1].get_xticks(),fontsize=20)\n",
    "axes[1].set_yticklabels(np.round(axes[1].get_yticks(),2),fontsize=20)\n",
    "axes[1].legend().remove()\n",
    "\n",
    "fig.tight_layout(h_pad= 2,w_pad=0.5)\n",
    "sns.despine()\n",
    "plt.show()"
   ]
  },
  {
   "cell_type": "raw",
   "metadata": {},
   "source": [
    "stats.ttest_ind(true_prs_std[test_locs_ceu],true_prs_std[test_locs_admix[high_eur]],equal_var=False)"
   ]
  },
  {
   "cell_type": "raw",
   "metadata": {},
   "source": [
    "stats.ttest_ind(true_prs_std[test_locs_ceu],true_prs_std[test_locs_admix[mid_eur]],equal_var=False)"
   ]
  },
  {
   "cell_type": "raw",
   "metadata": {},
   "source": [
    "stats.ttest_ind(true_prs_std[test_locs_ceu],true_prs_std[test_locs_admix[low_eur]],equal_var=False)"
   ]
  },
  {
   "cell_type": "raw",
   "metadata": {},
   "source": [
    "stats.pearsonr(emp_prs_std[test_locs_admix[high_eur]], true_prs_std[test_locs_admix[high_eur]])"
   ]
  },
  {
   "cell_type": "raw",
   "metadata": {},
   "source": [
    "stats.pearsonr(emp_prs_std[test_locs_admix[mid_eur]], true_prs_std[test_locs_admix[mid_eur]])"
   ]
  },
  {
   "cell_type": "raw",
   "metadata": {},
   "source": [
    "stats.pearsonr(emp_prs_std[test_locs_admix[low_eur]], true_prs_std[test_locs_admix[low_eur]])"
   ]
  },
  {
   "cell_type": "raw",
   "metadata": {},
   "source": [
    "plt.scatter(emp_prs_std[test_locs_admix[low_eur]], true_prs_std[test_locs_admix[low_eur]])"
   ]
  },
  {
   "cell_type": "raw",
   "metadata": {},
   "source": [
    "len(sim[\"PRS_VARS\"])"
   ]
  },
  {
   "cell_type": "markdown",
   "metadata": {},
   "source": [
    "# Plot Correlation"
   ]
  },
  {
   "cell_type": "markdown",
   "metadata": {},
   "source": [
    "### OVERALL ANCESTRY"
   ]
  },
  {
   "cell_type": "code",
   "execution_count": 2,
   "metadata": {},
   "outputs": [],
   "source": [
    "sns.set_context(\"paper\")\n",
    "sns.set(style = 'whitegrid', font_scale = 2)"
   ]
  },
  {
   "cell_type": "code",
   "execution_count": 3,
   "metadata": {},
   "outputs": [],
   "source": [
    "full_df_prs = pd.DataFrame(columns = [\"m\",\"h2\",\"pval\",\"r2\",\"train_corr\",\"test_EUR_corr\",\"test_ADMIX_corr\",\n",
    "                                 \"ADMIX_low_eur_corr\",\"ADMIX_mid_eur_corr\",\"ADMIX_high_eur_corr\"])\n",
    "for f in glob.glob(\"../results/summary/corrs/*/summary*PRS.txt\"):\n",
    "    df = pd.read_csv(f,sep=\"\\t\",index_col=0)\n",
    "    df.index = [f.split(\"_\")[-1].split(\".\")[0]]\n",
    "    df.loc[:,\"m\"] = int(f.split(\"_\")[6])\n",
    "    df.loc[:,\"h2\"] = float(f.split(\"_\")[8])\n",
    "    df.loc[:,\"pval\"] = float(f.split(\"_\")[12])\n",
    "    df.loc[:,\"r2\"] = float(f.split(\"_\")[10])\n",
    "    full_df_prs = full_df_prs.append(df,ignore_index=False,sort=True)"
   ]
  },
  {
   "cell_type": "code",
   "execution_count": 4,
   "metadata": {},
   "outputs": [],
   "source": [
    "my_rgbs = np.array([\"#103c42\",\"#02576c\",\"#05a19c\",\"#ffe837\"])"
   ]
  },
  {
   "cell_type": "code",
   "execution_count": 5,
   "metadata": {},
   "outputs": [],
   "source": [
    "def plot_correlation(data,axis,palette,title=\"\"):\n",
    "#     g = sns.boxplot(data = data,palette=palette,ax = axis)\n",
    "    g = sns.violinplot(data = data,palette=palette,ax = axis,cut=0)\n",
    "    g.set_xticks(np.arange(0,1.2,0.2))\n",
    "    g.set_xticklabels(\"\")\n",
    "    axis.set_title(title)\n",
    "#     axis.set_title(title,fontsize=38)\n",
    "    return "
   ]
  },
  {
   "cell_type": "code",
   "execution_count": 6,
   "metadata": {},
   "outputs": [
    {
     "data": {
      "image/png": "[encoded data removed]",
      "text/plain": [
       "<Figure size 1080x360 with 2 Axes>"
      ]
     },
     "metadata": {},
     "output_type": "display_data"
    }
   ],
   "source": [
    "fig,ax = plt.subplots(1,2,figsize=(15,5),sharey = True)\n",
    "\n",
    "cols = [\"test_EUR_corr\",\"ADMIX_high_eur_corr\",\"ADMIX_mid_eur_corr\",\"ADMIX_low_eur_corr\"]\n",
    "plot_correlation(full_df_prs.loc[(full_df_prs[\"m\"]==200)&(full_df_prs[\"h2\"]==0.33)&(full_df_prs[\"pval\"]==0.01)\n",
    "                                 ,cols] ,ax[0],my_rgbs,title=\"h2 = 0.33\")\n",
    "plot_correlation(full_df_prs.loc[(full_df_prs[\"m\"]==200)&(full_df_prs[\"h2\"]==0.67)&(full_df_prs[\"pval\"]==0.01)\n",
    "                                 ,cols],ax[1],my_rgbs,title=\"h2 = 0.67\")\n",
    "\n",
    "plt.ylim(0.1,0.9)\n",
    "ax[0].set_ylabel(\"Pearson's Correlation\")\n",
    "\n",
    "legend_dict = dict(zip([\"European-only\",\"CEU $>$ 80%\",\"80% $\\geq$ CEU $>$ 20%\", \"CEU $\\leq$ 20%\"],my_rgbs))\n",
    "patchList = []\n",
    "for key in legend_dict:\n",
    "        data_key = mpatches.Patch(color=legend_dict[key], label=key)\n",
    "        patchList.append(data_key)\n",
    "\n",
    "fig.legend(handles=patchList,bbox_to_anchor=(0.49,-0.03),loc=8,ncol=4,fancybox=False,frameon=False)\n",
    "\n",
    "sns.despine(left=True)\n",
    "fig.suptitle(\"$m = 200, p = 0.01$\")\n",
    "fig.tight_layout(pad=2)\n",
    "# plt.savefig(\"/Users/taylorcavazos/Desktop/varying_h2.pdf\",astype=\"pdf\",bbox_inches=\"tight\")\n",
    "# plt.savefig(\"/Users/taylorcavazos/Documents/Posters/ASHG2019/result1.pdf\",astype=\"pdf\",\n",
    "#            bbox_inches=\"tight\")\n",
    "plt.show()"
   ]
  },
  {
   "cell_type": "code",
   "execution_count": 7,
   "metadata": {},
   "outputs": [
    {
     "data": {
      "image/png": "[encoded data removed]",
      "text/plain": [
       "<Figure size 1080x360 with 3 Axes>"
      ]
     },
     "metadata": {},
     "output_type": "display_data"
    }
   ],
   "source": [
    "fig,ax = plt.subplots(1,3,figsize=(15,5),sharey = True)\n",
    "\n",
    "cols = [\"test_EUR_corr\",\"ADMIX_high_eur_corr\",\"ADMIX_mid_eur_corr\",\"ADMIX_low_eur_corr\"]\n",
    "plot_correlation(full_df_prs.loc[(full_df_prs[\"m\"]==200)&(full_df_prs[\"h2\"]==0.67)&(full_df_prs[\"pval\"]==0.01)\n",
    "                                 ,cols] ,ax[0],my_rgbs,title=\"m = 200\")\n",
    "plot_correlation(full_df_prs.loc[(full_df_prs[\"m\"]==500)&(full_df_prs[\"h2\"]==0.67)&(full_df_prs[\"pval\"]==0.01)\n",
    "                                 ,cols],ax[1],my_rgbs,title=\"m = 500\")\n",
    "plot_correlation(full_df_prs.loc[(full_df_prs[\"m\"]==1000)&(full_df_prs[\"h2\"]==0.67)&(full_df_prs[\"pval\"]==0.01)\n",
    "                                 ,cols],ax[2],my_rgbs,title=\"m = 1000\")\n",
    "\n",
    "plt.ylim(0.1,0.9)\n",
    "ax[0].set_ylabel(\"Pearson's Correlation\")\n",
    "\n",
    "legend_dict = dict(zip([\"European-only\",\"CEU $>$ 80%\",\"80% $\\geq$ CEU $>$ 20%\", \"CEU $\\leq$ 20%\"],my_rgbs))\n",
    "patchList = []\n",
    "for key in legend_dict:\n",
    "        data_key = mpatches.Patch(color=legend_dict[key], label=key)\n",
    "        patchList.append(data_key)\n",
    "\n",
    "fig.legend(handles=patchList,bbox_to_anchor=(0.49,-0.03),loc=8,ncol=4,fancybox=False,frameon=False)\n",
    "\n",
    "sns.despine(left=True)\n",
    "fig.suptitle(\"$h^2 = 0.67, p = 0.01, r^2 = 0.2$\")\n",
    "fig.tight_layout(pad=2)\n",
    "# plt.savefig(\"/Users/taylorcavazos/Box Sync/varying_m.pdf\",astype=\"pdf\",bbox_inches=\"tight\")\n",
    "# plt.savefig(\"/Users/taylorcavazos/Documents/Posters/ASHG2019/result1.pdf\",astype=\"pdf\",\n",
    "#            bbox_inches=\"tight\")\n",
    "plt.show()"
   ]
  },
  {
   "cell_type": "raw",
   "metadata": {},
   "source": [
    "fig,ax = plt.subplots(1,3,figsize=(15,5),sharey = True)\n",
    "\n",
    "cols = [\"test_EUR_corr\",\"ADMIX_high_eur_corr\",\"ADMIX_mid_eur_corr\",\"ADMIX_low_eur_corr\"]\n",
    "plot_correlation(full_df_prs.loc[(full_df_prs[\"m\"]==500)&(full_df_prs[\"h2\"]==0.67)&(full_df_prs[\"pval\"]==0.01) \\\n",
    "                                 &(full_df_prs[\"r2\"]==0.2),cols],\n",
    "                 ax[0],my_rgbs,title=r\"$p = 0.01$\")\n",
    "\n",
    "plot_correlation(full_df_prs.loc[(full_df_prs[\"m\"]==500)&(full_df_prs[\"h2\"]==0.67)&(full_df_prs[\"pval\"]==1e-4) \\\n",
    "                                 &(full_df_prs[\"r2\"]==0.2),cols],\n",
    "                 ax[1],my_rgbs,title = r\"$p = 1 \\times 10^{-4}$\")\n",
    "\n",
    "plot_correlation(full_df_prs.loc[(full_df_prs[\"m\"]==500)&(full_df_prs[\"h2\"]==0.67)&(full_df_prs[\"pval\"]==1e-6) \\\n",
    "                                 &(full_df_prs[\"r2\"]==0.2),cols],\n",
    "                 ax[2],my_rgbs, title = r\"$p = 1 \\times 10^{-6}$\")\n",
    "\n",
    "plt.ylim(0.2,0.9)\n",
    "ax[0].set_ylabel(\"Pearson's Correlation\")\n",
    "\n",
    "legend_dict = dict(zip([\"European-only\",\"CEU $>$ 80%\",\"80% $\\geq$ CEU $>$ 20%\", \"CEU $\\leq$ 20%\"],my_rgbs))\n",
    "patchList = []\n",
    "for key in legend_dict:\n",
    "        data_key = mpatches.Patch(color=legend_dict[key], label=key)\n",
    "        patchList.append(data_key)\n",
    "\n",
    "fig.legend(handles=patchList,bbox_to_anchor=(0.5,-0.03),loc=8,ncol=4,fancybox=False,frameon=False)\n",
    "\n",
    "sns.despine(left=True)\n",
    "\n",
    "fig.suptitle(\"Correlation across 50 simulations (m = 500, h2 = 0.67)\",y=1.1)\n",
    "fig.tight_layout()\n",
    "\n",
    "plt.savefig(\"/Users/taylorcavazos/Documents/Posters/ASHG2019/result1.pdf\",astype=\"pdf\",\n",
    "           bbox_inches=\"tight\")\n",
    "plt.show()"
   ]
  },
  {
   "cell_type": "code",
   "execution_count": 8,
   "metadata": {},
   "outputs": [],
   "source": [
    "p = [0.01,1e-4,1e-6]\n",
    "r2 = [0.01,0.05,0.2]"
   ]
  },
  {
   "cell_type": "code",
   "execution_count": 9,
   "metadata": {},
   "outputs": [],
   "source": [
    "p = [0.01,1e-4,1e-6]\n",
    "r2 = [0.01,0.2]"
   ]
  },
  {
   "cell_type": "code",
   "execution_count": 10,
   "metadata": {},
   "outputs": [],
   "source": [
    "pairs = list(itertools.product(p,r2))"
   ]
  },
  {
   "cell_type": "code",
   "execution_count": 11,
   "metadata": {},
   "outputs": [],
   "source": [
    "cols = [\"test_EUR_corr\",\"ADMIX_high_eur_corr\",\"ADMIX_mid_eur_corr\",\"ADMIX_low_eur_corr\"]\n",
    "sub_df = full_df_prs.loc[(full_df_prs[\"m\"]==500)&(full_df_prs[\"h2\"]==0.67),:]"
   ]
  },
  {
   "cell_type": "raw",
   "metadata": {},
   "source": [
    "plt.rcParams['legend.handlelength'] = 1.5\n",
    "plt.rcParams['legend.handleheight'] = 1"
   ]
  },
  {
   "cell_type": "code",
   "execution_count": 12,
   "metadata": {},
   "outputs": [
    {
     "data": {
      "image/png": "[encoded data removed]",
      "text/plain": [
       "<Figure size 2016x720 with 6 Axes>"
      ]
     },
     "metadata": {},
     "output_type": "display_data"
    }
   ],
   "source": [
    "fig,ax = plt.subplots(2,3,figsize=(28,10),sharey = True, sharex = True)\n",
    "\n",
    "for num, axes in enumerate(ax.T.ravel()):\n",
    "    plot_correlation(sub_df.loc[(sub_df[\"pval\"]==pairs[num][0])&(sub_df[\"r2\"]==pairs[num][1]),cols],\n",
    "                    axes,my_rgbs)\n",
    "\n",
    "\n",
    "    \n",
    "ax[0,0].set_title(r\"$p = 0.01$\",fontsize=36)\n",
    "ax[0,1].set_title(r\"$p = 1 \\times 10^{-4}$\",fontsize=36)\n",
    "ax[0,2].set_title(r\"$p = 1 \\times 10^{-6}$\",fontsize=36)\n",
    "ax[0,0].set_ylabel(r\"clump $r^2 = 0.01$\",fontsize=36,rotation=0,labelpad=250)\n",
    "# ax[1,0].set_ylabel(r\"$r^2 = 0.05$\",fontsize=28)\n",
    "ax[1,0].set_ylabel(r\"clump $r^2 = 0.2$\",fontsize=36,rotation=0,labelpad=250)\n",
    "\n",
    "for axes in ax.flatten():\n",
    "    axes.tick_params(axis='both', which='major', labelsize=36)\n",
    "    axes.tick_params(axis='both', which='minor', labelsize=36)\n",
    "\n",
    "plt.ylim(0.2,0.9)\n",
    "# ax.set_ylabel(\"Pearson's Correlation\")\n",
    "\n",
    "\n",
    "legend_dict = dict(zip([\"European-only\",\"CEU $>$ 80%\",\"80% $\\geq$ CEU $>$ 20%\", \"CEU $\\leq$ 20%\"],my_rgbs))\n",
    "patchList = []\n",
    "for key in legend_dict:\n",
    "        data_key = mpatches.Patch(color=legend_dict[key], label=key)\n",
    "        patchList.append(data_key)\n",
    "\n",
    "fig.legend(handles=patchList,bbox_to_anchor=(0.6,-0.035),loc=8,ncol=4,fancybox=False,frameon=False,fontsize=30,\n",
    "          columnspacing=1,handletextpad=0.4)\n",
    "\n",
    "# fig.legend(handles=patchList,loc=7,ncol=1,fancybox=False,frameon=False,fontsize=28,bbox_to_anchor=(1.3,0.5),\n",
    "#           title=\"Proportion ancestry at PRS variants\")\n",
    "\n",
    "sns.despine(left=True)\n",
    "\n",
    "fig.text(x=0.18,y=0.65,s=r\"Pearson's correlation\",rotation=90,fontsize=36)\n",
    "fig.suptitle(\"Correlation Between True and Empirical PRS Across 50 Simulations\",y=1.05,x=0.6,fontsize=36)\n",
    "fig.tight_layout(pad=0.8)\n",
    "\n",
    "# plt.savefig(\"/Users/taylorcavazos/Desktop/corrs.png\",astype=\"png\",\n",
    "#            bbox_inches=\"tight\",dpi=1000)\n",
    "plt.show()"
   ]
  },
  {
   "cell_type": "code",
   "execution_count": 119,
   "metadata": {},
   "outputs": [],
   "source": [
    "def plot_correlation(data,axis,palette,title=\"\"):\n",
    "#     g = sns.boxplot(data = data,palette=palette,ax = axis)\n",
    "    g = sns.violinplot(data = data,palette=palette,ax = axis,cut=0)\n",
    "#     g.set_xticks(np.arange(0,1.2,0.2))\n",
    "    g.set_xticklabels(\"\")\n",
    "    axis.set_title(title)\n",
    "#     axis.set_title(title,fontsize=38)\n",
    "    return "
   ]
  },
  {
   "cell_type": "code",
   "execution_count": 120,
   "metadata": {},
   "outputs": [
    {
     "data": {
      "image/png": "[encoded data removed]",
      "text/plain": [
       "<Figure size 576x432 with 1 Axes>"
      ]
     },
     "metadata": {},
     "output_type": "display_data"
    }
   ],
   "source": [
    "fig,ax = plt.subplots(figsize=(8,6))\n",
    "plot_correlation(sub_df.loc[(sub_df[\"pval\"]==0.01)&(sub_df[\"r2\"]==0.2),cols],\n",
    "                    ax,my_rgbs)\n",
    "\n",
    "ax.tick_params(axis='both', which='major', labelsize=26)\n",
    "ax.tick_params(axis='both', which='minor', labelsize=26)\n",
    "# plt.ylim(0.3,0.8)\n",
    "plt.ylabel(\"Pearson's correlation\",fontsize=26)\n",
    "plt.title(\"Correlation Between True and Empirical PRS\\n Across 50 Simulations\",fontsize=26)\n",
    "\n",
    "legend_dict = dict(zip([\"European-only\",\"CEU $>$ 80%\",\"80% $\\geq$ CEU $>$ 20%\", \"CEU $\\leq$ 20%\"],my_rgbs))\n",
    "patchList = []\n",
    "for key in legend_dict:\n",
    "        data_key = mpatches.Patch(color=legend_dict[key], label=key)\n",
    "        patchList.append(data_key)\n",
    "\n",
    "fig.legend(handles=patchList,loc=1,ncol=1,bbox_to_anchor=(1.5,0.65),fancybox=False,frameon=False,fontsize=26,\n",
    "          columnspacing=1,handletextpad=0.4)\n",
    "\n",
    "plt.tight_layout()\n",
    "\n",
    "plt.savefig(\"/Users/taylorcavazos/Box Sync/corrs_p_0.01_r2_0.2.png\",astype=\"png\",\n",
    "           bbox_inches=\"tight\",dpi=1000)\n",
    "plt.show()"
   ]
  },
  {
   "cell_type": "code",
   "execution_count": 123,
   "metadata": {},
   "outputs": [],
   "source": [
    "def plot_correlation(data,axis,palette,title=\"\"):\n",
    "#     g = sns.boxplot(data = data,palette=palette,ax = axis)\n",
    "    g = sns.violinplot(data = data,palette=palette,ax = axis,cut=0)\n",
    "#     g.set_xticks(np.arange(0,1.2,0.2))\n",
    "    names = [\"European-only\",\"CEU $>$ 80%\",\"80% $\\geq$ CEU $>$ 20%\", \"CEU $\\leq$ 20%\"]\n",
    "    g.set_xticklabels(names,fontsize=26,horizontalalignment=\"right\",rotation=45)\n",
    "    axis.set_title(title)\n",
    "#     axis.set_title(title,fontsize=38)\n",
    "    return "
   ]
  },
  {
   "cell_type": "code",
   "execution_count": 134,
   "metadata": {},
   "outputs": [
    {
     "data": {
      "image/png": "[encoded data removed]",
      "text/plain": [
       "<Figure size 720x720 with 1 Axes>"
      ]
     },
     "metadata": {},
     "output_type": "display_data"
    }
   ],
   "source": [
    "fig,ax = plt.subplots(figsize=(10,10))\n",
    "plot_correlation(sub_df.loc[(sub_df[\"pval\"]==0.01)&(sub_df[\"r2\"]==0.2),cols],\n",
    "                    ax,my_rgbs)\n",
    "\n",
    "ax.tick_params(axis='both', which='major', labelsize=26)\n",
    "ax.tick_params(axis='both', which='minor', labelsize=26)\n",
    "plt.ylim(0.25,0.85)\n",
    "plt.ylabel(\"Pearson's correlation\",fontsize=26)\n",
    "plt.title(\"Correlation Between True and Empirical PRS\\n Across 50 Simulations\",fontsize=26)\n",
    "\n",
    "plt.tight_layout()\n",
    "\n",
    "plt.savefig(\"/Users/taylorcavazos/Box Sync/corrs_p_0.01_r2_0.2_1.png\",astype=\"png\",\n",
    "           bbox_inches=\"tight\",dpi=1000)\n",
    "plt.show()"
   ]
  },
  {
   "cell_type": "code",
   "execution_count": 56,
   "metadata": {},
   "outputs": [],
   "source": [
    "from scipy import stats"
   ]
  },
  {
   "cell_type": "code",
   "execution_count": 48,
   "metadata": {},
   "outputs": [
    {
     "data": {
      "text/plain": [
       "Ttest_indResult(statistic=4.426530613858244, pvalue=2.488722219673547e-05)"
      ]
     },
     "execution_count": 48,
     "metadata": {},
     "output_type": "execute_result"
    }
   ],
   "source": [
    "stats.ttest_ind(test[\"ADMIX_mid_eur_corr\"],test[\"ADMIX_low_eur_corr\"])"
   ]
  },
  {
   "cell_type": "code",
   "execution_count": 40,
   "metadata": {},
   "outputs": [],
   "source": [
    "test = sub_df.loc[(sub_df[\"pval\"]==1e-6)&(sub_df[\"r2\"]==0.01)]"
   ]
  },
  {
   "cell_type": "code",
   "execution_count": 41,
   "metadata": {},
   "outputs": [
    {
     "data": {
      "text/html": [
       "<div>\n",
       "<style scoped>\n",
       "    .dataframe tbody tr th:only-of-type {\n",
       "        vertical-align: middle;\n",
       "    }\n",
       "\n",
       "    .dataframe tbody tr th {\n",
       "        vertical-align: top;\n",
       "    }\n",
       "\n",
       "    .dataframe thead th {\n",
       "        text-align: right;\n",
       "    }\n",
       "</style>\n",
       "<table border=\"1\" class=\"dataframe\">\n",
       "  <thead>\n",
       "    <tr style=\"text-align: right;\">\n",
       "      <th></th>\n",
       "      <th>ADMIX_high_eur_corr</th>\n",
       "      <th>ADMIX_low_eur_corr</th>\n",
       "      <th>ADMIX_mid_eur_corr</th>\n",
       "      <th>h2</th>\n",
       "      <th>m</th>\n",
       "      <th>pval</th>\n",
       "      <th>r2</th>\n",
       "      <th>test_ADMIX_corr</th>\n",
       "      <th>test_EUR_corr</th>\n",
       "      <th>train_corr</th>\n",
       "    </tr>\n",
       "  </thead>\n",
       "  <tbody>\n",
       "    <tr>\n",
       "      <th>5</th>\n",
       "      <td>0.667386</td>\n",
       "      <td>0.574410</td>\n",
       "      <td>0.593069</td>\n",
       "      <td>0.67</td>\n",
       "      <td>500</td>\n",
       "      <td>0.000001</td>\n",
       "      <td>0.01</td>\n",
       "      <td>0.571750</td>\n",
       "      <td>0.749124</td>\n",
       "      <td>0.828958</td>\n",
       "    </tr>\n",
       "    <tr>\n",
       "      <th>41</th>\n",
       "      <td>0.682568</td>\n",
       "      <td>0.570022</td>\n",
       "      <td>0.623989</td>\n",
       "      <td>0.67</td>\n",
       "      <td>500</td>\n",
       "      <td>0.000001</td>\n",
       "      <td>0.01</td>\n",
       "      <td>0.644030</td>\n",
       "      <td>0.687017</td>\n",
       "      <td>0.779455</td>\n",
       "    </tr>\n",
       "    <tr>\n",
       "      <th>23</th>\n",
       "      <td>0.727103</td>\n",
       "      <td>0.634587</td>\n",
       "      <td>0.683548</td>\n",
       "      <td>0.67</td>\n",
       "      <td>500</td>\n",
       "      <td>0.000001</td>\n",
       "      <td>0.01</td>\n",
       "      <td>0.656893</td>\n",
       "      <td>0.779709</td>\n",
       "      <td>0.841213</td>\n",
       "    </tr>\n",
       "    <tr>\n",
       "      <th>33</th>\n",
       "      <td>0.708512</td>\n",
       "      <td>0.674869</td>\n",
       "      <td>0.693366</td>\n",
       "      <td>0.67</td>\n",
       "      <td>500</td>\n",
       "      <td>0.000001</td>\n",
       "      <td>0.01</td>\n",
       "      <td>0.675136</td>\n",
       "      <td>0.773394</td>\n",
       "      <td>0.848581</td>\n",
       "    </tr>\n",
       "    <tr>\n",
       "      <th>15</th>\n",
       "      <td>0.758138</td>\n",
       "      <td>0.665803</td>\n",
       "      <td>0.713320</td>\n",
       "      <td>0.67</td>\n",
       "      <td>500</td>\n",
       "      <td>0.000001</td>\n",
       "      <td>0.01</td>\n",
       "      <td>0.707441</td>\n",
       "      <td>0.789821</td>\n",
       "      <td>0.862395</td>\n",
       "    </tr>\n",
       "    <tr>\n",
       "      <th>48</th>\n",
       "      <td>0.791117</td>\n",
       "      <td>0.690637</td>\n",
       "      <td>0.760471</td>\n",
       "      <td>0.67</td>\n",
       "      <td>500</td>\n",
       "      <td>0.000001</td>\n",
       "      <td>0.01</td>\n",
       "      <td>0.739091</td>\n",
       "      <td>0.810680</td>\n",
       "      <td>0.882961</td>\n",
       "    </tr>\n",
       "    <tr>\n",
       "      <th>14</th>\n",
       "      <td>0.647293</td>\n",
       "      <td>0.530348</td>\n",
       "      <td>0.562820</td>\n",
       "      <td>0.67</td>\n",
       "      <td>500</td>\n",
       "      <td>0.000001</td>\n",
       "      <td>0.01</td>\n",
       "      <td>0.555730</td>\n",
       "      <td>0.668194</td>\n",
       "      <td>0.779456</td>\n",
       "    </tr>\n",
       "    <tr>\n",
       "      <th>49</th>\n",
       "      <td>0.768907</td>\n",
       "      <td>0.581474</td>\n",
       "      <td>0.685736</td>\n",
       "      <td>0.67</td>\n",
       "      <td>500</td>\n",
       "      <td>0.000001</td>\n",
       "      <td>0.01</td>\n",
       "      <td>0.673588</td>\n",
       "      <td>0.785954</td>\n",
       "      <td>0.870108</td>\n",
       "    </tr>\n",
       "    <tr>\n",
       "      <th>4</th>\n",
       "      <td>0.644020</td>\n",
       "      <td>0.590805</td>\n",
       "      <td>0.615827</td>\n",
       "      <td>0.67</td>\n",
       "      <td>500</td>\n",
       "      <td>0.000001</td>\n",
       "      <td>0.01</td>\n",
       "      <td>0.593530</td>\n",
       "      <td>0.731261</td>\n",
       "      <td>0.823439</td>\n",
       "    </tr>\n",
       "    <tr>\n",
       "      <th>50</th>\n",
       "      <td>0.784427</td>\n",
       "      <td>0.737288</td>\n",
       "      <td>0.753682</td>\n",
       "      <td>0.67</td>\n",
       "      <td>500</td>\n",
       "      <td>0.000001</td>\n",
       "      <td>0.01</td>\n",
       "      <td>0.770056</td>\n",
       "      <td>0.804919</td>\n",
       "      <td>0.870268</td>\n",
       "    </tr>\n",
       "    <tr>\n",
       "      <th>40</th>\n",
       "      <td>0.809276</td>\n",
       "      <td>0.649643</td>\n",
       "      <td>0.765801</td>\n",
       "      <td>0.67</td>\n",
       "      <td>500</td>\n",
       "      <td>0.000001</td>\n",
       "      <td>0.01</td>\n",
       "      <td>0.762316</td>\n",
       "      <td>0.837061</td>\n",
       "      <td>0.902594</td>\n",
       "    </tr>\n",
       "    <tr>\n",
       "      <th>32</th>\n",
       "      <td>0.699065</td>\n",
       "      <td>0.621796</td>\n",
       "      <td>0.604453</td>\n",
       "      <td>0.67</td>\n",
       "      <td>500</td>\n",
       "      <td>0.000001</td>\n",
       "      <td>0.01</td>\n",
       "      <td>0.588284</td>\n",
       "      <td>0.695758</td>\n",
       "      <td>0.787656</td>\n",
       "    </tr>\n",
       "    <tr>\n",
       "      <th>22</th>\n",
       "      <td>0.677467</td>\n",
       "      <td>0.698700</td>\n",
       "      <td>0.663412</td>\n",
       "      <td>0.67</td>\n",
       "      <td>500</td>\n",
       "      <td>0.000001</td>\n",
       "      <td>0.01</td>\n",
       "      <td>0.638828</td>\n",
       "      <td>0.745648</td>\n",
       "      <td>0.839828</td>\n",
       "    </tr>\n",
       "    <tr>\n",
       "      <th>16</th>\n",
       "      <td>0.753570</td>\n",
       "      <td>0.540766</td>\n",
       "      <td>0.672242</td>\n",
       "      <td>0.67</td>\n",
       "      <td>500</td>\n",
       "      <td>0.000001</td>\n",
       "      <td>0.01</td>\n",
       "      <td>0.661405</td>\n",
       "      <td>0.835655</td>\n",
       "      <td>0.910528</td>\n",
       "    </tr>\n",
       "    <tr>\n",
       "      <th>39</th>\n",
       "      <td>0.786612</td>\n",
       "      <td>0.661947</td>\n",
       "      <td>0.681680</td>\n",
       "      <td>0.67</td>\n",
       "      <td>500</td>\n",
       "      <td>0.000001</td>\n",
       "      <td>0.01</td>\n",
       "      <td>0.686877</td>\n",
       "      <td>0.850138</td>\n",
       "      <td>0.914237</td>\n",
       "    </tr>\n",
       "    <tr>\n",
       "      <th>29</th>\n",
       "      <td>0.819208</td>\n",
       "      <td>0.544137</td>\n",
       "      <td>0.664879</td>\n",
       "      <td>0.67</td>\n",
       "      <td>500</td>\n",
       "      <td>0.000001</td>\n",
       "      <td>0.01</td>\n",
       "      <td>0.660280</td>\n",
       "      <td>0.839309</td>\n",
       "      <td>0.893571</td>\n",
       "    </tr>\n",
       "    <tr>\n",
       "      <th>6</th>\n",
       "      <td>0.760097</td>\n",
       "      <td>0.468653</td>\n",
       "      <td>0.627171</td>\n",
       "      <td>0.67</td>\n",
       "      <td>500</td>\n",
       "      <td>0.000001</td>\n",
       "      <td>0.01</td>\n",
       "      <td>0.607982</td>\n",
       "      <td>0.829595</td>\n",
       "      <td>0.892737</td>\n",
       "    </tr>\n",
       "    <tr>\n",
       "      <th>20</th>\n",
       "      <td>0.686705</td>\n",
       "      <td>0.443347</td>\n",
       "      <td>0.591473</td>\n",
       "      <td>0.67</td>\n",
       "      <td>500</td>\n",
       "      <td>0.000001</td>\n",
       "      <td>0.01</td>\n",
       "      <td>0.561566</td>\n",
       "      <td>0.716967</td>\n",
       "      <td>0.825998</td>\n",
       "    </tr>\n",
       "    <tr>\n",
       "      <th>30</th>\n",
       "      <td>0.718584</td>\n",
       "      <td>0.429256</td>\n",
       "      <td>0.558028</td>\n",
       "      <td>0.67</td>\n",
       "      <td>500</td>\n",
       "      <td>0.000001</td>\n",
       "      <td>0.01</td>\n",
       "      <td>0.556655</td>\n",
       "      <td>0.747280</td>\n",
       "      <td>0.846825</td>\n",
       "    </tr>\n",
       "    <tr>\n",
       "      <th>42</th>\n",
       "      <td>0.768818</td>\n",
       "      <td>0.601205</td>\n",
       "      <td>0.650832</td>\n",
       "      <td>0.67</td>\n",
       "      <td>500</td>\n",
       "      <td>0.000001</td>\n",
       "      <td>0.01</td>\n",
       "      <td>0.661233</td>\n",
       "      <td>0.803030</td>\n",
       "      <td>0.877586</td>\n",
       "    </tr>\n",
       "    <tr>\n",
       "      <th>7</th>\n",
       "      <td>0.751338</td>\n",
       "      <td>0.531533</td>\n",
       "      <td>0.620009</td>\n",
       "      <td>0.67</td>\n",
       "      <td>500</td>\n",
       "      <td>0.000001</td>\n",
       "      <td>0.01</td>\n",
       "      <td>0.613482</td>\n",
       "      <td>0.811814</td>\n",
       "      <td>0.878201</td>\n",
       "    </tr>\n",
       "    <tr>\n",
       "      <th>31</th>\n",
       "      <td>0.710318</td>\n",
       "      <td>0.602037</td>\n",
       "      <td>0.617199</td>\n",
       "      <td>0.67</td>\n",
       "      <td>500</td>\n",
       "      <td>0.000001</td>\n",
       "      <td>0.01</td>\n",
       "      <td>0.623149</td>\n",
       "      <td>0.783249</td>\n",
       "      <td>0.866873</td>\n",
       "    </tr>\n",
       "    <tr>\n",
       "      <th>21</th>\n",
       "      <td>0.688467</td>\n",
       "      <td>0.427361</td>\n",
       "      <td>0.528978</td>\n",
       "      <td>0.67</td>\n",
       "      <td>500</td>\n",
       "      <td>0.000001</td>\n",
       "      <td>0.01</td>\n",
       "      <td>0.505146</td>\n",
       "      <td>0.777855</td>\n",
       "      <td>0.867394</td>\n",
       "    </tr>\n",
       "    <tr>\n",
       "      <th>43</th>\n",
       "      <td>0.774020</td>\n",
       "      <td>0.804225</td>\n",
       "      <td>0.778917</td>\n",
       "      <td>0.67</td>\n",
       "      <td>500</td>\n",
       "      <td>0.000001</td>\n",
       "      <td>0.01</td>\n",
       "      <td>0.778678</td>\n",
       "      <td>0.779831</td>\n",
       "      <td>0.859661</td>\n",
       "    </tr>\n",
       "    <tr>\n",
       "      <th>17</th>\n",
       "      <td>0.783503</td>\n",
       "      <td>0.724831</td>\n",
       "      <td>0.758788</td>\n",
       "      <td>0.67</td>\n",
       "      <td>500</td>\n",
       "      <td>0.000001</td>\n",
       "      <td>0.01</td>\n",
       "      <td>0.747631</td>\n",
       "      <td>0.809818</td>\n",
       "      <td>0.879932</td>\n",
       "    </tr>\n",
       "    <tr>\n",
       "      <th>28</th>\n",
       "      <td>0.717348</td>\n",
       "      <td>0.692330</td>\n",
       "      <td>0.684301</td>\n",
       "      <td>0.67</td>\n",
       "      <td>500</td>\n",
       "      <td>0.000001</td>\n",
       "      <td>0.01</td>\n",
       "      <td>0.681034</td>\n",
       "      <td>0.763692</td>\n",
       "      <td>0.828702</td>\n",
       "    </tr>\n",
       "    <tr>\n",
       "      <th>38</th>\n",
       "      <td>0.714555</td>\n",
       "      <td>0.648201</td>\n",
       "      <td>0.716886</td>\n",
       "      <td>0.67</td>\n",
       "      <td>500</td>\n",
       "      <td>0.000001</td>\n",
       "      <td>0.01</td>\n",
       "      <td>0.695559</td>\n",
       "      <td>0.775879</td>\n",
       "      <td>0.859160</td>\n",
       "    </tr>\n",
       "    <tr>\n",
       "      <th>12</th>\n",
       "      <td>0.717778</td>\n",
       "      <td>0.577201</td>\n",
       "      <td>0.665085</td>\n",
       "      <td>0.67</td>\n",
       "      <td>500</td>\n",
       "      <td>0.000001</td>\n",
       "      <td>0.01</td>\n",
       "      <td>0.648326</td>\n",
       "      <td>0.727198</td>\n",
       "      <td>0.830174</td>\n",
       "    </tr>\n",
       "    <tr>\n",
       "      <th>24</th>\n",
       "      <td>0.755612</td>\n",
       "      <td>0.617146</td>\n",
       "      <td>0.679171</td>\n",
       "      <td>0.67</td>\n",
       "      <td>500</td>\n",
       "      <td>0.000001</td>\n",
       "      <td>0.01</td>\n",
       "      <td>0.681153</td>\n",
       "      <td>0.868957</td>\n",
       "      <td>0.910971</td>\n",
       "    </tr>\n",
       "    <tr>\n",
       "      <th>34</th>\n",
       "      <td>0.838806</td>\n",
       "      <td>0.677494</td>\n",
       "      <td>0.738932</td>\n",
       "      <td>0.67</td>\n",
       "      <td>500</td>\n",
       "      <td>0.000001</td>\n",
       "      <td>0.01</td>\n",
       "      <td>0.732860</td>\n",
       "      <td>0.880131</td>\n",
       "      <td>0.922416</td>\n",
       "    </tr>\n",
       "    <tr>\n",
       "      <th>46</th>\n",
       "      <td>0.779448</td>\n",
       "      <td>0.619076</td>\n",
       "      <td>0.683236</td>\n",
       "      <td>0.67</td>\n",
       "      <td>500</td>\n",
       "      <td>0.000001</td>\n",
       "      <td>0.01</td>\n",
       "      <td>0.671926</td>\n",
       "      <td>0.820178</td>\n",
       "      <td>0.887848</td>\n",
       "    </tr>\n",
       "    <tr>\n",
       "      <th>2</th>\n",
       "      <td>0.741605</td>\n",
       "      <td>0.581638</td>\n",
       "      <td>0.617566</td>\n",
       "      <td>0.67</td>\n",
       "      <td>500</td>\n",
       "      <td>0.000001</td>\n",
       "      <td>0.01</td>\n",
       "      <td>0.574492</td>\n",
       "      <td>0.791399</td>\n",
       "      <td>0.872388</td>\n",
       "    </tr>\n",
       "    <tr>\n",
       "      <th>35</th>\n",
       "      <td>0.700269</td>\n",
       "      <td>0.564392</td>\n",
       "      <td>0.633950</td>\n",
       "      <td>0.67</td>\n",
       "      <td>500</td>\n",
       "      <td>0.000001</td>\n",
       "      <td>0.01</td>\n",
       "      <td>0.615149</td>\n",
       "      <td>0.778942</td>\n",
       "      <td>0.851372</td>\n",
       "    </tr>\n",
       "    <tr>\n",
       "      <th>25</th>\n",
       "      <td>0.806940</td>\n",
       "      <td>0.635042</td>\n",
       "      <td>0.749312</td>\n",
       "      <td>0.67</td>\n",
       "      <td>500</td>\n",
       "      <td>0.000001</td>\n",
       "      <td>0.01</td>\n",
       "      <td>0.775083</td>\n",
       "      <td>0.827233</td>\n",
       "      <td>0.902122</td>\n",
       "    </tr>\n",
       "    <tr>\n",
       "      <th>47</th>\n",
       "      <td>0.785517</td>\n",
       "      <td>0.572670</td>\n",
       "      <td>0.675787</td>\n",
       "      <td>0.67</td>\n",
       "      <td>500</td>\n",
       "      <td>0.000001</td>\n",
       "      <td>0.01</td>\n",
       "      <td>0.689397</td>\n",
       "      <td>0.824311</td>\n",
       "      <td>0.884837</td>\n",
       "    </tr>\n",
       "    <tr>\n",
       "      <th>3</th>\n",
       "      <td>0.782932</td>\n",
       "      <td>0.586018</td>\n",
       "      <td>0.711847</td>\n",
       "      <td>0.67</td>\n",
       "      <td>500</td>\n",
       "      <td>0.000001</td>\n",
       "      <td>0.01</td>\n",
       "      <td>0.698325</td>\n",
       "      <td>0.812109</td>\n",
       "      <td>0.880654</td>\n",
       "    </tr>\n",
       "    <tr>\n",
       "      <th>13</th>\n",
       "      <td>0.708672</td>\n",
       "      <td>0.427647</td>\n",
       "      <td>0.554569</td>\n",
       "      <td>0.67</td>\n",
       "      <td>500</td>\n",
       "      <td>0.000001</td>\n",
       "      <td>0.01</td>\n",
       "      <td>0.535658</td>\n",
       "      <td>0.750829</td>\n",
       "      <td>0.839753</td>\n",
       "    </tr>\n",
       "    <tr>\n",
       "      <th>45</th>\n",
       "      <td>0.731185</td>\n",
       "      <td>0.728395</td>\n",
       "      <td>0.710934</td>\n",
       "      <td>0.67</td>\n",
       "      <td>500</td>\n",
       "      <td>0.000001</td>\n",
       "      <td>0.01</td>\n",
       "      <td>0.729159</td>\n",
       "      <td>0.721843</td>\n",
       "      <td>0.801669</td>\n",
       "    </tr>\n",
       "    <tr>\n",
       "      <th>27</th>\n",
       "      <td>0.747278</td>\n",
       "      <td>0.701932</td>\n",
       "      <td>0.711845</td>\n",
       "      <td>0.67</td>\n",
       "      <td>500</td>\n",
       "      <td>0.000001</td>\n",
       "      <td>0.01</td>\n",
       "      <td>0.699239</td>\n",
       "      <td>0.797729</td>\n",
       "      <td>0.875186</td>\n",
       "    </tr>\n",
       "    <tr>\n",
       "      <th>37</th>\n",
       "      <td>0.613696</td>\n",
       "      <td>0.435192</td>\n",
       "      <td>0.532364</td>\n",
       "      <td>0.67</td>\n",
       "      <td>500</td>\n",
       "      <td>0.000001</td>\n",
       "      <td>0.01</td>\n",
       "      <td>0.505344</td>\n",
       "      <td>0.715017</td>\n",
       "      <td>0.806197</td>\n",
       "    </tr>\n",
       "    <tr>\n",
       "      <th>1</th>\n",
       "      <td>0.705951</td>\n",
       "      <td>0.527988</td>\n",
       "      <td>0.635734</td>\n",
       "      <td>0.67</td>\n",
       "      <td>500</td>\n",
       "      <td>0.000001</td>\n",
       "      <td>0.01</td>\n",
       "      <td>0.605150</td>\n",
       "      <td>0.678017</td>\n",
       "      <td>0.788307</td>\n",
       "    </tr>\n",
       "    <tr>\n",
       "      <th>18</th>\n",
       "      <td>0.731455</td>\n",
       "      <td>0.563703</td>\n",
       "      <td>0.661254</td>\n",
       "      <td>0.67</td>\n",
       "      <td>500</td>\n",
       "      <td>0.000001</td>\n",
       "      <td>0.01</td>\n",
       "      <td>0.662996</td>\n",
       "      <td>0.775357</td>\n",
       "      <td>0.856236</td>\n",
       "    </tr>\n",
       "    <tr>\n",
       "      <th>8</th>\n",
       "      <td>0.740284</td>\n",
       "      <td>0.539474</td>\n",
       "      <td>0.615550</td>\n",
       "      <td>0.67</td>\n",
       "      <td>500</td>\n",
       "      <td>0.000001</td>\n",
       "      <td>0.01</td>\n",
       "      <td>0.604544</td>\n",
       "      <td>0.750025</td>\n",
       "      <td>0.808572</td>\n",
       "    </tr>\n",
       "    <tr>\n",
       "      <th>11</th>\n",
       "      <td>0.764847</td>\n",
       "      <td>0.537359</td>\n",
       "      <td>0.681404</td>\n",
       "      <td>0.67</td>\n",
       "      <td>500</td>\n",
       "      <td>0.000001</td>\n",
       "      <td>0.01</td>\n",
       "      <td>0.658727</td>\n",
       "      <td>0.823289</td>\n",
       "      <td>0.883296</td>\n",
       "    </tr>\n",
       "    <tr>\n",
       "      <th>10</th>\n",
       "      <td>0.766884</td>\n",
       "      <td>0.637033</td>\n",
       "      <td>0.690419</td>\n",
       "      <td>0.67</td>\n",
       "      <td>500</td>\n",
       "      <td>0.000001</td>\n",
       "      <td>0.01</td>\n",
       "      <td>0.681757</td>\n",
       "      <td>0.836013</td>\n",
       "      <td>0.899100</td>\n",
       "    </tr>\n",
       "    <tr>\n",
       "      <th>9</th>\n",
       "      <td>0.725445</td>\n",
       "      <td>0.669782</td>\n",
       "      <td>0.687152</td>\n",
       "      <td>0.67</td>\n",
       "      <td>500</td>\n",
       "      <td>0.000001</td>\n",
       "      <td>0.01</td>\n",
       "      <td>0.675593</td>\n",
       "      <td>0.714683</td>\n",
       "      <td>0.810344</td>\n",
       "    </tr>\n",
       "    <tr>\n",
       "      <th>44</th>\n",
       "      <td>0.758928</td>\n",
       "      <td>0.634969</td>\n",
       "      <td>0.711023</td>\n",
       "      <td>0.67</td>\n",
       "      <td>500</td>\n",
       "      <td>0.000001</td>\n",
       "      <td>0.01</td>\n",
       "      <td>0.709712</td>\n",
       "      <td>0.787891</td>\n",
       "      <td>0.875943</td>\n",
       "    </tr>\n",
       "    <tr>\n",
       "      <th>36</th>\n",
       "      <td>0.804432</td>\n",
       "      <td>0.652619</td>\n",
       "      <td>0.704160</td>\n",
       "      <td>0.67</td>\n",
       "      <td>500</td>\n",
       "      <td>0.000001</td>\n",
       "      <td>0.01</td>\n",
       "      <td>0.704523</td>\n",
       "      <td>0.810513</td>\n",
       "      <td>0.894420</td>\n",
       "    </tr>\n",
       "    <tr>\n",
       "      <th>26</th>\n",
       "      <td>0.790653</td>\n",
       "      <td>0.470558</td>\n",
       "      <td>0.670358</td>\n",
       "      <td>0.67</td>\n",
       "      <td>500</td>\n",
       "      <td>0.000001</td>\n",
       "      <td>0.01</td>\n",
       "      <td>0.662652</td>\n",
       "      <td>0.879117</td>\n",
       "      <td>0.919913</td>\n",
       "    </tr>\n",
       "    <tr>\n",
       "      <th>19</th>\n",
       "      <td>0.772371</td>\n",
       "      <td>0.615153</td>\n",
       "      <td>0.665223</td>\n",
       "      <td>0.67</td>\n",
       "      <td>500</td>\n",
       "      <td>0.000001</td>\n",
       "      <td>0.01</td>\n",
       "      <td>0.658661</td>\n",
       "      <td>0.787766</td>\n",
       "      <td>0.866477</td>\n",
       "    </tr>\n",
       "  </tbody>\n",
       "</table>\n",
       "</div>"
      ],
      "text/plain": [
       "    ADMIX_high_eur_corr  ADMIX_low_eur_corr  ADMIX_mid_eur_corr    h2    m  \\\n",
       "5              0.667386            0.574410            0.593069  0.67  500   \n",
       "41             0.682568            0.570022            0.623989  0.67  500   \n",
       "23             0.727103            0.634587            0.683548  0.67  500   \n",
       "33             0.708512            0.674869            0.693366  0.67  500   \n",
       "15             0.758138            0.665803            0.713320  0.67  500   \n",
       "48             0.791117            0.690637            0.760471  0.67  500   \n",
       "14             0.647293            0.530348            0.562820  0.67  500   \n",
       "49             0.768907            0.581474            0.685736  0.67  500   \n",
       "4              0.644020            0.590805            0.615827  0.67  500   \n",
       "50             0.784427            0.737288            0.753682  0.67  500   \n",
       "40             0.809276            0.649643            0.765801  0.67  500   \n",
       "32             0.699065            0.621796            0.604453  0.67  500   \n",
       "22             0.677467            0.698700            0.663412  0.67  500   \n",
       "16             0.753570            0.540766            0.672242  0.67  500   \n",
       "39             0.786612            0.661947            0.681680  0.67  500   \n",
       "29             0.819208            0.544137            0.664879  0.67  500   \n",
       "6              0.760097            0.468653            0.627171  0.67  500   \n",
       "20             0.686705            0.443347            0.591473  0.67  500   \n",
       "30             0.718584            0.429256            0.558028  0.67  500   \n",
       "42             0.768818            0.601205            0.650832  0.67  500   \n",
       "7              0.751338            0.531533            0.620009  0.67  500   \n",
       "31             0.710318            0.602037            0.617199  0.67  500   \n",
       "21             0.688467            0.427361            0.528978  0.67  500   \n",
       "43             0.774020            0.804225            0.778917  0.67  500   \n",
       "17             0.783503            0.724831            0.758788  0.67  500   \n",
       "28             0.717348            0.692330            0.684301  0.67  500   \n",
       "38             0.714555            0.648201            0.716886  0.67  500   \n",
       "12             0.717778            0.577201            0.665085  0.67  500   \n",
       "24             0.755612            0.617146            0.679171  0.67  500   \n",
       "34             0.838806            0.677494            0.738932  0.67  500   \n",
       "46             0.779448            0.619076            0.683236  0.67  500   \n",
       "2              0.741605            0.581638            0.617566  0.67  500   \n",
       "35             0.700269            0.564392            0.633950  0.67  500   \n",
       "25             0.806940            0.635042            0.749312  0.67  500   \n",
       "47             0.785517            0.572670            0.675787  0.67  500   \n",
       "3              0.782932            0.586018            0.711847  0.67  500   \n",
       "13             0.708672            0.427647            0.554569  0.67  500   \n",
       "45             0.731185            0.728395            0.710934  0.67  500   \n",
       "27             0.747278            0.701932            0.711845  0.67  500   \n",
       "37             0.613696            0.435192            0.532364  0.67  500   \n",
       "1              0.705951            0.527988            0.635734  0.67  500   \n",
       "18             0.731455            0.563703            0.661254  0.67  500   \n",
       "8              0.740284            0.539474            0.615550  0.67  500   \n",
       "11             0.764847            0.537359            0.681404  0.67  500   \n",
       "10             0.766884            0.637033            0.690419  0.67  500   \n",
       "9              0.725445            0.669782            0.687152  0.67  500   \n",
       "44             0.758928            0.634969            0.711023  0.67  500   \n",
       "36             0.804432            0.652619            0.704160  0.67  500   \n",
       "26             0.790653            0.470558            0.670358  0.67  500   \n",
       "19             0.772371            0.615153            0.665223  0.67  500   \n",
       "\n",
       "        pval    r2  test_ADMIX_corr  test_EUR_corr  train_corr  \n",
       "5   0.000001  0.01         0.571750       0.749124    0.828958  \n",
       "41  0.000001  0.01         0.644030       0.687017    0.779455  \n",
       "23  0.000001  0.01         0.656893       0.779709    0.841213  \n",
       "33  0.000001  0.01         0.675136       0.773394    0.848581  \n",
       "15  0.000001  0.01         0.707441       0.789821    0.862395  \n",
       "48  0.000001  0.01         0.739091       0.810680    0.882961  \n",
       "14  0.000001  0.01         0.555730       0.668194    0.779456  \n",
       "49  0.000001  0.01         0.673588       0.785954    0.870108  \n",
       "4   0.000001  0.01         0.593530       0.731261    0.823439  \n",
       "50  0.000001  0.01         0.770056       0.804919    0.870268  \n",
       "40  0.000001  0.01         0.762316       0.837061    0.902594  \n",
       "32  0.000001  0.01         0.588284       0.695758    0.787656  \n",
       "22  0.000001  0.01         0.638828       0.745648    0.839828  \n",
       "16  0.000001  0.01         0.661405       0.835655    0.910528  \n",
       "39  0.000001  0.01         0.686877       0.850138    0.914237  \n",
       "29  0.000001  0.01         0.660280       0.839309    0.893571  \n",
       "6   0.000001  0.01         0.607982       0.829595    0.892737  \n",
       "20  0.000001  0.01         0.561566       0.716967    0.825998  \n",
       "30  0.000001  0.01         0.556655       0.747280    0.846825  \n",
       "42  0.000001  0.01         0.661233       0.803030    0.877586  \n",
       "7   0.000001  0.01         0.613482       0.811814    0.878201  \n",
       "31  0.000001  0.01         0.623149       0.783249    0.866873  \n",
       "21  0.000001  0.01         0.505146       0.777855    0.867394  \n",
       "43  0.000001  0.01         0.778678       0.779831    0.859661  \n",
       "17  0.000001  0.01         0.747631       0.809818    0.879932  \n",
       "28  0.000001  0.01         0.681034       0.763692    0.828702  \n",
       "38  0.000001  0.01         0.695559       0.775879    0.859160  \n",
       "12  0.000001  0.01         0.648326       0.727198    0.830174  \n",
       "24  0.000001  0.01         0.681153       0.868957    0.910971  \n",
       "34  0.000001  0.01         0.732860       0.880131    0.922416  \n",
       "46  0.000001  0.01         0.671926       0.820178    0.887848  \n",
       "2   0.000001  0.01         0.574492       0.791399    0.872388  \n",
       "35  0.000001  0.01         0.615149       0.778942    0.851372  \n",
       "25  0.000001  0.01         0.775083       0.827233    0.902122  \n",
       "47  0.000001  0.01         0.689397       0.824311    0.884837  \n",
       "3   0.000001  0.01         0.698325       0.812109    0.880654  \n",
       "13  0.000001  0.01         0.535658       0.750829    0.839753  \n",
       "45  0.000001  0.01         0.729159       0.721843    0.801669  \n",
       "27  0.000001  0.01         0.699239       0.797729    0.875186  \n",
       "37  0.000001  0.01         0.505344       0.715017    0.806197  \n",
       "1   0.000001  0.01         0.605150       0.678017    0.788307  \n",
       "18  0.000001  0.01         0.662996       0.775357    0.856236  \n",
       "8   0.000001  0.01         0.604544       0.750025    0.808572  \n",
       "11  0.000001  0.01         0.658727       0.823289    0.883296  \n",
       "10  0.000001  0.01         0.681757       0.836013    0.899100  \n",
       "9   0.000001  0.01         0.675593       0.714683    0.810344  \n",
       "44  0.000001  0.01         0.709712       0.787891    0.875943  \n",
       "36  0.000001  0.01         0.704523       0.810513    0.894420  \n",
       "26  0.000001  0.01         0.662652       0.879117    0.919913  \n",
       "19  0.000001  0.01         0.658661       0.787766    0.866477  "
      ]
     },
     "execution_count": 41,
     "metadata": {},
     "output_type": "execute_result"
    }
   ],
   "source": [
    "test"
   ]
  },
  {
   "cell_type": "markdown",
   "metadata": {},
   "source": [
    "# Plot maf bins"
   ]
  },
  {
   "cell_type": "code",
   "execution_count": 2,
   "metadata": {},
   "outputs": [],
   "source": [
    "all_df = pd.DataFrame(columns=[\"Sim\",\"Pop\",\"G1\",\"G2\",\"G3\",\"G4\",\"G5\",\"G6\"])\n",
    "for file in glob.glob(\"../results/summary/maf_sims/maf_bins_m_500_h2_0.67_*\"):\n",
    "    df = pd.read_csv(file,sep=\"\\t\")\n",
    "    all_df = all_df.append(df,ignore_index=True)"
   ]
  },
  {
   "cell_type": "code",
   "execution_count": 3,
   "metadata": {},
   "outputs": [
    {
     "data": {
      "text/html": [
       "<div>\n",
       "<style scoped>\n",
       "    .dataframe tbody tr th:only-of-type {\n",
       "        vertical-align: middle;\n",
       "    }\n",
       "\n",
       "    .dataframe tbody tr th {\n",
       "        vertical-align: top;\n",
       "    }\n",
       "\n",
       "    .dataframe thead th {\n",
       "        text-align: right;\n",
       "    }\n",
       "</style>\n",
       "<table border=\"1\" class=\"dataframe\">\n",
       "  <thead>\n",
       "    <tr style=\"text-align: right;\">\n",
       "      <th></th>\n",
       "      <th>Sim</th>\n",
       "      <th>Pop</th>\n",
       "      <th>G1</th>\n",
       "      <th>G2</th>\n",
       "      <th>G3</th>\n",
       "      <th>G4</th>\n",
       "      <th>G5</th>\n",
       "      <th>G6</th>\n",
       "    </tr>\n",
       "  </thead>\n",
       "  <tbody>\n",
       "    <tr>\n",
       "      <th>4</th>\n",
       "      <td>1</td>\n",
       "      <td>Admixed</td>\n",
       "      <td>0.303860</td>\n",
       "      <td>0.417895</td>\n",
       "      <td>0.117544</td>\n",
       "      <td>0.070877</td>\n",
       "      <td>0.049825</td>\n",
       "      <td>0.040000</td>\n",
       "    </tr>\n",
       "    <tr>\n",
       "      <th>5</th>\n",
       "      <td>1</td>\n",
       "      <td>European</td>\n",
       "      <td>0.023509</td>\n",
       "      <td>0.684561</td>\n",
       "      <td>0.119298</td>\n",
       "      <td>0.075088</td>\n",
       "      <td>0.049825</td>\n",
       "      <td>0.047719</td>\n",
       "    </tr>\n",
       "    <tr>\n",
       "      <th>10</th>\n",
       "      <td>15</td>\n",
       "      <td>Admixed</td>\n",
       "      <td>0.257565</td>\n",
       "      <td>0.424712</td>\n",
       "      <td>0.136167</td>\n",
       "      <td>0.073847</td>\n",
       "      <td>0.058718</td>\n",
       "      <td>0.048991</td>\n",
       "    </tr>\n",
       "    <tr>\n",
       "      <th>11</th>\n",
       "      <td>15</td>\n",
       "      <td>European</td>\n",
       "      <td>0.019092</td>\n",
       "      <td>0.644813</td>\n",
       "      <td>0.140850</td>\n",
       "      <td>0.082493</td>\n",
       "      <td>0.054395</td>\n",
       "      <td>0.058357</td>\n",
       "    </tr>\n",
       "    <tr>\n",
       "      <th>12</th>\n",
       "      <td>29</td>\n",
       "      <td>Admixed</td>\n",
       "      <td>0.259064</td>\n",
       "      <td>0.444562</td>\n",
       "      <td>0.124604</td>\n",
       "      <td>0.071454</td>\n",
       "      <td>0.056318</td>\n",
       "      <td>0.043999</td>\n",
       "    </tr>\n",
       "    <tr>\n",
       "      <th>13</th>\n",
       "      <td>29</td>\n",
       "      <td>European</td>\n",
       "      <td>0.019007</td>\n",
       "      <td>0.658571</td>\n",
       "      <td>0.134460</td>\n",
       "      <td>0.074974</td>\n",
       "      <td>0.061950</td>\n",
       "      <td>0.051038</td>\n",
       "    </tr>\n",
       "  </tbody>\n",
       "</table>\n",
       "</div>"
      ],
      "text/plain": [
       "   Sim       Pop        G1        G2        G3        G4        G5        G6\n",
       "4    1   Admixed  0.303860  0.417895  0.117544  0.070877  0.049825  0.040000\n",
       "5    1  European  0.023509  0.684561  0.119298  0.075088  0.049825  0.047719\n",
       "10  15   Admixed  0.257565  0.424712  0.136167  0.073847  0.058718  0.048991\n",
       "11  15  European  0.019092  0.644813  0.140850  0.082493  0.054395  0.058357\n",
       "12  29   Admixed  0.259064  0.444562  0.124604  0.071454  0.056318  0.043999\n",
       "13  29  European  0.019007  0.658571  0.134460  0.074974  0.061950  0.051038"
      ]
     },
     "execution_count": 3,
     "metadata": {},
     "output_type": "execute_result"
    }
   ],
   "source": [
    "all_df.loc[(all_df[\"Sim\"]==1) | (all_df[\"Sim\"]==15) | (all_df[\"Sim\"]==29),:]"
   ]
  },
  {
   "cell_type": "code",
   "execution_count": 4,
   "metadata": {},
   "outputs": [],
   "source": [
    "df_long = pd.melt(all_df.iloc[:,1:],\"Pop\",var_name=\"G\")"
   ]
  },
  {
   "cell_type": "code",
   "execution_count": 7,
   "metadata": {},
   "outputs": [],
   "source": [
    "# extra color to add \"#052049\""
   ]
  },
  {
   "cell_type": "code",
   "execution_count": 8,
   "metadata": {},
   "outputs": [
    {
     "data": {
      "text/plain": [
       "'../results/summary/maf_sims/maf_bins_m_500_h2_0.67_46.txt'"
      ]
     },
     "execution_count": 8,
     "metadata": {},
     "output_type": "execute_result"
    }
   ],
   "source": [
    "file"
   ]
  },
  {
   "cell_type": "code",
   "execution_count": 9,
   "metadata": {},
   "outputs": [
    {
     "data": {
      "text/html": [
       "<div>\n",
       "<style scoped>\n",
       "    .dataframe tbody tr th:only-of-type {\n",
       "        vertical-align: middle;\n",
       "    }\n",
       "\n",
       "    .dataframe tbody tr th {\n",
       "        vertical-align: top;\n",
       "    }\n",
       "\n",
       "    .dataframe thead th {\n",
       "        text-align: right;\n",
       "    }\n",
       "</style>\n",
       "<table border=\"1\" class=\"dataframe\">\n",
       "  <thead>\n",
       "    <tr style=\"text-align: right;\">\n",
       "      <th></th>\n",
       "      <th>Pop</th>\n",
       "      <th>G</th>\n",
       "      <th>value</th>\n",
       "    </tr>\n",
       "  </thead>\n",
       "  <tbody>\n",
       "    <tr>\n",
       "      <th>0</th>\n",
       "      <td>Admixed</td>\n",
       "      <td>G1</td>\n",
       "      <td>0.269880</td>\n",
       "    </tr>\n",
       "    <tr>\n",
       "      <th>1</th>\n",
       "      <td>European</td>\n",
       "      <td>G1</td>\n",
       "      <td>0.021687</td>\n",
       "    </tr>\n",
       "    <tr>\n",
       "      <th>2</th>\n",
       "      <td>Admixed</td>\n",
       "      <td>G1</td>\n",
       "      <td>0.285491</td>\n",
       "    </tr>\n",
       "    <tr>\n",
       "      <th>3</th>\n",
       "      <td>European</td>\n",
       "      <td>G1</td>\n",
       "      <td>0.030331</td>\n",
       "    </tr>\n",
       "    <tr>\n",
       "      <th>4</th>\n",
       "      <td>Admixed</td>\n",
       "      <td>G1</td>\n",
       "      <td>0.303860</td>\n",
       "    </tr>\n",
       "    <tr>\n",
       "      <th>5</th>\n",
       "      <td>European</td>\n",
       "      <td>G1</td>\n",
       "      <td>0.023509</td>\n",
       "    </tr>\n",
       "    <tr>\n",
       "      <th>6</th>\n",
       "      <td>Admixed</td>\n",
       "      <td>G1</td>\n",
       "      <td>0.271728</td>\n",
       "    </tr>\n",
       "    <tr>\n",
       "      <th>7</th>\n",
       "      <td>European</td>\n",
       "      <td>G1</td>\n",
       "      <td>0.021284</td>\n",
       "    </tr>\n",
       "    <tr>\n",
       "      <th>8</th>\n",
       "      <td>Admixed</td>\n",
       "      <td>G1</td>\n",
       "      <td>0.277346</td>\n",
       "    </tr>\n",
       "    <tr>\n",
       "      <th>9</th>\n",
       "      <td>European</td>\n",
       "      <td>G1</td>\n",
       "      <td>0.028155</td>\n",
       "    </tr>\n",
       "    <tr>\n",
       "      <th>10</th>\n",
       "      <td>Admixed</td>\n",
       "      <td>G1</td>\n",
       "      <td>0.257565</td>\n",
       "    </tr>\n",
       "    <tr>\n",
       "      <th>11</th>\n",
       "      <td>European</td>\n",
       "      <td>G1</td>\n",
       "      <td>0.019092</td>\n",
       "    </tr>\n",
       "    <tr>\n",
       "      <th>12</th>\n",
       "      <td>Admixed</td>\n",
       "      <td>G1</td>\n",
       "      <td>0.259064</td>\n",
       "    </tr>\n",
       "    <tr>\n",
       "      <th>13</th>\n",
       "      <td>European</td>\n",
       "      <td>G1</td>\n",
       "      <td>0.019007</td>\n",
       "    </tr>\n",
       "    <tr>\n",
       "      <th>14</th>\n",
       "      <td>Admixed</td>\n",
       "      <td>G1</td>\n",
       "      <td>0.258914</td>\n",
       "    </tr>\n",
       "    <tr>\n",
       "      <th>15</th>\n",
       "      <td>European</td>\n",
       "      <td>G1</td>\n",
       "      <td>0.020327</td>\n",
       "    </tr>\n",
       "    <tr>\n",
       "      <th>16</th>\n",
       "      <td>Admixed</td>\n",
       "      <td>G1</td>\n",
       "      <td>0.293528</td>\n",
       "    </tr>\n",
       "    <tr>\n",
       "      <th>17</th>\n",
       "      <td>European</td>\n",
       "      <td>G1</td>\n",
       "      <td>0.023625</td>\n",
       "    </tr>\n",
       "    <tr>\n",
       "      <th>18</th>\n",
       "      <td>Admixed</td>\n",
       "      <td>G1</td>\n",
       "      <td>0.258271</td>\n",
       "    </tr>\n",
       "    <tr>\n",
       "      <th>19</th>\n",
       "      <td>European</td>\n",
       "      <td>G1</td>\n",
       "      <td>0.018569</td>\n",
       "    </tr>\n",
       "    <tr>\n",
       "      <th>20</th>\n",
       "      <td>Admixed</td>\n",
       "      <td>G1</td>\n",
       "      <td>0.270616</td>\n",
       "    </tr>\n",
       "    <tr>\n",
       "      <th>21</th>\n",
       "      <td>European</td>\n",
       "      <td>G1</td>\n",
       "      <td>0.024234</td>\n",
       "    </tr>\n",
       "    <tr>\n",
       "      <th>22</th>\n",
       "      <td>Admixed</td>\n",
       "      <td>G1</td>\n",
       "      <td>0.272785</td>\n",
       "    </tr>\n",
       "    <tr>\n",
       "      <th>23</th>\n",
       "      <td>European</td>\n",
       "      <td>G1</td>\n",
       "      <td>0.020076</td>\n",
       "    </tr>\n",
       "    <tr>\n",
       "      <th>24</th>\n",
       "      <td>Admixed</td>\n",
       "      <td>G1</td>\n",
       "      <td>0.295661</td>\n",
       "    </tr>\n",
       "    <tr>\n",
       "      <th>25</th>\n",
       "      <td>European</td>\n",
       "      <td>G1</td>\n",
       "      <td>0.022200</td>\n",
       "    </tr>\n",
       "    <tr>\n",
       "      <th>26</th>\n",
       "      <td>Admixed</td>\n",
       "      <td>G1</td>\n",
       "      <td>0.284593</td>\n",
       "    </tr>\n",
       "    <tr>\n",
       "      <th>27</th>\n",
       "      <td>European</td>\n",
       "      <td>G1</td>\n",
       "      <td>0.022244</td>\n",
       "    </tr>\n",
       "    <tr>\n",
       "      <th>28</th>\n",
       "      <td>Admixed</td>\n",
       "      <td>G1</td>\n",
       "      <td>0.271626</td>\n",
       "    </tr>\n",
       "    <tr>\n",
       "      <th>29</th>\n",
       "      <td>European</td>\n",
       "      <td>G1</td>\n",
       "      <td>0.021878</td>\n",
       "    </tr>\n",
       "    <tr>\n",
       "      <th>...</th>\n",
       "      <td>...</td>\n",
       "      <td>...</td>\n",
       "      <td>...</td>\n",
       "    </tr>\n",
       "    <tr>\n",
       "      <th>570</th>\n",
       "      <td>Admixed</td>\n",
       "      <td>G6</td>\n",
       "      <td>0.054795</td>\n",
       "    </tr>\n",
       "    <tr>\n",
       "      <th>571</th>\n",
       "      <td>European</td>\n",
       "      <td>G6</td>\n",
       "      <td>0.064278</td>\n",
       "    </tr>\n",
       "    <tr>\n",
       "      <th>572</th>\n",
       "      <td>Admixed</td>\n",
       "      <td>G6</td>\n",
       "      <td>0.044717</td>\n",
       "    </tr>\n",
       "    <tr>\n",
       "      <th>573</th>\n",
       "      <td>European</td>\n",
       "      <td>G6</td>\n",
       "      <td>0.053329</td>\n",
       "    </tr>\n",
       "    <tr>\n",
       "      <th>574</th>\n",
       "      <td>Admixed</td>\n",
       "      <td>G6</td>\n",
       "      <td>0.041734</td>\n",
       "    </tr>\n",
       "    <tr>\n",
       "      <th>575</th>\n",
       "      <td>European</td>\n",
       "      <td>G6</td>\n",
       "      <td>0.048475</td>\n",
       "    </tr>\n",
       "    <tr>\n",
       "      <th>576</th>\n",
       "      <td>Admixed</td>\n",
       "      <td>G6</td>\n",
       "      <td>0.041555</td>\n",
       "    </tr>\n",
       "    <tr>\n",
       "      <th>577</th>\n",
       "      <td>European</td>\n",
       "      <td>G6</td>\n",
       "      <td>0.056300</td>\n",
       "    </tr>\n",
       "    <tr>\n",
       "      <th>578</th>\n",
       "      <td>Admixed</td>\n",
       "      <td>G6</td>\n",
       "      <td>0.042328</td>\n",
       "    </tr>\n",
       "    <tr>\n",
       "      <th>579</th>\n",
       "      <td>European</td>\n",
       "      <td>G6</td>\n",
       "      <td>0.052205</td>\n",
       "    </tr>\n",
       "    <tr>\n",
       "      <th>580</th>\n",
       "      <td>Admixed</td>\n",
       "      <td>G6</td>\n",
       "      <td>0.044395</td>\n",
       "    </tr>\n",
       "    <tr>\n",
       "      <th>581</th>\n",
       "      <td>European</td>\n",
       "      <td>G6</td>\n",
       "      <td>0.053212</td>\n",
       "    </tr>\n",
       "    <tr>\n",
       "      <th>582</th>\n",
       "      <td>Admixed</td>\n",
       "      <td>G6</td>\n",
       "      <td>0.050177</td>\n",
       "    </tr>\n",
       "    <tr>\n",
       "      <th>583</th>\n",
       "      <td>European</td>\n",
       "      <td>G6</td>\n",
       "      <td>0.053424</td>\n",
       "    </tr>\n",
       "    <tr>\n",
       "      <th>584</th>\n",
       "      <td>Admixed</td>\n",
       "      <td>G6</td>\n",
       "      <td>0.046026</td>\n",
       "    </tr>\n",
       "    <tr>\n",
       "      <th>585</th>\n",
       "      <td>European</td>\n",
       "      <td>G6</td>\n",
       "      <td>0.054305</td>\n",
       "    </tr>\n",
       "    <tr>\n",
       "      <th>586</th>\n",
       "      <td>Admixed</td>\n",
       "      <td>G6</td>\n",
       "      <td>0.047352</td>\n",
       "    </tr>\n",
       "    <tr>\n",
       "      <th>587</th>\n",
       "      <td>European</td>\n",
       "      <td>G6</td>\n",
       "      <td>0.050467</td>\n",
       "    </tr>\n",
       "    <tr>\n",
       "      <th>588</th>\n",
       "      <td>Admixed</td>\n",
       "      <td>G6</td>\n",
       "      <td>0.047742</td>\n",
       "    </tr>\n",
       "    <tr>\n",
       "      <th>589</th>\n",
       "      <td>European</td>\n",
       "      <td>G6</td>\n",
       "      <td>0.049677</td>\n",
       "    </tr>\n",
       "    <tr>\n",
       "      <th>590</th>\n",
       "      <td>Admixed</td>\n",
       "      <td>G6</td>\n",
       "      <td>0.049298</td>\n",
       "    </tr>\n",
       "    <tr>\n",
       "      <th>591</th>\n",
       "      <td>European</td>\n",
       "      <td>G6</td>\n",
       "      <td>0.052177</td>\n",
       "    </tr>\n",
       "    <tr>\n",
       "      <th>592</th>\n",
       "      <td>Admixed</td>\n",
       "      <td>G6</td>\n",
       "      <td>0.041188</td>\n",
       "    </tr>\n",
       "    <tr>\n",
       "      <th>593</th>\n",
       "      <td>European</td>\n",
       "      <td>G6</td>\n",
       "      <td>0.049629</td>\n",
       "    </tr>\n",
       "    <tr>\n",
       "      <th>594</th>\n",
       "      <td>Admixed</td>\n",
       "      <td>G6</td>\n",
       "      <td>0.046880</td>\n",
       "    </tr>\n",
       "    <tr>\n",
       "      <th>595</th>\n",
       "      <td>European</td>\n",
       "      <td>G6</td>\n",
       "      <td>0.045229</td>\n",
       "    </tr>\n",
       "    <tr>\n",
       "      <th>596</th>\n",
       "      <td>Admixed</td>\n",
       "      <td>G6</td>\n",
       "      <td>0.046399</td>\n",
       "    </tr>\n",
       "    <tr>\n",
       "      <th>597</th>\n",
       "      <td>European</td>\n",
       "      <td>G6</td>\n",
       "      <td>0.049515</td>\n",
       "    </tr>\n",
       "    <tr>\n",
       "      <th>598</th>\n",
       "      <td>Admixed</td>\n",
       "      <td>G6</td>\n",
       "      <td>0.037657</td>\n",
       "    </tr>\n",
       "    <tr>\n",
       "      <th>599</th>\n",
       "      <td>European</td>\n",
       "      <td>G6</td>\n",
       "      <td>0.045060</td>\n",
       "    </tr>\n",
       "  </tbody>\n",
       "</table>\n",
       "<p>600 rows × 3 columns</p>\n",
       "</div>"
      ],
      "text/plain": [
       "          Pop   G     value\n",
       "0     Admixed  G1  0.269880\n",
       "1    European  G1  0.021687\n",
       "2     Admixed  G1  0.285491\n",
       "3    European  G1  0.030331\n",
       "4     Admixed  G1  0.303860\n",
       "5    European  G1  0.023509\n",
       "6     Admixed  G1  0.271728\n",
       "7    European  G1  0.021284\n",
       "8     Admixed  G1  0.277346\n",
       "9    European  G1  0.028155\n",
       "10    Admixed  G1  0.257565\n",
       "11   European  G1  0.019092\n",
       "12    Admixed  G1  0.259064\n",
       "13   European  G1  0.019007\n",
       "14    Admixed  G1  0.258914\n",
       "15   European  G1  0.020327\n",
       "16    Admixed  G1  0.293528\n",
       "17   European  G1  0.023625\n",
       "18    Admixed  G1  0.258271\n",
       "19   European  G1  0.018569\n",
       "20    Admixed  G1  0.270616\n",
       "21   European  G1  0.024234\n",
       "22    Admixed  G1  0.272785\n",
       "23   European  G1  0.020076\n",
       "24    Admixed  G1  0.295661\n",
       "25   European  G1  0.022200\n",
       "26    Admixed  G1  0.284593\n",
       "27   European  G1  0.022244\n",
       "28    Admixed  G1  0.271626\n",
       "29   European  G1  0.021878\n",
       "..        ...  ..       ...\n",
       "570   Admixed  G6  0.054795\n",
       "571  European  G6  0.064278\n",
       "572   Admixed  G6  0.044717\n",
       "573  European  G6  0.053329\n",
       "574   Admixed  G6  0.041734\n",
       "575  European  G6  0.048475\n",
       "576   Admixed  G6  0.041555\n",
       "577  European  G6  0.056300\n",
       "578   Admixed  G6  0.042328\n",
       "579  European  G6  0.052205\n",
       "580   Admixed  G6  0.044395\n",
       "581  European  G6  0.053212\n",
       "582   Admixed  G6  0.050177\n",
       "583  European  G6  0.053424\n",
       "584   Admixed  G6  0.046026\n",
       "585  European  G6  0.054305\n",
       "586   Admixed  G6  0.047352\n",
       "587  European  G6  0.050467\n",
       "588   Admixed  G6  0.047742\n",
       "589  European  G6  0.049677\n",
       "590   Admixed  G6  0.049298\n",
       "591  European  G6  0.052177\n",
       "592   Admixed  G6  0.041188\n",
       "593  European  G6  0.049629\n",
       "594   Admixed  G6  0.046880\n",
       "595  European  G6  0.045229\n",
       "596   Admixed  G6  0.046399\n",
       "597  European  G6  0.049515\n",
       "598   Admixed  G6  0.037657\n",
       "599  European  G6  0.045060\n",
       "\n",
       "[600 rows x 3 columns]"
      ]
     },
     "execution_count": 9,
     "metadata": {},
     "output_type": "execute_result"
    }
   ],
   "source": [
    "df_long"
   ]
  },
  {
   "cell_type": "code",
   "execution_count": null,
   "metadata": {},
   "outputs": [],
   "source": [
    "my_rgbs = np.array([\"#103c42\",\"#02576c\",\"#05a19c\",\"#ffe837\"])"
   ]
  },
  {
   "cell_type": "code",
   "execution_count": 11,
   "metadata": {},
   "outputs": [
    {
     "data": {
      "image/png": "[encoded data removed]",
      "text/plain": [
       "<Figure size 720x360 with 1 Axes>"
      ]
     },
     "metadata": {
      "needs_background": "light"
     },
     "output_type": "display_data"
    }
   ],
   "source": [
    "plt.figure(figsize=(10,5))\n",
    "plt.rc('ytick',labelsize=18)\n",
    "ax = sns.barplot(x=\"G\",hue=\"Pop\",y=\"value\",data=df_long,palette=[\"#103c42\",\"#05a19c\"],hue_order=[\"European\",\"Admixed\"])\n",
    "\n",
    "plt.xlabel(\"MAF\",fontsize=20)\n",
    "plt.ylabel(\"Proportion of PRS Variants\",fontsize=20)\n",
    "\n",
    "ax.set_xticklabels(labels=[\"0 - 0.01\",\"0.01 - 0.1\",\"0.1 - 0.2\",\"0.2 - 0.3\",\"0.3 - 0.4\",\"0.4 - 0.5\"],fontsize=18)\n",
    "\n",
    "sns.despine()\n",
    "h, l = ax.get_legend_handles_labels()\n",
    "plt.legend(h,[\"European\", \"Admixed\"],frameon=False,fontsize=18)\n",
    "plt.savefig(\"/Users/taylorcavazos/Desktop/maf_bars.pdf\",type=\"pdf\",\n",
    "           bbox_inches=\"tight\")\n",
    "plt.show()"
   ]
  },
  {
   "cell_type": "code",
   "execution_count": null,
   "metadata": {},
   "outputs": [],
   "source": [
    "all_df"
   ]
  },
  {
   "cell_type": "code",
   "execution_count": null,
   "metadata": {},
   "outputs": [],
   "source": [
    "np.mean(data2[\"ADMIX_low_eur_corr\"])"
   ]
  },
  {
   "cell_type": "code",
   "execution_count": null,
   "metadata": {},
   "outputs": [],
   "source": [
    "np.mean(data1[\"ADMIX_low_eur_corr\"])"
   ]
  },
  {
   "cell_type": "code",
   "execution_count": null,
   "metadata": {},
   "outputs": [],
   "source": [
    "# data2 = full_df.loc[:,[\"test_EUR_corr\",\"ADMIX_high_eur_corr\",\"ADMIX_mid_eur_corr\",\"ADMIX_low_eur_corr\"]]\n",
    "ax = sns.violinplot(data = data1,palette=my_rgbs)\n",
    "#ax = sns.boxplot(data = data,palette=my_rgbs)\n",
    "#ax = sns.stripplot(data=data2,jitter=True,palette=my_rgbs,size=6)\n",
    "\n",
    "ax.set_xticklabels([\"European-only\",\"CEU >= 80%\",\"80% > CEU > 20%\", \"CEU <= 20%\"],\n",
    "                   rotation=45)\n",
    "ax.set_yticks(np.arange(0,1.2,0.2))\n",
    "plt.ylabel(\"Pearson's Correlation\")\n",
    "sns.despine()\n",
    "plt.show()"
   ]
  },
  {
   "cell_type": "code",
   "execution_count": null,
   "metadata": {
    "scrolled": true
   },
   "outputs": [],
   "source": [
    "stats.ttest_ind(data1[\"ADMIX_high_eur_corr\"], data1[\"ADMIX_low_eur_corr\"])"
   ]
  },
  {
   "cell_type": "code",
   "execution_count": null,
   "metadata": {},
   "outputs": [],
   "source": [
    "stats.ttest_ind(data1[\"ADMIX_high_eur_corr\"], data1[\"ADMIX_mid_eur_corr\"])"
   ]
  },
  {
   "cell_type": "code",
   "execution_count": null,
   "metadata": {},
   "outputs": [],
   "source": [
    "stats.ttest_ind(data1[\"ADMIX_low_eur_corr\"], data1[\"ADMIX_mid_eur_corr\"])"
   ]
  },
  {
   "cell_type": "code",
   "execution_count": null,
   "metadata": {},
   "outputs": [],
   "source": [
    "stats.ttest_ind(data1[\"test_EUR_corr\"], data1[\"ADMIX_low_eur_corr\"])"
   ]
  },
  {
   "cell_type": "code",
   "execution_count": null,
   "metadata": {},
   "outputs": [],
   "source": [
    "stats.ttest_ind(data2[\"ADMIX_high_eur_corr\"], data2[\"ADMIX_low_eur_corr\"])"
   ]
  },
  {
   "cell_type": "code",
   "execution_count": null,
   "metadata": {},
   "outputs": [],
   "source": [
    "stats.ttest_ind(data2[\"ADMIX_high_eur_corr\"], data2[\"ADMIX_mid_eur_corr\"])"
   ]
  },
  {
   "cell_type": "code",
   "execution_count": null,
   "metadata": {},
   "outputs": [],
   "source": [
    "stats.ttest_ind(data2[\"ADMIX_low_eur_corr\"], data2[\"ADMIX_mid_eur_corr\"])"
   ]
  },
  {
   "cell_type": "code",
   "execution_count": null,
   "metadata": {},
   "outputs": [],
   "source": [
    "stats.ttest_ind(data2[\"test_EUR_corr\"], data2[\"ADMIX_low_eur_corr\"])"
   ]
  },
  {
   "cell_type": "markdown",
   "metadata": {},
   "source": [
    "### PRS-Specific Ancestry"
   ]
  },
  {
   "cell_type": "code",
   "execution_count": null,
   "metadata": {},
   "outputs": [],
   "source": []
  },
  {
   "cell_type": "markdown",
   "metadata": {},
   "source": [
    "____\n",
    "# Number of Causal Inds Found"
   ]
  },
  {
   "cell_type": "code",
   "execution_count": null,
   "metadata": {},
   "outputs": [],
   "source": [
    "num_found = np.loadtxt(\"../results/summary/causal_inds_identified.txt\",dtype=int)"
   ]
  },
  {
   "cell_type": "code",
   "execution_count": null,
   "metadata": {},
   "outputs": [],
   "source": [
    "int(np.average(num_found))"
   ]
  },
  {
   "cell_type": "code",
   "execution_count": null,
   "metadata": {},
   "outputs": [],
   "source": [
    "int(np.std(num_found))"
   ]
  },
  {
   "cell_type": "code",
   "execution_count": null,
   "metadata": {},
   "outputs": [],
   "source": [
    "(int(np.std(num_found))*2)/1000"
   ]
  },
  {
   "cell_type": "code",
   "execution_count": null,
   "metadata": {},
   "outputs": [],
   "source": [
    "int(np.average(num_found))/1000"
   ]
  },
  {
   "cell_type": "markdown",
   "metadata": {},
   "source": [
    "_ _ _\n",
    "# Quick comparison emprical vs true prs"
   ]
  },
  {
   "cell_type": "code",
   "execution_count": null,
   "metadata": {},
   "outputs": [],
   "source": [
    "import h5py, pandas as pd, numpy as np\n",
    "from scipy import stats\n",
    "import matplotlib.pyplot as plt"
   ]
  },
  {
   "cell_type": "code",
   "execution_count": null,
   "metadata": {},
   "outputs": [],
   "source": [
    "sim=1"
   ]
  },
  {
   "cell_type": "code",
   "execution_count": null,
   "metadata": {},
   "outputs": [],
   "source": [
    "true_prs = h5py.File('../data/sim{}/true_prs/prs_m_1000_h2_0.67.hdf5'.format(sim), 'r')\n",
    "emp_prs = h5py.File('../data/sim{}/emp_prs/emp_prs_m_1000_h2_0.67_ld_CEU.hdf5'.format(sim))\n",
    "train_test = h5py.File('../data/sim{}/true_prs/train_test_m_1000_h2_0.67.hdf5'.format(sim))\n",
    "anc = pd.read_csv('../data/sim{}/admixed_data/output/admix_afr_amer.prop.anc'.format(sim),sep=\"\\t\",index_col=0)"
   ]
  },
  {
   "cell_type": "code",
   "execution_count": null,
   "metadata": {},
   "outputs": [],
   "source": [
    "train_cases = train_test['train_cases'][()]\n",
    "train_controls = train_test['train_controls'][()]"
   ]
  },
  {
   "cell_type": "code",
   "execution_count": null,
   "metadata": {},
   "outputs": [],
   "source": [
    "testing = train_test['test_data'][()]"
   ]
  },
  {
   "cell_type": "code",
   "execution_count": null,
   "metadata": {},
   "outputs": [],
   "source": [
    "eur_test, admix_test = [], []\n",
    "for ind in testing:\n",
    "    lab = true_prs['labels'][()][ind].astype(str)\n",
    "    if 'msp' in lab: eur_test.append(ind)\n",
    "    else: \n",
    "        admix_test.append(ind)  \n",
    "eur_test = np.array(eur_test)\n",
    "admix_test = np.array(admix_test)"
   ]
  },
  {
   "cell_type": "markdown",
   "metadata": {},
   "source": [
    "## all correlation"
   ]
  },
  {
   "cell_type": "code",
   "execution_count": null,
   "metadata": {},
   "outputs": [],
   "source": [
    "stats.spearmanr(true_prs['X'][()],emp_prs['X'][()])"
   ]
  },
  {
   "cell_type": "markdown",
   "metadata": {},
   "source": [
    "## train correlation"
   ]
  },
  {
   "cell_type": "code",
   "execution_count": null,
   "metadata": {},
   "outputs": [],
   "source": [
    "train_true_prs = true_prs['X'][np.append(train_cases,train_controls)]\n",
    "train_emp_prs = emp_prs['X'][np.append(train_cases,train_controls)]"
   ]
  },
  {
   "cell_type": "code",
   "execution_count": null,
   "metadata": {},
   "outputs": [],
   "source": [
    "stats.spearmanr(train_true_prs,train_emp_prs)"
   ]
  },
  {
   "cell_type": "code",
   "execution_count": null,
   "metadata": {},
   "outputs": [],
   "source": [
    "plt.scatter(train_true_prs,train_emp_prs)"
   ]
  },
  {
   "cell_type": "markdown",
   "metadata": {},
   "source": [
    "## test correlation European"
   ]
  },
  {
   "cell_type": "code",
   "execution_count": null,
   "metadata": {},
   "outputs": [],
   "source": [
    "test_true_prs_eur = true_prs['X'][eur_test]\n",
    "test_emp_prs_eur = emp_prs['X'][eur_test]"
   ]
  },
  {
   "cell_type": "code",
   "execution_count": null,
   "metadata": {},
   "outputs": [],
   "source": [
    "stats.spearmanr(test_emp_prs_eur,test_true_prs_eur)"
   ]
  },
  {
   "cell_type": "markdown",
   "metadata": {},
   "source": [
    "## test correlation Admix"
   ]
  },
  {
   "cell_type": "code",
   "execution_count": null,
   "metadata": {},
   "outputs": [],
   "source": [
    "test_true_prs_admix = true_prs['X'][admix_test]\n",
    "test_emp_prs_admix = emp_prs['X'][admix_test]\n",
    "stats.spearmanr(test_emp_prs_admix,test_true_prs_admix)"
   ]
  },
  {
   "cell_type": "markdown",
   "metadata": {},
   "source": [
    "## test correlation by ancestry prop"
   ]
  },
  {
   "cell_type": "code",
   "execution_count": null,
   "metadata": {},
   "outputs": [],
   "source": [
    "anc_w_ind = anc.reset_index()"
   ]
  },
  {
   "cell_type": "code",
   "execution_count": null,
   "metadata": {},
   "outputs": [],
   "source": [
    "low_eur = list(anc_w_ind[anc_w_ind[\"Prop_CEU\"]<=0.2].index)\n",
    "mid_eur = list(anc_w_ind[(anc_w_ind[\"Prop_CEU\"]>0.2)&(anc_w_ind[\"Prop_CEU\"]<0.8)].index)\n",
    "high_eur = list(anc_w_ind[anc_w_ind[\"Prop_CEU\"]>=0.8].index)"
   ]
  },
  {
   "cell_type": "code",
   "execution_count": null,
   "metadata": {},
   "outputs": [],
   "source": [
    "admix_test[low_eur]"
   ]
  },
  {
   "cell_type": "code",
   "execution_count": null,
   "metadata": {},
   "outputs": [],
   "source": [
    "true_prs['X'][list(admix_test[low_eur])]"
   ]
  },
  {
   "cell_type": "code",
   "execution_count": null,
   "metadata": {},
   "outputs": [],
   "source": [
    "stats.spearmanr(true_prs['X'][list(admix_test[low_eur])],emp_prs['X'][list(admix_test[low_eur])])"
   ]
  },
  {
   "cell_type": "code",
   "execution_count": null,
   "metadata": {},
   "outputs": [],
   "source": [
    "stats.spearmanr(true_prs['X'][list(admix_test[mid_eur])],emp_prs['X'][list(admix_test[mid_eur])])"
   ]
  },
  {
   "cell_type": "code",
   "execution_count": null,
   "metadata": {},
   "outputs": [],
   "source": [
    "stats.spearmanr(true_prs['X'][list(admix_test[high_eur])],emp_prs['X'][list(admix_test[high_eur])])"
   ]
  },
  {
   "cell_type": "code",
   "execution_count": null,
   "metadata": {},
   "outputs": [],
   "source": [
    "true_prs.close()\n",
    "emp_prs.close()\n",
    "train_test.close()"
   ]
  },
  {
   "cell_type": "markdown",
   "metadata": {},
   "source": [
    "___\n",
    "## Need to implement this..."
   ]
  },
  {
   "cell_type": "code",
   "execution_count": null,
   "metadata": {},
   "outputs": [],
   "source": [
    " import itertools"
   ]
  },
  {
   "cell_type": "code",
   "execution_count": null,
   "metadata": {},
   "outputs": [],
   "source": [
    "ts = msprime.simulate(200,recombination_rate=10,mutation_rate=20,random_seed=1,)"
   ]
  },
  {
   "cell_type": "code",
   "execution_count": null,
   "metadata": {
    "scrolled": true
   },
   "outputs": [],
   "source": [
    "ts.num_sites"
   ]
  },
  {
   "cell_type": "code",
   "execution_count": null,
   "metadata": {},
   "outputs": [],
   "source": [
    "rand_select1 = np.random.choice(ts.samples(),size=30, replace=False)\n",
    "ts_1 = ts.simplify(samples=rand_select1,filter_sites=False)"
   ]
  },
  {
   "cell_type": "code",
   "execution_count": null,
   "metadata": {},
   "outputs": [],
   "source": [
    "rand_select2 = np.random.choice(ts_1.samples(),size=30, replace=False)"
   ]
  },
  {
   "cell_type": "code",
   "execution_count": null,
   "metadata": {},
   "outputs": [],
   "source": [
    "small_ts= ts_1.simplify(samples=rand_select2,\n",
    "                       filter_sites=False,filter_individuals=True)"
   ]
  },
  {
   "cell_type": "code",
   "execution_count": null,
   "metadata": {},
   "outputs": [],
   "source": [
    "focal_vars = np.random.choice(np.arange(small_ts.num_sites),replace=False,size=25)"
   ]
  },
  {
   "cell_type": "code",
   "execution_count": null,
   "metadata": {},
   "outputs": [],
   "source": [
    "var2mut, mut2var = {}, {}\n",
    "for mut in small_ts.mutations():\n",
    "    mut2var[mut.id]=mut.site\n",
    "    var2mut[mut.site]=mut.id"
   ]
  },
  {
   "cell_type": "code",
   "execution_count": null,
   "metadata": {},
   "outputs": [],
   "source": [
    "small_ts_filt= ts_1.simplify(samples=rand_select2,\n",
    "                       filter_sites=True,filter_individuals=True)"
   ]
  },
  {
   "cell_type": "code",
   "execution_count": null,
   "metadata": {},
   "outputs": [],
   "source": [
    "found_focal_vars = list(set(focal_vars).intersection(var2mut.keys()))"
   ]
  },
  {
   "cell_type": "code",
   "execution_count": null,
   "metadata": {},
   "outputs": [],
   "source": [
    "find_ld_sites(small_ts_filt,found_focal_vars,var2mut,mut2var)"
   ]
  },
  {
   "cell_type": "markdown",
   "metadata": {},
   "source": [
    "____"
   ]
  },
  {
   "cell_type": "markdown",
   "metadata": {},
   "source": [
    "## Simulated admixed individuals"
   ]
  },
  {
   "cell_type": "markdown",
   "metadata": {},
   "source": [
    "Possible tools for admixture simulations\n",
    "* [admix-simu (C++ and python)](https://github.com/williamslab/admix-simu)\n",
    "    - 4 years old\n",
    "* [bnpsd (R package)](https://cran.r-project.org/web/packages/bnpsd/vignettes/bnpsd.pdf)\n",
    "    - Came out this year\n",
    "* [admixture-simulation](https://github.com/slowkoni/admixture-simulation)\n",
    "    - 2 years old"
   ]
  },
  {
   "cell_type": "markdown",
   "metadata": {},
   "source": [
    "### a: European and African populations for mating"
   ]
  },
  {
   "cell_type": "markdown",
   "metadata": {},
   "source": [
    "- 5000 Africans and 5000 Europeans\n",
    "- Will have difficulty with files much larger because have to write data to vcf and takes up lots of storage"
   ]
  },
  {
   "cell_type": "markdown",
   "metadata": {},
   "source": [
    "### b: Europeans for training"
   ]
  },
  {
   "cell_type": "markdown",
   "metadata": {},
   "source": [
    "- 100000 Europeans simulated with out-of-africa model\n",
    "- In tree structure"
   ]
  },
  {
   "cell_type": "markdown",
   "metadata": {},
   "source": [
    "### c: African Americans"
   ]
  },
  {
   "cell_type": "markdown",
   "metadata": {},
   "source": [
    "- Have 4000 admixed individuals\n",
    "- In future may need larger ~10,000 for doing training\n",
    "- If I don't use large enough base population these people may be too related"
   ]
  },
  {
   "cell_type": "code",
   "execution_count": null,
   "metadata": {},
   "outputs": [],
   "source": []
  },
  {
   "cell_type": "raw",
   "metadata": {},
   "source": [
    "N_CEU = 200000\n",
    "N_YRI = 5000\n",
    "rmap = msprime.RecombinationMap.read_hapmap(\"/Users/taylorcavazos/repos/other_tools/admixture-data/input/genetic_map_GRCh37_chr22.txt\")"
   ]
  },
  {
   "cell_type": "raw",
   "metadata": {},
   "source": [
    "simulate_out_of_afr(N_CEU, N_YRI, rmap, \"../data/trees/\")"
   ]
  },
  {
   "cell_type": "code",
   "execution_count": null,
   "metadata": {},
   "outputs": [],
   "source": [
    "#tree_all = msprime.load(\"../data/trees/tree_YRI_5e4_CEU_2e6_chr22.hdf5\")\n",
    "sample_map_all = pd.read_csv(\"../data/trees/CEU_YRI_sample_map.txt\",sep=\"\\t\",header=None)"
   ]
  },
  {
   "cell_type": "raw",
   "metadata": {},
   "source": [
    "EUR_all = sample_map_all[sample_map_all.iloc[:,1]==\"CEU\"]\n",
    "YRI_all = sample_map_all[sample_map_all.iloc[:,1]==\"YRI\"]"
   ]
  },
  {
   "cell_type": "raw",
   "metadata": {},
   "source": [
    "EUR_mate = EUR_all.loc[np.random.choice(EUR_all.index,size=5000,replace=False)]"
   ]
  },
  {
   "cell_type": "raw",
   "metadata": {},
   "source": [
    "ALL_mate = pd.concat([EUR_mate,YRI_all]).sort_values(by=2)"
   ]
  },
  {
   "cell_type": "raw",
   "metadata": {},
   "source": [
    "ALL_mate.to_csv(\"../data/trees/mate_subset_sample_map.txt\",sep=\"\\t\",header=False,index=False)"
   ]
  },
  {
   "cell_type": "raw",
   "metadata": {},
   "source": [
    "mate_samples = []\n",
    "for ind in ALL_mate.index:\n",
    "    mate_samples.append(ALL_mate.loc[ind,2])\n",
    "    mate_samples.append(ALL_mate.loc[ind,3])"
   ]
  },
  {
   "cell_type": "raw",
   "metadata": {},
   "source": [
    "tree_mate,map_ids = tree_all.simplify(samples=mate_samples,filter_sites=False,map_nodes=True)"
   ]
  },
  {
   "cell_type": "raw",
   "metadata": {},
   "source": [
    "tree_mate.dump(\"../data/trees/tree_mate_YRI_5e4_CEU_5e4.hdf\")"
   ]
  },
  {
   "cell_type": "raw",
   "metadata": {},
   "source": [
    "open(\"../data/trees/mate_sample_ids.txt\",\"w\").write(\"\\n\".join(np.array(mate_samples).astype(str)))"
   ]
  },
  {
   "cell_type": "raw",
   "metadata": {},
   "source": [
    "mate_samples = open(\"/Users/taylorcavazos/repos/Local_Ancestry_PRS/data/trees/mate_sample_ids.txt\").read().splitlines()"
   ]
  },
  {
   "cell_type": "raw",
   "metadata": {},
   "source": [
    "mate_samples"
   ]
  },
  {
   "cell_type": "code",
   "execution_count": null,
   "metadata": {},
   "outputs": [],
   "source": [
    "all_data = np.array(tree_all.samples())"
   ]
  },
  {
   "cell_type": "code",
   "execution_count": null,
   "metadata": {},
   "outputs": [],
   "source": [
    "other_samps = np.delete(all_data,mate_samples)"
   ]
  },
  {
   "cell_type": "code",
   "execution_count": null,
   "metadata": {},
   "outputs": [],
   "source": [
    "tree_other = tree_all.simplify(samples = other_samps, filter_sites=False)"
   ]
  },
  {
   "cell_type": "raw",
   "metadata": {},
   "source": [
    "tree_other.dump(\"../data/trees/tree_sub_CEU_1.95e5\")"
   ]
  },
  {
   "cell_type": "code",
   "execution_count": null,
   "metadata": {},
   "outputs": [],
   "source": [
    "pd.DataFrame(np.array([[3,3,3,3],[1,1,1,1]])).iloc[:,:2]"
   ]
  },
  {
   "cell_type": "raw",
   "metadata": {},
   "source": [
    "with gzip.open(\"/Users/taylorcavazos/repos/other_tools/admixture-data/input/CEU_YRI_chr22_1e4.vcf.gz\", \"wt\") as f:\n",
    "    tree_mate.write_vcf(f,ploidy=2,contig_id=\"22\") "
   ]
  },
  {
   "cell_type": "raw",
   "metadata": {},
   "source": [
    "tree_mate = msprime.load(\"../data/trees/tree_mate_YRI_5e4_CEU_5e4.hdf\")"
   ]
  },
  {
   "cell_type": "raw",
   "metadata": {},
   "source": [
    "write_sample_map(tree_mate,\"/Users/taylorcavazos/repos/other_tools/admixture-data/input/\",\n",
    "                5000,5000)"
   ]
  },
  {
   "cell_type": "code",
   "execution_count": null,
   "metadata": {},
   "outputs": [],
   "source": [
    "tree = msprime.load(path_tree)"
   ]
  },
  {
   "cell_type": "code",
   "execution_count": null,
   "metadata": {},
   "outputs": [],
   "source": [
    "sample_map_all = pd.read_csv(\"/Users/taylorcavazos/repos/Local_Ancestry_PRS/data/trees/CEU_YRI_sample_map.txt\",sep=\"\\t\",header=None)"
   ]
  },
  {
   "cell_type": "code",
   "execution_count": null,
   "metadata": {},
   "outputs": [],
   "source": [
    "eur_only = sample_map_all[sample_map_all.iloc[:,1]==\"CEU\"].index"
   ]
  },
  {
   "cell_type": "code",
   "execution_count": null,
   "metadata": {},
   "outputs": [],
   "source": [
    "new_tree = tree.simplify(samples=eur_only,filter_sites=False)"
   ]
  },
  {
   "cell_type": "code",
   "execution_count": null,
   "metadata": {},
   "outputs": [],
   "source": [
    "import itertools"
   ]
  },
  {
   "cell_type": "code",
   "execution_count": null,
   "metadata": {},
   "outputs": [],
   "source": [
    "list(itertools.islice(new_tree.mutations(),10))"
   ]
  },
  {
   "cell_type": "code",
   "execution_count": null,
   "metadata": {},
   "outputs": [],
   "source": [
    "new_tree.mutations()"
   ]
  },
  {
   "cell_type": "code",
   "execution_count": null,
   "metadata": {},
   "outputs": [],
   "source": [
    "new_tree.num_sites"
   ]
  },
  {
   "cell_type": "code",
   "execution_count": null,
   "metadata": {},
   "outputs": [],
   "source": [
    "list(itertools.islice(new_tree.variants(),10))[0]"
   ]
  },
  {
   "cell_type": "code",
   "execution_count": null,
   "metadata": {},
   "outputs": [],
   "source": [
    "list(itertools.islice(new_tree.mutations(),10))"
   ]
  },
  {
   "cell_type": "code",
   "execution_count": null,
   "metadata": {},
   "outputs": [],
   "source": [
    "sum_stats = pd.read_csv(\"/Users/taylorcavazos/repos/Local_Ancestry_PRS/data/comm_maf_0.01_sum_stats_m_{}_h2_{}.txt\".format(m,h2),sep=\"\\t\",index_col=0)"
   ]
  },
  {
   "cell_type": "code",
   "execution_count": null,
   "metadata": {
    "scrolled": true
   },
   "outputs": [],
   "source": [
    "prs = sum_stats[sum_stats[\"p-value\"]<5e-8]"
   ]
  },
  {
   "cell_type": "code",
   "execution_count": null,
   "metadata": {},
   "outputs": [],
   "source": [
    "len(prs)"
   ]
  },
  {
   "cell_type": "code",
   "execution_count": null,
   "metadata": {},
   "outputs": [],
   "source": [
    "mut_sites = []\n",
    "for mut in new_tree.mutations():\n",
    "    mut_sites.append(mut.site)"
   ]
  },
  {
   "cell_type": "code",
   "execution_count": null,
   "metadata": {},
   "outputs": [],
   "source": [
    "new_prs = prs.loc[np.intersect1d(mut_sites,prs.index)].reset_index()"
   ]
  },
  {
   "cell_type": "code",
   "execution_count": null,
   "metadata": {
    "scrolled": true
   },
   "outputs": [],
   "source": [
    "new_prs.shape"
   ]
  },
  {
   "cell_type": "code",
   "execution_count": null,
   "metadata": {},
   "outputs": [],
   "source": [
    "sum_stats.loc[62,\"OR\"]"
   ]
  },
  {
   "cell_type": "code",
   "execution_count": null,
   "metadata": {},
   "outputs": [],
   "source": [
    "float(new_prs.loc[new_prs[\"var_id\"]==62,\"OR\"])"
   ]
  },
  {
   "cell_type": "code",
   "execution_count": null,
   "metadata": {},
   "outputs": [],
   "source": [
    "len(mut_sites)"
   ]
  },
  {
   "cell_type": "code",
   "execution_count": null,
   "metadata": {},
   "outputs": [],
   "source": [
    "tree.num_sites"
   ]
  },
  {
   "cell_type": "code",
   "execution_count": null,
   "metadata": {},
   "outputs": [],
   "source": [
    "tree.num_mutations"
   ]
  },
  {
   "cell_type": "markdown",
   "metadata": {},
   "source": [
    "## Get proportion of local ancestry"
   ]
  },
  {
   "cell_type": "code",
   "execution_count": null,
   "metadata": {},
   "outputs": [],
   "source": [
    "path_tree = \"/Users/taylorcavazos/repos/Local_Ancestry_PRS/data/trees/tree_sub_CEU_1.95e5.hdf\""
   ]
  },
  {
   "cell_type": "code",
   "execution_count": null,
   "metadata": {},
   "outputs": [],
   "source": [
    "n_sites = msprime.load(path_tree).num_sites"
   ]
  },
  {
   "cell_type": "code",
   "execution_count": null,
   "metadata": {},
   "outputs": [],
   "source": [
    "with open(\"/Users/taylorcavazos/repos/other_tools/admixture-data/output/admix_afr_amer.result\") as f:\n",
    "    pbar = tqdm.tqdm(total=n_sites+1)\n",
    "    ind = 0\n",
    "    clumped_prs_vars = np.array(open(\"/Users/taylorcavazos/repos/Local_Ancestry_PRS/data/prs_vars_p_5e-8_r2_0.2.txt\").read().splitlines()).astype(int)\n",
    "    for line in f:\n",
    "        line_spl = line.split(\"\\t\")\n",
    "        if ind == 0:\n",
    "            sample_haps = line_spl[2:]\n",
    "            samples = [sample_haps[i].split(\".\")[0] for i in range(0,len(sample_haps),2)]\n",
    "            anc_df = pd.DataFrame(columns=samples)\n",
    "            counts_CEU = np.zeros(len(samples))\n",
    "            counts_YRI = np.zeros(len(samples))\n",
    "        elif ind-1 in clumped_prs_vars:\n",
    "            haplo_anc = np.array(line_spl[2:]).astype(int)\n",
    "            YRI_arr = haplo_anc-1\n",
    "            CEU_arr = np.absolute(1-YRI_arr)\n",
    "            line_counts_CEU = np.add.reduceat(CEU_arr, np.arange(0, len(CEU_arr), 2))\n",
    "            #SNP=line_spl[0]+\"_\"+line_spl[1]            \n",
    "            anc_df.loc[ind-1,:] = line_counts_CEU\n",
    "            \n",
    "        ind+=1\n",
    "        pbar.update(1)\n",
    "    anc_df.to_csv(\"/Users/taylorcavazos/repos/Local_Ancestry_PRS/data/CEU_counts_prs_vars.txt\",sep=\"\\t\")"
   ]
  },
  {
   "cell_type": "code",
   "execution_count": null,
   "metadata": {},
   "outputs": [],
   "source": [
    "anc_df"
   ]
  },
  {
   "cell_type": "raw",
   "metadata": {
    "scrolled": true
   },
   "source": [
    "with open(\"/Users/taylorcavazos/repos/other_tools/admixture-data/output/admix_afr_amer.result\") as f:\n",
    "    pbar = tqdm.tqdm(total=n_sites+1)\n",
    "    ind = 0\n",
    "    for line in f:\n",
    "        if ind == 0:\n",
    "            sample_haps = line.split(\"\\t\")[2:]\n",
    "            samples = [sample_haps[i].split(\".\")[0] for i in range(0,len(sample_haps),2)]\n",
    "            anc_df = pd.DataFrame(index=samples,columns=[\"Prop_CEU\",\"Prop_YRI\"])\n",
    "            counts_CEU = np.zeros(len(samples))\n",
    "            counts_YRI = np.zeros(len(samples))\n",
    "        elif ind-1 in clumped_prs_vars:\n",
    "            haplo_anc = np.array(line.split(\"\\t\")[2:]).astype(int)\n",
    "            YRI_arr = haplo_anc-1\n",
    "            line_counts_YRI = np.add.reduceat(YRI_arr, np.arange(0, len(YRI_arr), 2))\n",
    "            \n",
    "            CEU_arr = np.absolute(1-YRI_arr)\n",
    "            line_counts_CEU = np.add.reduceat(CEU_arr, np.arange(0, len(CEU_arr), 2))\n",
    "            \n",
    "            counts_CEU = counts_CEU+line_counts_CEU\n",
    "            counts_YRI = counts_YRI+line_counts_YRI\n",
    "        ind+=1\n",
    "        pbar.update(1)\n",
    "    #anc_df[\"Prop_CEU\"] = counts_CEU/(2*(ind-1))\n",
    "    #anc_df[\"Prop_YRI\"] = counts_YRI/(2*(ind-1))\n",
    "    anc_df[\"Prop_CEU\"] = counts_CEU/(2*len(clumped_prs_vars))\n",
    "    anc_df[\"Prop_YRI\"] = counts_YRI/(2*len(clumped_prs_vars))\n",
    "    anc_df.to_csv(\"/Users/taylorcavazos/repos/other_tools/admixture-data/output/admix_afr_amer_PRS.prop.anc\",sep=\"\\t\")"
   ]
  },
  {
   "cell_type": "code",
   "execution_count": null,
   "metadata": {},
   "outputs": [],
   "source": [
    "prop_anc = pd.read_csv(\"/Users/taylorcavazos/repos/other_tools/admixture-data/output/admix_afr_amer_PRS.prop.anc\",\n",
    "           sep=\"\\t\",index_col=0)"
   ]
  },
  {
   "cell_type": "code",
   "execution_count": null,
   "metadata": {},
   "outputs": [],
   "source": [
    "plt.hist(prop_anc[\"Prop_CEU\"])\n",
    "plt.show()"
   ]
  },
  {
   "cell_type": "code",
   "execution_count": null,
   "metadata": {},
   "outputs": [],
   "source": [
    "prop_anc[prop_anc[\"Prop_CEU\"]<=0.2].shape"
   ]
  },
  {
   "cell_type": "code",
   "execution_count": null,
   "metadata": {},
   "outputs": [],
   "source": [
    "prop_anc[prop_anc[\"Prop_CEU\"]>=0.8].shape"
   ]
  },
  {
   "cell_type": "code",
   "execution_count": null,
   "metadata": {},
   "outputs": [],
   "source": [
    "prop_anc[(prop_anc[\"Prop_CEU\"]<0.8)&(prop_anc[\"Prop_CEU\"]>0.2)].shape"
   ]
  },
  {
   "cell_type": "markdown",
   "metadata": {},
   "source": [
    "## Calculate True PRSs for all individuals"
   ]
  },
  {
   "cell_type": "code",
   "execution_count": null,
   "metadata": {},
   "outputs": [],
   "source": [
    "import output_true_prs"
   ]
  },
  {
   "cell_type": "markdown",
   "metadata": {},
   "source": [
    "Assume same causal variants and effect sizes"
   ]
  },
  {
   "cell_type": "markdown",
   "metadata": {},
   "source": [
    "Average true PRS over a 100 iterations"
   ]
  },
  {
   "cell_type": "raw",
   "metadata": {},
   "source": [
    "output_true_prs.main(path_tree,m,h2,\"/Users/taylorcavazos/repos/Local_Ancestry_PRS/data/true_prs/prs_m_{}_h2_{}\".format(m,h2),iters=100,\n",
    "                     admix_vcf = \"/Users/taylorcavazos/repos/other_tools/admixture-data/output/admix_afr_amer.query.vcf\")"
   ]
  },
  {
   "cell_type": "code",
   "execution_count": null,
   "metadata": {},
   "outputs": [],
   "source": [
    "f = h5py.File('/Users/taylorcavazos/repos/Local_Ancestry_PRS/data/true_prs/prs_m_1000_h2_0.67.hdf5', 'r')"
   ]
  },
  {
   "cell_type": "code",
   "execution_count": null,
   "metadata": {},
   "outputs": [],
   "source": [
    "f.keys()"
   ]
  },
  {
   "cell_type": "code",
   "execution_count": null,
   "metadata": {},
   "outputs": [],
   "source": [
    "f['labels'][()]"
   ]
  },
  {
   "cell_type": "code",
   "execution_count": null,
   "metadata": {
    "scrolled": true
   },
   "outputs": [],
   "source": [
    "ceu_anc_prop = [1]*(f['G'].shape[0]-prop_anc.shape[0])+list(prop_anc[\"Prop_CEU\"])"
   ]
  },
  {
   "cell_type": "code",
   "execution_count": null,
   "metadata": {},
   "outputs": [],
   "source": [
    "len(ceu_anc_prop)"
   ]
  },
  {
   "cell_type": "code",
   "execution_count": null,
   "metadata": {},
   "outputs": [],
   "source": [
    "plt.scatter(x=f['G'][()],y=ceu_anc_prop)\n",
    "plt.xlabel(\"True Polygenic Risk Score\",fontsize=14)\n",
    "plt.ylabel(\"Proportion European Ancestry\",fontsize=14)\n",
    "plt.show()"
   ]
  },
  {
   "cell_type": "markdown",
   "metadata": {},
   "source": [
    "## Select Cases and Controls"
   ]
  },
  {
   "cell_type": "code",
   "execution_count": null,
   "metadata": {},
   "outputs": [],
   "source": [
    "import h5py\n",
    "import seaborn as sns\n",
    "import numpy as np"
   ]
  },
  {
   "cell_type": "code",
   "execution_count": null,
   "metadata": {},
   "outputs": [],
   "source": [
    "f = h5py.File('../data/sim1/true_prs/train_test_m_1000_h2_0.67.hdf5', 'r')"
   ]
  },
  {
   "cell_type": "code",
   "execution_count": null,
   "metadata": {},
   "outputs": [],
   "source": [
    "f.keys()"
   ]
  },
  {
   "cell_type": "code",
   "execution_count": null,
   "metadata": {},
   "outputs": [],
   "source": [
    "prs_f = h5py.File('../data/sim1/true_prs/prs_m_1000_h2_0.67.hdf5', 'r')"
   ]
  },
  {
   "cell_type": "code",
   "execution_count": null,
   "metadata": {},
   "outputs": [],
   "source": [
    "prs_f.keys()"
   ]
  },
  {
   "cell_type": "code",
   "execution_count": null,
   "metadata": {},
   "outputs": [],
   "source": [
    "labels = prs_f['labels'][()]"
   ]
  },
  {
   "cell_type": "code",
   "execution_count": null,
   "metadata": {},
   "outputs": [],
   "source": [
    "true_prs = prs_f['G'][()]"
   ]
  },
  {
   "cell_type": "code",
   "execution_count": null,
   "metadata": {},
   "outputs": [],
   "source": [
    "sns.distplot(true_prs[f['train_cases'][()]],color=\"red\")\n",
    "sns.distplot(true_prs[f['train_controls'][()]],color=\"blue\")"
   ]
  },
  {
   "cell_type": "code",
   "execution_count": null,
   "metadata": {},
   "outputs": [],
   "source": [
    "f.close()\n",
    "prs_f.close()"
   ]
  },
  {
   "cell_type": "code",
   "execution_count": null,
   "metadata": {
    "scrolled": true
   },
   "outputs": [],
   "source": [
    "data = np.append(f['train_cases'][()],f['train_controls'][()])\n",
    "data = np.append(data,f['test_data'][()][:50])"
   ]
  },
  {
   "cell_type": "code",
   "execution_count": null,
   "metadata": {},
   "outputs": [],
   "source": [
    "np.sort(data)"
   ]
  },
  {
   "cell_type": "code",
   "execution_count": null,
   "metadata": {},
   "outputs": [],
   "source": [
    "labels[f['train_cases'][()]]"
   ]
  },
  {
   "cell_type": "code",
   "execution_count": null,
   "metadata": {},
   "outputs": [],
   "source": [
    "labels[f['train_controls'][()]]"
   ]
  },
  {
   "cell_type": "code",
   "execution_count": null,
   "metadata": {},
   "outputs": [],
   "source": [
    "labels[f['test_data'][()]]"
   ]
  },
  {
   "cell_type": "code",
   "execution_count": null,
   "metadata": {},
   "outputs": [],
   "source": [
    "sns.distplot(f['G'][()])\n",
    "plt.vlines(x=np.percentile(f['G'][()],95),ymin=0,ymax=0.5)\n",
    "plt.show()"
   ]
  },
  {
   "cell_type": "raw",
   "metadata": {},
   "source": [
    "G = f['G'][()]"
   ]
  },
  {
   "cell_type": "raw",
   "metadata": {},
   "source": [
    "np.random.seed(seed=42)\n",
    "e = np.random.normal(loc=0, scale=(1-h2), size=int(G.shape[0]))\n",
    "Ze = (e - np.mean(e))/np.std(e)\n",
    "E = np.sqrt(1-h2)*Ze"
   ]
  },
  {
   "cell_type": "code",
   "execution_count": null,
   "metadata": {},
   "outputs": [],
   "source": [
    "sns.distplot(G+E)\n",
    "plt.vlines(x=np.percentile(G+E,95),ymin=0,ymax=0.4)\n",
    "plt.show()"
   ]
  },
  {
   "cell_type": "raw",
   "metadata": {},
   "source": [
    "labels = f['labels'][()].astype(str)"
   ]
  },
  {
   "cell_type": "raw",
   "metadata": {},
   "source": [
    "labels_case = labels[np.where(G+E>np.percentile(G+E,95))[0]]\n",
    "labels_control = labels[np.where(G+E<=np.percentile(G+E,95))[0]]"
   ]
  },
  {
   "cell_type": "code",
   "execution_count": null,
   "metadata": {},
   "outputs": [],
   "source": [
    "import numpy as np"
   ]
  },
  {
   "cell_type": "code",
   "execution_count": null,
   "metadata": {},
   "outputs": [],
   "source": [
    "arr = np.array([0,4,3,2])"
   ]
  },
  {
   "cell_type": "code",
   "execution_count": null,
   "metadata": {},
   "outputs": [],
   "source": [
    "arr[np.argsort(arr)][2:]"
   ]
  },
  {
   "cell_type": "code",
   "execution_count": null,
   "metadata": {},
   "outputs": [],
   "source": []
  },
  {
   "cell_type": "raw",
   "metadata": {},
   "source": [
    "meta_data = prop_anc.reindex(labels)\n",
    "meta_data[\"Prop_CEU\"] = meta_data[\"Prop_CEU\"].fillna(value=1)\n",
    "meta_data[\"Prop_YRI\"] = meta_data[\"Prop_YRI\"].fillna(value=0)"
   ]
  },
  {
   "cell_type": "raw",
   "metadata": {},
   "source": [
    "meta_data.loc[labels_case,\"Disease\"]=1\n",
    "meta_data.loc[labels_control,\"Disease\"]=0"
   ]
  },
  {
   "cell_type": "raw",
   "metadata": {},
   "source": [
    "sns.boxplot(x=\"Disease\",y=\"Prop_CEU\",data=meta_data)\n",
    "plt.show()"
   ]
  },
  {
   "cell_type": "raw",
   "metadata": {},
   "source": [
    "meta_data[\"Disease\"] = meta_data.Disease.astype(int)\n",
    "meta_data[\"truePRS\"] = G\n",
    "meta_data[\"envNoise\"] = E"
   ]
  },
  {
   "cell_type": "raw",
   "metadata": {},
   "source": [
    "msp_inds = [ind for ind in meta_data.index if \"msp\" in ind]\n",
    "eur_only = meta_data.loc[msp_inds,:]"
   ]
  },
  {
   "cell_type": "raw",
   "metadata": {},
   "source": [
    "admix_only = meta_data.loc[prop_anc.index]"
   ]
  },
  {
   "cell_type": "raw",
   "metadata": {},
   "source": [
    "eur_test_case = np.random.choice(eur_only[eur_only[\"Disease\"]==1].index,size=300,replace=False)\n",
    "eur_test_control = np.random.choice(eur_only[eur_only[\"Disease\"]==0].index,size=3700,replace=False)"
   ]
  },
  {
   "cell_type": "raw",
   "metadata": {},
   "source": [
    "eur_train_case = np.random.choice(eur_only[eur_only[\"Disease\"]==1].drop(eur_test_case).index,size=9000,replace=False)\n",
    "eur_train_control = np.random.choice(eur_only[eur_only[\"Disease\"]==0].drop(eur_test_control).index,size=90000,replace=False)"
   ]
  },
  {
   "cell_type": "code",
   "execution_count": null,
   "metadata": {},
   "outputs": [],
   "source": [
    "sns.distplot(meta_data.loc[eur_train_case,\"truePRS\"],color=\"red\")\n",
    "sns.distplot(meta_data.loc[eur_train_control,\"truePRS\"],color=\"blue\")\n",
    "plt.show()"
   ]
  },
  {
   "cell_type": "code",
   "execution_count": null,
   "metadata": {},
   "outputs": [],
   "source": [
    "sns.distplot(meta_data.loc[eur_test_case,\"truePRS\"],color=\"red\")\n",
    "sns.distplot(meta_data.loc[eur_test_control,\"truePRS\"],color=\"blue\")\n",
    "plt.show()"
   ]
  },
  {
   "cell_type": "code",
   "execution_count": null,
   "metadata": {},
   "outputs": [],
   "source": [
    "sns.distplot(meta_data.loc[meta_data.Disease==1,\"truePRS\"],color=\"red\")\n",
    "sns.distplot(meta_data.loc[meta_data.Disease==0,\"truePRS\"],color=\"blue\")\n",
    "plt.show()"
   ]
  },
  {
   "cell_type": "raw",
   "metadata": {},
   "source": [
    "meta_data.to_csv(\"/Users/taylorcavazos/repos/Local_Ancestry_PRS/data/sim_data_meta_m_{}_h2_{}.txt\".format(m,h2),sep=\"\\t\")"
   ]
  },
  {
   "cell_type": "raw",
   "metadata": {},
   "source": [
    "train_cases = np.array([item.split(\"_\")[1] for item in eur_train_case]).astype(int)\n",
    "train_controls = np.array([item.split(\"_\")[1] for item in eur_train_control]).astype(int)\n",
    "test_cases = np.array([item.split(\"_\")[1] for item in eur_test_case]).astype(int)\n",
    "test_controls = np.array([item.split(\"_\")[1] for item in eur_test_control]).astype(int)"
   ]
  },
  {
   "cell_type": "raw",
   "metadata": {},
   "source": [
    "with h5py.File('/Users/taylorcavazos/repos/Local_Ancestry_PRS/data/train_test_CEU_m_{}_h2_{}.hdf5'.format(m,h2), 'w') as f:\n",
    "    f.create_dataset(\"train_cases\",train_cases.shape,dtype=int,data=train_cases)\n",
    "    f.create_dataset(\"train_controls\",train_controls.shape,dtype=int,data=train_controls)\n",
    "    f.create_dataset(\"test_cases\",test_cases.shape,dtype=int,data=test_cases)\n",
    "    f.create_dataset(\"test_controls\",test_controls.shape,dtype=int,data=test_controls)"
   ]
  },
  {
   "cell_type": "markdown",
   "metadata": {},
   "source": [
    "## Perform GWAS with training European samples"
   ]
  },
  {
   "cell_type": "markdown",
   "metadata": {},
   "source": [
    "#### Calculate MAF EUR"
   ]
  },
  {
   "cell_type": "code",
   "execution_count": null,
   "metadata": {},
   "outputs": [],
   "source": [
    "tree = msprime.load(path_tree)\n",
    "n_sites = tree.num_sites"
   ]
  },
  {
   "cell_type": "raw",
   "metadata": {},
   "source": [
    "maf = []\n",
    "pbar = tqdm.tqdm(total=tree.num_sites)\n",
    "for variant in tree.variants():\n",
    "    genos_diploid = return_diploid_genos(variant.genotypes,tree)\n",
    "    freq = np.sum(genos_diploid,axis=1)/(2*genos_diploid.shape[1])\n",
    "    if freq < 0.5: maf.append(freq)\n",
    "    else: maf.append(1-freq)\n",
    "    pbar.update(1)"
   ]
  },
  {
   "cell_type": "raw",
   "metadata": {},
   "source": [
    "np.savetxt(\"/Users/taylorcavazos/repos/Local_Ancestry_PRS/data/maf.txt\",maf)"
   ]
  },
  {
   "cell_type": "markdown",
   "metadata": {},
   "source": [
    "#### Perform GWAS"
   ]
  },
  {
   "cell_type": "raw",
   "metadata": {},
   "source": [
    "python run_compute_sum_stats.py > sum.stats.log.txt"
   ]
  },
  {
   "cell_type": "code",
   "execution_count": null,
   "metadata": {},
   "outputs": [],
   "source": [
    "from statsmodels.stats import multitest"
   ]
  },
  {
   "cell_type": "raw",
   "metadata": {},
   "source": [
    "sum_stats = pd.read_csv(\"/Users/taylorcavazos/repos/Local_Ancestry_PRS/data/comm_maf_0.01_sum_stats_m_{}_h2_{}.txt\".format(m,h2),sep=\"\\t\",index_col=0)\n",
    "_,cor_p,_,_ = multitest.multipletests(sum_stats.loc[:,\"p-value\"], method=\"fdr_bh\")\n",
    "sum_stats[\"fdr\"]=cor_p\n",
    "sum_stats.to_csv(\"/Users/taylorcavazos/repos/Local_Ancestry_PRS/data/comm_maf_0.01_sum_stats_m_{}_h2_{}_fdr.txt\".format(m,h2),sep=\"\\t\")"
   ]
  },
  {
   "cell_type": "markdown",
   "metadata": {},
   "source": [
    "## Calculate Expected PRS for everyone"
   ]
  },
  {
   "cell_type": "code",
   "execution_count": null,
   "metadata": {},
   "outputs": [],
   "source": [
    "from output_emp_prs import *"
   ]
  },
  {
   "cell_type": "code",
   "execution_count": null,
   "metadata": {},
   "outputs": [],
   "source": [
    "tree = msprime.load(path_tree)\n",
    "n_sites = tree.num_sites"
   ]
  },
  {
   "cell_type": "code",
   "execution_count": null,
   "metadata": {},
   "outputs": [],
   "source": [
    "bonf_p = 0.05/n_sites"
   ]
  },
  {
   "cell_type": "code",
   "execution_count": null,
   "metadata": {},
   "outputs": [],
   "source": [
    "bonf_p"
   ]
  },
  {
   "cell_type": "code",
   "execution_count": null,
   "metadata": {},
   "outputs": [],
   "source": [
    "sum_stats = pd.read_csv(\"/Users/taylorcavazos/repos/Local_Ancestry_PRS/data/comm_maf_0.01_sum_stats_m_{}_h2_{}_fdr.txt\".format(m,h2),sep=\"\\t\",index_col=0)"
   ]
  },
  {
   "cell_type": "code",
   "execution_count": null,
   "metadata": {},
   "outputs": [],
   "source": [
    "prs_vars = sum_stats[sum_stats[\"p-value\"] < bonf_p].sort_values(by=[\"p-value\"])"
   ]
  },
  {
   "cell_type": "code",
   "execution_count": null,
   "metadata": {},
   "outputs": [],
   "source": [
    "prs_vars.shape"
   ]
  },
  {
   "cell_type": "markdown",
   "metadata": {},
   "source": [
    "prs_vars.head(1000).tail(1)"
   ]
  },
  {
   "cell_type": "markdown",
   "metadata": {},
   "source": [
    "ld_struct = find_ld_sites(tree, [229402],r2_threshold=0.2,num_threads=1)"
   ]
  },
  {
   "cell_type": "code",
   "execution_count": null,
   "metadata": {},
   "outputs": [],
   "source": [
    "f = h5py.File('/Users/taylorcavazos/repos/Local_Ancestry_PRS/data/emp_prs/emp_prs_m_1000_h2_0.67_LD_ALL.hdf5', 'r')"
   ]
  },
  {
   "cell_type": "code",
   "execution_count": null,
   "metadata": {},
   "outputs": [],
   "source": [
    "f.keys()"
   ]
  },
  {
   "cell_type": "code",
   "execution_count": null,
   "metadata": {},
   "outputs": [],
   "source": [
    "f['labels'][()]"
   ]
  },
  {
   "cell_type": "code",
   "execution_count": null,
   "metadata": {},
   "outputs": [],
   "source": [
    "emp = f['X'][()]\n",
    "emp_Z = (emp - np.mean(emp))/np.std(emp)"
   ]
  },
  {
   "cell_type": "code",
   "execution_count": null,
   "metadata": {},
   "outputs": [],
   "source": [
    "f_LA = h5py.File('/Users/taylorcavazos/repos/Local_Ancestry_PRS/data/emp_prs/emp_prs_m_1000_h2_0.67_LD_ADMIX_UNWEIGHT.hdf5', 'r')\n",
    "emp_LA = f_LA['X'][()]\n",
    "emp_Z_LA = (emp_LA - np.mean(emp_LA))/np.std(emp_LA)\n",
    "LA_only_labels = f_LA['labels'][()].astype(str)"
   ]
  },
  {
   "cell_type": "code",
   "execution_count": null,
   "metadata": {},
   "outputs": [],
   "source": [
    "t = h5py.File('/Users/taylorcavazos/repos/Local_Ancestry_PRS/data/true_prs/prs_m_1000_h2_0.67.hdf5', 'r')"
   ]
  },
  {
   "cell_type": "code",
   "execution_count": null,
   "metadata": {},
   "outputs": [],
   "source": [
    "true = t['Zx'][()]"
   ]
  },
  {
   "cell_type": "code",
   "execution_count": null,
   "metadata": {},
   "outputs": [],
   "source": [
    "t['labels'][()]"
   ]
  },
  {
   "cell_type": "code",
   "execution_count": null,
   "metadata": {},
   "outputs": [],
   "source": [
    "emp.shape"
   ]
  },
  {
   "cell_type": "code",
   "execution_count": null,
   "metadata": {},
   "outputs": [],
   "source": [
    "true.shape"
   ]
  },
  {
   "cell_type": "code",
   "execution_count": null,
   "metadata": {},
   "outputs": [],
   "source": [
    "plt.scatter(true,emp_Z)\n",
    "plt.show()"
   ]
  },
  {
   "cell_type": "code",
   "execution_count": null,
   "metadata": {},
   "outputs": [],
   "source": [
    "train_test = h5py.File(\"/Users/taylorcavazos/repos/Local_Ancestry_PRS/data/train_test_CEU_m_1000_h2_0.67.hdf5\")"
   ]
  },
  {
   "cell_type": "code",
   "execution_count": null,
   "metadata": {},
   "outputs": [],
   "source": [
    "train_test.keys()"
   ]
  },
  {
   "cell_type": "code",
   "execution_count": null,
   "metadata": {},
   "outputs": [],
   "source": [
    "training = np.append(train_test[\"train_controls\"][()],train_test[\"train_cases\"][()])\n",
    "testing = np.append(train_test[\"test_controls\"][()],train_test[\"test_cases\"][()])"
   ]
  },
  {
   "cell_type": "code",
   "execution_count": null,
   "metadata": {},
   "outputs": [],
   "source": [
    "len(train_test[\"train_controls\"][()])"
   ]
  },
  {
   "cell_type": "code",
   "execution_count": null,
   "metadata": {},
   "outputs": [],
   "source": [
    "len(train_test[\"train_cases\"][()])"
   ]
  },
  {
   "cell_type": "code",
   "execution_count": null,
   "metadata": {},
   "outputs": [],
   "source": [
    "training_msp = [\"msp_\"+str(train) for train in training]\n",
    "testing_msp = [\"msp_\"+str(test) for test in testing]"
   ]
  },
  {
   "cell_type": "code",
   "execution_count": null,
   "metadata": {},
   "outputs": [],
   "source": [
    "labels = t['labels'][()].astype(str)"
   ]
  },
  {
   "cell_type": "code",
   "execution_count": null,
   "metadata": {},
   "outputs": [],
   "source": [
    "label_inds = pd.DataFrame(np.arange(0,len(labels)),index = labels)\n",
    "LA_label_inds = pd.DataFrame(np.arange(0,len(LA_only_labels)),index = LA_only_labels)"
   ]
  },
  {
   "cell_type": "code",
   "execution_count": null,
   "metadata": {},
   "outputs": [],
   "source": [
    "train_inds = label_inds.loc[training_msp,0].values\n",
    "test_inds = label_inds.loc[testing_msp,0].values"
   ]
  },
  {
   "cell_type": "code",
   "execution_count": null,
   "metadata": {
    "scrolled": true
   },
   "outputs": [],
   "source": [
    "admix = label_inds.loc[prop_anc.index,0].values\n",
    "LA_admix = LA_label_inds.loc[prop_anc.index,0].values"
   ]
  },
  {
   "cell_type": "code",
   "execution_count": null,
   "metadata": {},
   "outputs": [],
   "source": [
    "low_admix = label_inds.loc[prop_anc[prop_anc[\"Prop_CEU\"]>0.8].index,0].values\n",
    "mid1 = label_inds.loc[prop_anc[(prop_anc[\"Prop_CEU\"]>0.2)&(prop_anc[\"Prop_CEU\"]<=0.4)].index,0].values\n",
    "mid2 = label_inds.loc[prop_anc[(prop_anc[\"Prop_CEU\"]>0.4)&(prop_anc[\"Prop_CEU\"]<=0.6)].index,0].values\n",
    "mid3 = label_inds.loc[prop_anc[(prop_anc[\"Prop_CEU\"]>0.6)&(prop_anc[\"Prop_CEU\"]<=0.8)].index,0].values\n",
    "high_admix = label_inds.loc[prop_anc[prop_anc[\"Prop_CEU\"]<=0.2].index,0].values"
   ]
  },
  {
   "cell_type": "code",
   "execution_count": null,
   "metadata": {},
   "outputs": [],
   "source": [
    "LA_low_admix = LA_label_inds.loc[prop_anc[prop_anc[\"Prop_CEU\"]>0.8].index,0].values\n",
    "LA_mid1 = LA_label_inds.loc[prop_anc[(prop_anc[\"Prop_CEU\"]>0.2)&(prop_anc[\"Prop_CEU\"]<=0.4)].index,0].values\n",
    "LA_mid2 = LA_label_inds.loc[prop_anc[(prop_anc[\"Prop_CEU\"]>0.4)&(prop_anc[\"Prop_CEU\"]<=0.6)].index,0].values\n",
    "LA_mid3 = LA_label_inds.loc[prop_anc[(prop_anc[\"Prop_CEU\"]>0.6)&(prop_anc[\"Prop_CEU\"]<=0.8)].index,0].values\n",
    "LA_high_admix = LA_label_inds.loc[prop_anc[prop_anc[\"Prop_CEU\"]<=0.2].index,0].values"
   ]
  },
  {
   "cell_type": "code",
   "execution_count": null,
   "metadata": {},
   "outputs": [],
   "source": [
    "plt.scatter(true[test_inds],emp_Z[test_inds],s=10,color=\"gray\")\n",
    "plt.scatter(true[low_admix],emp_Z[low_admix],color=\"red\",s=10)\n",
    "#plt.scatter(true[low_admix],emp_Z_LA[LA_low_admix],color=\"blue\",s=10)\n",
    "plt.scatter(true[high_admix],emp_Z[high_admix],color=\"blue\",s=10)\n",
    "#plt.scatter(true[high_admix],emp_Z_LA[LA_high_admix],color=\"blue\",s=10)\n",
    "#plt.scatter(true[mid_admix],emp_Z[mid_admix],color=\"orange\",s=10)\n",
    "\n",
    "plt.show()"
   ]
  },
  {
   "cell_type": "code",
   "execution_count": null,
   "metadata": {
    "scrolled": false
   },
   "outputs": [],
   "source": [
    "stats.pearsonr(true[test_inds],emp_Z[test_inds])"
   ]
  },
  {
   "cell_type": "markdown",
   "metadata": {},
   "source": [
    "CEU > 0.8"
   ]
  },
  {
   "cell_type": "code",
   "execution_count": null,
   "metadata": {},
   "outputs": [],
   "source": [
    "len(low_admix)"
   ]
  },
  {
   "cell_type": "code",
   "execution_count": null,
   "metadata": {
    "scrolled": true
   },
   "outputs": [],
   "source": [
    "stats.pearsonr(true[low_admix],emp_Z[low_admix])"
   ]
  },
  {
   "cell_type": "code",
   "execution_count": null,
   "metadata": {},
   "outputs": [],
   "source": [
    "stats.pearsonr(true[low_admix],emp_Z_LA[LA_low_admix])"
   ]
  },
  {
   "cell_type": "markdown",
   "metadata": {},
   "source": [
    "CEU <= 0.2"
   ]
  },
  {
   "cell_type": "code",
   "execution_count": null,
   "metadata": {},
   "outputs": [],
   "source": [
    "len(high_admix)\n"
   ]
  },
  {
   "cell_type": "code",
   "execution_count": null,
   "metadata": {},
   "outputs": [],
   "source": [
    "stats.pearsonr(true[high_admix],emp_Z[high_admix])"
   ]
  },
  {
   "cell_type": "code",
   "execution_count": null,
   "metadata": {},
   "outputs": [],
   "source": [
    "stats.pearsonr(true[high_admix],emp_Z_LA[LA_high_admix])"
   ]
  },
  {
   "cell_type": "markdown",
   "metadata": {},
   "source": [
    "0.2 < CEU <= 0.4"
   ]
  },
  {
   "cell_type": "code",
   "execution_count": null,
   "metadata": {
    "scrolled": true
   },
   "outputs": [],
   "source": [
    "stats.pearsonr(true[mid1],emp_Z[mid1])"
   ]
  },
  {
   "cell_type": "markdown",
   "metadata": {},
   "source": [
    "0.4 < CEU <= 0.6"
   ]
  },
  {
   "cell_type": "code",
   "execution_count": null,
   "metadata": {},
   "outputs": [],
   "source": [
    "stats.pearsonr(true[mid2],emp_Z[mid2])"
   ]
  },
  {
   "cell_type": "markdown",
   "metadata": {},
   "source": [
    "0.6 < CEU <= 0.8"
   ]
  },
  {
   "cell_type": "code",
   "execution_count": null,
   "metadata": {},
   "outputs": [],
   "source": [
    "stats.pearsonr(true[mid3],emp_Z[mid3])"
   ]
  },
  {
   "cell_type": "code",
   "execution_count": null,
   "metadata": {},
   "outputs": [],
   "source": [
    "low_admix = label_inds.loc[prop_anc[prop_anc[\"Prop_CEU\"]<0.2].index,0].values"
   ]
  },
  {
   "cell_type": "code",
   "execution_count": null,
   "metadata": {},
   "outputs": [],
   "source": [
    "admix = label_inds.loc[prop_anc.index,0].values"
   ]
  },
  {
   "cell_type": "markdown",
   "metadata": {},
   "source": [
    "### a: Using European GWAS"
   ]
  },
  {
   "cell_type": "code",
   "execution_count": null,
   "metadata": {},
   "outputs": [],
   "source": []
  },
  {
   "cell_type": "markdown",
   "metadata": {},
   "source": [
    "### b: Using Local-Ancestry Specific Approach (relies on significant SNPs from European GWAS)"
   ]
  },
  {
   "cell_type": "code",
   "execution_count": null,
   "metadata": {},
   "outputs": [],
   "source": []
  },
  {
   "cell_type": "markdown",
   "metadata": {},
   "source": [
    "## Calculate AUCs and compare between approaches"
   ]
  },
  {
   "cell_type": "code",
   "execution_count": null,
   "metadata": {},
   "outputs": [],
   "source": [
    "clumped_prs_vars = np.array(open(\"/Users/taylorcavazos/repos/Local_Ancestry_PRS/data/prs_vars_p_5e-8_r2_0.2.txt\").read().splitlines()).astype(int)"
   ]
  },
  {
   "cell_type": "code",
   "execution_count": null,
   "metadata": {},
   "outputs": [],
   "source": [
    "sum_stats = pd.read_csv(\"/Users/taylorcavazos/repos/Local_Ancestry_PRS/data/comm_maf_0.01_sum_stats_m_{}_h2_{}.txt\".format(m,h2),sep=\"\\t\",index_col=0)"
   ]
  },
  {
   "cell_type": "code",
   "execution_count": null,
   "metadata": {
    "scrolled": true
   },
   "outputs": [],
   "source": [
    "prs_vars = sum_stats.loc[clumped_prs_vars,:]"
   ]
  },
  {
   "cell_type": "code",
   "execution_count": null,
   "metadata": {},
   "outputs": [],
   "source": [
    "sum_stats.loc[1488,:]"
   ]
  },
  {
   "cell_type": "code",
   "execution_count": null,
   "metadata": {
    "scrolled": true
   },
   "outputs": [],
   "source": [
    "set(causal_stats.index).intersection(set(prs_vars.index))"
   ]
  },
  {
   "cell_type": "code",
   "execution_count": null,
   "metadata": {
    "scrolled": true
   },
   "outputs": [],
   "source": [
    "causal_stats = sum_stats.reindex(causal_inds).dropna(how=\"all\")\n",
    "causal_stats[causal_stats[\"p-value\"]<5e-8]"
   ]
  },
  {
   "cell_type": "code",
   "execution_count": null,
   "metadata": {
    "scrolled": true
   },
   "outputs": [],
   "source": [
    "prs_vars.sort_index()"
   ]
  },
  {
   "cell_type": "code",
   "execution_count": null,
   "metadata": {},
   "outputs": [],
   "source": [
    "vcf_file = \"/Users/taylorcavazos/repos/other_tools/admixture-data/output/admix_afr_amer.query.vcf\""
   ]
  },
  {
   "cell_type": "code",
   "execution_count": null,
   "metadata": {},
   "outputs": [],
   "source": [
    "afs = []\n",
    "with open(vcf_file) as f:\n",
    "    ind=0\n",
    "    for line in f:\n",
    "        if line[0] != \"#\":\n",
    "            if ind in clumped_prs_vars:\n",
    "                data = line.split(\"\\t\")[9:]\n",
    "                genotype = np.array([np.array(hap.split(\"|\")).astype(int).sum() for hap in data])\n",
    "                af = genotype.sum()/(2*4000)\n",
    "                afs.append(af)\n",
    "            ind+=1"
   ]
  },
  {
   "cell_type": "code",
   "execution_count": null,
   "metadata": {},
   "outputs": [],
   "source": [
    "(np.array(afs)<0.01).sum()"
   ]
  },
  {
   "cell_type": "code",
   "execution_count": null,
   "metadata": {},
   "outputs": [],
   "source": []
  },
  {
   "cell_type": "code",
   "execution_count": null,
   "metadata": {},
   "outputs": [],
   "source": [
    "0.615194/0.244875"
   ]
  },
  {
   "cell_type": "code",
   "execution_count": null,
   "metadata": {},
   "outputs": [],
   "source": [
    "np.log(0.567920)/0.000625"
   ]
  },
  {
   "cell_type": "code",
   "execution_count": null,
   "metadata": {},
   "outputs": [],
   "source": [
    "np.log(0.567920)"
   ]
  },
  {
   "cell_type": "code",
   "execution_count": null,
   "metadata": {},
   "outputs": [],
   "source": [
    "causal_inds = np.linspace(0, n_sites, m, dtype=int,endpoint=False)"
   ]
  },
  {
   "cell_type": "code",
   "execution_count": null,
   "metadata": {},
   "outputs": [],
   "source": [
    "causal_inds"
   ]
  },
  {
   "cell_type": "code",
   "execution_count": null,
   "metadata": {},
   "outputs": [],
   "source": []
  }
 ],
 "metadata": {
  "kernelspec": {
   "display_name": "Python 3",
   "language": "python",
   "name": "python3"
  },
  "language_info": {
   "codemirror_mode": {
    "name": "ipython",
    "version": 3
   },
   "file_extension": ".py",
   "mimetype": "text/x-python",
   "name": "python",
   "nbconvert_exporter": "python",
   "pygments_lexer": "ipython3",
   "version": "3.7.3"
  }
 },
 "nbformat": 4,
 "nbformat_minor": 2
}
