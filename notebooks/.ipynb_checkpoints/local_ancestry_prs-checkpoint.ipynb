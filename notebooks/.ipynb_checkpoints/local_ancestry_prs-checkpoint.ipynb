{
 "cells": [
  {
   "cell_type": "markdown",
   "metadata": {},
   "source": [
    "___\n",
    "# Simulations for local ancestry PRS\n",
    "___"
   ]
  },
  {
   "cell_type": "code",
   "execution_count": 1,
   "metadata": {},
   "outputs": [],
   "source": [
    "import matplotlib.pyplot as plt\n",
    "import seaborn as sns\n",
    "import sys\n",
    "import gzip\n",
    "import multiprocessing as mp"
   ]
  },
  {
   "cell_type": "code",
   "execution_count": 2,
   "metadata": {},
   "outputs": [],
   "source": [
    "sys.path.insert(0,\"/Users/taylorcavazos/repos/Local_Ancestry_PRS/code/\")\n",
    "sys.path.insert(0,\"/Users/taylorcavazos/Documents/Prelim_Quals/Aim1\")"
   ]
  },
  {
   "cell_type": "code",
   "execution_count": 3,
   "metadata": {},
   "outputs": [],
   "source": [
    "from sim_out_of_africa import *\n",
    "from output_true_prs import *\n",
    "from compute_sum_stats import *\n",
    "from output_emp_prs import *"
   ]
  },
  {
   "cell_type": "code",
   "execution_count": 4,
   "metadata": {},
   "outputs": [],
   "source": [
    "m = 1000\n",
    "h2 = 0.67\n",
    "path_tree = \"/Users/taylorcavazos/repos/Local_Ancestry_PRS/data/trees/tree_sub_CEU_1.95e5.hdf\"\n",
    "path_tree = \"/Users/taylorcavazos/repos/Local_Ancestry_PRS/data/trees/tree_YRI_5e4_CEU_2e5_chr22.hdf5\""
   ]
  },
  {
   "cell_type": "markdown",
   "metadata": {},
   "source": [
    "___\n",
    "## Need to implement this..."
   ]
  },
  {
   "cell_type": "code",
   "execution_count": 5,
   "metadata": {},
   "outputs": [],
   "source": [
    " import itertools"
   ]
  },
  {
   "cell_type": "code",
   "execution_count": 6,
   "metadata": {},
   "outputs": [],
   "source": [
    "ts = msprime.simulate(200,recombination_rate=10,mutation_rate=20,random_seed=1,)"
   ]
  },
  {
   "cell_type": "code",
   "execution_count": 7,
   "metadata": {
    "scrolled": true
   },
   "outputs": [
    {
     "data": {
      "text/plain": [
       "538"
      ]
     },
     "execution_count": 7,
     "metadata": {},
     "output_type": "execute_result"
    }
   ],
   "source": [
    "ts.num_sites"
   ]
  },
  {
   "cell_type": "code",
   "execution_count": 8,
   "metadata": {},
   "outputs": [],
   "source": [
    "rand_select1 = np.random.choice(ts.samples(),size=30, replace=False)\n",
    "ts_1 = ts.simplify(samples=rand_select1,filter_sites=False)"
   ]
  },
  {
   "cell_type": "code",
   "execution_count": 9,
   "metadata": {},
   "outputs": [],
   "source": [
    "rand_select2 = np.random.choice(ts_1.samples(),size=30, replace=False)"
   ]
  },
  {
   "cell_type": "code",
   "execution_count": 10,
   "metadata": {},
   "outputs": [],
   "source": [
    "small_ts= ts_1.simplify(samples=rand_select2,\n",
    "                       filter_sites=False,filter_individuals=True)"
   ]
  },
  {
   "cell_type": "code",
   "execution_count": 11,
   "metadata": {},
   "outputs": [],
   "source": [
    "focal_vars = np.random.choice(np.arange(small_ts.num_sites),replace=False,size=25)"
   ]
  },
  {
   "cell_type": "code",
   "execution_count": 12,
   "metadata": {},
   "outputs": [],
   "source": [
    "var2mut, mut2var = {}, {}\n",
    "for mut in small_ts.mutations():\n",
    "    mut2var[mut.id]=mut.site\n",
    "    var2mut[mut.site]=mut.id"
   ]
  },
  {
   "cell_type": "code",
   "execution_count": 13,
   "metadata": {},
   "outputs": [],
   "source": [
    "small_ts_filt= ts_1.simplify(samples=rand_select2,\n",
    "                       filter_sites=True,filter_individuals=True)"
   ]
  },
  {
   "cell_type": "code",
   "execution_count": 14,
   "metadata": {},
   "outputs": [],
   "source": [
    "found_focal_vars = list(set(focal_vars).intersection(var2mut.keys()))"
   ]
  },
  {
   "cell_type": "code",
   "execution_count": 15,
   "metadata": {},
   "outputs": [
    {
     "data": {
      "text/plain": [
       "{195: array([140, 141, 144, 146, 147, 148, 149, 151, 152, 154, 156, 157, 158,\n",
       "        159, 160, 161, 163, 164, 165, 167, 169, 170, 171, 173, 175, 176,\n",
       "        177, 178, 179, 180, 181, 182, 183, 186, 188, 189, 190]),\n",
       " 197: array([140, 141, 142, 146, 147, 148, 149, 151, 152, 154, 156, 157, 158,\n",
       "        159, 160, 161, 163, 164, 165, 167, 169, 170, 171, 173, 175, 176,\n",
       "        177, 178, 179, 180, 181, 182, 183, 186, 188, 189, 190]),\n",
       " 128: array([  8,  31,  41,  52,  54,  56,  61,  64,  68,  70,  71,  76,  78,\n",
       "         79,  83,  84,  85,  95, 145, 153, 172, 174, 184, 252, 323, 349,\n",
       "        369, 380]),\n",
       " 389: array([194, 195, 197, 198, 200, 201, 202, 203, 205, 209, 211, 212, 214,\n",
       "        216, 220, 222, 224, 225, 226, 229, 233, 235, 236, 244, 256, 259,\n",
       "        270, 271, 272, 273, 274, 275, 279, 280, 286, 342]),\n",
       " 70: array([  1,   4,  22,  39,  49,  59,  67, 132, 217, 261, 276]),\n",
       " 224: array([ 86,  98, 110, 113, 122, 155, 196, 265]),\n",
       " 517: array([ 52,  56,  61,  64,  68,  70,  71,  76,  78,  79,  83,  84,  85,\n",
       "         90, 172, 174, 184, 252, 323, 349, 380]),\n",
       " 511: array([ 27,  51, 106, 114, 206, 317, 327, 328, 332, 334, 339, 340, 343,\n",
       "        348, 351, 360, 366]),\n",
       " 336: array([199, 221, 223, 230, 245, 248, 254, 260, 267, 272, 274, 275, 284]),\n",
       " 302: array([194, 195, 197, 198, 200, 201, 202, 203, 205, 209, 211, 212, 214,\n",
       "        216, 220, 224, 225, 226, 229, 232, 233, 235, 236, 244, 256, 259,\n",
       "        270, 271, 273, 279, 280, 283]),\n",
       " 352: array([241, 281]),\n",
       " 106: array([  8,  31,  41,  52,  54,  56,  61,  64,  68,  70,  71,  76,  79,\n",
       "         83,  84,  85,  90,  95, 145, 153, 172, 174, 184, 252, 323, 349,\n",
       "        369, 380]),\n",
       " 145: array([ 97, 102, 109, 115, 118]),\n",
       " 239: array([140, 141, 142, 144, 146, 147, 148, 149, 151, 152, 154, 156, 157,\n",
       "        158, 159, 160, 161, 163, 164, 165, 167, 169, 170, 171, 173, 175,\n",
       "        176, 177, 178, 180, 181, 182, 183, 186, 188, 189, 190]),\n",
       " 408: array([228]),\n",
       " 214: array([140, 141, 142, 144, 146, 147, 148, 149, 151, 152, 154, 156, 157,\n",
       "        159, 160, 161, 163, 164, 165, 167, 169, 170, 171, 173, 175, 176,\n",
       "        177, 178, 179, 180, 181, 182, 183, 186, 188, 189, 190]),\n",
       " 31: array([ 2,  5,  6,  9, 12, 13, 14, 15, 16, 17, 18, 20, 23, 24, 26, 38, 43]),\n",
       " 95: array([44])}"
      ]
     },
     "execution_count": 15,
     "metadata": {},
     "output_type": "execute_result"
    }
   ],
   "source": [
    "find_ld_sites(small_ts_filt,found_focal_vars,var2mut,mut2var)"
   ]
  },
  {
   "cell_type": "markdown",
   "metadata": {},
   "source": [
    "____"
   ]
  },
  {
   "cell_type": "markdown",
   "metadata": {},
   "source": [
    "## Simulated admixed individuals"
   ]
  },
  {
   "cell_type": "markdown",
   "metadata": {},
   "source": [
    "Possible tools for admixture simulations\n",
    "* [admix-simu (C++ and python)](https://github.com/williamslab/admix-simu)\n",
    "    - 4 years old\n",
    "* [bnpsd (R package)](https://cran.r-project.org/web/packages/bnpsd/vignettes/bnpsd.pdf)\n",
    "    - Came out this year\n",
    "* [admixture-simulation](https://github.com/slowkoni/admixture-simulation)\n",
    "    - 2 years old"
   ]
  },
  {
   "cell_type": "markdown",
   "metadata": {},
   "source": [
    "### a: European and African populations for mating"
   ]
  },
  {
   "cell_type": "markdown",
   "metadata": {},
   "source": [
    "- 5000 Africans and 5000 Europeans\n",
    "- Will have difficulty with files much larger because have to write data to vcf and takes up lots of storage"
   ]
  },
  {
   "cell_type": "markdown",
   "metadata": {},
   "source": [
    "### b: Europeans for training"
   ]
  },
  {
   "cell_type": "markdown",
   "metadata": {},
   "source": [
    "- 100000 Europeans simulated with out-of-africa model\n",
    "- In tree structure"
   ]
  },
  {
   "cell_type": "markdown",
   "metadata": {},
   "source": [
    "### c: African Americans"
   ]
  },
  {
   "cell_type": "markdown",
   "metadata": {},
   "source": [
    "- Have 4000 admixed individuals\n",
    "- In future may need larger ~10,000 for doing training\n",
    "- If I don't use large enough base population these people may be too related"
   ]
  },
  {
   "cell_type": "raw",
   "metadata": {},
   "source": [
    "N_CEU = 200000\n",
    "N_YRI = 5000\n",
    "rmap = msprime.RecombinationMap.read_hapmap(\"/Users/taylorcavazos/repos/other_tools/admixture-data/input/genetic_map_GRCh37_chr22.txt\")"
   ]
  },
  {
   "cell_type": "raw",
   "metadata": {},
   "source": [
    "simulate_out_of_afr(N_CEU, N_YRI, rmap, \"../data/trees/\")"
   ]
  },
  {
   "cell_type": "code",
   "execution_count": null,
   "metadata": {},
   "outputs": [],
   "source": [
    "#tree_all = msprime.load(\"../data/trees/tree_YRI_5e4_CEU_2e6_chr22.hdf5\")\n",
    "sample_map_all = pd.read_csv(\"../data/trees/CEU_YRI_sample_map.txt\",sep=\"\\t\",header=None)"
   ]
  },
  {
   "cell_type": "raw",
   "metadata": {},
   "source": [
    "EUR_all = sample_map_all[sample_map_all.iloc[:,1]==\"CEU\"]\n",
    "YRI_all = sample_map_all[sample_map_all.iloc[:,1]==\"YRI\"]"
   ]
  },
  {
   "cell_type": "raw",
   "metadata": {},
   "source": [
    "EUR_mate = EUR_all.loc[np.random.choice(EUR_all.index,size=5000,replace=False)]"
   ]
  },
  {
   "cell_type": "raw",
   "metadata": {},
   "source": [
    "ALL_mate = pd.concat([EUR_mate,YRI_all]).sort_values(by=2)"
   ]
  },
  {
   "cell_type": "raw",
   "metadata": {},
   "source": [
    "ALL_mate.to_csv(\"../data/trees/mate_subset_sample_map.txt\",sep=\"\\t\",header=False,index=False)"
   ]
  },
  {
   "cell_type": "raw",
   "metadata": {},
   "source": [
    "mate_samples = []\n",
    "for ind in ALL_mate.index:\n",
    "    mate_samples.append(ALL_mate.loc[ind,2])\n",
    "    mate_samples.append(ALL_mate.loc[ind,3])"
   ]
  },
  {
   "cell_type": "raw",
   "metadata": {},
   "source": [
    "tree_mate,map_ids = tree_all.simplify(samples=mate_samples,filter_sites=False,map_nodes=True)"
   ]
  },
  {
   "cell_type": "raw",
   "metadata": {},
   "source": [
    "tree_mate.dump(\"../data/trees/tree_mate_YRI_5e4_CEU_5e4.hdf\")"
   ]
  },
  {
   "cell_type": "raw",
   "metadata": {},
   "source": [
    "open(\"../data/trees/mate_sample_ids.txt\",\"w\").write(\"\\n\".join(np.array(mate_samples).astype(str)))"
   ]
  },
  {
   "cell_type": "raw",
   "metadata": {},
   "source": [
    "mate_samples = open(\"/Users/taylorcavazos/repos/Local_Ancestry_PRS/data/trees/mate_sample_ids.txt\").read().splitlines()"
   ]
  },
  {
   "cell_type": "raw",
   "metadata": {},
   "source": [
    "mate_samples"
   ]
  },
  {
   "cell_type": "code",
   "execution_count": null,
   "metadata": {},
   "outputs": [],
   "source": [
    "all_data = np.array(tree_all.samples())"
   ]
  },
  {
   "cell_type": "code",
   "execution_count": null,
   "metadata": {},
   "outputs": [],
   "source": [
    "other_samps = np.delete(all_data,mate_samples)"
   ]
  },
  {
   "cell_type": "code",
   "execution_count": null,
   "metadata": {},
   "outputs": [],
   "source": [
    "tree_other = tree_all.simplify(samples = other_samps, filter_sites=False)"
   ]
  },
  {
   "cell_type": "raw",
   "metadata": {},
   "source": [
    "tree_other.dump(\"../data/trees/tree_sub_CEU_1.95e5\")"
   ]
  },
  {
   "cell_type": "raw",
   "metadata": {},
   "source": [
    "with gzip.open(\"/Users/taylorcavazos/repos/other_tools/admixture-data/input/CEU_YRI_chr22_1e4.vcf.gz\", \"wt\") as f:\n",
    "    tree_mate.write_vcf(f,ploidy=2,contig_id=\"22\") "
   ]
  },
  {
   "cell_type": "raw",
   "metadata": {},
   "source": [
    "tree_mate = msprime.load(\"../data/trees/tree_mate_YRI_5e4_CEU_5e4.hdf\")"
   ]
  },
  {
   "cell_type": "raw",
   "metadata": {},
   "source": [
    "write_sample_map(tree_mate,\"/Users/taylorcavazos/repos/other_tools/admixture-data/input/\",\n",
    "                5000,5000)"
   ]
  },
  {
   "cell_type": "code",
   "execution_count": null,
   "metadata": {},
   "outputs": [],
   "source": [
    "tree = msprime.load(path_tree)"
   ]
  },
  {
   "cell_type": "code",
   "execution_count": null,
   "metadata": {},
   "outputs": [],
   "source": [
    "sample_map_all = pd.read_csv(\"/Users/taylorcavazos/repos/Local_Ancestry_PRS/data/trees/CEU_YRI_sample_map.txt\",sep=\"\\t\",header=None)"
   ]
  },
  {
   "cell_type": "code",
   "execution_count": null,
   "metadata": {},
   "outputs": [],
   "source": [
    "eur_only = sample_map_all[sample_map_all.iloc[:,1]==\"CEU\"].index"
   ]
  },
  {
   "cell_type": "code",
   "execution_count": null,
   "metadata": {},
   "outputs": [],
   "source": [
    "new_tree = tree.simplify(samples=eur_only,filter_sites=False)"
   ]
  },
  {
   "cell_type": "code",
   "execution_count": null,
   "metadata": {},
   "outputs": [],
   "source": [
    "import itertools"
   ]
  },
  {
   "cell_type": "code",
   "execution_count": null,
   "metadata": {},
   "outputs": [],
   "source": [
    "list(itertools.islice(new_tree.mutations(),10))"
   ]
  },
  {
   "cell_type": "code",
   "execution_count": null,
   "metadata": {},
   "outputs": [],
   "source": [
    "new_tree.mutations()"
   ]
  },
  {
   "cell_type": "code",
   "execution_count": null,
   "metadata": {},
   "outputs": [],
   "source": [
    "new_tree.num_sites"
   ]
  },
  {
   "cell_type": "code",
   "execution_count": null,
   "metadata": {},
   "outputs": [],
   "source": [
    "list(itertools.islice(new_tree.variants(),10))[0]"
   ]
  },
  {
   "cell_type": "code",
   "execution_count": null,
   "metadata": {},
   "outputs": [],
   "source": [
    "list(itertools.islice(new_tree.mutations(),10))"
   ]
  },
  {
   "cell_type": "code",
   "execution_count": null,
   "metadata": {},
   "outputs": [],
   "source": [
    "sum_stats = pd.read_csv(\"/Users/taylorcavazos/repos/Local_Ancestry_PRS/data/comm_maf_0.01_sum_stats_m_{}_h2_{}.txt\".format(m,h2),sep=\"\\t\",index_col=0)"
   ]
  },
  {
   "cell_type": "code",
   "execution_count": null,
   "metadata": {
    "scrolled": true
   },
   "outputs": [],
   "source": [
    "prs = sum_stats[sum_stats[\"p-value\"]<5e-8]"
   ]
  },
  {
   "cell_type": "code",
   "execution_count": null,
   "metadata": {},
   "outputs": [],
   "source": [
    "len(prs)"
   ]
  },
  {
   "cell_type": "code",
   "execution_count": null,
   "metadata": {},
   "outputs": [],
   "source": [
    "mut_sites = []\n",
    "for mut in new_tree.mutations():\n",
    "    mut_sites.append(mut.site)"
   ]
  },
  {
   "cell_type": "code",
   "execution_count": null,
   "metadata": {},
   "outputs": [],
   "source": [
    "new_prs = prs.loc[np.intersect1d(mut_sites,prs.index)].reset_index()"
   ]
  },
  {
   "cell_type": "code",
   "execution_count": null,
   "metadata": {
    "scrolled": true
   },
   "outputs": [],
   "source": [
    "new_prs.shape"
   ]
  },
  {
   "cell_type": "code",
   "execution_count": null,
   "metadata": {},
   "outputs": [],
   "source": [
    "sum_stats.loc[62,\"OR\"]"
   ]
  },
  {
   "cell_type": "code",
   "execution_count": null,
   "metadata": {},
   "outputs": [],
   "source": [
    "float(new_prs.loc[new_prs[\"var_id\"]==62,\"OR\"])"
   ]
  },
  {
   "cell_type": "code",
   "execution_count": null,
   "metadata": {},
   "outputs": [],
   "source": [
    "len(mut_sites)"
   ]
  },
  {
   "cell_type": "code",
   "execution_count": null,
   "metadata": {},
   "outputs": [],
   "source": [
    "tree.num_sites"
   ]
  },
  {
   "cell_type": "code",
   "execution_count": null,
   "metadata": {},
   "outputs": [],
   "source": [
    "tree.num_mutations"
   ]
  },
  {
   "cell_type": "markdown",
   "metadata": {},
   "source": [
    "## Get proportion of local ancestry"
   ]
  },
  {
   "cell_type": "code",
   "execution_count": null,
   "metadata": {},
   "outputs": [],
   "source": [
    "path_tree = \"/Users/taylorcavazos/repos/Local_Ancestry_PRS/data/trees/tree_sub_CEU_1.95e5.hdf\""
   ]
  },
  {
   "cell_type": "code",
   "execution_count": null,
   "metadata": {},
   "outputs": [],
   "source": [
    "n_sites = msprime.load(path_tree).num_sites"
   ]
  },
  {
   "cell_type": "code",
   "execution_count": null,
   "metadata": {},
   "outputs": [],
   "source": [
    "with open(\"/Users/taylorcavazos/repos/other_tools/admixture-data/output/admix_afr_amer.result\") as f:\n",
    "    pbar = tqdm.tqdm(total=n_sites+1)\n",
    "    ind = 0\n",
    "    clumped_prs_vars = np.array(open(\"/Users/taylorcavazos/repos/Local_Ancestry_PRS/data/prs_vars_p_5e-8_r2_0.2.txt\").read().splitlines()).astype(int)\n",
    "    for line in f:\n",
    "        line_spl = line.split(\"\\t\")\n",
    "        if ind == 0:\n",
    "            sample_haps = line_spl[2:]\n",
    "            samples = [sample_haps[i].split(\".\")[0] for i in range(0,len(sample_haps),2)]\n",
    "            anc_df = pd.DataFrame(columns=samples)\n",
    "            counts_CEU = np.zeros(len(samples))\n",
    "            counts_YRI = np.zeros(len(samples))\n",
    "        elif ind-1 in clumped_prs_vars:\n",
    "            haplo_anc = np.array(line_spl[2:]).astype(int)\n",
    "            YRI_arr = haplo_anc-1\n",
    "            CEU_arr = np.absolute(1-YRI_arr)\n",
    "            line_counts_CEU = np.add.reduceat(CEU_arr, np.arange(0, len(CEU_arr), 2))\n",
    "            #SNP=line_spl[0]+\"_\"+line_spl[1]            \n",
    "            anc_df.loc[ind-1,:] = line_counts_CEU\n",
    "            \n",
    "        ind+=1\n",
    "        pbar.update(1)\n",
    "    anc_df.to_csv(\"/Users/taylorcavazos/repos/Local_Ancestry_PRS/data/CEU_counts_prs_vars.txt\",sep=\"\\t\")"
   ]
  },
  {
   "cell_type": "code",
   "execution_count": null,
   "metadata": {},
   "outputs": [],
   "source": [
    "anc_df"
   ]
  },
  {
   "cell_type": "raw",
   "metadata": {
    "scrolled": true
   },
   "source": [
    "with open(\"/Users/taylorcavazos/repos/other_tools/admixture-data/output/admix_afr_amer.result\") as f:\n",
    "    pbar = tqdm.tqdm(total=n_sites+1)\n",
    "    ind = 0\n",
    "    for line in f:\n",
    "        if ind == 0:\n",
    "            sample_haps = line.split(\"\\t\")[2:]\n",
    "            samples = [sample_haps[i].split(\".\")[0] for i in range(0,len(sample_haps),2)]\n",
    "            anc_df = pd.DataFrame(index=samples,columns=[\"Prop_CEU\",\"Prop_YRI\"])\n",
    "            counts_CEU = np.zeros(len(samples))\n",
    "            counts_YRI = np.zeros(len(samples))\n",
    "        elif ind-1 in clumped_prs_vars:\n",
    "            haplo_anc = np.array(line.split(\"\\t\")[2:]).astype(int)\n",
    "            YRI_arr = haplo_anc-1\n",
    "            line_counts_YRI = np.add.reduceat(YRI_arr, np.arange(0, len(YRI_arr), 2))\n",
    "            \n",
    "            CEU_arr = np.absolute(1-YRI_arr)\n",
    "            line_counts_CEU = np.add.reduceat(CEU_arr, np.arange(0, len(CEU_arr), 2))\n",
    "            \n",
    "            counts_CEU = counts_CEU+line_counts_CEU\n",
    "            counts_YRI = counts_YRI+line_counts_YRI\n",
    "        ind+=1\n",
    "        pbar.update(1)\n",
    "    #anc_df[\"Prop_CEU\"] = counts_CEU/(2*(ind-1))\n",
    "    #anc_df[\"Prop_YRI\"] = counts_YRI/(2*(ind-1))\n",
    "    anc_df[\"Prop_CEU\"] = counts_CEU/(2*len(clumped_prs_vars))\n",
    "    anc_df[\"Prop_YRI\"] = counts_YRI/(2*len(clumped_prs_vars))\n",
    "    anc_df.to_csv(\"/Users/taylorcavazos/repos/other_tools/admixture-data/output/admix_afr_amer_PRS.prop.anc\",sep=\"\\t\")"
   ]
  },
  {
   "cell_type": "code",
   "execution_count": null,
   "metadata": {},
   "outputs": [],
   "source": [
    "prop_anc = pd.read_csv(\"/Users/taylorcavazos/repos/other_tools/admixture-data/output/admix_afr_amer_PRS.prop.anc\",\n",
    "           sep=\"\\t\",index_col=0)"
   ]
  },
  {
   "cell_type": "code",
   "execution_count": null,
   "metadata": {},
   "outputs": [],
   "source": [
    "plt.hist(prop_anc[\"Prop_CEU\"])\n",
    "plt.show()"
   ]
  },
  {
   "cell_type": "code",
   "execution_count": null,
   "metadata": {},
   "outputs": [],
   "source": [
    "prop_anc[prop_anc[\"Prop_CEU\"]<=0.2].shape"
   ]
  },
  {
   "cell_type": "code",
   "execution_count": null,
   "metadata": {},
   "outputs": [],
   "source": [
    "prop_anc[prop_anc[\"Prop_CEU\"]>=0.8].shape"
   ]
  },
  {
   "cell_type": "code",
   "execution_count": null,
   "metadata": {},
   "outputs": [],
   "source": [
    "prop_anc[(prop_anc[\"Prop_CEU\"]<0.8)&(prop_anc[\"Prop_CEU\"]>0.2)].shape"
   ]
  },
  {
   "cell_type": "markdown",
   "metadata": {},
   "source": [
    "## Calculate True PRSs for all individuals"
   ]
  },
  {
   "cell_type": "code",
   "execution_count": null,
   "metadata": {},
   "outputs": [],
   "source": [
    "import output_true_prs"
   ]
  },
  {
   "cell_type": "markdown",
   "metadata": {},
   "source": [
    "Assume same causal variants and effect sizes"
   ]
  },
  {
   "cell_type": "markdown",
   "metadata": {},
   "source": [
    "Average true PRS over a 100 iterations"
   ]
  },
  {
   "cell_type": "raw",
   "metadata": {},
   "source": [
    "output_true_prs.main(path_tree,m,h2,\"/Users/taylorcavazos/repos/Local_Ancestry_PRS/data/true_prs/prs_m_{}_h2_{}\".format(m,h2),iters=100,\n",
    "                     admix_vcf = \"/Users/taylorcavazos/repos/other_tools/admixture-data/output/admix_afr_amer.query.vcf\")"
   ]
  },
  {
   "cell_type": "code",
   "execution_count": null,
   "metadata": {},
   "outputs": [],
   "source": [
    "f = h5py.File('/Users/taylorcavazos/repos/Local_Ancestry_PRS/data/true_prs/prs_m_1000_h2_0.67.hdf5', 'r')"
   ]
  },
  {
   "cell_type": "code",
   "execution_count": null,
   "metadata": {},
   "outputs": [],
   "source": [
    "f.keys()"
   ]
  },
  {
   "cell_type": "code",
   "execution_count": null,
   "metadata": {},
   "outputs": [],
   "source": [
    "f['labels'][()]"
   ]
  },
  {
   "cell_type": "code",
   "execution_count": null,
   "metadata": {
    "scrolled": true
   },
   "outputs": [],
   "source": [
    "ceu_anc_prop = [1]*(f['G'].shape[0]-prop_anc.shape[0])+list(prop_anc[\"Prop_CEU\"])"
   ]
  },
  {
   "cell_type": "code",
   "execution_count": null,
   "metadata": {},
   "outputs": [],
   "source": [
    "len(ceu_anc_prop)"
   ]
  },
  {
   "cell_type": "code",
   "execution_count": null,
   "metadata": {},
   "outputs": [],
   "source": [
    "plt.scatter(x=f['G'][()],y=ceu_anc_prop)\n",
    "plt.xlabel(\"True Polygenic Risk Score\",fontsize=14)\n",
    "plt.ylabel(\"Proportion European Ancestry\",fontsize=14)\n",
    "plt.show()"
   ]
  },
  {
   "cell_type": "markdown",
   "metadata": {},
   "source": [
    "## Select Cases and Controls"
   ]
  },
  {
   "cell_type": "code",
   "execution_count": null,
   "metadata": {},
   "outputs": [],
   "source": [
    "sns.distplot(f['G'][()])\n",
    "plt.vlines(x=np.percentile(f['G'][()],95),ymin=0,ymax=0.5)\n",
    "plt.show()"
   ]
  },
  {
   "cell_type": "raw",
   "metadata": {},
   "source": [
    "G = f['G'][()]"
   ]
  },
  {
   "cell_type": "raw",
   "metadata": {},
   "source": [
    "np.random.seed(seed=42)\n",
    "e = np.random.normal(loc=0, scale=(1-h2), size=int(G.shape[0]))\n",
    "Ze = (e - np.mean(e))/np.std(e)\n",
    "E = np.sqrt(1-h2)*Ze"
   ]
  },
  {
   "cell_type": "code",
   "execution_count": null,
   "metadata": {},
   "outputs": [],
   "source": [
    "sns.distplot(G+E)\n",
    "plt.vlines(x=np.percentile(G+E,95),ymin=0,ymax=0.4)\n",
    "plt.show()"
   ]
  },
  {
   "cell_type": "raw",
   "metadata": {},
   "source": [
    "labels = f['labels'][()].astype(str)"
   ]
  },
  {
   "cell_type": "raw",
   "metadata": {},
   "source": [
    "labels_case = labels[np.where(G+E>np.percentile(G+E,95))[0]]\n",
    "labels_control = labels[np.where(G+E<=np.percentile(G+E,95))[0]]"
   ]
  },
  {
   "cell_type": "raw",
   "metadata": {},
   "source": []
  },
  {
   "cell_type": "raw",
   "metadata": {},
   "source": [
    "meta_data = prop_anc.reindex(labels)\n",
    "meta_data[\"Prop_CEU\"] = meta_data[\"Prop_CEU\"].fillna(value=1)\n",
    "meta_data[\"Prop_YRI\"] = meta_data[\"Prop_YRI\"].fillna(value=0)"
   ]
  },
  {
   "cell_type": "raw",
   "metadata": {},
   "source": [
    "meta_data.loc[labels_case,\"Disease\"]=1\n",
    "meta_data.loc[labels_control,\"Disease\"]=0"
   ]
  },
  {
   "cell_type": "raw",
   "metadata": {},
   "source": [
    "sns.boxplot(x=\"Disease\",y=\"Prop_CEU\",data=meta_data)\n",
    "plt.show()"
   ]
  },
  {
   "cell_type": "raw",
   "metadata": {},
   "source": [
    "meta_data[\"Disease\"] = meta_data.Disease.astype(int)\n",
    "meta_data[\"truePRS\"] = G\n",
    "meta_data[\"envNoise\"] = E"
   ]
  },
  {
   "cell_type": "raw",
   "metadata": {},
   "source": [
    "msp_inds = [ind for ind in meta_data.index if \"msp\" in ind]\n",
    "eur_only = meta_data.loc[msp_inds,:]"
   ]
  },
  {
   "cell_type": "raw",
   "metadata": {},
   "source": [
    "admix_only = meta_data.loc[prop_anc.index]"
   ]
  },
  {
   "cell_type": "raw",
   "metadata": {},
   "source": [
    "eur_test_case = np.random.choice(eur_only[eur_only[\"Disease\"]==1].index,size=300,replace=False)\n",
    "eur_test_control = np.random.choice(eur_only[eur_only[\"Disease\"]==0].index,size=3700,replace=False)"
   ]
  },
  {
   "cell_type": "raw",
   "metadata": {},
   "source": [
    "eur_train_case = np.random.choice(eur_only[eur_only[\"Disease\"]==1].drop(eur_test_case).index,size=9000,replace=False)\n",
    "eur_train_control = np.random.choice(eur_only[eur_only[\"Disease\"]==0].drop(eur_test_control).index,size=90000,replace=False)"
   ]
  },
  {
   "cell_type": "code",
   "execution_count": null,
   "metadata": {},
   "outputs": [],
   "source": [
    "sns.distplot(meta_data.loc[eur_train_case,\"truePRS\"],color=\"red\")\n",
    "sns.distplot(meta_data.loc[eur_train_control,\"truePRS\"],color=\"blue\")\n",
    "plt.show()"
   ]
  },
  {
   "cell_type": "code",
   "execution_count": null,
   "metadata": {},
   "outputs": [],
   "source": [
    "sns.distplot(meta_data.loc[eur_test_case,\"truePRS\"],color=\"red\")\n",
    "sns.distplot(meta_data.loc[eur_test_control,\"truePRS\"],color=\"blue\")\n",
    "plt.show()"
   ]
  },
  {
   "cell_type": "code",
   "execution_count": null,
   "metadata": {},
   "outputs": [],
   "source": [
    "sns.distplot(meta_data.loc[meta_data.Disease==1,\"truePRS\"],color=\"red\")\n",
    "sns.distplot(meta_data.loc[meta_data.Disease==0,\"truePRS\"],color=\"blue\")\n",
    "plt.show()"
   ]
  },
  {
   "cell_type": "raw",
   "metadata": {},
   "source": [
    "meta_data.to_csv(\"/Users/taylorcavazos/repos/Local_Ancestry_PRS/data/sim_data_meta_m_{}_h2_{}.txt\".format(m,h2),sep=\"\\t\")"
   ]
  },
  {
   "cell_type": "raw",
   "metadata": {},
   "source": [
    "train_cases = np.array([item.split(\"_\")[1] for item in eur_train_case]).astype(int)\n",
    "train_controls = np.array([item.split(\"_\")[1] for item in eur_train_control]).astype(int)\n",
    "test_cases = np.array([item.split(\"_\")[1] for item in eur_test_case]).astype(int)\n",
    "test_controls = np.array([item.split(\"_\")[1] for item in eur_test_control]).astype(int)"
   ]
  },
  {
   "cell_type": "raw",
   "metadata": {},
   "source": [
    "with h5py.File('/Users/taylorcavazos/repos/Local_Ancestry_PRS/data/train_test_CEU_m_{}_h2_{}.hdf5'.format(m,h2), 'w') as f:\n",
    "    f.create_dataset(\"train_cases\",train_cases.shape,dtype=int,data=train_cases)\n",
    "    f.create_dataset(\"train_controls\",train_controls.shape,dtype=int,data=train_controls)\n",
    "    f.create_dataset(\"test_cases\",test_cases.shape,dtype=int,data=test_cases)\n",
    "    f.create_dataset(\"test_controls\",test_controls.shape,dtype=int,data=test_controls)"
   ]
  },
  {
   "cell_type": "markdown",
   "metadata": {},
   "source": [
    "## Perform GWAS with training European samples"
   ]
  },
  {
   "cell_type": "markdown",
   "metadata": {},
   "source": [
    "#### Calculate MAF EUR"
   ]
  },
  {
   "cell_type": "code",
   "execution_count": null,
   "metadata": {},
   "outputs": [],
   "source": [
    "tree = msprime.load(path_tree)\n",
    "n_sites = tree.num_sites"
   ]
  },
  {
   "cell_type": "raw",
   "metadata": {},
   "source": [
    "maf = []\n",
    "pbar = tqdm.tqdm(total=tree.num_sites)\n",
    "for variant in tree.variants():\n",
    "    genos_diploid = return_diploid_genos(variant.genotypes,tree)\n",
    "    freq = np.sum(genos_diploid,axis=1)/(2*genos_diploid.shape[1])\n",
    "    if freq < 0.5: maf.append(freq)\n",
    "    else: maf.append(1-freq)\n",
    "    pbar.update(1)"
   ]
  },
  {
   "cell_type": "raw",
   "metadata": {},
   "source": [
    "np.savetxt(\"/Users/taylorcavazos/repos/Local_Ancestry_PRS/data/maf.txt\",maf)"
   ]
  },
  {
   "cell_type": "markdown",
   "metadata": {},
   "source": [
    "#### Perform GWAS"
   ]
  },
  {
   "cell_type": "raw",
   "metadata": {},
   "source": [
    "python run_compute_sum_stats.py > sum.stats.log.txt"
   ]
  },
  {
   "cell_type": "code",
   "execution_count": null,
   "metadata": {},
   "outputs": [],
   "source": [
    "from statsmodels.stats import multitest"
   ]
  },
  {
   "cell_type": "raw",
   "metadata": {},
   "source": [
    "sum_stats = pd.read_csv(\"/Users/taylorcavazos/repos/Local_Ancestry_PRS/data/comm_maf_0.01_sum_stats_m_{}_h2_{}.txt\".format(m,h2),sep=\"\\t\",index_col=0)\n",
    "_,cor_p,_,_ = multitest.multipletests(sum_stats.loc[:,\"p-value\"], method=\"fdr_bh\")\n",
    "sum_stats[\"fdr\"]=cor_p\n",
    "sum_stats.to_csv(\"/Users/taylorcavazos/repos/Local_Ancestry_PRS/data/comm_maf_0.01_sum_stats_m_{}_h2_{}_fdr.txt\".format(m,h2),sep=\"\\t\")"
   ]
  },
  {
   "cell_type": "markdown",
   "metadata": {},
   "source": [
    "## Calculate Expected PRS for everyone"
   ]
  },
  {
   "cell_type": "code",
   "execution_count": null,
   "metadata": {},
   "outputs": [],
   "source": [
    "from output_emp_prs import *"
   ]
  },
  {
   "cell_type": "code",
   "execution_count": null,
   "metadata": {},
   "outputs": [],
   "source": [
    "tree = msprime.load(path_tree)\n",
    "n_sites = tree.num_sites"
   ]
  },
  {
   "cell_type": "code",
   "execution_count": null,
   "metadata": {},
   "outputs": [],
   "source": [
    "bonf_p = 0.05/n_sites"
   ]
  },
  {
   "cell_type": "code",
   "execution_count": null,
   "metadata": {},
   "outputs": [],
   "source": [
    "bonf_p"
   ]
  },
  {
   "cell_type": "code",
   "execution_count": null,
   "metadata": {},
   "outputs": [],
   "source": [
    "sum_stats = pd.read_csv(\"/Users/taylorcavazos/repos/Local_Ancestry_PRS/data/comm_maf_0.01_sum_stats_m_{}_h2_{}_fdr.txt\".format(m,h2),sep=\"\\t\",index_col=0)"
   ]
  },
  {
   "cell_type": "code",
   "execution_count": null,
   "metadata": {},
   "outputs": [],
   "source": [
    "prs_vars = sum_stats[sum_stats[\"p-value\"] < bonf_p].sort_values(by=[\"p-value\"])"
   ]
  },
  {
   "cell_type": "code",
   "execution_count": null,
   "metadata": {},
   "outputs": [],
   "source": [
    "prs_vars.shape"
   ]
  },
  {
   "cell_type": "markdown",
   "metadata": {},
   "source": [
    "prs_vars.head(1000).tail(1)"
   ]
  },
  {
   "cell_type": "markdown",
   "metadata": {},
   "source": [
    "ld_struct = find_ld_sites(tree, [229402],r2_threshold=0.2,num_threads=1)"
   ]
  },
  {
   "cell_type": "code",
   "execution_count": null,
   "metadata": {},
   "outputs": [],
   "source": [
    "f = h5py.File('/Users/taylorcavazos/repos/Local_Ancestry_PRS/data/emp_prs/emp_prs_m_1000_h2_0.67_LD_ALL.hdf5', 'r')"
   ]
  },
  {
   "cell_type": "code",
   "execution_count": null,
   "metadata": {},
   "outputs": [],
   "source": [
    "f.keys()"
   ]
  },
  {
   "cell_type": "code",
   "execution_count": null,
   "metadata": {},
   "outputs": [],
   "source": [
    "f['labels'][()]"
   ]
  },
  {
   "cell_type": "code",
   "execution_count": null,
   "metadata": {},
   "outputs": [],
   "source": [
    "emp = f['X'][()]\n",
    "emp_Z = (emp - np.mean(emp))/np.std(emp)"
   ]
  },
  {
   "cell_type": "code",
   "execution_count": null,
   "metadata": {},
   "outputs": [],
   "source": [
    "f_LA = h5py.File('/Users/taylorcavazos/repos/Local_Ancestry_PRS/data/emp_prs/emp_prs_m_1000_h2_0.67_LD_ADMIX_UNWEIGHT.hdf5', 'r')\n",
    "emp_LA = f_LA['X'][()]\n",
    "emp_Z_LA = (emp_LA - np.mean(emp_LA))/np.std(emp_LA)\n",
    "LA_only_labels = f_LA['labels'][()].astype(str)"
   ]
  },
  {
   "cell_type": "code",
   "execution_count": null,
   "metadata": {},
   "outputs": [],
   "source": [
    "t = h5py.File('/Users/taylorcavazos/repos/Local_Ancestry_PRS/data/true_prs/prs_m_1000_h2_0.67.hdf5', 'r')"
   ]
  },
  {
   "cell_type": "code",
   "execution_count": null,
   "metadata": {},
   "outputs": [],
   "source": [
    "true = t['Zx'][()]"
   ]
  },
  {
   "cell_type": "code",
   "execution_count": null,
   "metadata": {},
   "outputs": [],
   "source": [
    "t['labels'][()]"
   ]
  },
  {
   "cell_type": "code",
   "execution_count": null,
   "metadata": {},
   "outputs": [],
   "source": [
    "emp.shape"
   ]
  },
  {
   "cell_type": "code",
   "execution_count": null,
   "metadata": {},
   "outputs": [],
   "source": [
    "true.shape"
   ]
  },
  {
   "cell_type": "code",
   "execution_count": null,
   "metadata": {},
   "outputs": [],
   "source": [
    "plt.scatter(true,emp_Z)\n",
    "plt.show()"
   ]
  },
  {
   "cell_type": "code",
   "execution_count": null,
   "metadata": {},
   "outputs": [],
   "source": [
    "train_test = h5py.File(\"/Users/taylorcavazos/repos/Local_Ancestry_PRS/data/train_test_CEU_m_1000_h2_0.67.hdf5\")"
   ]
  },
  {
   "cell_type": "code",
   "execution_count": null,
   "metadata": {},
   "outputs": [],
   "source": [
    "train_test.keys()"
   ]
  },
  {
   "cell_type": "code",
   "execution_count": null,
   "metadata": {},
   "outputs": [],
   "source": [
    "training = np.append(train_test[\"train_controls\"][()],train_test[\"train_cases\"][()])\n",
    "testing = np.append(train_test[\"test_controls\"][()],train_test[\"test_cases\"][()])"
   ]
  },
  {
   "cell_type": "code",
   "execution_count": null,
   "metadata": {},
   "outputs": [],
   "source": [
    "len(train_test[\"train_controls\"][()])"
   ]
  },
  {
   "cell_type": "code",
   "execution_count": null,
   "metadata": {},
   "outputs": [],
   "source": [
    "len(train_test[\"train_cases\"][()])"
   ]
  },
  {
   "cell_type": "code",
   "execution_count": null,
   "metadata": {},
   "outputs": [],
   "source": [
    "training_msp = [\"msp_\"+str(train) for train in training]\n",
    "testing_msp = [\"msp_\"+str(test) for test in testing]"
   ]
  },
  {
   "cell_type": "code",
   "execution_count": null,
   "metadata": {},
   "outputs": [],
   "source": [
    "labels = t['labels'][()].astype(str)"
   ]
  },
  {
   "cell_type": "code",
   "execution_count": null,
   "metadata": {},
   "outputs": [],
   "source": [
    "label_inds = pd.DataFrame(np.arange(0,len(labels)),index = labels)\n",
    "LA_label_inds = pd.DataFrame(np.arange(0,len(LA_only_labels)),index = LA_only_labels)"
   ]
  },
  {
   "cell_type": "code",
   "execution_count": null,
   "metadata": {},
   "outputs": [],
   "source": [
    "train_inds = label_inds.loc[training_msp,0].values\n",
    "test_inds = label_inds.loc[testing_msp,0].values"
   ]
  },
  {
   "cell_type": "code",
   "execution_count": null,
   "metadata": {
    "scrolled": true
   },
   "outputs": [],
   "source": [
    "admix = label_inds.loc[prop_anc.index,0].values\n",
    "LA_admix = LA_label_inds.loc[prop_anc.index,0].values"
   ]
  },
  {
   "cell_type": "code",
   "execution_count": null,
   "metadata": {},
   "outputs": [],
   "source": [
    "low_admix = label_inds.loc[prop_anc[prop_anc[\"Prop_CEU\"]>0.8].index,0].values\n",
    "mid1 = label_inds.loc[prop_anc[(prop_anc[\"Prop_CEU\"]>0.2)&(prop_anc[\"Prop_CEU\"]<=0.4)].index,0].values\n",
    "mid2 = label_inds.loc[prop_anc[(prop_anc[\"Prop_CEU\"]>0.4)&(prop_anc[\"Prop_CEU\"]<=0.6)].index,0].values\n",
    "mid3 = label_inds.loc[prop_anc[(prop_anc[\"Prop_CEU\"]>0.6)&(prop_anc[\"Prop_CEU\"]<=0.8)].index,0].values\n",
    "high_admix = label_inds.loc[prop_anc[prop_anc[\"Prop_CEU\"]<=0.2].index,0].values"
   ]
  },
  {
   "cell_type": "code",
   "execution_count": null,
   "metadata": {},
   "outputs": [],
   "source": [
    "LA_low_admix = LA_label_inds.loc[prop_anc[prop_anc[\"Prop_CEU\"]>0.8].index,0].values\n",
    "LA_mid1 = LA_label_inds.loc[prop_anc[(prop_anc[\"Prop_CEU\"]>0.2)&(prop_anc[\"Prop_CEU\"]<=0.4)].index,0].values\n",
    "LA_mid2 = LA_label_inds.loc[prop_anc[(prop_anc[\"Prop_CEU\"]>0.4)&(prop_anc[\"Prop_CEU\"]<=0.6)].index,0].values\n",
    "LA_mid3 = LA_label_inds.loc[prop_anc[(prop_anc[\"Prop_CEU\"]>0.6)&(prop_anc[\"Prop_CEU\"]<=0.8)].index,0].values\n",
    "LA_high_admix = LA_label_inds.loc[prop_anc[prop_anc[\"Prop_CEU\"]<=0.2].index,0].values"
   ]
  },
  {
   "cell_type": "code",
   "execution_count": null,
   "metadata": {},
   "outputs": [],
   "source": [
    "plt.scatter(true[test_inds],emp_Z[test_inds],s=10,color=\"gray\")\n",
    "plt.scatter(true[low_admix],emp_Z[low_admix],color=\"red\",s=10)\n",
    "#plt.scatter(true[low_admix],emp_Z_LA[LA_low_admix],color=\"blue\",s=10)\n",
    "plt.scatter(true[high_admix],emp_Z[high_admix],color=\"blue\",s=10)\n",
    "#plt.scatter(true[high_admix],emp_Z_LA[LA_high_admix],color=\"blue\",s=10)\n",
    "#plt.scatter(true[mid_admix],emp_Z[mid_admix],color=\"orange\",s=10)\n",
    "\n",
    "plt.show()"
   ]
  },
  {
   "cell_type": "code",
   "execution_count": null,
   "metadata": {
    "scrolled": false
   },
   "outputs": [],
   "source": [
    "stats.pearsonr(true[test_inds],emp_Z[test_inds])"
   ]
  },
  {
   "cell_type": "markdown",
   "metadata": {},
   "source": [
    "CEU > 0.8"
   ]
  },
  {
   "cell_type": "code",
   "execution_count": null,
   "metadata": {},
   "outputs": [],
   "source": [
    "len(low_admix)"
   ]
  },
  {
   "cell_type": "code",
   "execution_count": null,
   "metadata": {
    "scrolled": true
   },
   "outputs": [],
   "source": [
    "stats.pearsonr(true[low_admix],emp_Z[low_admix])"
   ]
  },
  {
   "cell_type": "code",
   "execution_count": null,
   "metadata": {},
   "outputs": [],
   "source": [
    "stats.pearsonr(true[low_admix],emp_Z_LA[LA_low_admix])"
   ]
  },
  {
   "cell_type": "markdown",
   "metadata": {},
   "source": [
    "CEU <= 0.2"
   ]
  },
  {
   "cell_type": "code",
   "execution_count": null,
   "metadata": {},
   "outputs": [],
   "source": [
    "len(high_admix)\n"
   ]
  },
  {
   "cell_type": "code",
   "execution_count": null,
   "metadata": {},
   "outputs": [],
   "source": [
    "stats.pearsonr(true[high_admix],emp_Z[high_admix])"
   ]
  },
  {
   "cell_type": "code",
   "execution_count": null,
   "metadata": {},
   "outputs": [],
   "source": [
    "stats.pearsonr(true[high_admix],emp_Z_LA[LA_high_admix])"
   ]
  },
  {
   "cell_type": "markdown",
   "metadata": {},
   "source": [
    "0.2 < CEU <= 0.4"
   ]
  },
  {
   "cell_type": "code",
   "execution_count": null,
   "metadata": {
    "scrolled": true
   },
   "outputs": [],
   "source": [
    "stats.pearsonr(true[mid1],emp_Z[mid1])"
   ]
  },
  {
   "cell_type": "markdown",
   "metadata": {},
   "source": [
    "0.4 < CEU <= 0.6"
   ]
  },
  {
   "cell_type": "code",
   "execution_count": null,
   "metadata": {},
   "outputs": [],
   "source": [
    "stats.pearsonr(true[mid2],emp_Z[mid2])"
   ]
  },
  {
   "cell_type": "markdown",
   "metadata": {},
   "source": [
    "0.6 < CEU <= 0.8"
   ]
  },
  {
   "cell_type": "code",
   "execution_count": null,
   "metadata": {},
   "outputs": [],
   "source": [
    "stats.pearsonr(true[mid3],emp_Z[mid3])"
   ]
  },
  {
   "cell_type": "code",
   "execution_count": null,
   "metadata": {},
   "outputs": [],
   "source": [
    "low_admix = label_inds.loc[prop_anc[prop_anc[\"Prop_CEU\"]<0.2].index,0].values"
   ]
  },
  {
   "cell_type": "code",
   "execution_count": null,
   "metadata": {},
   "outputs": [],
   "source": [
    "admix = label_inds.loc[prop_anc.index,0].values"
   ]
  },
  {
   "cell_type": "markdown",
   "metadata": {},
   "source": [
    "### a: Using European GWAS"
   ]
  },
  {
   "cell_type": "code",
   "execution_count": null,
   "metadata": {},
   "outputs": [],
   "source": []
  },
  {
   "cell_type": "markdown",
   "metadata": {},
   "source": [
    "### b: Using Local-Ancestry Specific Approach (relies on significant SNPs from European GWAS)"
   ]
  },
  {
   "cell_type": "code",
   "execution_count": null,
   "metadata": {},
   "outputs": [],
   "source": []
  },
  {
   "cell_type": "markdown",
   "metadata": {},
   "source": [
    "## Calculate AUCs and compare between approaches"
   ]
  },
  {
   "cell_type": "code",
   "execution_count": null,
   "metadata": {},
   "outputs": [],
   "source": [
    "clumped_prs_vars = np.array(open(\"/Users/taylorcavazos/repos/Local_Ancestry_PRS/data/prs_vars_p_5e-8_r2_0.2.txt\").read().splitlines()).astype(int)"
   ]
  },
  {
   "cell_type": "code",
   "execution_count": null,
   "metadata": {},
   "outputs": [],
   "source": [
    "sum_stats = pd.read_csv(\"/Users/taylorcavazos/repos/Local_Ancestry_PRS/data/comm_maf_0.01_sum_stats_m_{}_h2_{}.txt\".format(m,h2),sep=\"\\t\",index_col=0)"
   ]
  },
  {
   "cell_type": "code",
   "execution_count": null,
   "metadata": {
    "scrolled": true
   },
   "outputs": [],
   "source": [
    "prs_vars = sum_stats.loc[clumped_prs_vars,:]"
   ]
  },
  {
   "cell_type": "code",
   "execution_count": null,
   "metadata": {},
   "outputs": [],
   "source": [
    "sum_stats.loc[1488,:]"
   ]
  },
  {
   "cell_type": "code",
   "execution_count": null,
   "metadata": {
    "scrolled": true
   },
   "outputs": [],
   "source": [
    "set(causal_stats.index).intersection(set(prs_vars.index))"
   ]
  },
  {
   "cell_type": "code",
   "execution_count": null,
   "metadata": {
    "scrolled": true
   },
   "outputs": [],
   "source": [
    "causal_stats = sum_stats.reindex(causal_inds).dropna(how=\"all\")\n",
    "causal_stats[causal_stats[\"p-value\"]<5e-8]"
   ]
  },
  {
   "cell_type": "code",
   "execution_count": null,
   "metadata": {
    "scrolled": true
   },
   "outputs": [],
   "source": [
    "prs_vars.sort_index()"
   ]
  },
  {
   "cell_type": "code",
   "execution_count": null,
   "metadata": {},
   "outputs": [],
   "source": [
    "vcf_file = \"/Users/taylorcavazos/repos/other_tools/admixture-data/output/admix_afr_amer.query.vcf\""
   ]
  },
  {
   "cell_type": "code",
   "execution_count": null,
   "metadata": {},
   "outputs": [],
   "source": [
    "afs = []\n",
    "with open(vcf_file) as f:\n",
    "    ind=0\n",
    "    for line in f:\n",
    "        if line[0] != \"#\":\n",
    "            if ind in clumped_prs_vars:\n",
    "                data = line.split(\"\\t\")[9:]\n",
    "                genotype = np.array([np.array(hap.split(\"|\")).astype(int).sum() for hap in data])\n",
    "                af = genotype.sum()/(2*4000)\n",
    "                afs.append(af)\n",
    "            ind+=1"
   ]
  },
  {
   "cell_type": "code",
   "execution_count": null,
   "metadata": {},
   "outputs": [],
   "source": [
    "(np.array(afs)<0.01).sum()"
   ]
  },
  {
   "cell_type": "code",
   "execution_count": null,
   "metadata": {},
   "outputs": [],
   "source": []
  },
  {
   "cell_type": "code",
   "execution_count": null,
   "metadata": {},
   "outputs": [],
   "source": [
    "0.615194/0.244875"
   ]
  },
  {
   "cell_type": "code",
   "execution_count": null,
   "metadata": {},
   "outputs": [],
   "source": [
    "np.log(0.567920)/0.000625"
   ]
  },
  {
   "cell_type": "code",
   "execution_count": null,
   "metadata": {},
   "outputs": [],
   "source": [
    "np.log(0.567920)"
   ]
  },
  {
   "cell_type": "code",
   "execution_count": null,
   "metadata": {},
   "outputs": [],
   "source": [
    "causal_inds = np.linspace(0, n_sites, m, dtype=int,endpoint=False)"
   ]
  },
  {
   "cell_type": "code",
   "execution_count": null,
   "metadata": {},
   "outputs": [],
   "source": [
    "causal_inds"
   ]
  },
  {
   "cell_type": "code",
   "execution_count": null,
   "metadata": {},
   "outputs": [],
   "source": []
  }
 ],
 "metadata": {
  "kernelspec": {
   "display_name": "Python 3",
   "language": "python",
   "name": "python3"
  },
  "language_info": {
   "codemirror_mode": {
    "name": "ipython",
    "version": 3
   },
   "file_extension": ".py",
   "mimetype": "text/x-python",
   "name": "python",
   "nbconvert_exporter": "python",
   "pygments_lexer": "ipython3",
   "version": "3.7.3"
  }
 },
 "nbformat": 4,
 "nbformat_minor": 2
}
