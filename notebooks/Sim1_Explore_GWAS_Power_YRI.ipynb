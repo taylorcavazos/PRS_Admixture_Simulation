{
 "cells": [
  {
   "cell_type": "code",
   "execution_count": 7,
   "metadata": {},
   "outputs": [],
   "source": [
    "import h5py\n",
    "import matplotlib.pyplot as plt\n",
    "import numpy as np"
   ]
  },
  {
   "cell_type": "code",
   "execution_count": 8,
   "metadata": {},
   "outputs": [],
   "source": [
    "# These functions are used to simulate homeogeneous European and African\n",
    "# samples based on Gutenkunst et als. out of africa model using msprime\n",
    "\n",
    "import msprime\n",
    "import math\n",
    "import pandas as pd\n",
    "import numpy as np\n",
    "\n",
    "def out_of_africa(N_CEU, N_YRI, rmap, N_CHB=0, chrom=22):\n",
    "        \"\"\"\n",
    "        This function is copied from the msprime documentation. It is used to\n",
    "        simulate African, European, and Asian individuals based on the Out of\n",
    "        Africa model developed by Gutenkunst et al. from the HapMap data\n",
    "\n",
    "        Parameters\n",
    "        ----------\n",
    "        N_CEU : int\n",
    "                Number of samples of European ancestry\n",
    "        N_YRI : int\n",
    "                Number of samples of African ancestry\n",
    "        rmap : msprime.simulations.RecombinationMap\n",
    "                Recombination map for a reference chromosome\n",
    "        N_CHB : int, optional\n",
    "                Number of samples of Asian ancestry\n",
    "        chrom : str, optional\n",
    "                Chromosome number of rmap file\n",
    "\n",
    "        Returns\n",
    "        -------\n",
    "        tskit.trees.TreeSequence\n",
    "                Tree object from which sample haplotypes can be\n",
    "                accessed\n",
    "        \"\"\"\n",
    "    # First we set out the maximum likelihood values of the various parameters\n",
    "    # given in Table 1.\n",
    "        N_A = 7300\n",
    "        N_B = 2100\n",
    "        N_AF = 12300\n",
    "        N_EU0 = 1000\n",
    "        N_AS0 = 510\n",
    "        # Times are provided in years, so we convert into generations.\n",
    "        generation_time = 25\n",
    "        T_AF = 220e3 / generation_time\n",
    "        T_B = 140e3 / generation_time\n",
    "        T_EU_AS = 21.2e3 / generation_time\n",
    "        # We need to work out the starting (diploid) population sizes based on\n",
    "        # the growth rates provided for these two populations\n",
    "        r_EU = 0.004\n",
    "        r_AS = 0.0055\n",
    "        N_EU = N_EU0 / math.exp(-r_EU * T_EU_AS)\n",
    "        N_AS = N_AS0 / math.exp(-r_AS * T_EU_AS)\n",
    "        # Migration rates during the various epochs.\n",
    "        m_AF_B = 25e-5\n",
    "        m_AF_EU = 3e-5\n",
    "        m_AF_AS = 1.9e-5\n",
    "        m_EU_AS = 9.6e-5\n",
    "        # Population IDs correspond to their indexes in the population\n",
    "        # configuration array. Therefore, we have 0=YRI, 1=CEU and 2=CHB\n",
    "        # initially.\n",
    "        population_configurations = [\n",
    "            msprime.PopulationConfiguration(\n",
    "                sample_size=(2*N_YRI), initial_size=N_AF),\n",
    "            msprime.PopulationConfiguration(\n",
    "                sample_size=(2*N_CEU), initial_size=N_EU, growth_rate=r_EU),\n",
    "            msprime.PopulationConfiguration(\n",
    "                sample_size=N_CHB, initial_size=N_AS, growth_rate=r_AS)\n",
    "        ]\n",
    "        migration_matrix = [\n",
    "            [      0, m_AF_EU, m_AF_AS],\n",
    "            [m_AF_EU,       0, m_EU_AS],\n",
    "            [m_AF_AS, m_EU_AS,       0],\n",
    "        ]\n",
    "        demographic_events = [\n",
    "            # CEU and CHB merge into B with rate changes at T_EU_AS\n",
    "            msprime.MassMigration(\n",
    "                time=T_EU_AS, source=2, destination=1, proportion=1.0),\n",
    "            msprime.MigrationRateChange(time=T_EU_AS, rate=0),\n",
    "            msprime.MigrationRateChange(\n",
    "                time=T_EU_AS, rate=m_AF_B, matrix_index=(0, 1)),\n",
    "            msprime.MigrationRateChange(\n",
    "                time=T_EU_AS, rate=m_AF_B, matrix_index=(1, 0)),\n",
    "            msprime.PopulationParametersChange(\n",
    "                time=T_EU_AS, initial_size=N_B, growth_rate=0, population_id=1),\n",
    "            # Population B merges into YRI at T_B\n",
    "            msprime.MassMigration(\n",
    "                time=T_B, source=1, destination=0, proportion=1.0),\n",
    "            # Size changes to N_A at T_AF\n",
    "            msprime.PopulationParametersChange(\n",
    "                time=T_AF, initial_size=N_A, population_id=0)\n",
    "        ]\n",
    "        tree = msprime.simulate(mutation_rate=2e-8,\n",
    "                                recombination_map=rmap,\n",
    "                                population_configurations=population_configurations,\n",
    "                                migration_matrix=migration_matrix,\n",
    "                                demographic_events=demographic_events,\n",
    "                                model=\"dtwf\")\n",
    "        return tree"
   ]
  },
  {
   "cell_type": "code",
   "execution_count": 11,
   "metadata": {},
   "outputs": [],
   "source": [
    "rmap = msprime.RecombinationMap.read_hapmap(\"../data/genetic_map_GRCh37_chr22.txt\")"
   ]
  },
  {
   "cell_type": "code",
   "execution_count": null,
   "metadata": {},
   "outputs": [],
   "source": [
    "out_of_africa(10, 10,rmap)"
   ]
  },
  {
   "cell_type": "code",
   "execution_count": 24,
   "metadata": {},
   "outputs": [],
   "source": [
    "train_test_eur = h5py.File(\"../results/sim1/train_test_m_500_h2_0.67_EXTRA_new_rand_env.hdf5\",\"r\")"
   ]
  },
  {
   "cell_type": "code",
   "execution_count": 25,
   "metadata": {},
   "outputs": [
    {
     "data": {
      "text/plain": [
       "['liability_thresh']"
      ]
     },
     "execution_count": 25,
     "metadata": {},
     "output_type": "execute_result"
    }
   ],
   "source": [
    "list(train_test_eur.attrs)"
   ]
  },
  {
   "cell_type": "code",
   "execution_count": 26,
   "metadata": {},
   "outputs": [
    {
     "data": {
      "text/plain": [
       "KeysView(<HDF5 file \"train_test_m_500_h2_0.67_EXTRA_new_rand_env.hdf5\" (mode r)>)"
      ]
     },
     "execution_count": 26,
     "metadata": {},
     "output_type": "execute_result"
    }
   ],
   "source": [
    "train_test_eur.keys()"
   ]
  },
  {
   "cell_type": "code",
   "execution_count": 27,
   "metadata": {},
   "outputs": [],
   "source": [
    "yri_true_prs = h5py.File(\"../results/sim1/yri_prs_m_500_h2_0.67.hdf5\",\"r\")"
   ]
  },
  {
   "cell_type": "code",
   "execution_count": 28,
   "metadata": {},
   "outputs": [
    {
     "data": {
      "text/plain": [
       "KeysView(<HDF5 file \"yri_prs_m_500_h2_0.67.hdf5\" (mode r)>)"
      ]
     },
     "execution_count": 28,
     "metadata": {},
     "output_type": "execute_result"
    }
   ],
   "source": [
    "yri_true_prs.keys()"
   ]
  },
  {
   "cell_type": "code",
   "execution_count": 29,
   "metadata": {},
   "outputs": [],
   "source": [
    "import seaborn as sns"
   ]
  },
  {
   "cell_type": "code",
   "execution_count": 31,
   "metadata": {},
   "outputs": [
    {
     "data": {
      "image/png": "[encoded data removed]",
      "text/plain": [
       "<Figure size 432x288 with 1 Axes>"
      ]
     },
     "metadata": {
      "needs_background": "light"
     },
     "output_type": "display_data"
    }
   ],
   "source": [
    "sns.distplot(yri_true_prs[\"G\"][()][:2000])\n",
    "plt.vlines(train_test.attrs[\"liability_thresh\"],0,0.5)\n",
    "\n",
    "plt.show()"
   ]
  },
  {
   "cell_type": "code",
   "execution_count": 35,
   "metadata": {},
   "outputs": [],
   "source": [
    "G = yri_true_prs[\"G\"][()][:2000]\n"
   ]
  },
  {
   "cell_type": "code",
   "execution_count": 37,
   "metadata": {},
   "outputs": [],
   "source": [
    "e = np.random.normal(loc=0, scale=(1-0.67), size=int(G.shape[0]))\n",
    "Ze = (e - np.mean(e))/np.std(e)\n",
    "E = np.sqrt(1-0.67)*Ze"
   ]
  },
  {
   "cell_type": "code",
   "execution_count": 39,
   "metadata": {},
   "outputs": [
    {
     "data": {
      "image/png": "[encoded data removed]",
      "text/plain": [
       "<Figure size 432x288 with 1 Axes>"
      ]
     },
     "metadata": {
      "needs_background": "light"
     },
     "output_type": "display_data"
    }
   ],
   "source": [
    "sns.distplot(G+E)\n",
    "plt.vlines(train_test.attrs[\"liability_thresh\"],0,0.5)\n",
    "plt.show()"
   ]
  },
  {
   "cell_type": "code",
   "execution_count": 41,
   "metadata": {},
   "outputs": [
    {
     "data": {
      "text/plain": [
       "100.0"
      ]
     },
     "execution_count": 41,
     "metadata": {},
     "output_type": "execute_result"
    }
   ],
   "source": [
    "0.05*2000"
   ]
  },
  {
   "cell_type": "code",
   "execution_count": 44,
   "metadata": {},
   "outputs": [
    {
     "data": {
      "text/plain": [
       "47"
      ]
     },
     "execution_count": 44,
     "metadata": {},
     "output_type": "execute_result"
    }
   ],
   "source": [
    "len((G+E)[(G+E) > train_test.attrs[\"liability_thresh\"]])"
   ]
  },
  {
   "cell_type": "code",
   "execution_count": null,
   "metadata": {},
   "outputs": [],
   "source": []
  }
 ],
 "metadata": {
  "kernelspec": {
   "display_name": "Python 3",
   "language": "python",
   "name": "python3"
  },
  "language_info": {
   "codemirror_mode": {
    "name": "ipython",
    "version": 3
   },
   "file_extension": ".py",
   "mimetype": "text/x-python",
   "name": "python",
   "nbconvert_exporter": "python",
   "pygments_lexer": "ipython3",
   "version": "3.7.3"
  }
 },
 "nbformat": 4,
 "nbformat_minor": 2
}
